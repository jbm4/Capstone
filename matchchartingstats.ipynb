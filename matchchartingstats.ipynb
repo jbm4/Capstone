{
 "cells": [
  {
   "cell_type": "markdown",
   "metadata": {},
   "source": [
    "**Outline**\n",
    "This notebook is the first part\n",
    "1. Calculate summary statistics for individual matches and players, then test to see if they differ from each other.\n",
    "2. Look at how these statistics have changed through time.\n",
    "3. Look for any interesting correlations between them\n",
    "\n",
    "Part 2 (in the pointchartingstats notebook)\n",
    "1. Calculate the effect, if any, that double faulting has on subsequent point win percentages.\n",
    "2. Test to see if these are significant\n",
    "3. Combine with data from part one to see if being affected by double faults is correlated with using a less effective second serve."
   ]
  },
  {
   "cell_type": "code",
   "execution_count": 1,
   "metadata": {},
   "outputs": [
    {
     "data": {
      "application/javascript": [
       "\n",
       "            setTimeout(function() {\n",
       "                var nbb_cell_id = 1;\n",
       "                var nbb_unformatted_code = \"%reload_ext nb_black\";\n",
       "                var nbb_formatted_code = \"%reload_ext nb_black\";\n",
       "                var nbb_cells = Jupyter.notebook.get_cells();\n",
       "                for (var i = 0; i < nbb_cells.length; ++i) {\n",
       "                    if (nbb_cells[i].input_prompt_number == nbb_cell_id) {\n",
       "                        if (nbb_cells[i].get_text() == nbb_unformatted_code) {\n",
       "                             nbb_cells[i].set_text(nbb_formatted_code);\n",
       "                        }\n",
       "                        break;\n",
       "                    }\n",
       "                }\n",
       "            }, 500);\n",
       "            "
      ],
      "text/plain": [
       "<IPython.core.display.Javascript object>"
      ]
     },
     "metadata": {},
     "output_type": "display_data"
    }
   ],
   "source": [
    "%reload_ext nb_black"
   ]
  },
  {
   "cell_type": "code",
   "execution_count": 2,
   "metadata": {},
   "outputs": [
    {
     "data": {
      "application/javascript": [
       "\n",
       "            setTimeout(function() {\n",
       "                var nbb_cell_id = 2;\n",
       "                var nbb_unformatted_code = \"import numpy as np\\nimport pandas as pd\\nimport seaborn as sns\\nimport matplotlib.pyplot as plt\\nimport math\\nfrom scipy import stats\\nfrom statsmodels.graphics.gofplots import qqplot\\nfrom statsmodels.stats.multitest import multipletests\\n\\n\\n%matplotlib inline\";\n",
       "                var nbb_formatted_code = \"import numpy as np\\nimport pandas as pd\\nimport seaborn as sns\\nimport matplotlib.pyplot as plt\\nimport math\\nfrom scipy import stats\\nfrom statsmodels.graphics.gofplots import qqplot\\nfrom statsmodels.stats.multitest import multipletests\\n\\n\\n%matplotlib inline\";\n",
       "                var nbb_cells = Jupyter.notebook.get_cells();\n",
       "                for (var i = 0; i < nbb_cells.length; ++i) {\n",
       "                    if (nbb_cells[i].input_prompt_number == nbb_cell_id) {\n",
       "                        if (nbb_cells[i].get_text() == nbb_unformatted_code) {\n",
       "                             nbb_cells[i].set_text(nbb_formatted_code);\n",
       "                        }\n",
       "                        break;\n",
       "                    }\n",
       "                }\n",
       "            }, 500);\n",
       "            "
      ],
      "text/plain": [
       "<IPython.core.display.Javascript object>"
      ]
     },
     "metadata": {},
     "output_type": "display_data"
    }
   ],
   "source": [
    "import numpy as np\n",
    "import pandas as pd\n",
    "import seaborn as sns\n",
    "import matplotlib.pyplot as plt\n",
    "import math\n",
    "from scipy import stats\n",
    "from statsmodels.graphics.gofplots import qqplot\n",
    "from statsmodels.stats.multitest import multipletests\n",
    "\n",
    "\n",
    "%matplotlib inline"
   ]
  },
  {
   "cell_type": "markdown",
   "metadata": {},
   "source": [
    "Import the data. This is a csv file of summary statistics from a project wherein volunteers charted tennis matches, point by point."
   ]
  },
  {
   "cell_type": "code",
   "execution_count": 3,
   "metadata": {},
   "outputs": [
    {
     "data": {
      "application/javascript": [
       "\n",
       "            setTimeout(function() {\n",
       "                var nbb_cell_id = 3;\n",
       "                var nbb_unformatted_code = \"data_path = \\\"data/charting-m-stats-Overview.csv\\\"\\ndf = pd.read_csv(data_path, encoding=\\\"ISO-8859-1\\\")\";\n",
       "                var nbb_formatted_code = \"data_path = \\\"data/charting-m-stats-Overview.csv\\\"\\ndf = pd.read_csv(data_path, encoding=\\\"ISO-8859-1\\\")\";\n",
       "                var nbb_cells = Jupyter.notebook.get_cells();\n",
       "                for (var i = 0; i < nbb_cells.length; ++i) {\n",
       "                    if (nbb_cells[i].input_prompt_number == nbb_cell_id) {\n",
       "                        if (nbb_cells[i].get_text() == nbb_unformatted_code) {\n",
       "                             nbb_cells[i].set_text(nbb_formatted_code);\n",
       "                        }\n",
       "                        break;\n",
       "                    }\n",
       "                }\n",
       "            }, 500);\n",
       "            "
      ],
      "text/plain": [
       "<IPython.core.display.Javascript object>"
      ]
     },
     "metadata": {},
     "output_type": "display_data"
    }
   ],
   "source": [
    "data_path = \"data/charting-m-stats-Overview.csv\"\n",
    "df = pd.read_csv(data_path, encoding=\"ISO-8859-1\")"
   ]
  },
  {
   "cell_type": "code",
   "execution_count": 4,
   "metadata": {},
   "outputs": [
    {
     "data": {
      "text/html": [
       "<div>\n",
       "<style scoped>\n",
       "    .dataframe tbody tr th:only-of-type {\n",
       "        vertical-align: middle;\n",
       "    }\n",
       "\n",
       "    .dataframe tbody tr th {\n",
       "        vertical-align: top;\n",
       "    }\n",
       "\n",
       "    .dataframe thead th {\n",
       "        text-align: right;\n",
       "    }\n",
       "</style>\n",
       "<table border=\"1\" class=\"dataframe\">\n",
       "  <thead>\n",
       "    <tr style=\"text-align: right;\">\n",
       "      <th></th>\n",
       "      <th>match_id</th>\n",
       "      <th>player</th>\n",
       "      <th>set</th>\n",
       "      <th>serve_pts</th>\n",
       "      <th>aces</th>\n",
       "      <th>dfs</th>\n",
       "      <th>first_in</th>\n",
       "      <th>first_won</th>\n",
       "      <th>second_in</th>\n",
       "      <th>second_won</th>\n",
       "      <th>bk_pts</th>\n",
       "      <th>bp_saved</th>\n",
       "      <th>return_pts</th>\n",
       "      <th>return_pts_won</th>\n",
       "      <th>winners</th>\n",
       "      <th>winners_fh</th>\n",
       "      <th>winners_bh</th>\n",
       "      <th>unforced</th>\n",
       "      <th>unforced_fh</th>\n",
       "      <th>unforced_bh</th>\n",
       "    </tr>\n",
       "  </thead>\n",
       "  <tbody>\n",
       "    <tr>\n",
       "      <th>0</th>\n",
       "      <td>19751219-M-Davis_Cup_World_Group_F-RR-Bjorn_Bo...</td>\n",
       "      <td>1</td>\n",
       "      <td>Total</td>\n",
       "      <td>69</td>\n",
       "      <td>2</td>\n",
       "      <td>1</td>\n",
       "      <td>32</td>\n",
       "      <td>25</td>\n",
       "      <td>37</td>\n",
       "      <td>21</td>\n",
       "      <td>5</td>\n",
       "      <td>4</td>\n",
       "      <td>63</td>\n",
       "      <td>36</td>\n",
       "      <td>28</td>\n",
       "      <td>10</td>\n",
       "      <td>16</td>\n",
       "      <td>16</td>\n",
       "      <td>6</td>\n",
       "      <td>9</td>\n",
       "    </tr>\n",
       "    <tr>\n",
       "      <th>1</th>\n",
       "      <td>19751219-M-Davis_Cup_World_Group_F-RR-Bjorn_Bo...</td>\n",
       "      <td>2</td>\n",
       "      <td>Total</td>\n",
       "      <td>63</td>\n",
       "      <td>2</td>\n",
       "      <td>2</td>\n",
       "      <td>41</td>\n",
       "      <td>20</td>\n",
       "      <td>22</td>\n",
       "      <td>7</td>\n",
       "      <td>12</td>\n",
       "      <td>4</td>\n",
       "      <td>69</td>\n",
       "      <td>23</td>\n",
       "      <td>14</td>\n",
       "      <td>8</td>\n",
       "      <td>4</td>\n",
       "      <td>26</td>\n",
       "      <td>15</td>\n",
       "      <td>9</td>\n",
       "    </tr>\n",
       "    <tr>\n",
       "      <th>2</th>\n",
       "      <td>19751219-M-Davis_Cup_World_Group_F-RR-Bjorn_Bo...</td>\n",
       "      <td>1</td>\n",
       "      <td>1</td>\n",
       "      <td>26</td>\n",
       "      <td>2</td>\n",
       "      <td>0</td>\n",
       "      <td>15</td>\n",
       "      <td>10</td>\n",
       "      <td>11</td>\n",
       "      <td>6</td>\n",
       "      <td>2</td>\n",
       "      <td>1</td>\n",
       "      <td>18</td>\n",
       "      <td>13</td>\n",
       "      <td>10</td>\n",
       "      <td>3</td>\n",
       "      <td>5</td>\n",
       "      <td>6</td>\n",
       "      <td>2</td>\n",
       "      <td>4</td>\n",
       "    </tr>\n",
       "    <tr>\n",
       "      <th>3</th>\n",
       "      <td>19751219-M-Davis_Cup_World_Group_F-RR-Bjorn_Bo...</td>\n",
       "      <td>2</td>\n",
       "      <td>1</td>\n",
       "      <td>18</td>\n",
       "      <td>0</td>\n",
       "      <td>0</td>\n",
       "      <td>11</td>\n",
       "      <td>3</td>\n",
       "      <td>7</td>\n",
       "      <td>2</td>\n",
       "      <td>3</td>\n",
       "      <td>0</td>\n",
       "      <td>26</td>\n",
       "      <td>10</td>\n",
       "      <td>4</td>\n",
       "      <td>2</td>\n",
       "      <td>2</td>\n",
       "      <td>10</td>\n",
       "      <td>7</td>\n",
       "      <td>3</td>\n",
       "    </tr>\n",
       "    <tr>\n",
       "      <th>4</th>\n",
       "      <td>19751219-M-Davis_Cup_World_Group_F-RR-Bjorn_Bo...</td>\n",
       "      <td>1</td>\n",
       "      <td>2</td>\n",
       "      <td>24</td>\n",
       "      <td>0</td>\n",
       "      <td>0</td>\n",
       "      <td>10</td>\n",
       "      <td>9</td>\n",
       "      <td>14</td>\n",
       "      <td>8</td>\n",
       "      <td>1</td>\n",
       "      <td>1</td>\n",
       "      <td>26</td>\n",
       "      <td>10</td>\n",
       "      <td>9</td>\n",
       "      <td>3</td>\n",
       "      <td>6</td>\n",
       "      <td>6</td>\n",
       "      <td>2</td>\n",
       "      <td>4</td>\n",
       "    </tr>\n",
       "    <tr>\n",
       "      <th>5</th>\n",
       "      <td>19751219-M-Davis_Cup_World_Group_F-RR-Bjorn_Bo...</td>\n",
       "      <td>2</td>\n",
       "      <td>2</td>\n",
       "      <td>26</td>\n",
       "      <td>2</td>\n",
       "      <td>1</td>\n",
       "      <td>18</td>\n",
       "      <td>12</td>\n",
       "      <td>8</td>\n",
       "      <td>4</td>\n",
       "      <td>4</td>\n",
       "      <td>2</td>\n",
       "      <td>24</td>\n",
       "      <td>7</td>\n",
       "      <td>8</td>\n",
       "      <td>5</td>\n",
       "      <td>1</td>\n",
       "      <td>8</td>\n",
       "      <td>4</td>\n",
       "      <td>3</td>\n",
       "    </tr>\n",
       "    <tr>\n",
       "      <th>6</th>\n",
       "      <td>19751219-M-Davis_Cup_World_Group_F-RR-Bjorn_Bo...</td>\n",
       "      <td>1</td>\n",
       "      <td>3</td>\n",
       "      <td>19</td>\n",
       "      <td>0</td>\n",
       "      <td>1</td>\n",
       "      <td>7</td>\n",
       "      <td>6</td>\n",
       "      <td>12</td>\n",
       "      <td>7</td>\n",
       "      <td>2</td>\n",
       "      <td>2</td>\n",
       "      <td>19</td>\n",
       "      <td>13</td>\n",
       "      <td>9</td>\n",
       "      <td>4</td>\n",
       "      <td>5</td>\n",
       "      <td>4</td>\n",
       "      <td>2</td>\n",
       "      <td>1</td>\n",
       "    </tr>\n",
       "    <tr>\n",
       "      <th>7</th>\n",
       "      <td>19751219-M-Davis_Cup_World_Group_F-RR-Bjorn_Bo...</td>\n",
       "      <td>2</td>\n",
       "      <td>3</td>\n",
       "      <td>19</td>\n",
       "      <td>0</td>\n",
       "      <td>1</td>\n",
       "      <td>12</td>\n",
       "      <td>5</td>\n",
       "      <td>7</td>\n",
       "      <td>1</td>\n",
       "      <td>5</td>\n",
       "      <td>2</td>\n",
       "      <td>19</td>\n",
       "      <td>6</td>\n",
       "      <td>2</td>\n",
       "      <td>1</td>\n",
       "      <td>1</td>\n",
       "      <td>8</td>\n",
       "      <td>4</td>\n",
       "      <td>3</td>\n",
       "    </tr>\n",
       "  </tbody>\n",
       "</table>\n",
       "</div>"
      ],
      "text/plain": [
       "                                            match_id  player    set  \\\n",
       "0  19751219-M-Davis_Cup_World_Group_F-RR-Bjorn_Bo...       1  Total   \n",
       "1  19751219-M-Davis_Cup_World_Group_F-RR-Bjorn_Bo...       2  Total   \n",
       "2  19751219-M-Davis_Cup_World_Group_F-RR-Bjorn_Bo...       1      1   \n",
       "3  19751219-M-Davis_Cup_World_Group_F-RR-Bjorn_Bo...       2      1   \n",
       "4  19751219-M-Davis_Cup_World_Group_F-RR-Bjorn_Bo...       1      2   \n",
       "5  19751219-M-Davis_Cup_World_Group_F-RR-Bjorn_Bo...       2      2   \n",
       "6  19751219-M-Davis_Cup_World_Group_F-RR-Bjorn_Bo...       1      3   \n",
       "7  19751219-M-Davis_Cup_World_Group_F-RR-Bjorn_Bo...       2      3   \n",
       "\n",
       "   serve_pts  aces  dfs  first_in  first_won  second_in  second_won  bk_pts  \\\n",
       "0         69     2    1        32         25         37          21       5   \n",
       "1         63     2    2        41         20         22           7      12   \n",
       "2         26     2    0        15         10         11           6       2   \n",
       "3         18     0    0        11          3          7           2       3   \n",
       "4         24     0    0        10          9         14           8       1   \n",
       "5         26     2    1        18         12          8           4       4   \n",
       "6         19     0    1         7          6         12           7       2   \n",
       "7         19     0    1        12          5          7           1       5   \n",
       "\n",
       "   bp_saved  return_pts  return_pts_won  winners  winners_fh  winners_bh  \\\n",
       "0         4          63              36       28          10          16   \n",
       "1         4          69              23       14           8           4   \n",
       "2         1          18              13       10           3           5   \n",
       "3         0          26              10        4           2           2   \n",
       "4         1          26              10        9           3           6   \n",
       "5         2          24               7        8           5           1   \n",
       "6         2          19              13        9           4           5   \n",
       "7         2          19               6        2           1           1   \n",
       "\n",
       "   unforced  unforced_fh  unforced_bh  \n",
       "0        16            6            9  \n",
       "1        26           15            9  \n",
       "2         6            2            4  \n",
       "3        10            7            3  \n",
       "4         6            2            4  \n",
       "5         8            4            3  \n",
       "6         4            2            1  \n",
       "7         8            4            3  "
      ]
     },
     "execution_count": 4,
     "metadata": {},
     "output_type": "execute_result"
    },
    {
     "data": {
      "application/javascript": [
       "\n",
       "            setTimeout(function() {\n",
       "                var nbb_cell_id = 4;\n",
       "                var nbb_unformatted_code = \"df.head(8)\";\n",
       "                var nbb_formatted_code = \"df.head(8)\";\n",
       "                var nbb_cells = Jupyter.notebook.get_cells();\n",
       "                for (var i = 0; i < nbb_cells.length; ++i) {\n",
       "                    if (nbb_cells[i].input_prompt_number == nbb_cell_id) {\n",
       "                        if (nbb_cells[i].get_text() == nbb_unformatted_code) {\n",
       "                             nbb_cells[i].set_text(nbb_formatted_code);\n",
       "                        }\n",
       "                        break;\n",
       "                    }\n",
       "                }\n",
       "            }, 500);\n",
       "            "
      ],
      "text/plain": [
       "<IPython.core.display.Javascript object>"
      ]
     },
     "metadata": {},
     "output_type": "display_data"
    }
   ],
   "source": [
    "df.head(8)"
   ]
  },
  {
   "cell_type": "markdown",
   "metadata": {},
   "source": [
    "### Add some more info to the dataframe, like year and players (from the match_id), after adding some serve statistics columns"
   ]
  },
  {
   "cell_type": "code",
   "execution_count": 5,
   "metadata": {},
   "outputs": [
    {
     "data": {
      "application/javascript": [
       "\n",
       "            setTimeout(function() {\n",
       "                var nbb_cell_id = 5;\n",
       "                var nbb_unformatted_code = \"df[\\\"year\\\"] = df[\\\"match_id\\\"].str[0:4].astype(int)\\n\\ndf[\\\"serve_pts\\\"] = df[\\\"serve_pts\\\"] + df[\\\"dfs\\\"]\\ndf[\\\"first_out\\\"] = df[\\\"serve_pts\\\"] - df[\\\"first_in\\\"]\\ndf[\\\"first_make_pct\\\"] = df[\\\"first_in\\\"] / df[\\\"serve_pts\\\"]\\ndf[\\\"first_win_pct\\\"] = df[\\\"first_won\\\"] / df[\\\"first_in\\\"]\\ndf[\\\"first_make_win\\\"] = df[\\\"first_make_pct\\\"] * df[\\\"first_win_pct\\\"]\\n\\n\\ndf[\\\"second_total\\\"] = df[\\\"second_in\\\"] + df[\\\"dfs\\\"]\\ndf[\\\"second_out\\\"] = df[\\\"dfs\\\"]\\ndf[\\\"second_make_pct\\\"] = df[\\\"second_in\\\"] / df[\\\"second_total\\\"]\\ndf[\\\"second_win_pct\\\"] = df[\\\"second_won\\\"] / df[\\\"second_in\\\"]\\ndf[\\\"second_make_win\\\"] = df[\\\"second_make_pct\\\"] * df[\\\"second_win_pct\\\"]\\ndf['second_success']= df['second_make_win'] * (1-df['first_make_pct']) #this is the likelihood of winning the point on your second serve before you hit your first\";\n",
       "                var nbb_formatted_code = \"df[\\\"year\\\"] = df[\\\"match_id\\\"].str[0:4].astype(int)\\n\\ndf[\\\"serve_pts\\\"] = df[\\\"serve_pts\\\"] + df[\\\"dfs\\\"]\\ndf[\\\"first_out\\\"] = df[\\\"serve_pts\\\"] - df[\\\"first_in\\\"]\\ndf[\\\"first_make_pct\\\"] = df[\\\"first_in\\\"] / df[\\\"serve_pts\\\"]\\ndf[\\\"first_win_pct\\\"] = df[\\\"first_won\\\"] / df[\\\"first_in\\\"]\\ndf[\\\"first_make_win\\\"] = df[\\\"first_make_pct\\\"] * df[\\\"first_win_pct\\\"]\\n\\n\\ndf[\\\"second_total\\\"] = df[\\\"second_in\\\"] + df[\\\"dfs\\\"]\\ndf[\\\"second_out\\\"] = df[\\\"dfs\\\"]\\ndf[\\\"second_make_pct\\\"] = df[\\\"second_in\\\"] / df[\\\"second_total\\\"]\\ndf[\\\"second_win_pct\\\"] = df[\\\"second_won\\\"] / df[\\\"second_in\\\"]\\ndf[\\\"second_make_win\\\"] = df[\\\"second_make_pct\\\"] * df[\\\"second_win_pct\\\"]\\ndf[\\\"second_success\\\"] = df[\\\"second_make_win\\\"] * (\\n    1 - df[\\\"first_make_pct\\\"]\\n)  # this is the likelihood of winning the point on your second serve before you hit your first\";\n",
       "                var nbb_cells = Jupyter.notebook.get_cells();\n",
       "                for (var i = 0; i < nbb_cells.length; ++i) {\n",
       "                    if (nbb_cells[i].input_prompt_number == nbb_cell_id) {\n",
       "                        if (nbb_cells[i].get_text() == nbb_unformatted_code) {\n",
       "                             nbb_cells[i].set_text(nbb_formatted_code);\n",
       "                        }\n",
       "                        break;\n",
       "                    }\n",
       "                }\n",
       "            }, 500);\n",
       "            "
      ],
      "text/plain": [
       "<IPython.core.display.Javascript object>"
      ]
     },
     "metadata": {},
     "output_type": "display_data"
    }
   ],
   "source": [
    "df[\"year\"] = df[\"match_id\"].str[0:4].astype(int)\n",
    "\n",
    "df[\"serve_pts\"] = df[\"serve_pts\"] + df[\"dfs\"]\n",
    "df[\"first_out\"] = df[\"serve_pts\"] - df[\"first_in\"]\n",
    "df[\"first_make_pct\"] = df[\"first_in\"] / df[\"serve_pts\"]\n",
    "df[\"first_win_pct\"] = df[\"first_won\"] / df[\"first_in\"]\n",
    "df[\"first_make_win\"] = df[\"first_make_pct\"] * df[\"first_win_pct\"]\n",
    "\n",
    "\n",
    "df[\"second_total\"] = df[\"second_in\"] + df[\"dfs\"]\n",
    "df[\"second_out\"] = df[\"dfs\"]\n",
    "df[\"second_make_pct\"] = df[\"second_in\"] / df[\"second_total\"]\n",
    "df[\"second_win_pct\"] = df[\"second_won\"] / df[\"second_in\"]\n",
    "df[\"second_make_win\"] = df[\"second_make_pct\"] * df[\"second_win_pct\"]\n",
    "df['second_success']= df['second_make_win'] * (1-df['first_make_pct']) #this is the likelihood of winning the point on your second serve before you hit your first\n"
   ]
  },
  {
   "cell_type": "code",
   "execution_count": 6,
   "metadata": {
    "scrolled": true
   },
   "outputs": [
    {
     "data": {
      "application/javascript": [
       "\n",
       "            setTimeout(function() {\n",
       "                var nbb_cell_id = 6;\n",
       "                var nbb_unformatted_code = \"#df['player_id']=df['match_id'].str.split('-').str[(df['player']%2)*-1-1]\\n#df['player_id']=df['match_id'].str.split('-')\\n#df['player_id']=df['player_id'].str[(df['player']%2)*-1-1]\\ndf['player_id']=None\\ndf.loc[df['player']==2, ['player_id']]=df[\\\"match_id\\\"].str.split(\\\"-\\\").str[-1]\\ndf.loc[df['player']==1, ['player_id']]=df[\\\"match_id\\\"].str.split(\\\"-\\\").str[-2]\";\n",
       "                var nbb_formatted_code = \"# df['player_id']=df['match_id'].str.split('-').str[(df['player']%2)*-1-1]\\n# df['player_id']=df['match_id'].str.split('-')\\n# df['player_id']=df['player_id'].str[(df['player']%2)*-1-1]\\ndf[\\\"player_id\\\"] = None\\ndf.loc[df[\\\"player\\\"] == 2, [\\\"player_id\\\"]] = df[\\\"match_id\\\"].str.split(\\\"-\\\").str[-1]\\ndf.loc[df[\\\"player\\\"] == 1, [\\\"player_id\\\"]] = df[\\\"match_id\\\"].str.split(\\\"-\\\").str[-2]\";\n",
       "                var nbb_cells = Jupyter.notebook.get_cells();\n",
       "                for (var i = 0; i < nbb_cells.length; ++i) {\n",
       "                    if (nbb_cells[i].input_prompt_number == nbb_cell_id) {\n",
       "                        if (nbb_cells[i].get_text() == nbb_unformatted_code) {\n",
       "                             nbb_cells[i].set_text(nbb_formatted_code);\n",
       "                        }\n",
       "                        break;\n",
       "                    }\n",
       "                }\n",
       "            }, 500);\n",
       "            "
      ],
      "text/plain": [
       "<IPython.core.display.Javascript object>"
      ]
     },
     "metadata": {},
     "output_type": "display_data"
    }
   ],
   "source": [
    "#df['player_id']=df['match_id'].str.split('-').str[(df['player']%2)*-1-1]\n",
    "#df['player_id']=df['match_id'].str.split('-')\n",
    "#df['player_id']=df['player_id'].str[(df['player']%2)*-1-1]\n",
    "df['player_id']=None\n",
    "df.loc[df['player']==2, ['player_id']]=df[\"match_id\"].str.split(\"-\").str[-1]\n",
    "df.loc[df['player']==1, ['player_id']]=df[\"match_id\"].str.split(\"-\").str[-2]\n"
   ]
  },
  {
   "cell_type": "code",
   "execution_count": 7,
   "metadata": {},
   "outputs": [
    {
     "name": "stdout",
     "output_type": "stream",
     "text": [
      "<class 'pandas.core.frame.DataFrame'>\n",
      "RangeIndex: 19298 entries, 0 to 19297\n",
      "Data columns (total 32 columns):\n",
      " #   Column           Non-Null Count  Dtype  \n",
      "---  ------           --------------  -----  \n",
      " 0   match_id         19298 non-null  object \n",
      " 1   player           19298 non-null  int64  \n",
      " 2   set              19298 non-null  object \n",
      " 3   serve_pts        19298 non-null  int64  \n",
      " 4   aces             19298 non-null  int64  \n",
      " 5   dfs              19298 non-null  int64  \n",
      " 6   first_in         19298 non-null  int64  \n",
      " 7   first_won        19298 non-null  int64  \n",
      " 8   second_in        19298 non-null  int64  \n",
      " 9   second_won       19298 non-null  int64  \n",
      " 10  bk_pts           19298 non-null  int64  \n",
      " 11  bp_saved         19298 non-null  int64  \n",
      " 12  return_pts       19298 non-null  int64  \n",
      " 13  return_pts_won   19298 non-null  int64  \n",
      " 14  winners          19298 non-null  int64  \n",
      " 15  winners_fh       19298 non-null  int64  \n",
      " 16  winners_bh       19298 non-null  int64  \n",
      " 17  unforced         19298 non-null  int64  \n",
      " 18  unforced_fh      19298 non-null  int64  \n",
      " 19  unforced_bh      19298 non-null  int64  \n",
      " 20  year             19298 non-null  int64  \n",
      " 21  first_out        19298 non-null  int64  \n",
      " 22  first_make_pct   19288 non-null  float64\n",
      " 23  first_win_pct    19287 non-null  float64\n",
      " 24  first_make_win   19287 non-null  float64\n",
      " 25  second_total     19298 non-null  int64  \n",
      " 26  second_out       19298 non-null  int64  \n",
      " 27  second_make_pct  19277 non-null  float64\n",
      " 28  second_win_pct   19277 non-null  float64\n",
      " 29  second_make_win  19277 non-null  float64\n",
      " 30  second_success   19277 non-null  float64\n",
      " 31  player_id        19298 non-null  object \n",
      "dtypes: float64(7), int64(22), object(3)\n",
      "memory usage: 4.7+ MB\n"
     ]
    },
    {
     "data": {
      "application/javascript": [
       "\n",
       "            setTimeout(function() {\n",
       "                var nbb_cell_id = 7;\n",
       "                var nbb_unformatted_code = \"df.info()\";\n",
       "                var nbb_formatted_code = \"df.info()\";\n",
       "                var nbb_cells = Jupyter.notebook.get_cells();\n",
       "                for (var i = 0; i < nbb_cells.length; ++i) {\n",
       "                    if (nbb_cells[i].input_prompt_number == nbb_cell_id) {\n",
       "                        if (nbb_cells[i].get_text() == nbb_unformatted_code) {\n",
       "                             nbb_cells[i].set_text(nbb_formatted_code);\n",
       "                        }\n",
       "                        break;\n",
       "                    }\n",
       "                }\n",
       "            }, 500);\n",
       "            "
      ],
      "text/plain": [
       "<IPython.core.display.Javascript object>"
      ]
     },
     "metadata": {},
     "output_type": "display_data"
    }
   ],
   "source": [
    "df.info()"
   ]
  },
  {
   "cell_type": "markdown",
   "metadata": {},
   "source": [
    "### Use only the stats that covered the whole match (where the set variable is labeled 'Total'), then make total_serve, which is only the variables that have to do with serve statistics"
   ]
  },
  {
   "cell_type": "code",
   "execution_count": 8,
   "metadata": {},
   "outputs": [
    {
     "data": {
      "application/javascript": [
       "\n",
       "            setTimeout(function() {\n",
       "                var nbb_cell_id = 8;\n",
       "                var nbb_unformatted_code = \"total = df[df[\\\"set\\\"] == \\\"Total\\\"]\";\n",
       "                var nbb_formatted_code = \"total = df[df[\\\"set\\\"] == \\\"Total\\\"]\";\n",
       "                var nbb_cells = Jupyter.notebook.get_cells();\n",
       "                for (var i = 0; i < nbb_cells.length; ++i) {\n",
       "                    if (nbb_cells[i].input_prompt_number == nbb_cell_id) {\n",
       "                        if (nbb_cells[i].get_text() == nbb_unformatted_code) {\n",
       "                             nbb_cells[i].set_text(nbb_formatted_code);\n",
       "                        }\n",
       "                        break;\n",
       "                    }\n",
       "                }\n",
       "            }, 500);\n",
       "            "
      ],
      "text/plain": [
       "<IPython.core.display.Javascript object>"
      ]
     },
     "metadata": {},
     "output_type": "display_data"
    }
   ],
   "source": [
    "total = df[df[\"set\"] == \"Total\"]"
   ]
  },
  {
   "cell_type": "code",
   "execution_count": 9,
   "metadata": {},
   "outputs": [
    {
     "data": {
      "application/javascript": [
       "\n",
       "            setTimeout(function() {\n",
       "                var nbb_cell_id = 9;\n",
       "                var nbb_unformatted_code = \"total_serve = total[\\n    [\\n        'match_id',\\n        'player',\\n        'player_id',\\n        'serve_pts',\\n        'aces',\\n        'dfs',\\n        'first_in',\\n        'first_won',\\n        'second_in',\\n        'second_won',\\n        'year',\\n        'first_out',\\n        'first_make_pct',\\n        'first_win_pct',\\n        \\\"first_make_win\\\",\\n        'second_total',\\n        'second_out',\\n        'second_make_pct',\\n        'second_win_pct',\\n        \\\"second_make_win\\\",\\n        'second_success'\\n    ]\\n]\";\n",
       "                var nbb_formatted_code = \"total_serve = total[\\n    [\\n        \\\"match_id\\\",\\n        \\\"player\\\",\\n        \\\"player_id\\\",\\n        \\\"serve_pts\\\",\\n        \\\"aces\\\",\\n        \\\"dfs\\\",\\n        \\\"first_in\\\",\\n        \\\"first_won\\\",\\n        \\\"second_in\\\",\\n        \\\"second_won\\\",\\n        \\\"year\\\",\\n        \\\"first_out\\\",\\n        \\\"first_make_pct\\\",\\n        \\\"first_win_pct\\\",\\n        \\\"first_make_win\\\",\\n        \\\"second_total\\\",\\n        \\\"second_out\\\",\\n        \\\"second_make_pct\\\",\\n        \\\"second_win_pct\\\",\\n        \\\"second_make_win\\\",\\n        \\\"second_success\\\",\\n    ]\\n]\";\n",
       "                var nbb_cells = Jupyter.notebook.get_cells();\n",
       "                for (var i = 0; i < nbb_cells.length; ++i) {\n",
       "                    if (nbb_cells[i].input_prompt_number == nbb_cell_id) {\n",
       "                        if (nbb_cells[i].get_text() == nbb_unformatted_code) {\n",
       "                             nbb_cells[i].set_text(nbb_formatted_code);\n",
       "                        }\n",
       "                        break;\n",
       "                    }\n",
       "                }\n",
       "            }, 500);\n",
       "            "
      ],
      "text/plain": [
       "<IPython.core.display.Javascript object>"
      ]
     },
     "metadata": {},
     "output_type": "display_data"
    }
   ],
   "source": [
    "total_serve = total[\n",
    "    [\n",
    "        'match_id',\n",
    "        'player',\n",
    "        'player_id',\n",
    "        'serve_pts',\n",
    "        'aces',\n",
    "        'dfs',\n",
    "        'first_in',\n",
    "        'first_won',\n",
    "        'second_in',\n",
    "        'second_won',\n",
    "        'year',\n",
    "        'first_out',\n",
    "        'first_make_pct',\n",
    "        'first_win_pct',\n",
    "        \"first_make_win\",\n",
    "        'second_total',\n",
    "        'second_out',\n",
    "        'second_make_pct',\n",
    "        'second_win_pct',\n",
    "        \"second_make_win\",\n",
    "        'second_success'\n",
    "    ]\n",
    "]\n"
   ]
  },
  {
   "cell_type": "code",
   "execution_count": 10,
   "metadata": {},
   "outputs": [
    {
     "data": {
      "text/plain": [
       "542"
      ]
     },
     "execution_count": 10,
     "metadata": {},
     "output_type": "execute_result"
    },
    {
     "data": {
      "application/javascript": [
       "\n",
       "            setTimeout(function() {\n",
       "                var nbb_cell_id = 10;\n",
       "                var nbb_unformatted_code = \"total.player_id.unique().size\";\n",
       "                var nbb_formatted_code = \"total.player_id.unique().size\";\n",
       "                var nbb_cells = Jupyter.notebook.get_cells();\n",
       "                for (var i = 0; i < nbb_cells.length; ++i) {\n",
       "                    if (nbb_cells[i].input_prompt_number == nbb_cell_id) {\n",
       "                        if (nbb_cells[i].get_text() == nbb_unformatted_code) {\n",
       "                             nbb_cells[i].set_text(nbb_formatted_code);\n",
       "                        }\n",
       "                        break;\n",
       "                    }\n",
       "                }\n",
       "            }, 500);\n",
       "            "
      ],
      "text/plain": [
       "<IPython.core.display.Javascript object>"
      ]
     },
     "metadata": {},
     "output_type": "display_data"
    }
   ],
   "source": [
    "total.player_id.unique().size"
   ]
  },
  {
   "cell_type": "markdown",
   "metadata": {},
   "source": [
    "### Group by player id, sum up the serve stats for each match for each player, then calculate means\n",
    "\n",
    "I would also like to add a year range to each players list that says (min year, max year)"
   ]
  },
  {
   "cell_type": "code",
   "execution_count": 11,
   "metadata": {},
   "outputs": [
    {
     "data": {
      "application/javascript": [
       "\n",
       "            setTimeout(function() {\n",
       "                var nbb_cell_id = 11;\n",
       "                var nbb_unformatted_code = \"player_sums = total_serve[\\n    [\\n        'match_id',\\n        'player_id',\\n        'serve_pts',\\n        'aces',\\n        'dfs',\\n        'first_in',\\n        'first_won',\\n        'second_in',\\n        'second_won',\\n        'year',\\n        'first_out',\\n        'second_total',\\n        'second_out',\\n    ]\\n]\";\n",
       "                var nbb_formatted_code = \"player_sums = total_serve[\\n    [\\n        \\\"match_id\\\",\\n        \\\"player_id\\\",\\n        \\\"serve_pts\\\",\\n        \\\"aces\\\",\\n        \\\"dfs\\\",\\n        \\\"first_in\\\",\\n        \\\"first_won\\\",\\n        \\\"second_in\\\",\\n        \\\"second_won\\\",\\n        \\\"year\\\",\\n        \\\"first_out\\\",\\n        \\\"second_total\\\",\\n        \\\"second_out\\\",\\n    ]\\n]\";\n",
       "                var nbb_cells = Jupyter.notebook.get_cells();\n",
       "                for (var i = 0; i < nbb_cells.length; ++i) {\n",
       "                    if (nbb_cells[i].input_prompt_number == nbb_cell_id) {\n",
       "                        if (nbb_cells[i].get_text() == nbb_unformatted_code) {\n",
       "                             nbb_cells[i].set_text(nbb_formatted_code);\n",
       "                        }\n",
       "                        break;\n",
       "                    }\n",
       "                }\n",
       "            }, 500);\n",
       "            "
      ],
      "text/plain": [
       "<IPython.core.display.Javascript object>"
      ]
     },
     "metadata": {},
     "output_type": "display_data"
    }
   ],
   "source": [
    "player_sums = total_serve[\n",
    "    [\n",
    "        'match_id',\n",
    "        'player_id',\n",
    "        'serve_pts',\n",
    "        'aces',\n",
    "        'dfs',\n",
    "        'first_in',\n",
    "        'first_won',\n",
    "        'second_in',\n",
    "        'second_won',\n",
    "        'year',\n",
    "        'first_out',\n",
    "        'second_total',\n",
    "        'second_out',\n",
    "    ]\n",
    "]\n"
   ]
  },
  {
   "cell_type": "code",
   "execution_count": 12,
   "metadata": {},
   "outputs": [
    {
     "name": "stderr",
     "output_type": "stream",
     "text": [
      "/Users/jamesmoss/opt/anaconda3/lib/python3.7/site-packages/ipykernel_launcher.py:1: SettingWithCopyWarning: \n",
      "A value is trying to be set on a copy of a slice from a DataFrame.\n",
      "Try using .loc[row_indexer,col_indexer] = value instead\n",
      "\n",
      "See the caveats in the documentation: https://pandas.pydata.org/pandas-docs/stable/user_guide/indexing.html#returning-a-view-versus-a-copy\n",
      "  \"\"\"Entry point for launching an IPython kernel.\n"
     ]
    },
    {
     "data": {
      "application/javascript": [
       "\n",
       "            setTimeout(function() {\n",
       "                var nbb_cell_id = 12;\n",
       "                var nbb_unformatted_code = \"player_sums[\\\"matches_no\\\"] = 1\\nplayer_sums = player_sums.groupby(\\\"player_id\\\").sum()\";\n",
       "                var nbb_formatted_code = \"player_sums[\\\"matches_no\\\"] = 1\\nplayer_sums = player_sums.groupby(\\\"player_id\\\").sum()\";\n",
       "                var nbb_cells = Jupyter.notebook.get_cells();\n",
       "                for (var i = 0; i < nbb_cells.length; ++i) {\n",
       "                    if (nbb_cells[i].input_prompt_number == nbb_cell_id) {\n",
       "                        if (nbb_cells[i].get_text() == nbb_unformatted_code) {\n",
       "                             nbb_cells[i].set_text(nbb_formatted_code);\n",
       "                        }\n",
       "                        break;\n",
       "                    }\n",
       "                }\n",
       "            }, 500);\n",
       "            "
      ],
      "text/plain": [
       "<IPython.core.display.Javascript object>"
      ]
     },
     "metadata": {},
     "output_type": "display_data"
    }
   ],
   "source": [
    "player_sums[\"matches_no\"] = 1\n",
    "player_sums = player_sums.groupby(\"player_id\").sum()"
   ]
  },
  {
   "cell_type": "code",
   "execution_count": 13,
   "metadata": {},
   "outputs": [
    {
     "data": {
      "application/javascript": [
       "\n",
       "            setTimeout(function() {\n",
       "                var nbb_cell_id = 13;\n",
       "                var nbb_unformatted_code = \"player_sums[\\\"first_make_pct\\\"] = player_sums[\\\"first_in\\\"] / player_sums[\\\"serve_pts\\\"]\\nplayer_sums[\\\"first_win_pct\\\"] = player_sums[\\\"first_won\\\"] / player_sums[\\\"first_in\\\"]\\nplayer_sums[\\\"first_make_win\\\"] = (\\n    player_sums[\\\"first_make_pct\\\"] * player_sums[\\\"first_win_pct\\\"]\\n)\\n\\n\\nplayer_sums[\\\"second_make_pct\\\"] = player_sums[\\\"second_in\\\"] / player_sums[\\\"second_total\\\"]\\nplayer_sums[\\\"second_win_pct\\\"] = player_sums[\\\"second_won\\\"] / player_sums[\\\"second_in\\\"]\\nplayer_sums[\\\"second_make_win\\\"] = (\\n    player_sums[\\\"second_make_pct\\\"] * player_sums[\\\"second_win_pct\\\"]\\n)\\nplayer_sums[\\\"second_success\\\"] = player_sums[\\\"second_make_win\\\"] * (\\n    1 - player_sums[\\\"first_make_pct\\\"]\\n)  # this is the likelihood of winning the point on your second serve before you hit your first\\n\\nplayer_sums[\\\"make_win_diff\\\"] = (\\n    player_sums[\\\"second_make_win\\\"] - player_sums[\\\"first_make_win\\\"]\\n)  # should this be division?\";\n",
       "                var nbb_formatted_code = \"player_sums[\\\"first_make_pct\\\"] = player_sums[\\\"first_in\\\"] / player_sums[\\\"serve_pts\\\"]\\nplayer_sums[\\\"first_win_pct\\\"] = player_sums[\\\"first_won\\\"] / player_sums[\\\"first_in\\\"]\\nplayer_sums[\\\"first_make_win\\\"] = (\\n    player_sums[\\\"first_make_pct\\\"] * player_sums[\\\"first_win_pct\\\"]\\n)\\n\\n\\nplayer_sums[\\\"second_make_pct\\\"] = player_sums[\\\"second_in\\\"] / player_sums[\\\"second_total\\\"]\\nplayer_sums[\\\"second_win_pct\\\"] = player_sums[\\\"second_won\\\"] / player_sums[\\\"second_in\\\"]\\nplayer_sums[\\\"second_make_win\\\"] = (\\n    player_sums[\\\"second_make_pct\\\"] * player_sums[\\\"second_win_pct\\\"]\\n)\\nplayer_sums[\\\"second_success\\\"] = player_sums[\\\"second_make_win\\\"] * (\\n    1 - player_sums[\\\"first_make_pct\\\"]\\n)  # this is the likelihood of winning the point on your second serve before you hit your first\\n\\nplayer_sums[\\\"make_win_diff\\\"] = (\\n    player_sums[\\\"second_make_win\\\"] - player_sums[\\\"first_make_win\\\"]\\n)  # should this be division?\";\n",
       "                var nbb_cells = Jupyter.notebook.get_cells();\n",
       "                for (var i = 0; i < nbb_cells.length; ++i) {\n",
       "                    if (nbb_cells[i].input_prompt_number == nbb_cell_id) {\n",
       "                        if (nbb_cells[i].get_text() == nbb_unformatted_code) {\n",
       "                             nbb_cells[i].set_text(nbb_formatted_code);\n",
       "                        }\n",
       "                        break;\n",
       "                    }\n",
       "                }\n",
       "            }, 500);\n",
       "            "
      ],
      "text/plain": [
       "<IPython.core.display.Javascript object>"
      ]
     },
     "metadata": {},
     "output_type": "display_data"
    }
   ],
   "source": [
    "player_sums[\"first_make_pct\"] = player_sums[\"first_in\"] / player_sums[\"serve_pts\"]\n",
    "player_sums[\"first_win_pct\"] = player_sums[\"first_won\"] / player_sums[\"first_in\"]\n",
    "player_sums[\"first_make_win\"] = (\n",
    "    player_sums[\"first_make_pct\"] * player_sums[\"first_win_pct\"]\n",
    ")\n",
    "\n",
    "\n",
    "player_sums[\"second_make_pct\"] = player_sums[\"second_in\"] / player_sums[\"second_total\"]\n",
    "player_sums[\"second_win_pct\"] = player_sums[\"second_won\"] / player_sums[\"second_in\"]\n",
    "player_sums[\"second_make_win\"] = (\n",
    "    player_sums[\"second_make_pct\"] * player_sums[\"second_win_pct\"]\n",
    ")\n",
    "player_sums[\"second_success\"] = player_sums[\"second_make_win\"] * (\n",
    "    1 - player_sums[\"first_make_pct\"]\n",
    ")  # this is the likelihood of winning the point on your second serve before you hit your first\n",
    "\n",
    "player_sums[\"make_win_diff\"] = (\n",
    "    player_sums[\"second_make_win\"] - player_sums[\"first_make_win\"]\n",
    ")  # should this be division?"
   ]
  },
  {
   "cell_type": "code",
   "execution_count": 35,
   "metadata": {
    "scrolled": false
   },
   "outputs": [
    {
     "data": {
      "text/html": [
       "<div>\n",
       "<style scoped>\n",
       "    .dataframe tbody tr th:only-of-type {\n",
       "        vertical-align: middle;\n",
       "    }\n",
       "\n",
       "    .dataframe tbody tr th {\n",
       "        vertical-align: top;\n",
       "    }\n",
       "\n",
       "    .dataframe thead th {\n",
       "        text-align: right;\n",
       "    }\n",
       "</style>\n",
       "<table border=\"1\" class=\"dataframe\">\n",
       "  <thead>\n",
       "    <tr style=\"text-align: right;\">\n",
       "      <th></th>\n",
       "      <th>serve_pts</th>\n",
       "      <th>aces</th>\n",
       "      <th>dfs</th>\n",
       "      <th>first_in</th>\n",
       "      <th>first_won</th>\n",
       "      <th>second_in</th>\n",
       "      <th>second_won</th>\n",
       "      <th>year</th>\n",
       "      <th>first_out</th>\n",
       "      <th>second_total</th>\n",
       "      <th>second_out</th>\n",
       "      <th>matches_no</th>\n",
       "      <th>first_make_pct</th>\n",
       "      <th>first_win_pct</th>\n",
       "      <th>first_make_win</th>\n",
       "      <th>second_make_pct</th>\n",
       "      <th>second_win_pct</th>\n",
       "      <th>second_make_win</th>\n",
       "      <th>second_success</th>\n",
       "      <th>make_win_diff</th>\n",
       "    </tr>\n",
       "    <tr>\n",
       "      <th>player_id</th>\n",
       "      <th></th>\n",
       "      <th></th>\n",
       "      <th></th>\n",
       "      <th></th>\n",
       "      <th></th>\n",
       "      <th></th>\n",
       "      <th></th>\n",
       "      <th></th>\n",
       "      <th></th>\n",
       "      <th></th>\n",
       "      <th></th>\n",
       "      <th></th>\n",
       "      <th></th>\n",
       "      <th></th>\n",
       "      <th></th>\n",
       "      <th></th>\n",
       "      <th></th>\n",
       "      <th></th>\n",
       "      <th></th>\n",
       "      <th></th>\n",
       "    </tr>\n",
       "  </thead>\n",
       "  <tbody>\n",
       "    <tr>\n",
       "      <th>John_Millman</th>\n",
       "      <td>737</td>\n",
       "      <td>30</td>\n",
       "      <td>11</td>\n",
       "      <td>466</td>\n",
       "      <td>315</td>\n",
       "      <td>260</td>\n",
       "      <td>149</td>\n",
       "      <td>14127</td>\n",
       "      <td>271</td>\n",
       "      <td>271</td>\n",
       "      <td>11</td>\n",
       "      <td>7</td>\n",
       "      <td>0.632293</td>\n",
       "      <td>0.675966</td>\n",
       "      <td>0.427408</td>\n",
       "      <td>0.959410</td>\n",
       "      <td>0.573077</td>\n",
       "      <td>0.549815</td>\n",
       "      <td>0.202171</td>\n",
       "      <td>0.122407</td>\n",
       "    </tr>\n",
       "    <tr>\n",
       "      <th>Thomas_Fabbiano</th>\n",
       "      <td>889</td>\n",
       "      <td>30</td>\n",
       "      <td>28</td>\n",
       "      <td>590</td>\n",
       "      <td>425</td>\n",
       "      <td>271</td>\n",
       "      <td>162</td>\n",
       "      <td>14131</td>\n",
       "      <td>299</td>\n",
       "      <td>299</td>\n",
       "      <td>28</td>\n",
       "      <td>7</td>\n",
       "      <td>0.663667</td>\n",
       "      <td>0.720339</td>\n",
       "      <td>0.478065</td>\n",
       "      <td>0.906355</td>\n",
       "      <td>0.597786</td>\n",
       "      <td>0.541806</td>\n",
       "      <td>0.182227</td>\n",
       "      <td>0.063741</td>\n",
       "    </tr>\n",
       "    <tr>\n",
       "      <th>Reilly_Opelka</th>\n",
       "      <td>1016</td>\n",
       "      <td>249</td>\n",
       "      <td>19</td>\n",
       "      <td>674</td>\n",
       "      <td>519</td>\n",
       "      <td>323</td>\n",
       "      <td>182</td>\n",
       "      <td>20190</td>\n",
       "      <td>342</td>\n",
       "      <td>342</td>\n",
       "      <td>19</td>\n",
       "      <td>10</td>\n",
       "      <td>0.663386</td>\n",
       "      <td>0.770030</td>\n",
       "      <td>0.510827</td>\n",
       "      <td>0.944444</td>\n",
       "      <td>0.563467</td>\n",
       "      <td>0.532164</td>\n",
       "      <td>0.179134</td>\n",
       "      <td>0.021337</td>\n",
       "    </tr>\n",
       "    <tr>\n",
       "      <th>Jiri_Novak</th>\n",
       "      <td>553</td>\n",
       "      <td>27</td>\n",
       "      <td>14</td>\n",
       "      <td>344</td>\n",
       "      <td>224</td>\n",
       "      <td>195</td>\n",
       "      <td>111</td>\n",
       "      <td>10012</td>\n",
       "      <td>209</td>\n",
       "      <td>209</td>\n",
       "      <td>14</td>\n",
       "      <td>5</td>\n",
       "      <td>0.622061</td>\n",
       "      <td>0.651163</td>\n",
       "      <td>0.405063</td>\n",
       "      <td>0.933014</td>\n",
       "      <td>0.569231</td>\n",
       "      <td>0.531100</td>\n",
       "      <td>0.200723</td>\n",
       "      <td>0.126037</td>\n",
       "    </tr>\n",
       "    <tr>\n",
       "      <th>Philipp_Kohlschreiber</th>\n",
       "      <td>2529</td>\n",
       "      <td>137</td>\n",
       "      <td>43</td>\n",
       "      <td>1526</td>\n",
       "      <td>1071</td>\n",
       "      <td>960</td>\n",
       "      <td>528</td>\n",
       "      <td>64535</td>\n",
       "      <td>1003</td>\n",
       "      <td>1003</td>\n",
       "      <td>43</td>\n",
       "      <td>32</td>\n",
       "      <td>0.603401</td>\n",
       "      <td>0.701835</td>\n",
       "      <td>0.423488</td>\n",
       "      <td>0.957129</td>\n",
       "      <td>0.550000</td>\n",
       "      <td>0.526421</td>\n",
       "      <td>0.208778</td>\n",
       "      <td>0.102933</td>\n",
       "    </tr>\n",
       "    <tr>\n",
       "      <th>Roger_Federer</th>\n",
       "      <td>37703</td>\n",
       "      <td>3699</td>\n",
       "      <td>805</td>\n",
       "      <td>22887</td>\n",
       "      <td>17487</td>\n",
       "      <td>14011</td>\n",
       "      <td>7787</td>\n",
       "      <td>888779</td>\n",
       "      <td>14816</td>\n",
       "      <td>14816</td>\n",
       "      <td>805</td>\n",
       "      <td>442</td>\n",
       "      <td>0.607034</td>\n",
       "      <td>0.764058</td>\n",
       "      <td>0.463809</td>\n",
       "      <td>0.945667</td>\n",
       "      <td>0.555778</td>\n",
       "      <td>0.525580</td>\n",
       "      <td>0.206535</td>\n",
       "      <td>0.061771</td>\n",
       "    </tr>\n",
       "    <tr>\n",
       "      <th>Rafael_Nadal</th>\n",
       "      <td>22226</td>\n",
       "      <td>860</td>\n",
       "      <td>439</td>\n",
       "      <td>15196</td>\n",
       "      <td>10637</td>\n",
       "      <td>6591</td>\n",
       "      <td>3672</td>\n",
       "      <td>529273</td>\n",
       "      <td>7030</td>\n",
       "      <td>7030</td>\n",
       "      <td>439</td>\n",
       "      <td>263</td>\n",
       "      <td>0.683704</td>\n",
       "      <td>0.699987</td>\n",
       "      <td>0.478584</td>\n",
       "      <td>0.937553</td>\n",
       "      <td>0.557123</td>\n",
       "      <td>0.522333</td>\n",
       "      <td>0.165212</td>\n",
       "      <td>0.043749</td>\n",
       "    </tr>\n",
       "    <tr>\n",
       "      <th>Thomas_Muster</th>\n",
       "      <td>1679</td>\n",
       "      <td>55</td>\n",
       "      <td>41</td>\n",
       "      <td>1100</td>\n",
       "      <td>722</td>\n",
       "      <td>538</td>\n",
       "      <td>301</td>\n",
       "      <td>33920</td>\n",
       "      <td>579</td>\n",
       "      <td>579</td>\n",
       "      <td>41</td>\n",
       "      <td>17</td>\n",
       "      <td>0.655152</td>\n",
       "      <td>0.656364</td>\n",
       "      <td>0.430018</td>\n",
       "      <td>0.929188</td>\n",
       "      <td>0.559480</td>\n",
       "      <td>0.519862</td>\n",
       "      <td>0.179273</td>\n",
       "      <td>0.089844</td>\n",
       "    </tr>\n",
       "    <tr>\n",
       "      <th>Bjorn_Borg</th>\n",
       "      <td>1601</td>\n",
       "      <td>83</td>\n",
       "      <td>52</td>\n",
       "      <td>866</td>\n",
       "      <td>606</td>\n",
       "      <td>683</td>\n",
       "      <td>382</td>\n",
       "      <td>29691</td>\n",
       "      <td>735</td>\n",
       "      <td>735</td>\n",
       "      <td>52</td>\n",
       "      <td>15</td>\n",
       "      <td>0.540912</td>\n",
       "      <td>0.699769</td>\n",
       "      <td>0.378513</td>\n",
       "      <td>0.929252</td>\n",
       "      <td>0.559297</td>\n",
       "      <td>0.519728</td>\n",
       "      <td>0.238601</td>\n",
       "      <td>0.141214</td>\n",
       "    </tr>\n",
       "    <tr>\n",
       "      <th>Thomas_Enqvist</th>\n",
       "      <td>622</td>\n",
       "      <td>81</td>\n",
       "      <td>27</td>\n",
       "      <td>331</td>\n",
       "      <td>243</td>\n",
       "      <td>264</td>\n",
       "      <td>151</td>\n",
       "      <td>11991</td>\n",
       "      <td>291</td>\n",
       "      <td>291</td>\n",
       "      <td>27</td>\n",
       "      <td>6</td>\n",
       "      <td>0.532154</td>\n",
       "      <td>0.734139</td>\n",
       "      <td>0.390675</td>\n",
       "      <td>0.907216</td>\n",
       "      <td>0.571970</td>\n",
       "      <td>0.518900</td>\n",
       "      <td>0.242765</td>\n",
       "      <td>0.128225</td>\n",
       "    </tr>\n",
       "  </tbody>\n",
       "</table>\n",
       "</div>"
      ],
      "text/plain": [
       "                       serve_pts  aces  dfs  first_in  first_won  second_in  \\\n",
       "player_id                                                                     \n",
       "John_Millman                 737    30   11       466        315        260   \n",
       "Thomas_Fabbiano              889    30   28       590        425        271   \n",
       "Reilly_Opelka               1016   249   19       674        519        323   \n",
       "Jiri_Novak                   553    27   14       344        224        195   \n",
       "Philipp_Kohlschreiber       2529   137   43      1526       1071        960   \n",
       "Roger_Federer              37703  3699  805     22887      17487      14011   \n",
       "Rafael_Nadal               22226   860  439     15196      10637       6591   \n",
       "Thomas_Muster               1679    55   41      1100        722        538   \n",
       "Bjorn_Borg                  1601    83   52       866        606        683   \n",
       "Thomas_Enqvist               622    81   27       331        243        264   \n",
       "\n",
       "                       second_won    year  first_out  second_total  \\\n",
       "player_id                                                            \n",
       "John_Millman                  149   14127        271           271   \n",
       "Thomas_Fabbiano               162   14131        299           299   \n",
       "Reilly_Opelka                 182   20190        342           342   \n",
       "Jiri_Novak                    111   10012        209           209   \n",
       "Philipp_Kohlschreiber         528   64535       1003          1003   \n",
       "Roger_Federer                7787  888779      14816         14816   \n",
       "Rafael_Nadal                 3672  529273       7030          7030   \n",
       "Thomas_Muster                 301   33920        579           579   \n",
       "Bjorn_Borg                    382   29691        735           735   \n",
       "Thomas_Enqvist                151   11991        291           291   \n",
       "\n",
       "                       second_out  matches_no  first_make_pct  first_win_pct  \\\n",
       "player_id                                                                      \n",
       "John_Millman                   11           7        0.632293       0.675966   \n",
       "Thomas_Fabbiano                28           7        0.663667       0.720339   \n",
       "Reilly_Opelka                  19          10        0.663386       0.770030   \n",
       "Jiri_Novak                     14           5        0.622061       0.651163   \n",
       "Philipp_Kohlschreiber          43          32        0.603401       0.701835   \n",
       "Roger_Federer                 805         442        0.607034       0.764058   \n",
       "Rafael_Nadal                  439         263        0.683704       0.699987   \n",
       "Thomas_Muster                  41          17        0.655152       0.656364   \n",
       "Bjorn_Borg                     52          15        0.540912       0.699769   \n",
       "Thomas_Enqvist                 27           6        0.532154       0.734139   \n",
       "\n",
       "                       first_make_win  second_make_pct  second_win_pct  \\\n",
       "player_id                                                                \n",
       "John_Millman                 0.427408         0.959410        0.573077   \n",
       "Thomas_Fabbiano              0.478065         0.906355        0.597786   \n",
       "Reilly_Opelka                0.510827         0.944444        0.563467   \n",
       "Jiri_Novak                   0.405063         0.933014        0.569231   \n",
       "Philipp_Kohlschreiber        0.423488         0.957129        0.550000   \n",
       "Roger_Federer                0.463809         0.945667        0.555778   \n",
       "Rafael_Nadal                 0.478584         0.937553        0.557123   \n",
       "Thomas_Muster                0.430018         0.929188        0.559480   \n",
       "Bjorn_Borg                   0.378513         0.929252        0.559297   \n",
       "Thomas_Enqvist               0.390675         0.907216        0.571970   \n",
       "\n",
       "                       second_make_win  second_success  make_win_diff  \n",
       "player_id                                                              \n",
       "John_Millman                  0.549815        0.202171       0.122407  \n",
       "Thomas_Fabbiano               0.541806        0.182227       0.063741  \n",
       "Reilly_Opelka                 0.532164        0.179134       0.021337  \n",
       "Jiri_Novak                    0.531100        0.200723       0.126037  \n",
       "Philipp_Kohlschreiber         0.526421        0.208778       0.102933  \n",
       "Roger_Federer                 0.525580        0.206535       0.061771  \n",
       "Rafael_Nadal                  0.522333        0.165212       0.043749  \n",
       "Thomas_Muster                 0.519862        0.179273       0.089844  \n",
       "Bjorn_Borg                    0.519728        0.238601       0.141214  \n",
       "Thomas_Enqvist                0.518900        0.242765       0.128225  "
      ]
     },
     "execution_count": 35,
     "metadata": {},
     "output_type": "execute_result"
    },
    {
     "data": {
      "application/javascript": [
       "\n",
       "            setTimeout(function() {\n",
       "                var nbb_cell_id = 35;\n",
       "                var nbb_unformatted_code = \"#look at the top 10 first servers (by a few different metrics)\\nplayer_sums.sort_values(by=\\\"serve_pts\\\", ascending=False).head(150).sort_values(by=\\\"first_win_pct\\\", ascending=False).head(10)\\nplayer_sums.sort_values(by=\\\"serve_pts\\\", ascending=False).head(150).sort_values(by=\\\"first_make_win\\\", ascending=False).head(10)\\nplayer_sums.sort_values(by=\\\"serve_pts\\\", ascending=False).head(150).sort_values(by=\\\"second_make_win\\\", ascending=False).head(10)\";\n",
       "                var nbb_formatted_code = \"# look at the top 10 first servers (by a few different metrics)\\nplayer_sums.sort_values(by=\\\"serve_pts\\\", ascending=False).head(150).sort_values(\\n    by=\\\"first_win_pct\\\", ascending=False\\n).head(10)\\nplayer_sums.sort_values(by=\\\"serve_pts\\\", ascending=False).head(150).sort_values(\\n    by=\\\"first_make_win\\\", ascending=False\\n).head(10)\\nplayer_sums.sort_values(by=\\\"serve_pts\\\", ascending=False).head(150).sort_values(\\n    by=\\\"second_make_win\\\", ascending=False\\n).head(10)\";\n",
       "                var nbb_cells = Jupyter.notebook.get_cells();\n",
       "                for (var i = 0; i < nbb_cells.length; ++i) {\n",
       "                    if (nbb_cells[i].input_prompt_number == nbb_cell_id) {\n",
       "                        if (nbb_cells[i].get_text() == nbb_unformatted_code) {\n",
       "                             nbb_cells[i].set_text(nbb_formatted_code);\n",
       "                        }\n",
       "                        break;\n",
       "                    }\n",
       "                }\n",
       "            }, 500);\n",
       "            "
      ],
      "text/plain": [
       "<IPython.core.display.Javascript object>"
      ]
     },
     "metadata": {},
     "output_type": "display_data"
    }
   ],
   "source": [
    "#look at the top 10 first servers (by a few different metrics)\n",
    "player_sums.sort_values(by=\"serve_pts\", ascending=False).head(150).sort_values(by=\"first_win_pct\", ascending=False).head(10)\n",
    "player_sums.sort_values(by=\"serve_pts\", ascending=False).head(150).sort_values(by=\"first_make_win\", ascending=False).head(10)\n",
    "player_sums.sort_values(by=\"serve_pts\", ascending=False).head(150).sort_values(by=\"second_make_win\", ascending=False).head(10)\n"
   ]
  },
  {
   "cell_type": "markdown",
   "metadata": {},
   "source": [
    "first_make_win tracks fairly closely with who I think of as the top servers in the game, but we can already see that a possible source of bias is that worse players (who are relatively good servers) will have their win percentages inflated. Is does this affect the analysis? Probably not."
   ]
  },
  {
   "cell_type": "markdown",
   "metadata": {},
   "source": [
    "I can come back to the above if I want to compare individual players.\n",
    "\n",
    "### Look at sums over the whole tour for all years"
   ]
  },
  {
   "cell_type": "code",
   "execution_count": 15,
   "metadata": {},
   "outputs": [
    {
     "name": "stderr",
     "output_type": "stream",
     "text": [
      "/Users/jamesmoss/opt/anaconda3/lib/python3.7/site-packages/ipykernel_launcher.py:18: SettingWithCopyWarning: \n",
      "A value is trying to be set on a copy of a slice from a DataFrame.\n",
      "Try using .loc[row_indexer,col_indexer] = value instead\n",
      "\n",
      "See the caveats in the documentation: https://pandas.pydata.org/pandas-docs/stable/user_guide/indexing.html#returning-a-view-versus-a-copy\n"
     ]
    },
    {
     "data": {
      "application/javascript": [
       "\n",
       "            setTimeout(function() {\n",
       "                var nbb_cell_id = 15;\n",
       "                var nbb_unformatted_code = \"tour_sums = total_serve[\\n    [\\n        \\\"match_id\\\",\\n        \\\"player_id\\\",\\n        \\\"serve_pts\\\",\\n        \\\"aces\\\",\\n        \\\"dfs\\\",\\n        \\\"first_in\\\",\\n        \\\"first_won\\\",\\n        \\\"second_in\\\",\\n        \\\"second_won\\\",\\n        \\\"year\\\",\\n        \\\"first_out\\\",\\n        \\\"second_total\\\",\\n        \\\"second_out\\\",\\n    ]\\n]\\ntour_sums[\\\"matches_no\\\"] = 1\\ntour_sums = tour_sums.sum()\";\n",
       "                var nbb_formatted_code = \"tour_sums = total_serve[\\n    [\\n        \\\"match_id\\\",\\n        \\\"player_id\\\",\\n        \\\"serve_pts\\\",\\n        \\\"aces\\\",\\n        \\\"dfs\\\",\\n        \\\"first_in\\\",\\n        \\\"first_won\\\",\\n        \\\"second_in\\\",\\n        \\\"second_won\\\",\\n        \\\"year\\\",\\n        \\\"first_out\\\",\\n        \\\"second_total\\\",\\n        \\\"second_out\\\",\\n    ]\\n]\\ntour_sums[\\\"matches_no\\\"] = 1\\ntour_sums = tour_sums.sum()\";\n",
       "                var nbb_cells = Jupyter.notebook.get_cells();\n",
       "                for (var i = 0; i < nbb_cells.length; ++i) {\n",
       "                    if (nbb_cells[i].input_prompt_number == nbb_cell_id) {\n",
       "                        if (nbb_cells[i].get_text() == nbb_unformatted_code) {\n",
       "                             nbb_cells[i].set_text(nbb_formatted_code);\n",
       "                        }\n",
       "                        break;\n",
       "                    }\n",
       "                }\n",
       "            }, 500);\n",
       "            "
      ],
      "text/plain": [
       "<IPython.core.display.Javascript object>"
      ]
     },
     "metadata": {},
     "output_type": "display_data"
    }
   ],
   "source": [
    "tour_sums = total_serve[\n",
    "    [\n",
    "        \"match_id\",\n",
    "        \"player_id\",\n",
    "        \"serve_pts\",\n",
    "        \"aces\",\n",
    "        \"dfs\",\n",
    "        \"first_in\",\n",
    "        \"first_won\",\n",
    "        \"second_in\",\n",
    "        \"second_won\",\n",
    "        \"year\",\n",
    "        \"first_out\",\n",
    "        \"second_total\",\n",
    "        \"second_out\",\n",
    "    ]\n",
    "]\n",
    "tour_sums[\"matches_no\"] = 1\n",
    "tour_sums = tour_sums.sum()"
   ]
  },
  {
   "cell_type": "code",
   "execution_count": 16,
   "metadata": {},
   "outputs": [
    {
     "data": {
      "application/javascript": [
       "\n",
       "            setTimeout(function() {\n",
       "                var nbb_cell_id = 16;\n",
       "                var nbb_unformatted_code = \"tour_sums[\\\"first_make_pct\\\"] = tour_sums[\\\"first_in\\\"] / tour_sums[\\\"serve_pts\\\"]\\ntour_sums[\\\"first_win_pct\\\"] = tour_sums[\\\"first_won\\\"] / tour_sums[\\\"first_in\\\"]\\ntour_sums[\\\"first_make_win\\\"] = tour_sums[\\\"first_make_pct\\\"] * tour_sums[\\\"first_win_pct\\\"]\\n\\n\\ntour_sums[\\\"second_make_pct\\\"] = tour_sums[\\\"second_in\\\"] / tour_sums[\\\"second_total\\\"]\\ntour_sums[\\\"second_win_pct\\\"] = tour_sums[\\\"second_won\\\"] / tour_sums[\\\"second_in\\\"]\\ntour_sums[\\\"second_make_win\\\"] = tour_sums[\\\"second_make_pct\\\"] * tour_sums[\\\"second_win_pct\\\"]\\ntour_sums['second_success']= tour_sums['second_make_win'] * (1-tour_sums['first_make_pct']) #this is the likelihood of winning the point on your second serve before you hit your first\";\n",
       "                var nbb_formatted_code = \"tour_sums[\\\"first_make_pct\\\"] = tour_sums[\\\"first_in\\\"] / tour_sums[\\\"serve_pts\\\"]\\ntour_sums[\\\"first_win_pct\\\"] = tour_sums[\\\"first_won\\\"] / tour_sums[\\\"first_in\\\"]\\ntour_sums[\\\"first_make_win\\\"] = tour_sums[\\\"first_make_pct\\\"] * tour_sums[\\\"first_win_pct\\\"]\\n\\n\\ntour_sums[\\\"second_make_pct\\\"] = tour_sums[\\\"second_in\\\"] / tour_sums[\\\"second_total\\\"]\\ntour_sums[\\\"second_win_pct\\\"] = tour_sums[\\\"second_won\\\"] / tour_sums[\\\"second_in\\\"]\\ntour_sums[\\\"second_make_win\\\"] = (\\n    tour_sums[\\\"second_make_pct\\\"] * tour_sums[\\\"second_win_pct\\\"]\\n)\\ntour_sums[\\\"second_success\\\"] = tour_sums[\\\"second_make_win\\\"] * (\\n    1 - tour_sums[\\\"first_make_pct\\\"]\\n)  # this is the likelihood of winning the point on your second serve before you hit your first\";\n",
       "                var nbb_cells = Jupyter.notebook.get_cells();\n",
       "                for (var i = 0; i < nbb_cells.length; ++i) {\n",
       "                    if (nbb_cells[i].input_prompt_number == nbb_cell_id) {\n",
       "                        if (nbb_cells[i].get_text() == nbb_unformatted_code) {\n",
       "                             nbb_cells[i].set_text(nbb_formatted_code);\n",
       "                        }\n",
       "                        break;\n",
       "                    }\n",
       "                }\n",
       "            }, 500);\n",
       "            "
      ],
      "text/plain": [
       "<IPython.core.display.Javascript object>"
      ]
     },
     "metadata": {},
     "output_type": "display_data"
    }
   ],
   "source": [
    "tour_sums[\"first_make_pct\"] = tour_sums[\"first_in\"] / tour_sums[\"serve_pts\"]\n",
    "tour_sums[\"first_win_pct\"] = tour_sums[\"first_won\"] / tour_sums[\"first_in\"]\n",
    "tour_sums[\"first_make_win\"] = tour_sums[\"first_make_pct\"] * tour_sums[\"first_win_pct\"]\n",
    "\n",
    "\n",
    "tour_sums[\"second_make_pct\"] = tour_sums[\"second_in\"] / tour_sums[\"second_total\"]\n",
    "tour_sums[\"second_win_pct\"] = tour_sums[\"second_won\"] / tour_sums[\"second_in\"]\n",
    "tour_sums[\"second_make_win\"] = tour_sums[\"second_make_pct\"] * tour_sums[\"second_win_pct\"]\n",
    "tour_sums['second_success']= tour_sums['second_make_win'] * (1-tour_sums['first_make_pct']) #this is the likelihood of winning the point on your second serve before you hit your first\n",
    "\n"
   ]
  },
  {
   "cell_type": "code",
   "execution_count": 17,
   "metadata": {},
   "outputs": [
    {
     "data": {
      "text/plain": [
       "match_id           19751219-M-Davis_Cup_World_Group_F-RR-Bjorn_Bo...\n",
       "player_id          Bjorn_BorgJiri_HrebecBrian_GottfriedBjorn_Borg...\n",
       "serve_pts                                                     445407\n",
       "aces                                                           34643\n",
       "dfs                                                            14880\n",
       "first_in                                                      265689\n",
       "first_won                                                     190636\n",
       "second_in                                                     164838\n",
       "second_won                                                     84327\n",
       "year                                                        10252084\n",
       "first_out                                                     179718\n",
       "second_total                                                  179718\n",
       "second_out                                                     14880\n",
       "matches_no                                                      5100\n",
       "first_make_pct                                              0.596508\n",
       "first_win_pct                                               0.717516\n",
       "first_make_win                                              0.428004\n",
       "second_make_pct                                             0.917204\n",
       "second_win_pct                                              0.511575\n",
       "second_make_win                                             0.469218\n",
       "second_success                                              0.189326\n",
       "dtype: object"
      ]
     },
     "execution_count": 17,
     "metadata": {},
     "output_type": "execute_result"
    },
    {
     "data": {
      "application/javascript": [
       "\n",
       "            setTimeout(function() {\n",
       "                var nbb_cell_id = 17;\n",
       "                var nbb_unformatted_code = \"tour_sums\";\n",
       "                var nbb_formatted_code = \"tour_sums\";\n",
       "                var nbb_cells = Jupyter.notebook.get_cells();\n",
       "                for (var i = 0; i < nbb_cells.length; ++i) {\n",
       "                    if (nbb_cells[i].input_prompt_number == nbb_cell_id) {\n",
       "                        if (nbb_cells[i].get_text() == nbb_unformatted_code) {\n",
       "                             nbb_cells[i].set_text(nbb_formatted_code);\n",
       "                        }\n",
       "                        break;\n",
       "                    }\n",
       "                }\n",
       "            }, 500);\n",
       "            "
      ],
      "text/plain": [
       "<IPython.core.display.Javascript object>"
      ]
     },
     "metadata": {},
     "output_type": "display_data"
    }
   ],
   "source": [
    "tour_sums"
   ]
  },
  {
   "cell_type": "markdown",
   "metadata": {},
   "source": [
    "\n",
    "**In any case, our three main datasets are total_serve (match-wise), player_serve (player-wise), and tour_sums (tour-wise)**"
   ]
  },
  {
   "cell_type": "code",
   "execution_count": 61,
   "metadata": {},
   "outputs": [
    {
     "data": {
      "text/html": [
       "<div>\n",
       "<style scoped>\n",
       "    .dataframe tbody tr th:only-of-type {\n",
       "        vertical-align: middle;\n",
       "    }\n",
       "\n",
       "    .dataframe tbody tr th {\n",
       "        vertical-align: top;\n",
       "    }\n",
       "\n",
       "    .dataframe thead th {\n",
       "        text-align: right;\n",
       "    }\n",
       "</style>\n",
       "<table border=\"1\" class=\"dataframe\">\n",
       "  <thead>\n",
       "    <tr style=\"text-align: right;\">\n",
       "      <th></th>\n",
       "      <th>match_id</th>\n",
       "      <th>player</th>\n",
       "      <th>player_id</th>\n",
       "      <th>serve_pts</th>\n",
       "      <th>aces</th>\n",
       "      <th>dfs</th>\n",
       "      <th>first_in</th>\n",
       "      <th>first_won</th>\n",
       "      <th>second_in</th>\n",
       "      <th>second_won</th>\n",
       "      <th>...</th>\n",
       "      <th>first_out</th>\n",
       "      <th>first_make_pct</th>\n",
       "      <th>first_win_pct</th>\n",
       "      <th>first_make_win</th>\n",
       "      <th>second_total</th>\n",
       "      <th>second_out</th>\n",
       "      <th>second_make_pct</th>\n",
       "      <th>second_win_pct</th>\n",
       "      <th>second_make_win</th>\n",
       "      <th>second_success</th>\n",
       "    </tr>\n",
       "  </thead>\n",
       "  <tbody>\n",
       "    <tr>\n",
       "      <th>0</th>\n",
       "      <td>19751219-M-Davis_Cup_World_Group_F-RR-Bjorn_Bo...</td>\n",
       "      <td>1</td>\n",
       "      <td>Bjorn_Borg</td>\n",
       "      <td>70</td>\n",
       "      <td>2</td>\n",
       "      <td>1</td>\n",
       "      <td>32</td>\n",
       "      <td>25</td>\n",
       "      <td>37</td>\n",
       "      <td>21</td>\n",
       "      <td>...</td>\n",
       "      <td>38</td>\n",
       "      <td>0.457143</td>\n",
       "      <td>0.781250</td>\n",
       "      <td>0.357143</td>\n",
       "      <td>38</td>\n",
       "      <td>1</td>\n",
       "      <td>0.973684</td>\n",
       "      <td>0.567568</td>\n",
       "      <td>0.552632</td>\n",
       "      <td>0.300000</td>\n",
       "    </tr>\n",
       "    <tr>\n",
       "      <th>1</th>\n",
       "      <td>19751219-M-Davis_Cup_World_Group_F-RR-Bjorn_Bo...</td>\n",
       "      <td>2</td>\n",
       "      <td>Jiri_Hrebec</td>\n",
       "      <td>65</td>\n",
       "      <td>2</td>\n",
       "      <td>2</td>\n",
       "      <td>41</td>\n",
       "      <td>20</td>\n",
       "      <td>22</td>\n",
       "      <td>7</td>\n",
       "      <td>...</td>\n",
       "      <td>24</td>\n",
       "      <td>0.630769</td>\n",
       "      <td>0.487805</td>\n",
       "      <td>0.307692</td>\n",
       "      <td>24</td>\n",
       "      <td>2</td>\n",
       "      <td>0.916667</td>\n",
       "      <td>0.318182</td>\n",
       "      <td>0.291667</td>\n",
       "      <td>0.107692</td>\n",
       "    </tr>\n",
       "    <tr>\n",
       "      <th>8</th>\n",
       "      <td>19780125-M-Pepsi_Grand_Slam-SF-Brian_Gottfried...</td>\n",
       "      <td>1</td>\n",
       "      <td>Brian_Gottfried</td>\n",
       "      <td>56</td>\n",
       "      <td>0</td>\n",
       "      <td>1</td>\n",
       "      <td>32</td>\n",
       "      <td>21</td>\n",
       "      <td>23</td>\n",
       "      <td>9</td>\n",
       "      <td>...</td>\n",
       "      <td>24</td>\n",
       "      <td>0.571429</td>\n",
       "      <td>0.656250</td>\n",
       "      <td>0.375000</td>\n",
       "      <td>24</td>\n",
       "      <td>1</td>\n",
       "      <td>0.958333</td>\n",
       "      <td>0.391304</td>\n",
       "      <td>0.375000</td>\n",
       "      <td>0.160714</td>\n",
       "    </tr>\n",
       "    <tr>\n",
       "      <th>9</th>\n",
       "      <td>19780125-M-Pepsi_Grand_Slam-SF-Brian_Gottfried...</td>\n",
       "      <td>2</td>\n",
       "      <td>Bjorn_Borg</td>\n",
       "      <td>51</td>\n",
       "      <td>0</td>\n",
       "      <td>2</td>\n",
       "      <td>31</td>\n",
       "      <td>25</td>\n",
       "      <td>18</td>\n",
       "      <td>10</td>\n",
       "      <td>...</td>\n",
       "      <td>20</td>\n",
       "      <td>0.607843</td>\n",
       "      <td>0.806452</td>\n",
       "      <td>0.490196</td>\n",
       "      <td>20</td>\n",
       "      <td>2</td>\n",
       "      <td>0.900000</td>\n",
       "      <td>0.555556</td>\n",
       "      <td>0.500000</td>\n",
       "      <td>0.196078</td>\n",
       "    </tr>\n",
       "    <tr>\n",
       "      <th>14</th>\n",
       "      <td>19800705-M-Wimbledon-F-John_Mcenroe-Bjorn_Borg</td>\n",
       "      <td>1</td>\n",
       "      <td>John_Mcenroe</td>\n",
       "      <td>183</td>\n",
       "      <td>12</td>\n",
       "      <td>3</td>\n",
       "      <td>111</td>\n",
       "      <td>75</td>\n",
       "      <td>69</td>\n",
       "      <td>44</td>\n",
       "      <td>...</td>\n",
       "      <td>72</td>\n",
       "      <td>0.606557</td>\n",
       "      <td>0.675676</td>\n",
       "      <td>0.409836</td>\n",
       "      <td>72</td>\n",
       "      <td>3</td>\n",
       "      <td>0.958333</td>\n",
       "      <td>0.637681</td>\n",
       "      <td>0.611111</td>\n",
       "      <td>0.240437</td>\n",
       "    </tr>\n",
       "  </tbody>\n",
       "</table>\n",
       "<p>5 rows × 21 columns</p>\n",
       "</div>"
      ],
      "text/plain": [
       "                                             match_id  player  \\\n",
       "0   19751219-M-Davis_Cup_World_Group_F-RR-Bjorn_Bo...       1   \n",
       "1   19751219-M-Davis_Cup_World_Group_F-RR-Bjorn_Bo...       2   \n",
       "8   19780125-M-Pepsi_Grand_Slam-SF-Brian_Gottfried...       1   \n",
       "9   19780125-M-Pepsi_Grand_Slam-SF-Brian_Gottfried...       2   \n",
       "14     19800705-M-Wimbledon-F-John_Mcenroe-Bjorn_Borg       1   \n",
       "\n",
       "          player_id  serve_pts  aces  dfs  first_in  first_won  second_in  \\\n",
       "0        Bjorn_Borg         70     2    1        32         25         37   \n",
       "1       Jiri_Hrebec         65     2    2        41         20         22   \n",
       "8   Brian_Gottfried         56     0    1        32         21         23   \n",
       "9        Bjorn_Borg         51     0    2        31         25         18   \n",
       "14     John_Mcenroe        183    12    3       111         75         69   \n",
       "\n",
       "    second_won  ...  first_out  first_make_pct  first_win_pct  first_make_win  \\\n",
       "0           21  ...         38        0.457143       0.781250        0.357143   \n",
       "1            7  ...         24        0.630769       0.487805        0.307692   \n",
       "8            9  ...         24        0.571429       0.656250        0.375000   \n",
       "9           10  ...         20        0.607843       0.806452        0.490196   \n",
       "14          44  ...         72        0.606557       0.675676        0.409836   \n",
       "\n",
       "    second_total  second_out  second_make_pct  second_win_pct  \\\n",
       "0             38           1         0.973684        0.567568   \n",
       "1             24           2         0.916667        0.318182   \n",
       "8             24           1         0.958333        0.391304   \n",
       "9             20           2         0.900000        0.555556   \n",
       "14            72           3         0.958333        0.637681   \n",
       "\n",
       "    second_make_win  second_success  \n",
       "0          0.552632        0.300000  \n",
       "1          0.291667        0.107692  \n",
       "8          0.375000        0.160714  \n",
       "9          0.500000        0.196078  \n",
       "14         0.611111        0.240437  \n",
       "\n",
       "[5 rows x 21 columns]"
      ]
     },
     "execution_count": 61,
     "metadata": {},
     "output_type": "execute_result"
    },
    {
     "data": {
      "application/javascript": [
       "\n",
       "            setTimeout(function() {\n",
       "                var nbb_cell_id = 61;\n",
       "                var nbb_unformatted_code = \"total_serve.head()\";\n",
       "                var nbb_formatted_code = \"total_serve.head()\";\n",
       "                var nbb_cells = Jupyter.notebook.get_cells();\n",
       "                for (var i = 0; i < nbb_cells.length; ++i) {\n",
       "                    if (nbb_cells[i].input_prompt_number == nbb_cell_id) {\n",
       "                        if (nbb_cells[i].get_text() == nbb_unformatted_code) {\n",
       "                             nbb_cells[i].set_text(nbb_formatted_code);\n",
       "                        }\n",
       "                        break;\n",
       "                    }\n",
       "                }\n",
       "            }, 500);\n",
       "            "
      ],
      "text/plain": [
       "<IPython.core.display.Javascript object>"
      ]
     },
     "metadata": {},
     "output_type": "display_data"
    }
   ],
   "source": [
    "total_serve.head()"
   ]
  },
  {
   "cell_type": "code",
   "execution_count": null,
   "metadata": {},
   "outputs": [],
   "source": []
  },
  {
   "cell_type": "code",
   "execution_count": 47,
   "metadata": {
    "scrolled": false
   },
   "outputs": [
    {
     "data": {
      "text/plain": [
       "[Text(0, 0.5, 'Probability'),\n",
       " Text(0.5, 0, 'Year'),\n",
       " Text(0.5, 1.0, 'Win Likelihood over Time')]"
      ]
     },
     "execution_count": 47,
     "metadata": {},
     "output_type": "execute_result"
    },
    {
     "data": {
      "image/png": "[encoded data removed]",
      "text/plain": [
       "<Figure size 576x432 with 1 Axes>"
      ]
     },
     "metadata": {
      "needs_background": "light"
     },
     "output_type": "display_data"
    },
    {
     "data": {
      "application/javascript": [
       "\n",
       "            setTimeout(function() {\n",
       "                var nbb_cell_id = 47;\n",
       "                var nbb_unformatted_code = \"# looking at how different serve metrics have changed with time:\\nplt.figure(figsize=(8, 6))\\nsns.lineplot(x=\\\"year\\\", y=\\\"first_make_win\\\", data=total_serve, label=\\\"First Serve\\\")\\nplot = sns.lineplot(\\n    x=\\\"year\\\", y=\\\"second_make_win\\\", data=total_serve, label=\\\"Second Serve\\\"\\n)\\nplot.set(Title=\\\"Win Likelihood over Time\\\", ylabel=\\\"Probability\\\", xlabel='Year')\";\n",
       "                var nbb_formatted_code = \"# looking at how different serve metrics have changed with time:\\nplt.figure(figsize=(8, 6))\\nsns.lineplot(x=\\\"year\\\", y=\\\"first_make_win\\\", data=total_serve, label=\\\"First Serve\\\")\\nplot = sns.lineplot(\\n    x=\\\"year\\\", y=\\\"second_make_win\\\", data=total_serve, label=\\\"Second Serve\\\"\\n)\\nplot.set(Title=\\\"Win Likelihood over Time\\\", ylabel=\\\"Probability\\\", xlabel=\\\"Year\\\")\";\n",
       "                var nbb_cells = Jupyter.notebook.get_cells();\n",
       "                for (var i = 0; i < nbb_cells.length; ++i) {\n",
       "                    if (nbb_cells[i].input_prompt_number == nbb_cell_id) {\n",
       "                        if (nbb_cells[i].get_text() == nbb_unformatted_code) {\n",
       "                             nbb_cells[i].set_text(nbb_formatted_code);\n",
       "                        }\n",
       "                        break;\n",
       "                    }\n",
       "                }\n",
       "            }, 500);\n",
       "            "
      ],
      "text/plain": [
       "<IPython.core.display.Javascript object>"
      ]
     },
     "metadata": {},
     "output_type": "display_data"
    }
   ],
   "source": [
    "# looking at how different serve metrics have changed with time:\n",
    "plt.figure(figsize=(8, 6))\n",
    "sns.lineplot(x=\"year\", y=\"first_make_win\", data=total_serve, label=\"First Serve\")\n",
    "plot = sns.lineplot(\n",
    "    x=\"year\", y=\"second_make_win\", data=total_serve, label=\"Second Serve\"\n",
    ")\n",
    "plot.set(Title=\"Win Likelihood over Time\", ylabel=\"Probability\", xlabel=\"Year\")"
   ]
  },
  {
   "cell_type": "code",
   "execution_count": 20,
   "metadata": {},
   "outputs": [
    {
     "data": {
      "text/plain": [
       "[Text(0, 0.5, 'Win Expectation Percentage (of serves in a vaccuum)')]"
      ]
     },
     "execution_count": 20,
     "metadata": {},
     "output_type": "execute_result"
    },
    {
     "data": {
      "image/png": "[encoded data removed]",
      "text/plain": [
       "<Figure size 576x432 with 1 Axes>"
      ]
     },
     "metadata": {
      "needs_background": "light"
     },
     "output_type": "display_data"
    },
    {
     "data": {
      "application/javascript": [
       "\n",
       "            setTimeout(function() {\n",
       "                var nbb_cell_id = 20;\n",
       "                var nbb_unformatted_code = \"plt.figure(figsize=(8, 6))\\nsns.scatterplot(\\n    x=\\\"year\\\", y=\\\"first_make_win\\\", data=total_serve, label=\\\"First Serve\\\", alpha=0.1\\n)\\nplot = sns.scatterplot(\\n    x=\\\"year\\\", y=\\\"second_make_win\\\", data=total_serve, label=\\\"Second Serve\\\", alpha=0.1\\n)\\nplot.set(ylabel=\\\"Win Expectation Percentage (of serves in a vaccuum)\\\")\";\n",
       "                var nbb_formatted_code = \"plt.figure(figsize=(8, 6))\\nsns.scatterplot(\\n    x=\\\"year\\\", y=\\\"first_make_win\\\", data=total_serve, label=\\\"First Serve\\\", alpha=0.1\\n)\\nplot = sns.scatterplot(\\n    x=\\\"year\\\", y=\\\"second_make_win\\\", data=total_serve, label=\\\"Second Serve\\\", alpha=0.1\\n)\\nplot.set(ylabel=\\\"Win Expectation Percentage (of serves in a vaccuum)\\\")\";\n",
       "                var nbb_cells = Jupyter.notebook.get_cells();\n",
       "                for (var i = 0; i < nbb_cells.length; ++i) {\n",
       "                    if (nbb_cells[i].input_prompt_number == nbb_cell_id) {\n",
       "                        if (nbb_cells[i].get_text() == nbb_unformatted_code) {\n",
       "                             nbb_cells[i].set_text(nbb_formatted_code);\n",
       "                        }\n",
       "                        break;\n",
       "                    }\n",
       "                }\n",
       "            }, 500);\n",
       "            "
      ],
      "text/plain": [
       "<IPython.core.display.Javascript object>"
      ]
     },
     "metadata": {},
     "output_type": "display_data"
    }
   ],
   "source": [
    "plt.figure(figsize=(8, 6))\n",
    "sns.scatterplot(\n",
    "    x=\"year\", y=\"first_make_win\", data=total_serve, label=\"First Serve\", alpha=0.1\n",
    ")\n",
    "plot = sns.scatterplot(\n",
    "    x=\"year\", y=\"second_make_win\", data=total_serve, label=\"Second Serve\", alpha=0.1\n",
    ")\n",
    "plot.set(ylabel=\"Win Expectation Percentage (of serves in a vaccuum)\")"
   ]
  },
  {
   "cell_type": "markdown",
   "metadata": {},
   "source": [
    "~~Most interesting thing here is that we see a divergence in first and second serve success parameters around the years 2000-2005. This is a time period where tennis was undergoing a big transition. New types of strings were becoming popular, which improved spin performance and larger racketheads were becoming popular. The game started to move away from the big serve-forehand combo that had dominated the 90s. The net effect seems to be that players because better at returning second serves, while first serve success remained relatively constant.~~\n",
    "\n",
    "~~One huge problem is that the percentages are too low. You would expect them to be above .5, because being the server confers an advantage.~~\n",
    "\n",
    "**The above is probably the most interesting/important/satisfying graph here. You can see the slow convergence of the expectation of winning the point for first and second serves were you to hit them in a vaccuum.**"
   ]
  },
  {
   "cell_type": "code",
   "execution_count": 21,
   "metadata": {
    "scrolled": false
   },
   "outputs": [
    {
     "data": {
      "text/plain": [
       "[Text(0, 0.5, 'Serve Win Percentage')]"
      ]
     },
     "execution_count": 21,
     "metadata": {},
     "output_type": "execute_result"
    },
    {
     "data": {
      "image/png": "[encoded data removed]",
      "text/plain": [
       "<Figure size 576x432 with 1 Axes>"
      ]
     },
     "metadata": {
      "needs_background": "light"
     },
     "output_type": "display_data"
    },
    {
     "data": {
      "application/javascript": [
       "\n",
       "            setTimeout(function() {\n",
       "                var nbb_cell_id = 21;\n",
       "                var nbb_unformatted_code = \"plt.figure(figsize=(8, 6))\\nsns.lineplot(\\n    x=\\\"year\\\", y=\\\"first_win_pct\\\", data=total_serve, label=\\\"First Serve\\\",\\n)\\nplot = sns.lineplot(\\n    x=\\\"year\\\", y=\\\"second_win_pct\\\", data=total_serve, label=\\\"Second Serve\\\"\\n)\\nplot.set(ylabel=\\\"Serve Win Percentage\\\")\";\n",
       "                var nbb_formatted_code = \"plt.figure(figsize=(8, 6))\\nsns.lineplot(\\n    x=\\\"year\\\", y=\\\"first_win_pct\\\", data=total_serve, label=\\\"First Serve\\\",\\n)\\nplot = sns.lineplot(\\n    x=\\\"year\\\", y=\\\"second_win_pct\\\", data=total_serve, label=\\\"Second Serve\\\"\\n)\\nplot.set(ylabel=\\\"Serve Win Percentage\\\")\";\n",
       "                var nbb_cells = Jupyter.notebook.get_cells();\n",
       "                for (var i = 0; i < nbb_cells.length; ++i) {\n",
       "                    if (nbb_cells[i].input_prompt_number == nbb_cell_id) {\n",
       "                        if (nbb_cells[i].get_text() == nbb_unformatted_code) {\n",
       "                             nbb_cells[i].set_text(nbb_formatted_code);\n",
       "                        }\n",
       "                        break;\n",
       "                    }\n",
       "                }\n",
       "            }, 500);\n",
       "            "
      ],
      "text/plain": [
       "<IPython.core.display.Javascript object>"
      ]
     },
     "metadata": {},
     "output_type": "display_data"
    }
   ],
   "source": [
    "plt.figure(figsize=(8, 6))\n",
    "sns.lineplot(\n",
    "    x=\"year\", y=\"first_win_pct\", data=total_serve, label=\"First Serve\",\n",
    ")\n",
    "plot = sns.lineplot(\n",
    "    x=\"year\", y=\"second_win_pct\", data=total_serve, label=\"Second Serve\"\n",
    ")\n",
    "plot.set(ylabel=\"Serve Win Percentage\")"
   ]
  },
  {
   "cell_type": "markdown",
   "metadata": {},
   "source": [
    "Players win much more of the first serves they do make"
   ]
  },
  {
   "cell_type": "code",
   "execution_count": 22,
   "metadata": {
    "scrolled": false
   },
   "outputs": [
    {
     "data": {
      "text/plain": [
       "[Text(17.200000000000003, 0.5, 'Serve Make Percentage')]"
      ]
     },
     "execution_count": 22,
     "metadata": {},
     "output_type": "execute_result"
    },
    {
     "data": {
      "image/png": "[encoded data removed]",
      "text/plain": [
       "<Figure size 576x432 with 1 Axes>"
      ]
     },
     "metadata": {
      "needs_background": "light"
     },
     "output_type": "display_data"
    },
    {
     "data": {
      "application/javascript": [
       "\n",
       "            setTimeout(function() {\n",
       "                var nbb_cell_id = 22;\n",
       "                var nbb_unformatted_code = \"plt.figure(figsize=(8, 6))\\nsns.lineplot(\\n    x=\\\"year\\\", y=\\\"first_make_pct\\\", data=total_serve, label=\\\"First Serve\\\",\\n)\\nsns.lineplot(x=\\\"year\\\", y=\\\"second_make_pct\\\", data=total_serve, label=\\\"Second Serve\\\")\\nplot.set(ylabel=\\\"Serve Make Percentage\\\")\";\n",
       "                var nbb_formatted_code = \"plt.figure(figsize=(8, 6))\\nsns.lineplot(\\n    x=\\\"year\\\", y=\\\"first_make_pct\\\", data=total_serve, label=\\\"First Serve\\\",\\n)\\nsns.lineplot(x=\\\"year\\\", y=\\\"second_make_pct\\\", data=total_serve, label=\\\"Second Serve\\\")\\nplot.set(ylabel=\\\"Serve Make Percentage\\\")\";\n",
       "                var nbb_cells = Jupyter.notebook.get_cells();\n",
       "                for (var i = 0; i < nbb_cells.length; ++i) {\n",
       "                    if (nbb_cells[i].input_prompt_number == nbb_cell_id) {\n",
       "                        if (nbb_cells[i].get_text() == nbb_unformatted_code) {\n",
       "                             nbb_cells[i].set_text(nbb_formatted_code);\n",
       "                        }\n",
       "                        break;\n",
       "                    }\n",
       "                }\n",
       "            }, 500);\n",
       "            "
      ],
      "text/plain": [
       "<IPython.core.display.Javascript object>"
      ]
     },
     "metadata": {},
     "output_type": "display_data"
    }
   ],
   "source": [
    "plt.figure(figsize=(8, 6))\n",
    "sns.lineplot(\n",
    "    x=\"year\", y=\"first_make_pct\", data=total_serve, label=\"First Serve\",\n",
    ")\n",
    "sns.lineplot(x=\"year\", y=\"second_make_pct\", data=total_serve, label=\"Second Serve\")\n",
    "plot.set(ylabel=\"Serve Make Percentage\")"
   ]
  },
  {
   "cell_type": "code",
   "execution_count": 38,
   "metadata": {},
   "outputs": [
    {
     "data": {
      "text/plain": [
       "[Text(0, 0.5, 'Probability'),\n",
       " Text(0.5, 1.0, 'Expectation of winning the point on either serve before the point starts')]"
      ]
     },
     "execution_count": 38,
     "metadata": {},
     "output_type": "execute_result"
    },
    {
     "data": {
      "image/png": "[encoded data removed]",
      "text/plain": [
       "<Figure size 576x432 with 1 Axes>"
      ]
     },
     "metadata": {
      "needs_background": "light"
     },
     "output_type": "display_data"
    },
    {
     "data": {
      "application/javascript": [
       "\n",
       "            setTimeout(function() {\n",
       "                var nbb_cell_id = 38;\n",
       "                var nbb_unformatted_code = \"plt.figure(figsize=(8, 6))\\nsns.lineplot(x=\\\"year\\\", y=\\\"first_make_win\\\", data=total_serve, label=\\\"First Serve\\\")\\nplot = sns.lineplot(\\n    x=\\\"year\\\", y=\\\"second_success\\\", data=total_serve, label=\\\"Second Serve\\\"\\n)\\nplot.set(\\n    Title=\\\"Expectation of winning the point on either serve before the point starts\\\",\\n    ylabel='Probability'\\n)\";\n",
       "                var nbb_formatted_code = \"plt.figure(figsize=(8, 6))\\nsns.lineplot(x=\\\"year\\\", y=\\\"first_make_win\\\", data=total_serve, label=\\\"First Serve\\\")\\nplot = sns.lineplot(\\n    x=\\\"year\\\", y=\\\"second_success\\\", data=total_serve, label=\\\"Second Serve\\\"\\n)\\nplot.set(\\n    Title=\\\"Expectation of winning the point on either serve before the point starts\\\",\\n    ylabel=\\\"Probability\\\",\\n)\";\n",
       "                var nbb_cells = Jupyter.notebook.get_cells();\n",
       "                for (var i = 0; i < nbb_cells.length; ++i) {\n",
       "                    if (nbb_cells[i].input_prompt_number == nbb_cell_id) {\n",
       "                        if (nbb_cells[i].get_text() == nbb_unformatted_code) {\n",
       "                             nbb_cells[i].set_text(nbb_formatted_code);\n",
       "                        }\n",
       "                        break;\n",
       "                    }\n",
       "                }\n",
       "            }, 500);\n",
       "            "
      ],
      "text/plain": [
       "<IPython.core.display.Javascript object>"
      ]
     },
     "metadata": {},
     "output_type": "display_data"
    }
   ],
   "source": [
    "plt.figure(figsize=(8, 6))\n",
    "sns.lineplot(x=\"year\", y=\"first_make_win\", data=total_serve, label=\"First Serve\")\n",
    "plot = sns.lineplot(\n",
    "    x=\"year\", y=\"second_success\", data=total_serve, label=\"Second Serve\"\n",
    ")\n",
    "plot.set(\n",
    "    Title=\"Expectation of winning the point on either serve before the point starts\",\n",
    "    ylabel=\"Probability\",\n",
    ")"
   ]
  },
  {
   "cell_type": "code",
   "execution_count": null,
   "metadata": {},
   "outputs": [],
   "source": []
  },
  {
   "cell_type": "markdown",
   "metadata": {},
   "source": [
    "As suspected, players make almost all their second serves. (Double check this)"
   ]
  },
  {
   "cell_type": "code",
   "execution_count": 24,
   "metadata": {
    "scrolled": false
   },
   "outputs": [
    {
     "data": {
      "text/plain": [
       "0.39697483006014284"
      ]
     },
     "execution_count": 24,
     "metadata": {},
     "output_type": "execute_result"
    },
    {
     "data": {
      "image/png": "[encoded data removed]",
      "text/plain": [
       "<Figure size 432x288 with 1 Axes>"
      ]
     },
     "metadata": {
      "needs_background": "light"
     },
     "output_type": "display_data"
    },
    {
     "data": {
      "application/javascript": [
       "\n",
       "            setTimeout(function() {\n",
       "                var nbb_cell_id = 24;\n",
       "                var nbb_unformatted_code = \"sns.scatterplot(x=\\\"first_make_win\\\", y=\\\"second_make_win\\\", data=total_serve)\\nplt.plot()\\n# seems like they're positively correlated\\ntotal_serve[\\\"first_make_win\\\"].corr(total_serve[\\\"second_make_win\\\"])\";\n",
       "                var nbb_formatted_code = \"sns.scatterplot(x=\\\"first_make_win\\\", y=\\\"second_make_win\\\", data=total_serve)\\nplt.plot()\\n# seems like they're positively correlated\\ntotal_serve[\\\"first_make_win\\\"].corr(total_serve[\\\"second_make_win\\\"])\";\n",
       "                var nbb_cells = Jupyter.notebook.get_cells();\n",
       "                for (var i = 0; i < nbb_cells.length; ++i) {\n",
       "                    if (nbb_cells[i].input_prompt_number == nbb_cell_id) {\n",
       "                        if (nbb_cells[i].get_text() == nbb_unformatted_code) {\n",
       "                             nbb_cells[i].set_text(nbb_formatted_code);\n",
       "                        }\n",
       "                        break;\n",
       "                    }\n",
       "                }\n",
       "            }, 500);\n",
       "            "
      ],
      "text/plain": [
       "<IPython.core.display.Javascript object>"
      ]
     },
     "metadata": {},
     "output_type": "display_data"
    }
   ],
   "source": [
    "sns.scatterplot(x=\"first_make_win\", y=\"second_make_win\", data=total_serve)\n",
    "plt.plot()\n",
    "# seems like they're positively correlated\n",
    "total_serve[\"first_make_win\"].corr(total_serve[\"second_make_win\"])"
   ]
  },
  {
   "cell_type": "code",
   "execution_count": 59,
   "metadata": {
    "scrolled": false
   },
   "outputs": [
    {
     "data": {
      "text/plain": [
       "0.4224376994939962"
      ]
     },
     "execution_count": 59,
     "metadata": {},
     "output_type": "execute_result"
    },
    {
     "data": {
      "image/png": "[encoded data removed]",
      "text/plain": [
       "<Figure size 576x432 with 1 Axes>"
      ]
     },
     "metadata": {
      "needs_background": "light"
     },
     "output_type": "display_data"
    },
    {
     "data": {
      "application/javascript": [
       "\n",
       "            setTimeout(function() {\n",
       "                var nbb_cell_id = 59;\n",
       "                var nbb_unformatted_code = \"plt.figure(figsize=(8, 6))\\nscatter = sns.scatterplot(x=\\\"first_make_win\\\", y=\\\"second_make_win\\\", data=player_sums)\\nscatter.plot([0, 1], [0, 1], color=\\\"r\\\")\\nplt.title(\\\"First vs. Second Serve by Player\\\")\\nplt.xlabel(\\\"First Serve Win Probability\\\")\\nplt.ylabel(\\\"Second Serve Win Probability\\\")\\n\\n# you can see a bit more of a positive correlation here.\\nplt.plot()\\nplayer_sums[\\\"first_make_win\\\"].corr(player_sums[\\\"second_make_win\\\"])\";\n",
       "                var nbb_formatted_code = \"plt.figure(figsize=(8, 6))\\nscatter = sns.scatterplot(x=\\\"first_make_win\\\", y=\\\"second_make_win\\\", data=player_sums)\\nscatter.plot([0, 1], [0, 1], color=\\\"r\\\")\\nplt.title(\\\"First vs. Second Serve by Player\\\")\\nplt.xlabel(\\\"First Serve Win Probability\\\")\\nplt.ylabel(\\\"Second Serve Win Probability\\\")\\n\\n# you can see a bit more of a positive correlation here.\\nplt.plot()\\nplayer_sums[\\\"first_make_win\\\"].corr(player_sums[\\\"second_make_win\\\"])\";\n",
       "                var nbb_cells = Jupyter.notebook.get_cells();\n",
       "                for (var i = 0; i < nbb_cells.length; ++i) {\n",
       "                    if (nbb_cells[i].input_prompt_number == nbb_cell_id) {\n",
       "                        if (nbb_cells[i].get_text() == nbb_unformatted_code) {\n",
       "                             nbb_cells[i].set_text(nbb_formatted_code);\n",
       "                        }\n",
       "                        break;\n",
       "                    }\n",
       "                }\n",
       "            }, 500);\n",
       "            "
      ],
      "text/plain": [
       "<IPython.core.display.Javascript object>"
      ]
     },
     "metadata": {},
     "output_type": "display_data"
    }
   ],
   "source": [
    "plt.figure(figsize=(8, 6))\n",
    "scatter = sns.scatterplot(x=\"first_make_win\", y=\"second_make_win\", data=player_sums)\n",
    "scatter.plot([0, 1], [0, 1], color=\"r\")\n",
    "plt.title(\"First vs. Second Serve by Player\")\n",
    "plt.xlabel(\"First Serve Win Probability\")\n",
    "plt.ylabel(\"Second Serve Win Probability\")\n",
    "\n",
    "# you can see a bit more of a positive correlation here.\n",
    "plt.plot()\n",
    "player_sums[\"first_make_win\"].corr(player_sums[\"second_make_win\"])"
   ]
  },
  {
   "cell_type": "code",
   "execution_count": 26,
   "metadata": {
    "scrolled": true
   },
   "outputs": [
    {
     "data": {
      "text/plain": [
       "-0.027261410993612362"
      ]
     },
     "execution_count": 26,
     "metadata": {},
     "output_type": "execute_result"
    },
    {
     "data": {
      "image/png": "[encoded data removed]",
      "text/plain": [
       "<Figure size 432x288 with 1 Axes>"
      ]
     },
     "metadata": {
      "needs_background": "light"
     },
     "output_type": "display_data"
    },
    {
     "data": {
      "application/javascript": [
       "\n",
       "            setTimeout(function() {\n",
       "                var nbb_cell_id = 26;\n",
       "                var nbb_unformatted_code = \"sns.scatterplot(x=\\\"first_make_pct\\\", y=\\\"first_win_pct\\\", data=player_sums)\\nplt.plot()\\nplayer_sums[\\\"first_make_pct\\\"].corr(player_sums[\\\"first_win_pct\\\"])\\n\\n# could use stats.pearson_r(series['easdf'], series['asdf'])\";\n",
       "                var nbb_formatted_code = \"sns.scatterplot(x=\\\"first_make_pct\\\", y=\\\"first_win_pct\\\", data=player_sums)\\nplt.plot()\\nplayer_sums[\\\"first_make_pct\\\"].corr(player_sums[\\\"first_win_pct\\\"])\\n\\n# could use stats.pearson_r(series['easdf'], series['asdf'])\";\n",
       "                var nbb_cells = Jupyter.notebook.get_cells();\n",
       "                for (var i = 0; i < nbb_cells.length; ++i) {\n",
       "                    if (nbb_cells[i].input_prompt_number == nbb_cell_id) {\n",
       "                        if (nbb_cells[i].get_text() == nbb_unformatted_code) {\n",
       "                             nbb_cells[i].set_text(nbb_formatted_code);\n",
       "                        }\n",
       "                        break;\n",
       "                    }\n",
       "                }\n",
       "            }, 500);\n",
       "            "
      ],
      "text/plain": [
       "<IPython.core.display.Javascript object>"
      ]
     },
     "metadata": {},
     "output_type": "display_data"
    }
   ],
   "source": [
    "sns.scatterplot(x=\"first_make_pct\", y=\"first_win_pct\", data=player_sums)\n",
    "plt.plot()\n",
    "player_sums[\"first_make_pct\"].corr(player_sums[\"first_win_pct\"])\n",
    "\n",
    "# could use stats.pearson_r(series['easdf'], series['asdf'])"
   ]
  },
  {
   "cell_type": "markdown",
   "metadata": {},
   "source": [
    "**You can see that there is a positive relationship between the quality of the first and second serves on both the tour and individual playe level. You can also see that there is a negative relationship between the riskyness of a serve and its effectiveness if made**\n",
    "\n",
    "TODO: next, plot miss percentage against a make win"
   ]
  },
  {
   "cell_type": "markdown",
   "metadata": {},
   "source": [
    "## Now, for some statistical testing to test if first and second serve win expectation is different:"
   ]
  },
  {
   "cell_type": "code",
   "execution_count": 27,
   "metadata": {
    "scrolled": true
   },
   "outputs": [
    {
     "name": "stdout",
     "output_type": "stream",
     "text": [
      "DescribeResult(nobs=5100, minmax=(0.0, 0.875), mean=0.42873496680247886, variance=0.007330046596637597, skewness=0.08133138043149396, kurtosis=0.41943019394125436)\n"
     ]
    },
    {
     "data": {
      "text/plain": [
       "<matplotlib.axes._subplots.AxesSubplot at 0x10bd94bd0>"
      ]
     },
     "execution_count": 27,
     "metadata": {},
     "output_type": "execute_result"
    },
    {
     "data": {
      "image/png": "[encoded data removed]",
      "text/plain": [
       "<Figure size 432x288 with 1 Axes>"
      ]
     },
     "metadata": {
      "needs_background": "light"
     },
     "output_type": "display_data"
    },
    {
     "data": {
      "application/javascript": [
       "\n",
       "            setTimeout(function() {\n",
       "                var nbb_cell_id = 27;\n",
       "                var nbb_unformatted_code = \"print(stats.describe(total_serve[\\\"first_make_win\\\"]))\\nsns.distplot(total_serve[\\\"first_make_win\\\"], kde=False)\";\n",
       "                var nbb_formatted_code = \"print(stats.describe(total_serve[\\\"first_make_win\\\"]))\\nsns.distplot(total_serve[\\\"first_make_win\\\"], kde=False)\";\n",
       "                var nbb_cells = Jupyter.notebook.get_cells();\n",
       "                for (var i = 0; i < nbb_cells.length; ++i) {\n",
       "                    if (nbb_cells[i].input_prompt_number == nbb_cell_id) {\n",
       "                        if (nbb_cells[i].get_text() == nbb_unformatted_code) {\n",
       "                             nbb_cells[i].set_text(nbb_formatted_code);\n",
       "                        }\n",
       "                        break;\n",
       "                    }\n",
       "                }\n",
       "            }, 500);\n",
       "            "
      ],
      "text/plain": [
       "<IPython.core.display.Javascript object>"
      ]
     },
     "metadata": {},
     "output_type": "display_data"
    }
   ],
   "source": [
    "print(stats.describe(total_serve[\"first_make_win\"]))\n",
    "sns.distplot(total_serve[\"first_make_win\"], kde=False)"
   ]
  },
  {
   "cell_type": "code",
   "execution_count": 28,
   "metadata": {
    "scrolled": true
   },
   "outputs": [
    {
     "name": "stdout",
     "output_type": "stream",
     "text": [
      "DescribeResult(nobs=5100, minmax=(0.0, 1.0), mean=0.4771657670771601, variance=0.015122132695447339, skewness=0.19506426346034916, kurtosis=0.6031144820671446)\n"
     ]
    },
    {
     "data": {
      "text/plain": [
       "<matplotlib.axes._subplots.AxesSubplot at 0x1a219e4d50>"
      ]
     },
     "execution_count": 28,
     "metadata": {},
     "output_type": "execute_result"
    },
    {
     "data": {
      "image/png": "[encoded data removed]",
      "text/plain": [
       "<Figure size 432x288 with 1 Axes>"
      ]
     },
     "metadata": {
      "needs_background": "light"
     },
     "output_type": "display_data"
    },
    {
     "data": {
      "application/javascript": [
       "\n",
       "            setTimeout(function() {\n",
       "                var nbb_cell_id = 28;\n",
       "                var nbb_unformatted_code = \"print(stats.describe(total_serve[\\\"second_make_win\\\"]))\\nsns.distplot(total_serve[\\\"second_make_win\\\"], kde=False)\";\n",
       "                var nbb_formatted_code = \"print(stats.describe(total_serve[\\\"second_make_win\\\"]))\\nsns.distplot(total_serve[\\\"second_make_win\\\"], kde=False)\";\n",
       "                var nbb_cells = Jupyter.notebook.get_cells();\n",
       "                for (var i = 0; i < nbb_cells.length; ++i) {\n",
       "                    if (nbb_cells[i].input_prompt_number == nbb_cell_id) {\n",
       "                        if (nbb_cells[i].get_text() == nbb_unformatted_code) {\n",
       "                             nbb_cells[i].set_text(nbb_formatted_code);\n",
       "                        }\n",
       "                        break;\n",
       "                    }\n",
       "                }\n",
       "            }, 500);\n",
       "            "
      ],
      "text/plain": [
       "<IPython.core.display.Javascript object>"
      ]
     },
     "metadata": {},
     "output_type": "display_data"
    }
   ],
   "source": [
    "print(stats.describe(total_serve[\"second_make_win\"]))\n",
    "sns.distplot(total_serve[\"second_make_win\"], kde=False)"
   ]
  },
  {
   "cell_type": "markdown",
   "metadata": {},
   "source": [
    "**Both look quite normal, can do independent t-test**"
   ]
  },
  {
   "cell_type": "code",
   "execution_count": 29,
   "metadata": {},
   "outputs": [
    {
     "data": {
      "text/plain": [
       "Ttest_indResult(statistic=-23.08221503737973, pvalue=5.972884331952519e-115)"
      ]
     },
     "execution_count": 29,
     "metadata": {},
     "output_type": "execute_result"
    },
    {
     "data": {
      "application/javascript": [
       "\n",
       "            setTimeout(function() {\n",
       "                var nbb_cell_id = 29;\n",
       "                var nbb_unformatted_code = \"stats.ttest_ind(total_serve[\\\"first_make_win\\\"], total_serve[\\\"second_make_win\\\"])\";\n",
       "                var nbb_formatted_code = \"stats.ttest_ind(total_serve[\\\"first_make_win\\\"], total_serve[\\\"second_make_win\\\"])\";\n",
       "                var nbb_cells = Jupyter.notebook.get_cells();\n",
       "                for (var i = 0; i < nbb_cells.length; ++i) {\n",
       "                    if (nbb_cells[i].input_prompt_number == nbb_cell_id) {\n",
       "                        if (nbb_cells[i].get_text() == nbb_unformatted_code) {\n",
       "                             nbb_cells[i].set_text(nbb_formatted_code);\n",
       "                        }\n",
       "                        break;\n",
       "                    }\n",
       "                }\n",
       "            }, 500);\n",
       "            "
      ],
      "text/plain": [
       "<IPython.core.display.Javascript object>"
      ]
     },
     "metadata": {},
     "output_type": "display_data"
    }
   ],
   "source": [
    "stats.ttest_ind(total_serve[\"first_make_win\"], total_serve[\"second_make_win\"])"
   ]
  },
  {
   "cell_type": "code",
   "execution_count": 30,
   "metadata": {},
   "outputs": [
    {
     "data": {
      "text/plain": [
       "(-0.052543246518883396, -0.04431835403047593)"
      ]
     },
     "execution_count": 30,
     "metadata": {},
     "output_type": "execute_result"
    },
    {
     "data": {
      "application/javascript": [
       "\n",
       "            setTimeout(function() {\n",
       "                var nbb_cell_id = 30;\n",
       "                var nbb_unformatted_code = \"def get_95_ci(x1, x2):\\n    \\\"\\\"\\\"Calculate a 95% CI for 2 1d numpy arrays\\\"\\\"\\\"\\n    signal = x1.mean() - x2.mean()\\n    noise = np.sqrt(x1.var() / x1.size + x2.var() / x2.size)\\n\\n    ci_lo = signal - 1.96 * noise\\n    ci_hi = signal + 1.96 * noise\\n\\n    return ci_lo, ci_hi\\n\\n\\nget_95_ci(total_serve[\\\"first_make_win\\\"], total_serve[\\\"second_make_win\\\"])\";\n",
       "                var nbb_formatted_code = \"def get_95_ci(x1, x2):\\n    \\\"\\\"\\\"Calculate a 95% CI for 2 1d numpy arrays\\\"\\\"\\\"\\n    signal = x1.mean() - x2.mean()\\n    noise = np.sqrt(x1.var() / x1.size + x2.var() / x2.size)\\n\\n    ci_lo = signal - 1.96 * noise\\n    ci_hi = signal + 1.96 * noise\\n\\n    return ci_lo, ci_hi\\n\\n\\nget_95_ci(total_serve[\\\"first_make_win\\\"], total_serve[\\\"second_make_win\\\"])\";\n",
       "                var nbb_cells = Jupyter.notebook.get_cells();\n",
       "                for (var i = 0; i < nbb_cells.length; ++i) {\n",
       "                    if (nbb_cells[i].input_prompt_number == nbb_cell_id) {\n",
       "                        if (nbb_cells[i].get_text() == nbb_unformatted_code) {\n",
       "                             nbb_cells[i].set_text(nbb_formatted_code);\n",
       "                        }\n",
       "                        break;\n",
       "                    }\n",
       "                }\n",
       "            }, 500);\n",
       "            "
      ],
      "text/plain": [
       "<IPython.core.display.Javascript object>"
      ]
     },
     "metadata": {},
     "output_type": "display_data"
    }
   ],
   "source": [
    "def get_95_ci(x1, x2):\n",
    "    \"\"\"Calculate a 95% CI for 2 1d numpy arrays\"\"\"\n",
    "    signal = x1.mean() - x2.mean()\n",
    "    noise = np.sqrt(x1.var() / x1.size + x2.var() / x2.size)\n",
    "\n",
    "    ci_lo = signal - 1.96 * noise\n",
    "    ci_hi = signal + 1.96 * noise\n",
    "\n",
    "    return ci_lo, ci_hi\n",
    "\n",
    "\n",
    "get_95_ci(total_serve[\"first_make_win\"], total_serve[\"second_make_win\"])"
   ]
  },
  {
   "cell_type": "markdown",
   "metadata": {},
   "source": [
    "Seems like for second serves, P(make) * P(winning | you make it) is higher, so the tour as a whole should not transition to hitting second serves more aggressively. \n",
    "\n",
    "### Are there any players who hit their first serve for their second, however? ###"
   ]
  },
  {
   "cell_type": "code",
   "execution_count": 31,
   "metadata": {
    "scrolled": false
   },
   "outputs": [
    {
     "data": {
      "text/html": [
       "<div>\n",
       "<style scoped>\n",
       "    .dataframe tbody tr th:only-of-type {\n",
       "        vertical-align: middle;\n",
       "    }\n",
       "\n",
       "    .dataframe tbody tr th {\n",
       "        vertical-align: top;\n",
       "    }\n",
       "\n",
       "    .dataframe thead th {\n",
       "        text-align: right;\n",
       "    }\n",
       "</style>\n",
       "<table border=\"1\" class=\"dataframe\">\n",
       "  <thead>\n",
       "    <tr style=\"text-align: right;\">\n",
       "      <th></th>\n",
       "      <th>serve_pts</th>\n",
       "      <th>aces</th>\n",
       "      <th>dfs</th>\n",
       "      <th>first_in</th>\n",
       "      <th>first_won</th>\n",
       "      <th>second_in</th>\n",
       "      <th>second_won</th>\n",
       "      <th>year</th>\n",
       "      <th>first_out</th>\n",
       "      <th>second_total</th>\n",
       "      <th>second_out</th>\n",
       "      <th>matches_no</th>\n",
       "      <th>first_make_pct</th>\n",
       "      <th>first_win_pct</th>\n",
       "      <th>first_make_win</th>\n",
       "      <th>second_make_pct</th>\n",
       "      <th>second_win_pct</th>\n",
       "      <th>second_make_win</th>\n",
       "      <th>second_success</th>\n",
       "      <th>make_win_diff</th>\n",
       "    </tr>\n",
       "    <tr>\n",
       "      <th>player_id</th>\n",
       "      <th></th>\n",
       "      <th></th>\n",
       "      <th></th>\n",
       "      <th></th>\n",
       "      <th></th>\n",
       "      <th></th>\n",
       "      <th></th>\n",
       "      <th></th>\n",
       "      <th></th>\n",
       "      <th></th>\n",
       "      <th></th>\n",
       "      <th></th>\n",
       "      <th></th>\n",
       "      <th></th>\n",
       "      <th></th>\n",
       "      <th></th>\n",
       "      <th></th>\n",
       "      <th></th>\n",
       "      <th></th>\n",
       "      <th></th>\n",
       "    </tr>\n",
       "  </thead>\n",
       "  <tbody>\n",
       "    <tr>\n",
       "      <th>Alexander_Zverev</th>\n",
       "      <td>3841</td>\n",
       "      <td>406</td>\n",
       "      <td>214</td>\n",
       "      <td>2422</td>\n",
       "      <td>1804</td>\n",
       "      <td>1205</td>\n",
       "      <td>554</td>\n",
       "      <td>102932</td>\n",
       "      <td>1419</td>\n",
       "      <td>1419</td>\n",
       "      <td>214</td>\n",
       "      <td>51</td>\n",
       "      <td>0.630565</td>\n",
       "      <td>0.744839</td>\n",
       "      <td>0.469669</td>\n",
       "      <td>0.849190</td>\n",
       "      <td>0.459751</td>\n",
       "      <td>0.390416</td>\n",
       "      <td>0.144233</td>\n",
       "      <td>-0.079254</td>\n",
       "    </tr>\n",
       "    <tr>\n",
       "      <th>Ivo_Karlovic</th>\n",
       "      <td>2504</td>\n",
       "      <td>555</td>\n",
       "      <td>117</td>\n",
       "      <td>1568</td>\n",
       "      <td>1278</td>\n",
       "      <td>819</td>\n",
       "      <td>424</td>\n",
       "      <td>54427</td>\n",
       "      <td>936</td>\n",
       "      <td>936</td>\n",
       "      <td>117</td>\n",
       "      <td>27</td>\n",
       "      <td>0.626198</td>\n",
       "      <td>0.815051</td>\n",
       "      <td>0.510383</td>\n",
       "      <td>0.875000</td>\n",
       "      <td>0.517705</td>\n",
       "      <td>0.452991</td>\n",
       "      <td>0.169329</td>\n",
       "      <td>-0.057392</td>\n",
       "    </tr>\n",
       "    <tr>\n",
       "      <th>Kevin_Anderson</th>\n",
       "      <td>2139</td>\n",
       "      <td>312</td>\n",
       "      <td>63</td>\n",
       "      <td>1351</td>\n",
       "      <td>1047</td>\n",
       "      <td>725</td>\n",
       "      <td>344</td>\n",
       "      <td>40328</td>\n",
       "      <td>788</td>\n",
       "      <td>788</td>\n",
       "      <td>63</td>\n",
       "      <td>20</td>\n",
       "      <td>0.631604</td>\n",
       "      <td>0.774981</td>\n",
       "      <td>0.489481</td>\n",
       "      <td>0.920051</td>\n",
       "      <td>0.474483</td>\n",
       "      <td>0.436548</td>\n",
       "      <td>0.160823</td>\n",
       "      <td>-0.052933</td>\n",
       "    </tr>\n",
       "    <tr>\n",
       "      <th>Jeremy_Chardy</th>\n",
       "      <td>1326</td>\n",
       "      <td>125</td>\n",
       "      <td>71</td>\n",
       "      <td>807</td>\n",
       "      <td>586</td>\n",
       "      <td>448</td>\n",
       "      <td>205</td>\n",
       "      <td>30254</td>\n",
       "      <td>519</td>\n",
       "      <td>519</td>\n",
       "      <td>71</td>\n",
       "      <td>15</td>\n",
       "      <td>0.608597</td>\n",
       "      <td>0.726146</td>\n",
       "      <td>0.441931</td>\n",
       "      <td>0.863198</td>\n",
       "      <td>0.457589</td>\n",
       "      <td>0.394990</td>\n",
       "      <td>0.154600</td>\n",
       "      <td>-0.046940</td>\n",
       "    </tr>\n",
       "    <tr>\n",
       "      <th>John_Isner</th>\n",
       "      <td>3349</td>\n",
       "      <td>633</td>\n",
       "      <td>76</td>\n",
       "      <td>2306</td>\n",
       "      <td>1777</td>\n",
       "      <td>967</td>\n",
       "      <td>525</td>\n",
       "      <td>74603</td>\n",
       "      <td>1043</td>\n",
       "      <td>1043</td>\n",
       "      <td>76</td>\n",
       "      <td>37</td>\n",
       "      <td>0.688564</td>\n",
       "      <td>0.770598</td>\n",
       "      <td>0.530606</td>\n",
       "      <td>0.927133</td>\n",
       "      <td>0.542916</td>\n",
       "      <td>0.503356</td>\n",
       "      <td>0.156763</td>\n",
       "      <td>-0.027250</td>\n",
       "    </tr>\n",
       "    <tr>\n",
       "      <th>Felix_Auger_Aliassime</th>\n",
       "      <td>1575</td>\n",
       "      <td>139</td>\n",
       "      <td>85</td>\n",
       "      <td>978</td>\n",
       "      <td>722</td>\n",
       "      <td>512</td>\n",
       "      <td>258</td>\n",
       "      <td>40381</td>\n",
       "      <td>597</td>\n",
       "      <td>597</td>\n",
       "      <td>85</td>\n",
       "      <td>20</td>\n",
       "      <td>0.620952</td>\n",
       "      <td>0.738241</td>\n",
       "      <td>0.458413</td>\n",
       "      <td>0.857621</td>\n",
       "      <td>0.503906</td>\n",
       "      <td>0.432161</td>\n",
       "      <td>0.163810</td>\n",
       "      <td>-0.026252</td>\n",
       "    </tr>\n",
       "    <tr>\n",
       "      <th>Nick_Kyrgios</th>\n",
       "      <td>3558</td>\n",
       "      <td>622</td>\n",
       "      <td>128</td>\n",
       "      <td>2284</td>\n",
       "      <td>1777</td>\n",
       "      <td>1146</td>\n",
       "      <td>608</td>\n",
       "      <td>74630</td>\n",
       "      <td>1274</td>\n",
       "      <td>1274</td>\n",
       "      <td>128</td>\n",
       "      <td>37</td>\n",
       "      <td>0.641934</td>\n",
       "      <td>0.778021</td>\n",
       "      <td>0.499438</td>\n",
       "      <td>0.899529</td>\n",
       "      <td>0.530541</td>\n",
       "      <td>0.477237</td>\n",
       "      <td>0.170883</td>\n",
       "      <td>-0.022201</td>\n",
       "    </tr>\n",
       "    <tr>\n",
       "      <th>Fernando_Verdasco</th>\n",
       "      <td>2454</td>\n",
       "      <td>215</td>\n",
       "      <td>89</td>\n",
       "      <td>1568</td>\n",
       "      <td>1087</td>\n",
       "      <td>797</td>\n",
       "      <td>373</td>\n",
       "      <td>50391</td>\n",
       "      <td>886</td>\n",
       "      <td>886</td>\n",
       "      <td>89</td>\n",
       "      <td>25</td>\n",
       "      <td>0.638957</td>\n",
       "      <td>0.693240</td>\n",
       "      <td>0.442950</td>\n",
       "      <td>0.899549</td>\n",
       "      <td>0.468005</td>\n",
       "      <td>0.420993</td>\n",
       "      <td>0.151997</td>\n",
       "      <td>-0.021957</td>\n",
       "    </tr>\n",
       "    <tr>\n",
       "      <th>Grigor_Dimitrov</th>\n",
       "      <td>3910</td>\n",
       "      <td>302</td>\n",
       "      <td>167</td>\n",
       "      <td>2372</td>\n",
       "      <td>1731</td>\n",
       "      <td>1371</td>\n",
       "      <td>650</td>\n",
       "      <td>90719</td>\n",
       "      <td>1538</td>\n",
       "      <td>1538</td>\n",
       "      <td>167</td>\n",
       "      <td>45</td>\n",
       "      <td>0.606650</td>\n",
       "      <td>0.729764</td>\n",
       "      <td>0.442711</td>\n",
       "      <td>0.891417</td>\n",
       "      <td>0.474106</td>\n",
       "      <td>0.422627</td>\n",
       "      <td>0.166240</td>\n",
       "      <td>-0.020084</td>\n",
       "    </tr>\n",
       "    <tr>\n",
       "      <th>Bernard_Tomic</th>\n",
       "      <td>2010</td>\n",
       "      <td>219</td>\n",
       "      <td>41</td>\n",
       "      <td>1337</td>\n",
       "      <td>974</td>\n",
       "      <td>632</td>\n",
       "      <td>315</td>\n",
       "      <td>48350</td>\n",
       "      <td>673</td>\n",
       "      <td>673</td>\n",
       "      <td>41</td>\n",
       "      <td>24</td>\n",
       "      <td>0.665174</td>\n",
       "      <td>0.728497</td>\n",
       "      <td>0.484577</td>\n",
       "      <td>0.939079</td>\n",
       "      <td>0.498418</td>\n",
       "      <td>0.468053</td>\n",
       "      <td>0.156716</td>\n",
       "      <td>-0.016524</td>\n",
       "    </tr>\n",
       "    <tr>\n",
       "      <th>Dusan_Lajovic</th>\n",
       "      <td>964</td>\n",
       "      <td>27</td>\n",
       "      <td>25</td>\n",
       "      <td>635</td>\n",
       "      <td>407</td>\n",
       "      <td>304</td>\n",
       "      <td>134</td>\n",
       "      <td>26239</td>\n",
       "      <td>329</td>\n",
       "      <td>329</td>\n",
       "      <td>25</td>\n",
       "      <td>13</td>\n",
       "      <td>0.658714</td>\n",
       "      <td>0.640945</td>\n",
       "      <td>0.422199</td>\n",
       "      <td>0.924012</td>\n",
       "      <td>0.440789</td>\n",
       "      <td>0.407295</td>\n",
       "      <td>0.139004</td>\n",
       "      <td>-0.014904</td>\n",
       "    </tr>\n",
       "    <tr>\n",
       "      <th>Richard_Krajicek</th>\n",
       "      <td>1328</td>\n",
       "      <td>208</td>\n",
       "      <td>48</td>\n",
       "      <td>755</td>\n",
       "      <td>591</td>\n",
       "      <td>525</td>\n",
       "      <td>249</td>\n",
       "      <td>23952</td>\n",
       "      <td>573</td>\n",
       "      <td>573</td>\n",
       "      <td>48</td>\n",
       "      <td>12</td>\n",
       "      <td>0.568524</td>\n",
       "      <td>0.782781</td>\n",
       "      <td>0.445030</td>\n",
       "      <td>0.916230</td>\n",
       "      <td>0.474286</td>\n",
       "      <td>0.434555</td>\n",
       "      <td>0.187500</td>\n",
       "      <td>-0.010475</td>\n",
       "    </tr>\n",
       "    <tr>\n",
       "      <th>Guido_Pella</th>\n",
       "      <td>1184</td>\n",
       "      <td>59</td>\n",
       "      <td>35</td>\n",
       "      <td>771</td>\n",
       "      <td>531</td>\n",
       "      <td>378</td>\n",
       "      <td>182</td>\n",
       "      <td>28254</td>\n",
       "      <td>413</td>\n",
       "      <td>413</td>\n",
       "      <td>35</td>\n",
       "      <td>14</td>\n",
       "      <td>0.651182</td>\n",
       "      <td>0.688716</td>\n",
       "      <td>0.448480</td>\n",
       "      <td>0.915254</td>\n",
       "      <td>0.481481</td>\n",
       "      <td>0.440678</td>\n",
       "      <td>0.153716</td>\n",
       "      <td>-0.007802</td>\n",
       "    </tr>\n",
       "    <tr>\n",
       "      <th>Francis_Tiafoe</th>\n",
       "      <td>1064</td>\n",
       "      <td>87</td>\n",
       "      <td>28</td>\n",
       "      <td>698</td>\n",
       "      <td>482</td>\n",
       "      <td>338</td>\n",
       "      <td>163</td>\n",
       "      <td>28254</td>\n",
       "      <td>366</td>\n",
       "      <td>366</td>\n",
       "      <td>28</td>\n",
       "      <td>14</td>\n",
       "      <td>0.656015</td>\n",
       "      <td>0.690544</td>\n",
       "      <td>0.453008</td>\n",
       "      <td>0.923497</td>\n",
       "      <td>0.482249</td>\n",
       "      <td>0.445355</td>\n",
       "      <td>0.153195</td>\n",
       "      <td>-0.007652</td>\n",
       "    </tr>\n",
       "    <tr>\n",
       "      <th>Mark_Philippoussis</th>\n",
       "      <td>1175</td>\n",
       "      <td>165</td>\n",
       "      <td>68</td>\n",
       "      <td>690</td>\n",
       "      <td>544</td>\n",
       "      <td>417</td>\n",
       "      <td>221</td>\n",
       "      <td>17990</td>\n",
       "      <td>485</td>\n",
       "      <td>485</td>\n",
       "      <td>68</td>\n",
       "      <td>9</td>\n",
       "      <td>0.587234</td>\n",
       "      <td>0.788406</td>\n",
       "      <td>0.462979</td>\n",
       "      <td>0.859794</td>\n",
       "      <td>0.529976</td>\n",
       "      <td>0.455670</td>\n",
       "      <td>0.188085</td>\n",
       "      <td>-0.007309</td>\n",
       "    </tr>\n",
       "    <tr>\n",
       "      <th>Andy_Roddick</th>\n",
       "      <td>4820</td>\n",
       "      <td>695</td>\n",
       "      <td>119</td>\n",
       "      <td>3054</td>\n",
       "      <td>2333</td>\n",
       "      <td>1647</td>\n",
       "      <td>846</td>\n",
       "      <td>100290</td>\n",
       "      <td>1766</td>\n",
       "      <td>1766</td>\n",
       "      <td>119</td>\n",
       "      <td>50</td>\n",
       "      <td>0.633610</td>\n",
       "      <td>0.763916</td>\n",
       "      <td>0.484025</td>\n",
       "      <td>0.932616</td>\n",
       "      <td>0.513661</td>\n",
       "      <td>0.479049</td>\n",
       "      <td>0.175519</td>\n",
       "      <td>-0.004976</td>\n",
       "    </tr>\n",
       "    <tr>\n",
       "      <th>Gael_Monfils</th>\n",
       "      <td>4730</td>\n",
       "      <td>413</td>\n",
       "      <td>199</td>\n",
       "      <td>2855</td>\n",
       "      <td>2063</td>\n",
       "      <td>1676</td>\n",
       "      <td>815</td>\n",
       "      <td>112928</td>\n",
       "      <td>1875</td>\n",
       "      <td>1875</td>\n",
       "      <td>199</td>\n",
       "      <td>56</td>\n",
       "      <td>0.603594</td>\n",
       "      <td>0.722592</td>\n",
       "      <td>0.436152</td>\n",
       "      <td>0.893867</td>\n",
       "      <td>0.486277</td>\n",
       "      <td>0.434667</td>\n",
       "      <td>0.172304</td>\n",
       "      <td>-0.001486</td>\n",
       "    </tr>\n",
       "    <tr>\n",
       "      <th>Milos_Raonic</th>\n",
       "      <td>4048</td>\n",
       "      <td>672</td>\n",
       "      <td>151</td>\n",
       "      <td>2437</td>\n",
       "      <td>1949</td>\n",
       "      <td>1460</td>\n",
       "      <td>774</td>\n",
       "      <td>94745</td>\n",
       "      <td>1611</td>\n",
       "      <td>1611</td>\n",
       "      <td>151</td>\n",
       "      <td>47</td>\n",
       "      <td>0.602026</td>\n",
       "      <td>0.799754</td>\n",
       "      <td>0.481472</td>\n",
       "      <td>0.906269</td>\n",
       "      <td>0.530137</td>\n",
       "      <td>0.480447</td>\n",
       "      <td>0.191206</td>\n",
       "      <td>-0.001025</td>\n",
       "    </tr>\n",
       "    <tr>\n",
       "      <th>Hubert_Hurkacz</th>\n",
       "      <td>1295</td>\n",
       "      <td>101</td>\n",
       "      <td>53</td>\n",
       "      <td>777</td>\n",
       "      <td>578</td>\n",
       "      <td>465</td>\n",
       "      <td>231</td>\n",
       "      <td>30288</td>\n",
       "      <td>518</td>\n",
       "      <td>518</td>\n",
       "      <td>53</td>\n",
       "      <td>15</td>\n",
       "      <td>0.600000</td>\n",
       "      <td>0.743887</td>\n",
       "      <td>0.446332</td>\n",
       "      <td>0.897683</td>\n",
       "      <td>0.496774</td>\n",
       "      <td>0.445946</td>\n",
       "      <td>0.178378</td>\n",
       "      <td>-0.000386</td>\n",
       "    </tr>\n",
       "  </tbody>\n",
       "</table>\n",
       "</div>"
      ],
      "text/plain": [
       "                       serve_pts  aces  dfs  first_in  first_won  second_in  \\\n",
       "player_id                                                                     \n",
       "Alexander_Zverev            3841   406  214      2422       1804       1205   \n",
       "Ivo_Karlovic                2504   555  117      1568       1278        819   \n",
       "Kevin_Anderson              2139   312   63      1351       1047        725   \n",
       "Jeremy_Chardy               1326   125   71       807        586        448   \n",
       "John_Isner                  3349   633   76      2306       1777        967   \n",
       "Felix_Auger_Aliassime       1575   139   85       978        722        512   \n",
       "Nick_Kyrgios                3558   622  128      2284       1777       1146   \n",
       "Fernando_Verdasco           2454   215   89      1568       1087        797   \n",
       "Grigor_Dimitrov             3910   302  167      2372       1731       1371   \n",
       "Bernard_Tomic               2010   219   41      1337        974        632   \n",
       "Dusan_Lajovic                964    27   25       635        407        304   \n",
       "Richard_Krajicek            1328   208   48       755        591        525   \n",
       "Guido_Pella                 1184    59   35       771        531        378   \n",
       "Francis_Tiafoe              1064    87   28       698        482        338   \n",
       "Mark_Philippoussis          1175   165   68       690        544        417   \n",
       "Andy_Roddick                4820   695  119      3054       2333       1647   \n",
       "Gael_Monfils                4730   413  199      2855       2063       1676   \n",
       "Milos_Raonic                4048   672  151      2437       1949       1460   \n",
       "Hubert_Hurkacz              1295   101   53       777        578        465   \n",
       "\n",
       "                       second_won    year  first_out  second_total  \\\n",
       "player_id                                                            \n",
       "Alexander_Zverev              554  102932       1419          1419   \n",
       "Ivo_Karlovic                  424   54427        936           936   \n",
       "Kevin_Anderson                344   40328        788           788   \n",
       "Jeremy_Chardy                 205   30254        519           519   \n",
       "John_Isner                    525   74603       1043          1043   \n",
       "Felix_Auger_Aliassime         258   40381        597           597   \n",
       "Nick_Kyrgios                  608   74630       1274          1274   \n",
       "Fernando_Verdasco             373   50391        886           886   \n",
       "Grigor_Dimitrov               650   90719       1538          1538   \n",
       "Bernard_Tomic                 315   48350        673           673   \n",
       "Dusan_Lajovic                 134   26239        329           329   \n",
       "Richard_Krajicek              249   23952        573           573   \n",
       "Guido_Pella                   182   28254        413           413   \n",
       "Francis_Tiafoe                163   28254        366           366   \n",
       "Mark_Philippoussis            221   17990        485           485   \n",
       "Andy_Roddick                  846  100290       1766          1766   \n",
       "Gael_Monfils                  815  112928       1875          1875   \n",
       "Milos_Raonic                  774   94745       1611          1611   \n",
       "Hubert_Hurkacz                231   30288        518           518   \n",
       "\n",
       "                       second_out  matches_no  first_make_pct  first_win_pct  \\\n",
       "player_id                                                                      \n",
       "Alexander_Zverev              214          51        0.630565       0.744839   \n",
       "Ivo_Karlovic                  117          27        0.626198       0.815051   \n",
       "Kevin_Anderson                 63          20        0.631604       0.774981   \n",
       "Jeremy_Chardy                  71          15        0.608597       0.726146   \n",
       "John_Isner                     76          37        0.688564       0.770598   \n",
       "Felix_Auger_Aliassime          85          20        0.620952       0.738241   \n",
       "Nick_Kyrgios                  128          37        0.641934       0.778021   \n",
       "Fernando_Verdasco              89          25        0.638957       0.693240   \n",
       "Grigor_Dimitrov               167          45        0.606650       0.729764   \n",
       "Bernard_Tomic                  41          24        0.665174       0.728497   \n",
       "Dusan_Lajovic                  25          13        0.658714       0.640945   \n",
       "Richard_Krajicek               48          12        0.568524       0.782781   \n",
       "Guido_Pella                    35          14        0.651182       0.688716   \n",
       "Francis_Tiafoe                 28          14        0.656015       0.690544   \n",
       "Mark_Philippoussis             68           9        0.587234       0.788406   \n",
       "Andy_Roddick                  119          50        0.633610       0.763916   \n",
       "Gael_Monfils                  199          56        0.603594       0.722592   \n",
       "Milos_Raonic                  151          47        0.602026       0.799754   \n",
       "Hubert_Hurkacz                 53          15        0.600000       0.743887   \n",
       "\n",
       "                       first_make_win  second_make_pct  second_win_pct  \\\n",
       "player_id                                                                \n",
       "Alexander_Zverev             0.469669         0.849190        0.459751   \n",
       "Ivo_Karlovic                 0.510383         0.875000        0.517705   \n",
       "Kevin_Anderson               0.489481         0.920051        0.474483   \n",
       "Jeremy_Chardy                0.441931         0.863198        0.457589   \n",
       "John_Isner                   0.530606         0.927133        0.542916   \n",
       "Felix_Auger_Aliassime        0.458413         0.857621        0.503906   \n",
       "Nick_Kyrgios                 0.499438         0.899529        0.530541   \n",
       "Fernando_Verdasco            0.442950         0.899549        0.468005   \n",
       "Grigor_Dimitrov              0.442711         0.891417        0.474106   \n",
       "Bernard_Tomic                0.484577         0.939079        0.498418   \n",
       "Dusan_Lajovic                0.422199         0.924012        0.440789   \n",
       "Richard_Krajicek             0.445030         0.916230        0.474286   \n",
       "Guido_Pella                  0.448480         0.915254        0.481481   \n",
       "Francis_Tiafoe               0.453008         0.923497        0.482249   \n",
       "Mark_Philippoussis           0.462979         0.859794        0.529976   \n",
       "Andy_Roddick                 0.484025         0.932616        0.513661   \n",
       "Gael_Monfils                 0.436152         0.893867        0.486277   \n",
       "Milos_Raonic                 0.481472         0.906269        0.530137   \n",
       "Hubert_Hurkacz               0.446332         0.897683        0.496774   \n",
       "\n",
       "                       second_make_win  second_success  make_win_diff  \n",
       "player_id                                                              \n",
       "Alexander_Zverev              0.390416        0.144233      -0.079254  \n",
       "Ivo_Karlovic                  0.452991        0.169329      -0.057392  \n",
       "Kevin_Anderson                0.436548        0.160823      -0.052933  \n",
       "Jeremy_Chardy                 0.394990        0.154600      -0.046940  \n",
       "John_Isner                    0.503356        0.156763      -0.027250  \n",
       "Felix_Auger_Aliassime         0.432161        0.163810      -0.026252  \n",
       "Nick_Kyrgios                  0.477237        0.170883      -0.022201  \n",
       "Fernando_Verdasco             0.420993        0.151997      -0.021957  \n",
       "Grigor_Dimitrov               0.422627        0.166240      -0.020084  \n",
       "Bernard_Tomic                 0.468053        0.156716      -0.016524  \n",
       "Dusan_Lajovic                 0.407295        0.139004      -0.014904  \n",
       "Richard_Krajicek              0.434555        0.187500      -0.010475  \n",
       "Guido_Pella                   0.440678        0.153716      -0.007802  \n",
       "Francis_Tiafoe                0.445355        0.153195      -0.007652  \n",
       "Mark_Philippoussis            0.455670        0.188085      -0.007309  \n",
       "Andy_Roddick                  0.479049        0.175519      -0.004976  \n",
       "Gael_Monfils                  0.434667        0.172304      -0.001486  \n",
       "Milos_Raonic                  0.480447        0.191206      -0.001025  \n",
       "Hubert_Hurkacz                0.445946        0.178378      -0.000386  "
      ]
     },
     "execution_count": 31,
     "metadata": {},
     "output_type": "execute_result"
    },
    {
     "data": {
      "application/javascript": [
       "\n",
       "            setTimeout(function() {\n",
       "                var nbb_cell_id = 31;\n",
       "                var nbb_unformatted_code = \"#looking at top players who should be more aggressive on second serve\\nplayer_sums.sort_values(by=\\\"serve_pts\\\", ascending=False).head(100).sort_values(by=\\\"make_win_diff\\\").head(19)\";\n",
       "                var nbb_formatted_code = \"# looking at top players who should be more aggressive on second serve\\nplayer_sums.sort_values(by=\\\"serve_pts\\\", ascending=False).head(100).sort_values(\\n    by=\\\"make_win_diff\\\"\\n).head(19)\";\n",
       "                var nbb_cells = Jupyter.notebook.get_cells();\n",
       "                for (var i = 0; i < nbb_cells.length; ++i) {\n",
       "                    if (nbb_cells[i].input_prompt_number == nbb_cell_id) {\n",
       "                        if (nbb_cells[i].get_text() == nbb_unformatted_code) {\n",
       "                             nbb_cells[i].set_text(nbb_formatted_code);\n",
       "                        }\n",
       "                        break;\n",
       "                    }\n",
       "                }\n",
       "            }, 500);\n",
       "            "
      ],
      "text/plain": [
       "<IPython.core.display.Javascript object>"
      ]
     },
     "metadata": {},
     "output_type": "display_data"
    }
   ],
   "source": [
    "#looking at top players who should be more aggressive on second serve\n",
    "player_sums.sort_values(by=\"serve_pts\", ascending=False).head(100).sort_values(by=\"make_win_diff\").head(19)\n"
   ]
  },
  {
   "cell_type": "markdown",
   "metadata": {},
   "source": [
    "You can see a lot of top players above. Zverev, Connors, Tomic, Isner, Dimitrov, Monfis, Roddick, Kyrgios, Tsitsipas, Querrey, Rublev are all highly ranked. Many are known for having a really big serve."
   ]
  },
  {
   "cell_type": "code",
   "execution_count": 32,
   "metadata": {},
   "outputs": [
    {
     "name": "stdout",
     "output_type": "stream",
     "text": [
      "158\n",
      "542\n"
     ]
    },
    {
     "data": {
      "text/plain": [
       "<matplotlib.axes._subplots.AxesSubplot at 0x10bd25ed0>"
      ]
     },
     "execution_count": 32,
     "metadata": {},
     "output_type": "execute_result"
    },
    {
     "data": {
      "image/png": "[encoded data removed]",
      "text/plain": [
       "<Figure size 432x288 with 1 Axes>"
      ]
     },
     "metadata": {
      "needs_background": "light"
     },
     "output_type": "display_data"
    },
    {
     "data": {
      "application/javascript": [
       "\n",
       "            setTimeout(function() {\n",
       "                var nbb_cell_id = 32;\n",
       "                var nbb_unformatted_code = \"# make a list of all of the naively bad second servers\\nbad_servers = player_sums[player_sums[\\\"make_win_diff\\\"] < 0].sort_values(\\n    by=\\\"make_win_diff\\\"\\n)\\nprint(bad_servers.count()[0])\\nprint(player_sums.count()[0])\\nsns.distplot(player_sums[\\\"make_win_diff\\\"], kde=False)\";\n",
       "                var nbb_formatted_code = \"# make a list of all of the naively bad second servers\\nbad_servers = player_sums[player_sums[\\\"make_win_diff\\\"] < 0].sort_values(\\n    by=\\\"make_win_diff\\\"\\n)\\nprint(bad_servers.count()[0])\\nprint(player_sums.count()[0])\\nsns.distplot(player_sums[\\\"make_win_diff\\\"], kde=False)\";\n",
       "                var nbb_cells = Jupyter.notebook.get_cells();\n",
       "                for (var i = 0; i < nbb_cells.length; ++i) {\n",
       "                    if (nbb_cells[i].input_prompt_number == nbb_cell_id) {\n",
       "                        if (nbb_cells[i].get_text() == nbb_unformatted_code) {\n",
       "                             nbb_cells[i].set_text(nbb_formatted_code);\n",
       "                        }\n",
       "                        break;\n",
       "                    }\n",
       "                }\n",
       "            }, 500);\n",
       "            "
      ],
      "text/plain": [
       "<IPython.core.display.Javascript object>"
      ]
     },
     "metadata": {},
     "output_type": "display_data"
    }
   ],
   "source": [
    "# make a list of all of the naively bad second servers\n",
    "bad_servers = player_sums[player_sums[\"make_win_diff\"] < 0].sort_values(\n",
    "    by=\"make_win_diff\"\n",
    ")\n",
    "print(bad_servers.count()[0])\n",
    "print(player_sums.count()[0])\n",
    "sns.distplot(player_sums[\"make_win_diff\"], kde=False)"
   ]
  },
  {
   "cell_type": "markdown",
   "metadata": {},
   "source": [
    "**So around 1/4 of recorded players have a better first than second serve in a vaccuum.**"
   ]
  },
  {
   "cell_type": "code",
   "execution_count": 33,
   "metadata": {},
   "outputs": [
    {
     "data": {
      "application/javascript": [
       "\n",
       "            setTimeout(function() {\n",
       "                var nbb_cell_id = 33;\n",
       "                var nbb_unformatted_code = \"# Save the player data to a csv so I can use it in the next notebook\\nplayer_sums.to_csv(\\\"player_sums.csv\\\")\";\n",
       "                var nbb_formatted_code = \"# Save the player data to a csv so I can use it in the next notebook\\nplayer_sums.to_csv(\\\"player_sums.csv\\\")\";\n",
       "                var nbb_cells = Jupyter.notebook.get_cells();\n",
       "                for (var i = 0; i < nbb_cells.length; ++i) {\n",
       "                    if (nbb_cells[i].input_prompt_number == nbb_cell_id) {\n",
       "                        if (nbb_cells[i].get_text() == nbb_unformatted_code) {\n",
       "                             nbb_cells[i].set_text(nbb_formatted_code);\n",
       "                        }\n",
       "                        break;\n",
       "                    }\n",
       "                }\n",
       "            }, 500);\n",
       "            "
      ],
      "text/plain": [
       "<IPython.core.display.Javascript object>"
      ]
     },
     "metadata": {},
     "output_type": "display_data"
    }
   ],
   "source": [
    "# Save the player data to a csv so I can use it in the next notebook\n",
    "player_sums.to_csv(\"player_sums.csv\")"
   ]
  },
  {
   "cell_type": "code",
   "execution_count": null,
   "metadata": {},
   "outputs": [],
   "source": []
  },
  {
   "cell_type": "markdown",
   "metadata": {},
   "source": [
    "Continued in other notebook (matchchartingstats.ipynb)"
   ]
  },
  {
   "cell_type": "markdown",
   "metadata": {},
   "source": [
    "Extra charts for my presentation:"
   ]
  },
  {
   "cell_type": "code",
   "execution_count": 62,
   "metadata": {},
   "outputs": [
    {
     "data": {
      "text/html": [
       "<div>\n",
       "<style scoped>\n",
       "    .dataframe tbody tr th:only-of-type {\n",
       "        vertical-align: middle;\n",
       "    }\n",
       "\n",
       "    .dataframe tbody tr th {\n",
       "        vertical-align: top;\n",
       "    }\n",
       "\n",
       "    .dataframe thead th {\n",
       "        text-align: right;\n",
       "    }\n",
       "</style>\n",
       "<table border=\"1\" class=\"dataframe\">\n",
       "  <thead>\n",
       "    <tr style=\"text-align: right;\">\n",
       "      <th></th>\n",
       "      <th>match_id</th>\n",
       "      <th>player</th>\n",
       "      <th>player_id</th>\n",
       "      <th>serve_pts</th>\n",
       "      <th>aces</th>\n",
       "      <th>dfs</th>\n",
       "      <th>first_in</th>\n",
       "      <th>first_won</th>\n",
       "      <th>second_in</th>\n",
       "      <th>second_won</th>\n",
       "      <th>...</th>\n",
       "      <th>first_out</th>\n",
       "      <th>first_make_pct</th>\n",
       "      <th>first_win_pct</th>\n",
       "      <th>first_make_win</th>\n",
       "      <th>second_total</th>\n",
       "      <th>second_out</th>\n",
       "      <th>second_make_pct</th>\n",
       "      <th>second_win_pct</th>\n",
       "      <th>second_make_win</th>\n",
       "      <th>second_success</th>\n",
       "    </tr>\n",
       "  </thead>\n",
       "  <tbody>\n",
       "    <tr>\n",
       "      <th>0</th>\n",
       "      <td>19751219-M-Davis_Cup_World_Group_F-RR-Bjorn_Bo...</td>\n",
       "      <td>1</td>\n",
       "      <td>Bjorn_Borg</td>\n",
       "      <td>70</td>\n",
       "      <td>2</td>\n",
       "      <td>1</td>\n",
       "      <td>32</td>\n",
       "      <td>25</td>\n",
       "      <td>37</td>\n",
       "      <td>21</td>\n",
       "      <td>...</td>\n",
       "      <td>38</td>\n",
       "      <td>0.457143</td>\n",
       "      <td>0.781250</td>\n",
       "      <td>0.357143</td>\n",
       "      <td>38</td>\n",
       "      <td>1</td>\n",
       "      <td>0.973684</td>\n",
       "      <td>0.567568</td>\n",
       "      <td>0.552632</td>\n",
       "      <td>0.300000</td>\n",
       "    </tr>\n",
       "    <tr>\n",
       "      <th>1</th>\n",
       "      <td>19751219-M-Davis_Cup_World_Group_F-RR-Bjorn_Bo...</td>\n",
       "      <td>2</td>\n",
       "      <td>Jiri_Hrebec</td>\n",
       "      <td>65</td>\n",
       "      <td>2</td>\n",
       "      <td>2</td>\n",
       "      <td>41</td>\n",
       "      <td>20</td>\n",
       "      <td>22</td>\n",
       "      <td>7</td>\n",
       "      <td>...</td>\n",
       "      <td>24</td>\n",
       "      <td>0.630769</td>\n",
       "      <td>0.487805</td>\n",
       "      <td>0.307692</td>\n",
       "      <td>24</td>\n",
       "      <td>2</td>\n",
       "      <td>0.916667</td>\n",
       "      <td>0.318182</td>\n",
       "      <td>0.291667</td>\n",
       "      <td>0.107692</td>\n",
       "    </tr>\n",
       "    <tr>\n",
       "      <th>8</th>\n",
       "      <td>19780125-M-Pepsi_Grand_Slam-SF-Brian_Gottfried...</td>\n",
       "      <td>1</td>\n",
       "      <td>Brian_Gottfried</td>\n",
       "      <td>56</td>\n",
       "      <td>0</td>\n",
       "      <td>1</td>\n",
       "      <td>32</td>\n",
       "      <td>21</td>\n",
       "      <td>23</td>\n",
       "      <td>9</td>\n",
       "      <td>...</td>\n",
       "      <td>24</td>\n",
       "      <td>0.571429</td>\n",
       "      <td>0.656250</td>\n",
       "      <td>0.375000</td>\n",
       "      <td>24</td>\n",
       "      <td>1</td>\n",
       "      <td>0.958333</td>\n",
       "      <td>0.391304</td>\n",
       "      <td>0.375000</td>\n",
       "      <td>0.160714</td>\n",
       "    </tr>\n",
       "    <tr>\n",
       "      <th>9</th>\n",
       "      <td>19780125-M-Pepsi_Grand_Slam-SF-Brian_Gottfried...</td>\n",
       "      <td>2</td>\n",
       "      <td>Bjorn_Borg</td>\n",
       "      <td>51</td>\n",
       "      <td>0</td>\n",
       "      <td>2</td>\n",
       "      <td>31</td>\n",
       "      <td>25</td>\n",
       "      <td>18</td>\n",
       "      <td>10</td>\n",
       "      <td>...</td>\n",
       "      <td>20</td>\n",
       "      <td>0.607843</td>\n",
       "      <td>0.806452</td>\n",
       "      <td>0.490196</td>\n",
       "      <td>20</td>\n",
       "      <td>2</td>\n",
       "      <td>0.900000</td>\n",
       "      <td>0.555556</td>\n",
       "      <td>0.500000</td>\n",
       "      <td>0.196078</td>\n",
       "    </tr>\n",
       "    <tr>\n",
       "      <th>14</th>\n",
       "      <td>19800705-M-Wimbledon-F-John_Mcenroe-Bjorn_Borg</td>\n",
       "      <td>1</td>\n",
       "      <td>John_Mcenroe</td>\n",
       "      <td>183</td>\n",
       "      <td>12</td>\n",
       "      <td>3</td>\n",
       "      <td>111</td>\n",
       "      <td>75</td>\n",
       "      <td>69</td>\n",
       "      <td>44</td>\n",
       "      <td>...</td>\n",
       "      <td>72</td>\n",
       "      <td>0.606557</td>\n",
       "      <td>0.675676</td>\n",
       "      <td>0.409836</td>\n",
       "      <td>72</td>\n",
       "      <td>3</td>\n",
       "      <td>0.958333</td>\n",
       "      <td>0.637681</td>\n",
       "      <td>0.611111</td>\n",
       "      <td>0.240437</td>\n",
       "    </tr>\n",
       "  </tbody>\n",
       "</table>\n",
       "<p>5 rows × 21 columns</p>\n",
       "</div>"
      ],
      "text/plain": [
       "                                             match_id  player  \\\n",
       "0   19751219-M-Davis_Cup_World_Group_F-RR-Bjorn_Bo...       1   \n",
       "1   19751219-M-Davis_Cup_World_Group_F-RR-Bjorn_Bo...       2   \n",
       "8   19780125-M-Pepsi_Grand_Slam-SF-Brian_Gottfried...       1   \n",
       "9   19780125-M-Pepsi_Grand_Slam-SF-Brian_Gottfried...       2   \n",
       "14     19800705-M-Wimbledon-F-John_Mcenroe-Bjorn_Borg       1   \n",
       "\n",
       "          player_id  serve_pts  aces  dfs  first_in  first_won  second_in  \\\n",
       "0        Bjorn_Borg         70     2    1        32         25         37   \n",
       "1       Jiri_Hrebec         65     2    2        41         20         22   \n",
       "8   Brian_Gottfried         56     0    1        32         21         23   \n",
       "9        Bjorn_Borg         51     0    2        31         25         18   \n",
       "14     John_Mcenroe        183    12    3       111         75         69   \n",
       "\n",
       "    second_won  ...  first_out  first_make_pct  first_win_pct  first_make_win  \\\n",
       "0           21  ...         38        0.457143       0.781250        0.357143   \n",
       "1            7  ...         24        0.630769       0.487805        0.307692   \n",
       "8            9  ...         24        0.571429       0.656250        0.375000   \n",
       "9           10  ...         20        0.607843       0.806452        0.490196   \n",
       "14          44  ...         72        0.606557       0.675676        0.409836   \n",
       "\n",
       "    second_total  second_out  second_make_pct  second_win_pct  \\\n",
       "0             38           1         0.973684        0.567568   \n",
       "1             24           2         0.916667        0.318182   \n",
       "8             24           1         0.958333        0.391304   \n",
       "9             20           2         0.900000        0.555556   \n",
       "14            72           3         0.958333        0.637681   \n",
       "\n",
       "    second_make_win  second_success  \n",
       "0          0.552632        0.300000  \n",
       "1          0.291667        0.107692  \n",
       "8          0.375000        0.160714  \n",
       "9          0.500000        0.196078  \n",
       "14         0.611111        0.240437  \n",
       "\n",
       "[5 rows x 21 columns]"
      ]
     },
     "execution_count": 62,
     "metadata": {},
     "output_type": "execute_result"
    },
    {
     "data": {
      "application/javascript": [
       "\n",
       "            setTimeout(function() {\n",
       "                var nbb_cell_id = 62;\n",
       "                var nbb_unformatted_code = \"total_serve.head()\";\n",
       "                var nbb_formatted_code = \"total_serve.head()\";\n",
       "                var nbb_cells = Jupyter.notebook.get_cells();\n",
       "                for (var i = 0; i < nbb_cells.length; ++i) {\n",
       "                    if (nbb_cells[i].input_prompt_number == nbb_cell_id) {\n",
       "                        if (nbb_cells[i].get_text() == nbb_unformatted_code) {\n",
       "                             nbb_cells[i].set_text(nbb_formatted_code);\n",
       "                        }\n",
       "                        break;\n",
       "                    }\n",
       "                }\n",
       "            }, 500);\n",
       "            "
      ],
      "text/plain": [
       "<IPython.core.display.Javascript object>"
      ]
     },
     "metadata": {},
     "output_type": "display_data"
    }
   ],
   "source": [
    "total_serve.head()"
   ]
  },
  {
   "cell_type": "code",
   "execution_count": 71,
   "metadata": {},
   "outputs": [
    {
     "data": {
      "text/plain": [
       "Text(0, 0.5, 'Win Probability')"
      ]
     },
     "execution_count": 71,
     "metadata": {},
     "output_type": "execute_result"
    },
    {
     "data": {
      "image/png": "[encoded data removed]",
      "text/plain": [
       "<Figure size 504x360 with 1 Axes>"
      ]
     },
     "metadata": {
      "needs_background": "light"
     },
     "output_type": "display_data"
    },
    {
     "data": {
      "application/javascript": [
       "\n",
       "            setTimeout(function() {\n",
       "                var nbb_cell_id = 71;\n",
       "                var nbb_unformatted_code = \"plt.figure(figsize=(7, 5))\\ntotal_serve.boxplot(column=[\\\"first_make_win\\\", \\\"second_make_win\\\"])\\nplt.title(\\\"First vs. Second Serve Overall\\\")\\nplt.ylabel(\\\"Win Probability\\\")\";\n",
       "                var nbb_formatted_code = \"plt.figure(figsize=(7, 5))\\ntotal_serve.boxplot(column=[\\\"first_make_win\\\", \\\"second_make_win\\\"])\\nplt.title(\\\"First vs. Second Serve Overall\\\")\\nplt.ylabel(\\\"Win Probability\\\")\";\n",
       "                var nbb_cells = Jupyter.notebook.get_cells();\n",
       "                for (var i = 0; i < nbb_cells.length; ++i) {\n",
       "                    if (nbb_cells[i].input_prompt_number == nbb_cell_id) {\n",
       "                        if (nbb_cells[i].get_text() == nbb_unformatted_code) {\n",
       "                             nbb_cells[i].set_text(nbb_formatted_code);\n",
       "                        }\n",
       "                        break;\n",
       "                    }\n",
       "                }\n",
       "            }, 500);\n",
       "            "
      ],
      "text/plain": [
       "<IPython.core.display.Javascript object>"
      ]
     },
     "metadata": {},
     "output_type": "display_data"
    }
   ],
   "source": [
    "plt.figure(figsize=(7, 5))\n",
    "total_serve.boxplot(column=[\"first_make_win\", \"second_make_win\"])\n",
    "plt.title(\"First vs. Second Serve Overall\")\n",
    "plt.ylabel(\"Win Probability\")\n"
   ]
  },
  {
   "cell_type": "code",
   "execution_count": 75,
   "metadata": {},
   "outputs": [
    {
     "data": {
      "text/plain": [
       "Text(0, 0.5, 'Second Serve Win Probability')"
      ]
     },
     "execution_count": 75,
     "metadata": {},
     "output_type": "execute_result"
    },
    {
     "data": {
      "image/png": "[encoded data removed]",
      "text/plain": [
       "<Figure size 576x432 with 1 Axes>"
      ]
     },
     "metadata": {
      "needs_background": "light"
     },
     "output_type": "display_data"
    },
    {
     "data": {
      "application/javascript": [
       "\n",
       "            setTimeout(function() {\n",
       "                var nbb_cell_id = 75;\n",
       "                var nbb_unformatted_code = \"plt.figure(figsize=(8, 6))\\nscatter = sns.scatterplot(x=\\\"first_make_win\\\", y=\\\"second_make_win\\\", data=player_sums.loc[['Alexander_Zverev']])\\nscatter.plot([0, 1], [0, 1], color=\\\"r\\\")\\nplt.title(\\\"First vs. Second Serve by Top Players\\\")\\nplt.xlabel(\\\"First Serve Win Probability\\\")\\nplt.ylabel(\\\"Second Serve Win Probability\\\")\";\n",
       "                var nbb_formatted_code = \"plt.figure(figsize=(8, 6))\\nscatter = sns.scatterplot(\\n    x=\\\"first_make_win\\\", y=\\\"second_make_win\\\", data=player_sums.loc[[\\\"Alexander_Zverev\\\"]]\\n)\\nscatter.plot([0, 1], [0, 1], color=\\\"r\\\")\\nplt.title(\\\"First vs. Second Serve by Top Players\\\")\\nplt.xlabel(\\\"First Serve Win Probability\\\")\\nplt.ylabel(\\\"Second Serve Win Probability\\\")\";\n",
       "                var nbb_cells = Jupyter.notebook.get_cells();\n",
       "                for (var i = 0; i < nbb_cells.length; ++i) {\n",
       "                    if (nbb_cells[i].input_prompt_number == nbb_cell_id) {\n",
       "                        if (nbb_cells[i].get_text() == nbb_unformatted_code) {\n",
       "                             nbb_cells[i].set_text(nbb_formatted_code);\n",
       "                        }\n",
       "                        break;\n",
       "                    }\n",
       "                }\n",
       "            }, 500);\n",
       "            "
      ],
      "text/plain": [
       "<IPython.core.display.Javascript object>"
      ]
     },
     "metadata": {},
     "output_type": "display_data"
    }
   ],
   "source": [
    "plt.figure(figsize=(8, 6))\n",
    "scatter = sns.scatterplot(x=\"first_make_win\", y=\"second_make_win\", data=player_sums.loc[['Alexander_Zverev']])\n",
    "scatter.plot([0, 1], [0, 1], color=\"r\")\n",
    "plt.title(\"First vs. Second Serve by Top Players\")\n",
    "plt.xlabel(\"First Serve Win Probability\")\n",
    "plt.ylabel(\"Second Serve Win Probability\")\n"
   ]
  },
  {
   "cell_type": "code",
   "execution_count": 90,
   "metadata": {},
   "outputs": [
    {
     "data": {
      "text/plain": [
       "0.058039673128189646"
      ]
     },
     "execution_count": 90,
     "metadata": {},
     "output_type": "execute_result"
    },
    {
     "data": {
      "application/javascript": [
       "\n",
       "            setTimeout(function() {\n",
       "                var nbb_cell_id = 90;\n",
       "                var nbb_unformatted_code = \"zverev = total_serve[total_serve[\\\"player_id\\\"] == \\\"Alexander_Zverev\\\"][\\n    [\\\"first_make_win\\\", \\\"second_make_win\\\"]\\n]\\nzverev[\\\"diff\\\"] = zverev[\\\"first_make_win\\\"] - zverev[\\\"second_make_win\\\"]\\nzverev[\\\"diff\\\"].mean()\";\n",
       "                var nbb_formatted_code = \"zverev = total_serve[total_serve[\\\"player_id\\\"] == \\\"Alexander_Zverev\\\"][\\n    [\\\"first_make_win\\\", \\\"second_make_win\\\"]\\n]\\nzverev[\\\"diff\\\"] = zverev[\\\"first_make_win\\\"] - zverev[\\\"second_make_win\\\"]\\nzverev[\\\"diff\\\"].mean()\";\n",
       "                var nbb_cells = Jupyter.notebook.get_cells();\n",
       "                for (var i = 0; i < nbb_cells.length; ++i) {\n",
       "                    if (nbb_cells[i].input_prompt_number == nbb_cell_id) {\n",
       "                        if (nbb_cells[i].get_text() == nbb_unformatted_code) {\n",
       "                             nbb_cells[i].set_text(nbb_formatted_code);\n",
       "                        }\n",
       "                        break;\n",
       "                    }\n",
       "                }\n",
       "            }, 500);\n",
       "            "
      ],
      "text/plain": [
       "<IPython.core.display.Javascript object>"
      ]
     },
     "metadata": {},
     "output_type": "display_data"
    }
   ],
   "source": [
    "zverev = total_serve[total_serve[\"player_id\"] == \"Alexander_Zverev\"][\n",
    "    [\"first_make_win\", \"second_make_win\"]\n",
    "]\n",
    "zverev[\"diff\"] = zverev[\"first_make_win\"] - zverev[\"second_make_win\"]\n",
    "zverev[\"diff\"].mean()"
   ]
  },
  {
   "cell_type": "code",
   "execution_count": 84,
   "metadata": {},
   "outputs": [
    {
     "data": {
      "text/plain": [
       "Ttest_relResult(statistic=3.3432659169944827, pvalue=0.0015747037813901275)"
      ]
     },
     "execution_count": 84,
     "metadata": {},
     "output_type": "execute_result"
    },
    {
     "data": {
      "application/javascript": [
       "\n",
       "            setTimeout(function() {\n",
       "                var nbb_cell_id = 84;\n",
       "                var nbb_unformatted_code = \"stats.ttest_rel(zverev[\\\"first_make_win\\\"], zverev[\\\"second_make_win\\\"])\";\n",
       "                var nbb_formatted_code = \"stats.ttest_rel(zverev[\\\"first_make_win\\\"], zverev[\\\"second_make_win\\\"])\";\n",
       "                var nbb_cells = Jupyter.notebook.get_cells();\n",
       "                for (var i = 0; i < nbb_cells.length; ++i) {\n",
       "                    if (nbb_cells[i].input_prompt_number == nbb_cell_id) {\n",
       "                        if (nbb_cells[i].get_text() == nbb_unformatted_code) {\n",
       "                             nbb_cells[i].set_text(nbb_formatted_code);\n",
       "                        }\n",
       "                        break;\n",
       "                    }\n",
       "                }\n",
       "            }, 500);\n",
       "            "
      ],
      "text/plain": [
       "<IPython.core.display.Javascript object>"
      ]
     },
     "metadata": {},
     "output_type": "display_data"
    }
   ],
   "source": [
    "stats.ttest_rel(zverev[\"first_make_win\"], zverev[\"second_make_win\"])"
   ]
  },
  {
   "cell_type": "code",
   "execution_count": 85,
   "metadata": {},
   "outputs": [
    {
     "data": {
      "text/plain": [
       "(0.011508830469927123, 0.10457051578645238)"
      ]
     },
     "execution_count": 85,
     "metadata": {},
     "output_type": "execute_result"
    },
    {
     "data": {
      "application/javascript": [
       "\n",
       "            setTimeout(function() {\n",
       "                var nbb_cell_id = 85;\n",
       "                var nbb_unformatted_code = \"get_95_ci(zverev[\\\"first_make_win\\\"], zverev[\\\"second_make_win\\\"])\";\n",
       "                var nbb_formatted_code = \"get_95_ci(zverev[\\\"first_make_win\\\"], zverev[\\\"second_make_win\\\"])\";\n",
       "                var nbb_cells = Jupyter.notebook.get_cells();\n",
       "                for (var i = 0; i < nbb_cells.length; ++i) {\n",
       "                    if (nbb_cells[i].input_prompt_number == nbb_cell_id) {\n",
       "                        if (nbb_cells[i].get_text() == nbb_unformatted_code) {\n",
       "                             nbb_cells[i].set_text(nbb_formatted_code);\n",
       "                        }\n",
       "                        break;\n",
       "                    }\n",
       "                }\n",
       "            }, 500);\n",
       "            "
      ],
      "text/plain": [
       "<IPython.core.display.Javascript object>"
      ]
     },
     "metadata": {},
     "output_type": "display_data"
    }
   ],
   "source": [
    "get_95_ci(zverev[\"first_make_win\"], zverev[\"second_make_win\"])"
   ]
  },
  {
   "cell_type": "code",
   "execution_count": null,
   "metadata": {},
   "outputs": [],
   "source": []
  }
 ],
 "metadata": {
  "kernelspec": {
   "display_name": "Python 3",
   "language": "python",
   "name": "python3"
  },
  "language_info": {
   "codemirror_mode": {
    "name": "ipython",
    "version": 3
   },
   "file_extension": ".py",
   "mimetype": "text/x-python",
   "name": "python",
   "nbconvert_exporter": "python",
   "pygments_lexer": "ipython3",
   "version": "3.7.6"
  }
 },
 "nbformat": 4,
 "nbformat_minor": 4
}
