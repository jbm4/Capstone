{
 "cells": [
  {
   "cell_type": "code",
   "execution_count": 1,
   "metadata": {},
   "outputs": [
    {
     "data": {
      "application/javascript": [
       "\n",
       "            setTimeout(function() {\n",
       "                var nbb_cell_id = 1;\n",
       "                var nbb_unformatted_code = \"%reload_ext nb_black\";\n",
       "                var nbb_formatted_code = \"%reload_ext nb_black\";\n",
       "                var nbb_cells = Jupyter.notebook.get_cells();\n",
       "                for (var i = 0; i < nbb_cells.length; ++i) {\n",
       "                    if (nbb_cells[i].input_prompt_number == nbb_cell_id) {\n",
       "                        if (nbb_cells[i].get_text() == nbb_unformatted_code) {\n",
       "                             nbb_cells[i].set_text(nbb_formatted_code);\n",
       "                        }\n",
       "                        break;\n",
       "                    }\n",
       "                }\n",
       "            }, 500);\n",
       "            "
      ],
      "text/plain": [
       "<IPython.core.display.Javascript object>"
      ]
     },
     "metadata": {},
     "output_type": "display_data"
    }
   ],
   "source": [
    "%reload_ext nb_black"
   ]
  },
  {
   "cell_type": "code",
   "execution_count": 2,
   "metadata": {},
   "outputs": [
    {
     "data": {
      "application/javascript": [
       "\n",
       "            setTimeout(function() {\n",
       "                var nbb_cell_id = 2;\n",
       "                var nbb_unformatted_code = \"import numpy as np\\nimport pandas as pd\\nimport seaborn as sns\\nimport matplotlib.pyplot as plt\\nimport math\\nfrom scipy import stats\\nfrom statsmodels.graphics.gofplots import qqplot\\nfrom statsmodels.stats.multitest import multipletests\\n\\n\\n%matplotlib inline\";\n",
       "                var nbb_formatted_code = \"import numpy as np\\nimport pandas as pd\\nimport seaborn as sns\\nimport matplotlib.pyplot as plt\\nimport math\\nfrom scipy import stats\\nfrom statsmodels.graphics.gofplots import qqplot\\nfrom statsmodels.stats.multitest import multipletests\\n\\n\\n%matplotlib inline\";\n",
       "                var nbb_cells = Jupyter.notebook.get_cells();\n",
       "                for (var i = 0; i < nbb_cells.length; ++i) {\n",
       "                    if (nbb_cells[i].input_prompt_number == nbb_cell_id) {\n",
       "                        if (nbb_cells[i].get_text() == nbb_unformatted_code) {\n",
       "                             nbb_cells[i].set_text(nbb_formatted_code);\n",
       "                        }\n",
       "                        break;\n",
       "                    }\n",
       "                }\n",
       "            }, 500);\n",
       "            "
      ],
      "text/plain": [
       "<IPython.core.display.Javascript object>"
      ]
     },
     "metadata": {},
     "output_type": "display_data"
    }
   ],
   "source": [
    "import numpy as np\n",
    "import pandas as pd\n",
    "import seaborn as sns\n",
    "import matplotlib.pyplot as plt\n",
    "import math\n",
    "from scipy import stats\n",
    "from statsmodels.graphics.gofplots import qqplot\n",
    "from statsmodels.stats.multitest import multipletests\n",
    "\n",
    "\n",
    "%matplotlib inline"
   ]
  },
  {
   "cell_type": "code",
   "execution_count": 3,
   "metadata": {},
   "outputs": [
    {
     "data": {
      "application/javascript": [
       "\n",
       "            setTimeout(function() {\n",
       "                var nbb_cell_id = 3;\n",
       "                var nbb_unformatted_code = \"#define confidence tests\\ndef get_95_ci(x1, x2):\\n    \\\"\\\"\\\"Calculate a 95% CI for 2 1d numpy arrays\\\"\\\"\\\"\\n    signal = x1.mean() - x2.mean()\\n    noise = np.sqrt(x1.var() / x1.size + x2.var() / x2.size)\\n\\n    ci_lo = signal - 1.96 * noise\\n    ci_hi = signal + 1.96 * noise\\n\\n    return ci_lo, ci_hi\\n\\ndef calc_non_param_ci(x1, x2, alpha=0.05):\\n    \\\"\\\"\\\"Calc confidence interval for 2 group median test\\n\\n    Process:\\n      * Find all pairwise diffs\\n      * Sort diffs\\n      * Find appropriate value of k\\n      * Choose lower bound from diffs as: diffs[k]\\n      * Choose upper bound from diffs as: diffs[-k]\\n\\n    Based on: https://www.ncbi.nlm.nih.gov/pmc/articles/PMC2545906/\\n\\n    :param x1: sample 1\\n    :param x2: sample 2\\n    :param alpha: significance level\\n    :return: (tuple) confidence interval bounds\\n    \\\"\\\"\\\"\\n    x1 = np.array(x1)\\n    x2 = np.array(x2)\\n\\n    n1 = x1.size\\n    n2 = x2.size\\n    cv = stats.norm.ppf(1 - alpha / 2)\\n\\n    # Find pairwise differences for every datapoint in each group\\n    diffs = (x1[:, None] - x2).flatten()\\n    diffs.sort()\\n\\n    # For an approximate (1-a)% confidence interval first calculate K:\\n    k = int(round(n1 * n2 / 2 - (cv * (n1 * n2 * (n1 + n2 + 1) / 12) ** 0.5)))\\n\\n    # The Kth smallest to the Kth largest of the n x m differences\\n    # n1 and n2 should be > ~20\\n    ci_lo = diffs[k]\\n    ci_hi = diffs[-k]\\n\\n    return ci_lo, ci_hi\";\n",
       "                var nbb_formatted_code = \"# define confidence tests\\ndef get_95_ci(x1, x2):\\n    \\\"\\\"\\\"Calculate a 95% CI for 2 1d numpy arrays\\\"\\\"\\\"\\n    signal = x1.mean() - x2.mean()\\n    noise = np.sqrt(x1.var() / x1.size + x2.var() / x2.size)\\n\\n    ci_lo = signal - 1.96 * noise\\n    ci_hi = signal + 1.96 * noise\\n\\n    return ci_lo, ci_hi\\n\\n\\ndef calc_non_param_ci(x1, x2, alpha=0.05):\\n    \\\"\\\"\\\"Calc confidence interval for 2 group median test\\n\\n    Process:\\n      * Find all pairwise diffs\\n      * Sort diffs\\n      * Find appropriate value of k\\n      * Choose lower bound from diffs as: diffs[k]\\n      * Choose upper bound from diffs as: diffs[-k]\\n\\n    Based on: https://www.ncbi.nlm.nih.gov/pmc/articles/PMC2545906/\\n\\n    :param x1: sample 1\\n    :param x2: sample 2\\n    :param alpha: significance level\\n    :return: (tuple) confidence interval bounds\\n    \\\"\\\"\\\"\\n    x1 = np.array(x1)\\n    x2 = np.array(x2)\\n\\n    n1 = x1.size\\n    n2 = x2.size\\n    cv = stats.norm.ppf(1 - alpha / 2)\\n\\n    # Find pairwise differences for every datapoint in each group\\n    diffs = (x1[:, None] - x2).flatten()\\n    diffs.sort()\\n\\n    # For an approximate (1-a)% confidence interval first calculate K:\\n    k = int(round(n1 * n2 / 2 - (cv * (n1 * n2 * (n1 + n2 + 1) / 12) ** 0.5)))\\n\\n    # The Kth smallest to the Kth largest of the n x m differences\\n    # n1 and n2 should be > ~20\\n    ci_lo = diffs[k]\\n    ci_hi = diffs[-k]\\n\\n    return ci_lo, ci_hi\";\n",
       "                var nbb_cells = Jupyter.notebook.get_cells();\n",
       "                for (var i = 0; i < nbb_cells.length; ++i) {\n",
       "                    if (nbb_cells[i].input_prompt_number == nbb_cell_id) {\n",
       "                        if (nbb_cells[i].get_text() == nbb_unformatted_code) {\n",
       "                             nbb_cells[i].set_text(nbb_formatted_code);\n",
       "                        }\n",
       "                        break;\n",
       "                    }\n",
       "                }\n",
       "            }, 500);\n",
       "            "
      ],
      "text/plain": [
       "<IPython.core.display.Javascript object>"
      ]
     },
     "metadata": {},
     "output_type": "display_data"
    }
   ],
   "source": [
    "#define confidence tests\n",
    "def get_95_ci(x1, x2):\n",
    "    \"\"\"Calculate a 95% CI for 2 1d numpy arrays\"\"\"\n",
    "    signal = x1.mean() - x2.mean()\n",
    "    noise = np.sqrt(x1.var() / x1.size + x2.var() / x2.size)\n",
    "\n",
    "    ci_lo = signal - 1.96 * noise\n",
    "    ci_hi = signal + 1.96 * noise\n",
    "\n",
    "    return ci_lo, ci_hi\n",
    "\n",
    "def calc_non_param_ci(x1, x2, alpha=0.05):\n",
    "    \"\"\"Calc confidence interval for 2 group median test\n",
    "\n",
    "    Process:\n",
    "      * Find all pairwise diffs\n",
    "      * Sort diffs\n",
    "      * Find appropriate value of k\n",
    "      * Choose lower bound from diffs as: diffs[k]\n",
    "      * Choose upper bound from diffs as: diffs[-k]\n",
    "\n",
    "    Based on: https://www.ncbi.nlm.nih.gov/pmc/articles/PMC2545906/\n",
    "\n",
    "    :param x1: sample 1\n",
    "    :param x2: sample 2\n",
    "    :param alpha: significance level\n",
    "    :return: (tuple) confidence interval bounds\n",
    "    \"\"\"\n",
    "    x1 = np.array(x1)\n",
    "    x2 = np.array(x2)\n",
    "\n",
    "    n1 = x1.size\n",
    "    n2 = x2.size\n",
    "    cv = stats.norm.ppf(1 - alpha / 2)\n",
    "\n",
    "    # Find pairwise differences for every datapoint in each group\n",
    "    diffs = (x1[:, None] - x2).flatten()\n",
    "    diffs.sort()\n",
    "\n",
    "    # For an approximate (1-a)% confidence interval first calculate K:\n",
    "    k = int(round(n1 * n2 / 2 - (cv * (n1 * n2 * (n1 + n2 + 1) / 12) ** 0.5)))\n",
    "\n",
    "    # The Kth smallest to the Kth largest of the n x m differences\n",
    "    # n1 and n2 should be > ~20\n",
    "    ci_lo = diffs[k]\n",
    "    ci_hi = diffs[-k]\n",
    "\n",
    "    return ci_lo, ci_hi\n"
   ]
  },
  {
   "cell_type": "markdown",
   "metadata": {},
   "source": [
    "## Load in the dataframe, see the shape of it, and create a few identifier variables ##"
   ]
  },
  {
   "cell_type": "code",
   "execution_count": 4,
   "metadata": {},
   "outputs": [
    {
     "name": "stderr",
     "output_type": "stream",
     "text": [
      "/Users/jamesmoss/opt/anaconda3/lib/python3.7/site-packages/IPython/core/interactiveshell.py:3063: DtypeWarning: Columns (7,8,9,42) have mixed types.Specify dtype option on import or set low_memory=False.\n",
      "  interactivity=interactivity, compiler=compiler, result=result)\n"
     ]
    },
    {
     "data": {
      "application/javascript": [
       "\n",
       "            setTimeout(function() {\n",
       "                var nbb_cell_id = 4;\n",
       "                var nbb_unformatted_code = \"data_path = \\\"data/charting-m-points.csv\\\"\\ndf = pd.read_csv(data_path, encoding=\\\"ISO-8859-1\\\")\";\n",
       "                var nbb_formatted_code = \"data_path = \\\"data/charting-m-points.csv\\\"\\ndf = pd.read_csv(data_path, encoding=\\\"ISO-8859-1\\\")\";\n",
       "                var nbb_cells = Jupyter.notebook.get_cells();\n",
       "                for (var i = 0; i < nbb_cells.length; ++i) {\n",
       "                    if (nbb_cells[i].input_prompt_number == nbb_cell_id) {\n",
       "                        if (nbb_cells[i].get_text() == nbb_unformatted_code) {\n",
       "                             nbb_cells[i].set_text(nbb_formatted_code);\n",
       "                        }\n",
       "                        break;\n",
       "                    }\n",
       "                }\n",
       "            }, 500);\n",
       "            "
      ],
      "text/plain": [
       "<IPython.core.display.Javascript object>"
      ]
     },
     "metadata": {},
     "output_type": "display_data"
    }
   ],
   "source": [
    "data_path = \"data/charting-m-points.csv\"\n",
    "df = pd.read_csv(data_path, encoding=\"ISO-8859-1\")"
   ]
  },
  {
   "cell_type": "code",
   "execution_count": 54,
   "metadata": {
    "scrolled": true
   },
   "outputs": [
    {
     "name": "stdout",
     "output_type": "stream",
     "text": [
      "<class 'pandas.core.frame.DataFrame'>\n",
      "RangeIndex: 439988 entries, 0 to 439987\n",
      "Data columns (total 48 columns):\n",
      " #   Column         Non-Null Count   Dtype  \n",
      "---  ------         --------------   -----  \n",
      " 0   match_id       439988 non-null  object \n",
      " 1   Pt             439988 non-null  int64  \n",
      " 2   Set1           439988 non-null  int64  \n",
      " 3   Set2           439988 non-null  int64  \n",
      " 4   Gm1            439987 non-null  float64\n",
      " 5   Gm2            439987 non-null  float64\n",
      " 6   Pts            439988 non-null  object \n",
      " 7   Gm#            439987 non-null  object \n",
      " 8   TbSet          439988 non-null  object \n",
      " 9   TB?            439988 non-null  object \n",
      " 10  TBpt           15632 non-null   float64\n",
      " 11  Svr            439988 non-null  int64  \n",
      " 12  Ret            439988 non-null  int64  \n",
      " 13  Serving        439375 non-null  object \n",
      " 14  1st            439988 non-null  object \n",
      " 15  2nd            166825 non-null  object \n",
      " 16  Notes          26591 non-null   object \n",
      " 17  1stSV          439988 non-null  int64  \n",
      " 18  2ndSV          166825 non-null  float64\n",
      " 19  1stIn          439988 non-null  int64  \n",
      " 20  2ndIn          166825 non-null  float64\n",
      " 21  isRally1st     439988 non-null  int64  \n",
      " 22  isRally2nd     439988 non-null  int64  \n",
      " 23  Sv1            439988 non-null  object \n",
      " 24  Sv2            166825 non-null  object \n",
      " 25  Rally          381134 non-null  object \n",
      " 26  isAce          439988 non-null  bool   \n",
      " 27  isUnret        439988 non-null  bool   \n",
      " 28  isRallyWinner  439988 non-null  bool   \n",
      " 29  isForced       439988 non-null  bool   \n",
      " 30  isUnforced     439988 non-null  bool   \n",
      " 31  isDouble       439988 non-null  bool   \n",
      " 32  rallyLen       439988 non-null  int64  \n",
      " 33  PtWinner       439988 non-null  int64  \n",
      " 34  isSvrWinner    439988 non-null  int64  \n",
      " 35  PtsAfter       439988 non-null  object \n",
      " 36  GmW            439988 non-null  int64  \n",
      " 37  Gm1.1          439988 non-null  int64  \n",
      " 38  Gm2.1          439988 non-null  int64  \n",
      " 39  SetW           439988 non-null  int64  \n",
      " 40  Set1.1         439988 non-null  int64  \n",
      " 41  Set2.1         439988 non-null  int64  \n",
      " 42  rallyCount     439984 non-null  object \n",
      " 43  year           439988 non-null  int64  \n",
      " 44  player1_id     439988 non-null  object \n",
      " 45  player2_id     439988 non-null  object \n",
      " 46  game           423603 non-null  object \n",
      " 47  pt_game        242730 non-null  object \n",
      "dtypes: bool(6), float64(5), int64(19), object(18)\n",
      "memory usage: 143.5+ MB\n"
     ]
    },
    {
     "data": {
      "application/javascript": [
       "\n",
       "            setTimeout(function() {\n",
       "                var nbb_cell_id = 54;\n",
       "                var nbb_unformatted_code = \"df.info()\";\n",
       "                var nbb_formatted_code = \"df.info()\";\n",
       "                var nbb_cells = Jupyter.notebook.get_cells();\n",
       "                for (var i = 0; i < nbb_cells.length; ++i) {\n",
       "                    if (nbb_cells[i].input_prompt_number == nbb_cell_id) {\n",
       "                        if (nbb_cells[i].get_text() == nbb_unformatted_code) {\n",
       "                             nbb_cells[i].set_text(nbb_formatted_code);\n",
       "                        }\n",
       "                        break;\n",
       "                    }\n",
       "                }\n",
       "            }, 500);\n",
       "            "
      ],
      "text/plain": [
       "<IPython.core.display.Javascript object>"
      ]
     },
     "metadata": {},
     "output_type": "display_data"
    }
   ],
   "source": [
    "df.info()"
   ]
  },
  {
   "cell_type": "code",
   "execution_count": 55,
   "metadata": {
    "scrolled": true
   },
   "outputs": [
    {
     "data": {
      "text/html": [
       "<div>\n",
       "<style scoped>\n",
       "    .dataframe tbody tr th:only-of-type {\n",
       "        vertical-align: middle;\n",
       "    }\n",
       "\n",
       "    .dataframe tbody tr th {\n",
       "        vertical-align: top;\n",
       "    }\n",
       "\n",
       "    .dataframe thead th {\n",
       "        text-align: right;\n",
       "    }\n",
       "</style>\n",
       "<table border=\"1\" class=\"dataframe\">\n",
       "  <thead>\n",
       "    <tr style=\"text-align: right;\">\n",
       "      <th></th>\n",
       "      <th>match_id</th>\n",
       "      <th>Pt</th>\n",
       "      <th>Set1</th>\n",
       "      <th>Set2</th>\n",
       "      <th>Gm1</th>\n",
       "      <th>Gm2</th>\n",
       "      <th>Pts</th>\n",
       "      <th>Gm#</th>\n",
       "      <th>TbSet</th>\n",
       "      <th>TB?</th>\n",
       "      <th>TBpt</th>\n",
       "      <th>Svr</th>\n",
       "      <th>Ret</th>\n",
       "      <th>Serving</th>\n",
       "      <th>1st</th>\n",
       "      <th>2nd</th>\n",
       "      <th>Notes</th>\n",
       "      <th>1stSV</th>\n",
       "      <th>2ndSV</th>\n",
       "      <th>1stIn</th>\n",
       "      <th>2ndIn</th>\n",
       "      <th>isRally1st</th>\n",
       "      <th>isRally2nd</th>\n",
       "      <th>Sv1</th>\n",
       "      <th>Sv2</th>\n",
       "      <th>Rally</th>\n",
       "      <th>isAce</th>\n",
       "      <th>isUnret</th>\n",
       "      <th>isRallyWinner</th>\n",
       "      <th>isForced</th>\n",
       "      <th>isUnforced</th>\n",
       "      <th>isDouble</th>\n",
       "      <th>rallyLen</th>\n",
       "      <th>PtWinner</th>\n",
       "      <th>isSvrWinner</th>\n",
       "      <th>PtsAfter</th>\n",
       "      <th>GmW</th>\n",
       "      <th>Gm1.1</th>\n",
       "      <th>Gm2.1</th>\n",
       "      <th>SetW</th>\n",
       "      <th>Set1.1</th>\n",
       "      <th>Set2.1</th>\n",
       "      <th>rallyCount</th>\n",
       "      <th>year</th>\n",
       "      <th>player1_id</th>\n",
       "      <th>player2_id</th>\n",
       "      <th>game</th>\n",
       "      <th>pt_game</th>\n",
       "    </tr>\n",
       "  </thead>\n",
       "  <tbody>\n",
       "    <tr>\n",
       "      <th>0</th>\n",
       "      <td>20200307-M-Davis_Cup_WG_II-RR-Ernests_Gulbis-M...</td>\n",
       "      <td>1</td>\n",
       "      <td>0</td>\n",
       "      <td>0</td>\n",
       "      <td>0.0</td>\n",
       "      <td>0.0</td>\n",
       "      <td>0-0</td>\n",
       "      <td>1 (1)</td>\n",
       "      <td>1</td>\n",
       "      <td>0</td>\n",
       "      <td>NaN</td>\n",
       "      <td>1</td>\n",
       "      <td>2</td>\n",
       "      <td>EG</td>\n",
       "      <td>6n</td>\n",
       "      <td>5b2n@</td>\n",
       "      <td>NaN</td>\n",
       "      <td>0</td>\n",
       "      <td>0.0</td>\n",
       "      <td>0</td>\n",
       "      <td>1.0</td>\n",
       "      <td>0</td>\n",
       "      <td>1</td>\n",
       "      <td>6n</td>\n",
       "      <td>5</td>\n",
       "      <td>b2n@</td>\n",
       "      <td>False</td>\n",
       "      <td>False</td>\n",
       "      <td>False</td>\n",
       "      <td>False</td>\n",
       "      <td>True</td>\n",
       "      <td>False</td>\n",
       "      <td>1</td>\n",
       "      <td>1</td>\n",
       "      <td>1</td>\n",
       "      <td>15-0</td>\n",
       "      <td>0</td>\n",
       "      <td>0</td>\n",
       "      <td>0</td>\n",
       "      <td>0</td>\n",
       "      <td>0</td>\n",
       "      <td>0</td>\n",
       "      <td>1</td>\n",
       "      <td>2020</td>\n",
       "      <td>Ernests_Gulbis</td>\n",
       "      <td>Mohamed_Safwat</td>\n",
       "      <td>1</td>\n",
       "      <td>1</td>\n",
       "    </tr>\n",
       "    <tr>\n",
       "      <th>1</th>\n",
       "      <td>20200307-M-Davis_Cup_WG_II-RR-Ernests_Gulbis-M...</td>\n",
       "      <td>2</td>\n",
       "      <td>0</td>\n",
       "      <td>0</td>\n",
       "      <td>0.0</td>\n",
       "      <td>0.0</td>\n",
       "      <td>15-0</td>\n",
       "      <td>1 (2)</td>\n",
       "      <td>1</td>\n",
       "      <td>0</td>\n",
       "      <td>NaN</td>\n",
       "      <td>1</td>\n",
       "      <td>2</td>\n",
       "      <td>EG</td>\n",
       "      <td>5b37b3b1r3n#</td>\n",
       "      <td>NaN</td>\n",
       "      <td>NaN</td>\n",
       "      <td>0</td>\n",
       "      <td>NaN</td>\n",
       "      <td>1</td>\n",
       "      <td>NaN</td>\n",
       "      <td>1</td>\n",
       "      <td>0</td>\n",
       "      <td>5</td>\n",
       "      <td>NaN</td>\n",
       "      <td>b37b3b1r3n#</td>\n",
       "      <td>False</td>\n",
       "      <td>False</td>\n",
       "      <td>False</td>\n",
       "      <td>True</td>\n",
       "      <td>False</td>\n",
       "      <td>False</td>\n",
       "      <td>4</td>\n",
       "      <td>2</td>\n",
       "      <td>0</td>\n",
       "      <td>15-15</td>\n",
       "      <td>0</td>\n",
       "      <td>0</td>\n",
       "      <td>0</td>\n",
       "      <td>0</td>\n",
       "      <td>0</td>\n",
       "      <td>0</td>\n",
       "      <td>4</td>\n",
       "      <td>2020</td>\n",
       "      <td>Ernests_Gulbis</td>\n",
       "      <td>Mohamed_Safwat</td>\n",
       "      <td>1</td>\n",
       "      <td>2</td>\n",
       "    </tr>\n",
       "  </tbody>\n",
       "</table>\n",
       "</div>"
      ],
      "text/plain": [
       "                                            match_id  Pt  Set1  Set2  Gm1  \\\n",
       "0  20200307-M-Davis_Cup_WG_II-RR-Ernests_Gulbis-M...   1     0     0  0.0   \n",
       "1  20200307-M-Davis_Cup_WG_II-RR-Ernests_Gulbis-M...   2     0     0  0.0   \n",
       "\n",
       "   Gm2   Pts    Gm# TbSet TB?  TBpt  Svr  Ret Serving           1st    2nd  \\\n",
       "0  0.0   0-0  1 (1)     1   0   NaN    1    2      EG            6n  5b2n@   \n",
       "1  0.0  15-0  1 (2)     1   0   NaN    1    2      EG  5b37b3b1r3n#    NaN   \n",
       "\n",
       "  Notes  1stSV  2ndSV  1stIn  2ndIn  isRally1st  isRally2nd Sv1  Sv2  \\\n",
       "0   NaN      0    0.0      0    1.0           0           1  6n    5   \n",
       "1   NaN      0    NaN      1    NaN           1           0   5  NaN   \n",
       "\n",
       "         Rally  isAce  isUnret  isRallyWinner  isForced  isUnforced  isDouble  \\\n",
       "0         b2n@  False    False          False     False        True     False   \n",
       "1  b37b3b1r3n#  False    False          False      True       False     False   \n",
       "\n",
       "   rallyLen  PtWinner  isSvrWinner PtsAfter  GmW  Gm1.1  Gm2.1  SetW  Set1.1  \\\n",
       "0         1         1            1     15-0    0      0      0     0       0   \n",
       "1         4         2            0    15-15    0      0      0     0       0   \n",
       "\n",
       "   Set2.1 rallyCount  year      player1_id      player2_id game pt_game  \n",
       "0       0          1  2020  Ernests_Gulbis  Mohamed_Safwat    1       1  \n",
       "1       0          4  2020  Ernests_Gulbis  Mohamed_Safwat    1       2  "
      ]
     },
     "execution_count": 55,
     "metadata": {},
     "output_type": "execute_result"
    },
    {
     "data": {
      "application/javascript": [
       "\n",
       "            setTimeout(function() {\n",
       "                var nbb_cell_id = 55;\n",
       "                var nbb_unformatted_code = \"pd.set_option(\\\"display.max_columns\\\", None)\\npd.set_option(\\\"display.max_rows\\\", 500)\\n# df[\\\"match_id\\\"].head(5)\\ndf.head(2)\";\n",
       "                var nbb_formatted_code = \"pd.set_option(\\\"display.max_columns\\\", None)\\npd.set_option(\\\"display.max_rows\\\", 500)\\n# df[\\\"match_id\\\"].head(5)\\ndf.head(2)\";\n",
       "                var nbb_cells = Jupyter.notebook.get_cells();\n",
       "                for (var i = 0; i < nbb_cells.length; ++i) {\n",
       "                    if (nbb_cells[i].input_prompt_number == nbb_cell_id) {\n",
       "                        if (nbb_cells[i].get_text() == nbb_unformatted_code) {\n",
       "                             nbb_cells[i].set_text(nbb_formatted_code);\n",
       "                        }\n",
       "                        break;\n",
       "                    }\n",
       "                }\n",
       "            }, 500);\n",
       "            "
      ],
      "text/plain": [
       "<IPython.core.display.Javascript object>"
      ]
     },
     "metadata": {},
     "output_type": "display_data"
    }
   ],
   "source": [
    "pd.set_option(\"display.max_columns\", None)\n",
    "pd.set_option(\"display.max_rows\", 500)\n",
    "# df[\"match_id\"].head(5)\n",
    "df.head(2)"
   ]
  },
  {
   "cell_type": "code",
   "execution_count": 7,
   "metadata": {},
   "outputs": [
    {
     "data": {
      "application/javascript": [
       "\n",
       "            setTimeout(function() {\n",
       "                var nbb_cell_id = 7;\n",
       "                var nbb_unformatted_code = \"df[\\\"year\\\"] = df[\\\"match_id\\\"].str[0:4].astype(int)\\ndf['player1_id']=None\\ndf['player2_id']=None\\ndf['player2_id']=df[\\\"match_id\\\"].str.split(\\\"-\\\").str[-1]\\ndf['player1_id']=df[\\\"match_id\\\"].str.split(\\\"-\\\").str[-2]\\n\\ndf['game']=df['Gm#'].str.split().str[0]#.astype(int)\\ndf['pt_game']=df['Gm#'].str.split().str[1].str.strip(' ()')\";\n",
       "                var nbb_formatted_code = \"df[\\\"year\\\"] = df[\\\"match_id\\\"].str[0:4].astype(int)\\ndf[\\\"player1_id\\\"] = None\\ndf[\\\"player2_id\\\"] = None\\ndf[\\\"player2_id\\\"] = df[\\\"match_id\\\"].str.split(\\\"-\\\").str[-1]\\ndf[\\\"player1_id\\\"] = df[\\\"match_id\\\"].str.split(\\\"-\\\").str[-2]\\n\\ndf[\\\"game\\\"] = df[\\\"Gm#\\\"].str.split().str[0]  # .astype(int)\\ndf[\\\"pt_game\\\"] = df[\\\"Gm#\\\"].str.split().str[1].str.strip(\\\" ()\\\")\";\n",
       "                var nbb_cells = Jupyter.notebook.get_cells();\n",
       "                for (var i = 0; i < nbb_cells.length; ++i) {\n",
       "                    if (nbb_cells[i].input_prompt_number == nbb_cell_id) {\n",
       "                        if (nbb_cells[i].get_text() == nbb_unformatted_code) {\n",
       "                             nbb_cells[i].set_text(nbb_formatted_code);\n",
       "                        }\n",
       "                        break;\n",
       "                    }\n",
       "                }\n",
       "            }, 500);\n",
       "            "
      ],
      "text/plain": [
       "<IPython.core.display.Javascript object>"
      ]
     },
     "metadata": {},
     "output_type": "display_data"
    }
   ],
   "source": [
    "df[\"year\"] = df[\"match_id\"].str[0:4].astype(int)\n",
    "df['player1_id']=None\n",
    "df['player2_id']=None\n",
    "df['player2_id']=df[\"match_id\"].str.split(\"-\").str[-1]\n",
    "df['player1_id']=df[\"match_id\"].str.split(\"-\").str[-2]\n",
    "\n",
    "df['game']=df['Gm#'].str.split().str[0]#.astype(int)\n",
    "df['pt_game']=df['Gm#'].str.split().str[1].str.strip(' ()')\n"
   ]
  },
  {
   "cell_type": "code",
   "execution_count": 8,
   "metadata": {},
   "outputs": [
    {
     "data": {
      "application/javascript": [
       "\n",
       "            setTimeout(function() {\n",
       "                var nbb_cell_id = 8;\n",
       "                var nbb_unformatted_code = \"# use only the columns I want\\ndf_trim = df[\\n    [\\n        \\\"match_id\\\",\\n        \\\"player1_id\\\",\\n        \\\"player2_id\\\",\\n        \\\"year\\\",\\n        \\\"Svr\\\",\\n        \\\"isDouble\\\",\\n        \\\"isAce\\\",\\n        \\\"PtWinner\\\",\\n        \\\"isSvrWinner\\\",\\n        \\\"Pt\\\",\\n        \\\"game\\\",\\n    ]\\n]\\n# df_trim.head(10)\";\n",
       "                var nbb_formatted_code = \"# use only the columns I want\\ndf_trim = df[\\n    [\\n        \\\"match_id\\\",\\n        \\\"player1_id\\\",\\n        \\\"player2_id\\\",\\n        \\\"year\\\",\\n        \\\"Svr\\\",\\n        \\\"isDouble\\\",\\n        \\\"isAce\\\",\\n        \\\"PtWinner\\\",\\n        \\\"isSvrWinner\\\",\\n        \\\"Pt\\\",\\n        \\\"game\\\",\\n    ]\\n]\\n# df_trim.head(10)\";\n",
       "                var nbb_cells = Jupyter.notebook.get_cells();\n",
       "                for (var i = 0; i < nbb_cells.length; ++i) {\n",
       "                    if (nbb_cells[i].input_prompt_number == nbb_cell_id) {\n",
       "                        if (nbb_cells[i].get_text() == nbb_unformatted_code) {\n",
       "                             nbb_cells[i].set_text(nbb_formatted_code);\n",
       "                        }\n",
       "                        break;\n",
       "                    }\n",
       "                }\n",
       "            }, 500);\n",
       "            "
      ],
      "text/plain": [
       "<IPython.core.display.Javascript object>"
      ]
     },
     "metadata": {},
     "output_type": "display_data"
    }
   ],
   "source": [
    "# use only the columns I want\n",
    "df_trim = df[\n",
    "    [\n",
    "        \"match_id\",\n",
    "        \"player1_id\",\n",
    "        \"player2_id\",\n",
    "        \"year\",\n",
    "        \"Svr\",\n",
    "        \"isDouble\",\n",
    "        \"isAce\",\n",
    "        \"PtWinner\",\n",
    "        \"isSvrWinner\",\n",
    "        \"Pt\",\n",
    "        \"game\",\n",
    "    ]\n",
    "]\n",
    "# df_trim.head(10)"
   ]
  },
  {
   "cell_type": "markdown",
   "metadata": {},
   "source": [
    "### Make variables that indicate if the point is within 1,2, or 3 points after a double fault ###"
   ]
  },
  {
   "cell_type": "code",
   "execution_count": 9,
   "metadata": {},
   "outputs": [
    {
     "name": "stderr",
     "output_type": "stream",
     "text": [
      "/Users/jamesmoss/opt/anaconda3/lib/python3.7/site-packages/ipykernel_launcher.py:3: SettingWithCopyWarning: \n",
      "A value is trying to be set on a copy of a slice from a DataFrame.\n",
      "Try using .loc[row_indexer,col_indexer] = value instead\n",
      "\n",
      "See the caveats in the documentation: https://pandas.pydata.org/pandas-docs/stable/user_guide/indexing.html#returning-a-view-versus-a-copy\n",
      "  This is separate from the ipykernel package so we can avoid doing imports until\n",
      "/Users/jamesmoss/opt/anaconda3/lib/python3.7/site-packages/ipykernel_launcher.py:7: SettingWithCopyWarning: \n",
      "A value is trying to be set on a copy of a slice from a DataFrame.\n",
      "Try using .loc[row_indexer,col_indexer] = value instead\n",
      "\n",
      "See the caveats in the documentation: https://pandas.pydata.org/pandas-docs/stable/user_guide/indexing.html#returning-a-view-versus-a-copy\n",
      "  import sys\n",
      "/Users/jamesmoss/opt/anaconda3/lib/python3.7/site-packages/ipykernel_launcher.py:11: SettingWithCopyWarning: \n",
      "A value is trying to be set on a copy of a slice from a DataFrame.\n",
      "Try using .loc[row_indexer,col_indexer] = value instead\n",
      "\n",
      "See the caveats in the documentation: https://pandas.pydata.org/pandas-docs/stable/user_guide/indexing.html#returning-a-view-versus-a-copy\n",
      "  # This is added back by InteractiveShellApp.init_path()\n",
      "/Users/jamesmoss/opt/anaconda3/lib/python3.7/site-packages/ipykernel_launcher.py:14: SettingWithCopyWarning: \n",
      "A value is trying to be set on a copy of a slice from a DataFrame.\n",
      "Try using .loc[row_indexer,col_indexer] = value instead\n",
      "\n",
      "See the caveats in the documentation: https://pandas.pydata.org/pandas-docs/stable/user_guide/indexing.html#returning-a-view-versus-a-copy\n",
      "  \n"
     ]
    },
    {
     "data": {
      "application/javascript": [
       "\n",
       "            setTimeout(function() {\n",
       "                var nbb_cell_id = 9;\n",
       "                var nbb_unformatted_code = \"# Here, I'm making indicating boolean variables that are exactly 1,2,and 3 points after a double fault\\n\\ndf_trim[\\\"after_double\\\"] = df_trim[\\\"isDouble\\\"]\\ndf_trim[\\\"after_double1\\\"] = df_trim.groupby(by=[\\\"match_id\\\", \\\"game\\\"])[\\n    \\\"after_double\\\"\\n].shift(\\n    periods=1, fill_value=False\\n)  #\\ndf_trim[\\\"after_double2\\\"] = df_trim.groupby(by=[\\\"match_id\\\", \\\"game\\\"])[\\n    \\\"after_double1\\\"\\n].shift(periods=1, fill_value=False)\\ndf_trim[\\\"after_double3\\\"] = df_trim.groupby(by=[\\\"match_id\\\", \\\"game\\\"])[\\n    \\\"after_double2\\\"\\n].shift(periods=1, fill_value=False)\";\n",
       "                var nbb_formatted_code = \"# Here, I'm making indicating boolean variables that are exactly 1,2,and 3 points after a double fault\\n\\ndf_trim[\\\"after_double\\\"] = df_trim[\\\"isDouble\\\"]\\ndf_trim[\\\"after_double1\\\"] = df_trim.groupby(by=[\\\"match_id\\\", \\\"game\\\"])[\\n    \\\"after_double\\\"\\n].shift(\\n    periods=1, fill_value=False\\n)  #\\ndf_trim[\\\"after_double2\\\"] = df_trim.groupby(by=[\\\"match_id\\\", \\\"game\\\"])[\\n    \\\"after_double1\\\"\\n].shift(periods=1, fill_value=False)\\ndf_trim[\\\"after_double3\\\"] = df_trim.groupby(by=[\\\"match_id\\\", \\\"game\\\"])[\\n    \\\"after_double2\\\"\\n].shift(periods=1, fill_value=False)\";\n",
       "                var nbb_cells = Jupyter.notebook.get_cells();\n",
       "                for (var i = 0; i < nbb_cells.length; ++i) {\n",
       "                    if (nbb_cells[i].input_prompt_number == nbb_cell_id) {\n",
       "                        if (nbb_cells[i].get_text() == nbb_unformatted_code) {\n",
       "                             nbb_cells[i].set_text(nbb_formatted_code);\n",
       "                        }\n",
       "                        break;\n",
       "                    }\n",
       "                }\n",
       "            }, 500);\n",
       "            "
      ],
      "text/plain": [
       "<IPython.core.display.Javascript object>"
      ]
     },
     "metadata": {},
     "output_type": "display_data"
    }
   ],
   "source": [
    "# Here, I'm making indicating boolean variables that are exactly 1,2,and 3 points after a double fault\n",
    "\n",
    "df_trim[\"after_double\"] = df_trim[\"isDouble\"]\n",
    "df_trim[\"after_double1\"] = df_trim.groupby(by=[\"match_id\", \"game\"])[\n",
    "    \"after_double\"\n",
    "].shift(\n",
    "    periods=1, fill_value=False\n",
    ")  #\n",
    "df_trim[\"after_double2\"] = df_trim.groupby(by=[\"match_id\", \"game\"])[\n",
    "    \"after_double1\"\n",
    "].shift(periods=1, fill_value=False)\n",
    "df_trim[\"after_double3\"] = df_trim.groupby(by=[\"match_id\", \"game\"])[\n",
    "    \"after_double2\"\n",
    "].shift(periods=1, fill_value=False)"
   ]
  },
  {
   "cell_type": "code",
   "execution_count": 10,
   "metadata": {},
   "outputs": [
    {
     "name": "stderr",
     "output_type": "stream",
     "text": [
      "/Users/jamesmoss/opt/anaconda3/lib/python3.7/site-packages/ipykernel_launcher.py:3: SettingWithCopyWarning: \n",
      "A value is trying to be set on a copy of a slice from a DataFrame.\n",
      "Try using .loc[row_indexer,col_indexer] = value instead\n",
      "\n",
      "See the caveats in the documentation: https://pandas.pydata.org/pandas-docs/stable/user_guide/indexing.html#returning-a-view-versus-a-copy\n",
      "  This is separate from the ipykernel package so we can avoid doing imports until\n",
      "/Users/jamesmoss/opt/anaconda3/lib/python3.7/site-packages/ipykernel_launcher.py:4: SettingWithCopyWarning: \n",
      "A value is trying to be set on a copy of a slice from a DataFrame.\n",
      "Try using .loc[row_indexer,col_indexer] = value instead\n",
      "\n",
      "See the caveats in the documentation: https://pandas.pydata.org/pandas-docs/stable/user_guide/indexing.html#returning-a-view-versus-a-copy\n",
      "  after removing the cwd from sys.path.\n",
      "/Users/jamesmoss/opt/anaconda3/lib/python3.7/site-packages/ipykernel_launcher.py:7: SettingWithCopyWarning: \n",
      "A value is trying to be set on a copy of a slice from a DataFrame.\n",
      "Try using .loc[row_indexer,col_indexer] = value instead\n",
      "\n",
      "See the caveats in the documentation: https://pandas.pydata.org/pandas-docs/stable/user_guide/indexing.html#returning-a-view-versus-a-copy\n",
      "  import sys\n"
     ]
    },
    {
     "data": {
      "application/javascript": [
       "\n",
       "            setTimeout(function() {\n",
       "                var nbb_cell_id = 10;\n",
       "                var nbb_unformatted_code = \"# Make an indicator for after losing a point as a control variable for tests below\\n\\ndf_trim[\\\"serverloss\\\"] = df_trim[\\\"isSvrWinner\\\"].astype(bool)\\ndf_trim[\\\"serverloss\\\"] = ~df_trim[\\\"serverloss\\\"]\\ndf_trim[\\\"after_serverloss\\\"] = df_trim.groupby(by=[\\\"match_id\\\", \\\"game\\\"])[\\n    \\\"serverloss\\\"\\n].shift(periods=1, fill_value=False)\";\n",
       "                var nbb_formatted_code = \"# Make an indicator for after losing a point as a control variable for tests below\\n\\ndf_trim[\\\"serverloss\\\"] = df_trim[\\\"isSvrWinner\\\"].astype(bool)\\ndf_trim[\\\"serverloss\\\"] = ~df_trim[\\\"serverloss\\\"]\\ndf_trim[\\\"after_serverloss\\\"] = df_trim.groupby(by=[\\\"match_id\\\", \\\"game\\\"])[\\n    \\\"serverloss\\\"\\n].shift(periods=1, fill_value=False)\";\n",
       "                var nbb_cells = Jupyter.notebook.get_cells();\n",
       "                for (var i = 0; i < nbb_cells.length; ++i) {\n",
       "                    if (nbb_cells[i].input_prompt_number == nbb_cell_id) {\n",
       "                        if (nbb_cells[i].get_text() == nbb_unformatted_code) {\n",
       "                             nbb_cells[i].set_text(nbb_formatted_code);\n",
       "                        }\n",
       "                        break;\n",
       "                    }\n",
       "                }\n",
       "            }, 500);\n",
       "            "
      ],
      "text/plain": [
       "<IPython.core.display.Javascript object>"
      ]
     },
     "metadata": {},
     "output_type": "display_data"
    }
   ],
   "source": [
    "# Make an indicator for after losing a point as a control variable for tests below\n",
    "\n",
    "df_trim[\"serverloss\"] = df_trim[\"isSvrWinner\"].astype(bool)\n",
    "df_trim[\"serverloss\"] = ~df_trim[\"serverloss\"]\n",
    "df_trim[\"after_serverloss\"] = df_trim.groupby(by=[\"match_id\", \"game\"])[\n",
    "    \"serverloss\"\n",
    "].shift(periods=1, fill_value=False)"
   ]
  },
  {
   "cell_type": "markdown",
   "metadata": {},
   "source": [
    "Now, I'm going to make the booleans indicate if they were **within** a certain number of points after a double fault"
   ]
  },
  {
   "cell_type": "code",
   "execution_count": 12,
   "metadata": {},
   "outputs": [
    {
     "name": "stderr",
     "output_type": "stream",
     "text": [
      "/Users/jamesmoss/opt/anaconda3/lib/python3.7/site-packages/pandas/core/indexing.py:965: SettingWithCopyWarning: \n",
      "A value is trying to be set on a copy of a slice from a DataFrame.\n",
      "Try using .loc[row_indexer,col_indexer] = value instead\n",
      "\n",
      "See the caveats in the documentation: https://pandas.pydata.org/pandas-docs/stable/user_guide/indexing.html#returning-a-view-versus-a-copy\n",
      "  self.obj[item] = s\n"
     ]
    },
    {
     "data": {
      "application/javascript": [
       "\n",
       "            setTimeout(function() {\n",
       "                var nbb_cell_id = 12;\n",
       "                var nbb_unformatted_code = \"df_trim.loc[df_trim[\\\"after_double1\\\"] == True, [\\\"after_double2\\\", \\\"after_double3\\\"]] = True\";\n",
       "                var nbb_formatted_code = \"df_trim.loc[df_trim[\\\"after_double1\\\"] == True, [\\\"after_double2\\\", \\\"after_double3\\\"]] = True\";\n",
       "                var nbb_cells = Jupyter.notebook.get_cells();\n",
       "                for (var i = 0; i < nbb_cells.length; ++i) {\n",
       "                    if (nbb_cells[i].input_prompt_number == nbb_cell_id) {\n",
       "                        if (nbb_cells[i].get_text() == nbb_unformatted_code) {\n",
       "                             nbb_cells[i].set_text(nbb_formatted_code);\n",
       "                        }\n",
       "                        break;\n",
       "                    }\n",
       "                }\n",
       "            }, 500);\n",
       "            "
      ],
      "text/plain": [
       "<IPython.core.display.Javascript object>"
      ]
     },
     "metadata": {},
     "output_type": "display_data"
    }
   ],
   "source": [
    "df_trim.loc[df_trim[\"after_double1\"] == True, [\"after_double2\", \"after_double3\"]] = True"
   ]
  },
  {
   "cell_type": "code",
   "execution_count": 13,
   "metadata": {},
   "outputs": [
    {
     "data": {
      "application/javascript": [
       "\n",
       "            setTimeout(function() {\n",
       "                var nbb_cell_id = 13;\n",
       "                var nbb_unformatted_code = \"df_trim.loc[df_trim[\\\"after_double2\\\"] == True, [\\\"after_double3\\\"]] = True\";\n",
       "                var nbb_formatted_code = \"df_trim.loc[df_trim[\\\"after_double2\\\"] == True, [\\\"after_double3\\\"]] = True\";\n",
       "                var nbb_cells = Jupyter.notebook.get_cells();\n",
       "                for (var i = 0; i < nbb_cells.length; ++i) {\n",
       "                    if (nbb_cells[i].input_prompt_number == nbb_cell_id) {\n",
       "                        if (nbb_cells[i].get_text() == nbb_unformatted_code) {\n",
       "                             nbb_cells[i].set_text(nbb_formatted_code);\n",
       "                        }\n",
       "                        break;\n",
       "                    }\n",
       "                }\n",
       "            }, 500);\n",
       "            "
      ],
      "text/plain": [
       "<IPython.core.display.Javascript object>"
      ]
     },
     "metadata": {},
     "output_type": "display_data"
    }
   ],
   "source": [
    "df_trim.loc[df_trim[\"after_double2\"] == True, [\"after_double3\"]] = True"
   ]
  },
  {
   "cell_type": "markdown",
   "metadata": {},
   "source": [
    "Now, melt the dataset so that each player has their own row for each point, then create a dataset server_df, to only keep the points where the player is serving. No information will be lost from df_trim because one player is always serving."
   ]
  },
  {
   "cell_type": "code",
   "execution_count": 56,
   "metadata": {},
   "outputs": [
    {
     "data": {
      "text/html": [
       "<div>\n",
       "<style scoped>\n",
       "    .dataframe tbody tr th:only-of-type {\n",
       "        vertical-align: middle;\n",
       "    }\n",
       "\n",
       "    .dataframe tbody tr th {\n",
       "        vertical-align: top;\n",
       "    }\n",
       "\n",
       "    .dataframe thead th {\n",
       "        text-align: right;\n",
       "    }\n",
       "</style>\n",
       "<table border=\"1\" class=\"dataframe\">\n",
       "  <thead>\n",
       "    <tr style=\"text-align: right;\">\n",
       "      <th></th>\n",
       "      <th>match_id</th>\n",
       "      <th>player1_id</th>\n",
       "      <th>player2_id</th>\n",
       "      <th>year</th>\n",
       "      <th>Svr</th>\n",
       "      <th>isDouble</th>\n",
       "      <th>isAce</th>\n",
       "      <th>PtWinner</th>\n",
       "      <th>isSvrWinner</th>\n",
       "      <th>Pt</th>\n",
       "      <th>game</th>\n",
       "      <th>after_double</th>\n",
       "      <th>after_double1</th>\n",
       "      <th>after_double2</th>\n",
       "      <th>after_double3</th>\n",
       "      <th>serverloss</th>\n",
       "      <th>after_serverloss</th>\n",
       "    </tr>\n",
       "  </thead>\n",
       "  <tbody>\n",
       "    <tr>\n",
       "      <th>0</th>\n",
       "      <td>20200307-M-Davis_Cup_WG_II-RR-Ernests_Gulbis-M...</td>\n",
       "      <td>Ernests_Gulbis</td>\n",
       "      <td>Mohamed_Safwat</td>\n",
       "      <td>2020</td>\n",
       "      <td>1</td>\n",
       "      <td>False</td>\n",
       "      <td>False</td>\n",
       "      <td>1</td>\n",
       "      <td>1</td>\n",
       "      <td>1</td>\n",
       "      <td>1</td>\n",
       "      <td>False</td>\n",
       "      <td>False</td>\n",
       "      <td>False</td>\n",
       "      <td>False</td>\n",
       "      <td>False</td>\n",
       "      <td>False</td>\n",
       "    </tr>\n",
       "    <tr>\n",
       "      <th>1</th>\n",
       "      <td>20200307-M-Davis_Cup_WG_II-RR-Ernests_Gulbis-M...</td>\n",
       "      <td>Ernests_Gulbis</td>\n",
       "      <td>Mohamed_Safwat</td>\n",
       "      <td>2020</td>\n",
       "      <td>1</td>\n",
       "      <td>False</td>\n",
       "      <td>False</td>\n",
       "      <td>2</td>\n",
       "      <td>0</td>\n",
       "      <td>2</td>\n",
       "      <td>1</td>\n",
       "      <td>False</td>\n",
       "      <td>False</td>\n",
       "      <td>False</td>\n",
       "      <td>False</td>\n",
       "      <td>True</td>\n",
       "      <td>False</td>\n",
       "    </tr>\n",
       "  </tbody>\n",
       "</table>\n",
       "</div>"
      ],
      "text/plain": [
       "                                            match_id      player1_id  \\\n",
       "0  20200307-M-Davis_Cup_WG_II-RR-Ernests_Gulbis-M...  Ernests_Gulbis   \n",
       "1  20200307-M-Davis_Cup_WG_II-RR-Ernests_Gulbis-M...  Ernests_Gulbis   \n",
       "\n",
       "       player2_id  year  Svr  isDouble  isAce  PtWinner  isSvrWinner  Pt game  \\\n",
       "0  Mohamed_Safwat  2020    1     False  False         1            1   1    1   \n",
       "1  Mohamed_Safwat  2020    1     False  False         2            0   2    1   \n",
       "\n",
       "   after_double after_double1 after_double2 after_double3  serverloss  \\\n",
       "0         False         False         False         False       False   \n",
       "1         False         False         False         False        True   \n",
       "\n",
       "  after_serverloss  \n",
       "0            False  \n",
       "1            False  "
      ]
     },
     "execution_count": 56,
     "metadata": {},
     "output_type": "execute_result"
    },
    {
     "data": {
      "application/javascript": [
       "\n",
       "            setTimeout(function() {\n",
       "                var nbb_cell_id = 56;\n",
       "                var nbb_unformatted_code = \"df_trim.head(2)\";\n",
       "                var nbb_formatted_code = \"df_trim.head(2)\";\n",
       "                var nbb_cells = Jupyter.notebook.get_cells();\n",
       "                for (var i = 0; i < nbb_cells.length; ++i) {\n",
       "                    if (nbb_cells[i].input_prompt_number == nbb_cell_id) {\n",
       "                        if (nbb_cells[i].get_text() == nbb_unformatted_code) {\n",
       "                             nbb_cells[i].set_text(nbb_formatted_code);\n",
       "                        }\n",
       "                        break;\n",
       "                    }\n",
       "                }\n",
       "            }, 500);\n",
       "            "
      ],
      "text/plain": [
       "<IPython.core.display.Javascript object>"
      ]
     },
     "metadata": {},
     "output_type": "display_data"
    }
   ],
   "source": [
    "df_trim.head(2)"
   ]
  },
  {
   "cell_type": "code",
   "execution_count": 15,
   "metadata": {},
   "outputs": [
    {
     "data": {
      "application/javascript": [
       "\n",
       "            setTimeout(function() {\n",
       "                var nbb_cell_id = 15;\n",
       "                var nbb_unformatted_code = \"melt_trim = pd.melt(\\n    df_trim,\\n    id_vars=[\\n        \\\"match_id\\\",\\n        \\\"year\\\",\\n        \\\"Pt\\\",\\n        \\\"Svr\\\",\\n        \\\"isAce\\\",\\n        \\\"game\\\",\\n        \\\"PtWinner\\\",\\n        \\\"isSvrWinner\\\",\\n        \\\"isDouble\\\",\\n        \\\"after_double1\\\",\\n        \\\"after_double2\\\",\\n        \\\"after_double3\\\",\\n    ],\\n    value_vars=[\\\"player1_id\\\", \\\"player2_id\\\"],\\n    var_name=\\\"player_number\\\",\\n    value_name=\\\"player_name\\\",\\n)\\nmelt_trim[\\\"player_number\\\"] = (\\n    melt_trim[\\\"player_number\\\"]\\n    .replace([\\\"player1_id\\\", \\\"player2_id\\\"], [\\\"1\\\", \\\"2\\\"])\\n    .astype(int)\\n)\\nserver_df = melt_trim[melt_trim[\\\"player_number\\\"] == melt_trim[\\\"Svr\\\"]]\\nserver_df = server_df.sort_values(by=[\\\"match_id\\\", \\\"Pt\\\"])\\nserver_df = server_df.rename(columns={\\\"player_name\\\": \\\"server_name\\\"})\";\n",
       "                var nbb_formatted_code = \"melt_trim = pd.melt(\\n    df_trim,\\n    id_vars=[\\n        \\\"match_id\\\",\\n        \\\"year\\\",\\n        \\\"Pt\\\",\\n        \\\"Svr\\\",\\n        \\\"isAce\\\",\\n        \\\"game\\\",\\n        \\\"PtWinner\\\",\\n        \\\"isSvrWinner\\\",\\n        \\\"isDouble\\\",\\n        \\\"after_double1\\\",\\n        \\\"after_double2\\\",\\n        \\\"after_double3\\\",\\n    ],\\n    value_vars=[\\\"player1_id\\\", \\\"player2_id\\\"],\\n    var_name=\\\"player_number\\\",\\n    value_name=\\\"player_name\\\",\\n)\\nmelt_trim[\\\"player_number\\\"] = (\\n    melt_trim[\\\"player_number\\\"]\\n    .replace([\\\"player1_id\\\", \\\"player2_id\\\"], [\\\"1\\\", \\\"2\\\"])\\n    .astype(int)\\n)\\nserver_df = melt_trim[melt_trim[\\\"player_number\\\"] == melt_trim[\\\"Svr\\\"]]\\nserver_df = server_df.sort_values(by=[\\\"match_id\\\", \\\"Pt\\\"])\\nserver_df = server_df.rename(columns={\\\"player_name\\\": \\\"server_name\\\"})\";\n",
       "                var nbb_cells = Jupyter.notebook.get_cells();\n",
       "                for (var i = 0; i < nbb_cells.length; ++i) {\n",
       "                    if (nbb_cells[i].input_prompt_number == nbb_cell_id) {\n",
       "                        if (nbb_cells[i].get_text() == nbb_unformatted_code) {\n",
       "                             nbb_cells[i].set_text(nbb_formatted_code);\n",
       "                        }\n",
       "                        break;\n",
       "                    }\n",
       "                }\n",
       "            }, 500);\n",
       "            "
      ],
      "text/plain": [
       "<IPython.core.display.Javascript object>"
      ]
     },
     "metadata": {},
     "output_type": "display_data"
    }
   ],
   "source": [
    "melt_trim = pd.melt(\n",
    "    df_trim,\n",
    "    id_vars=[\n",
    "        \"match_id\",\n",
    "        \"year\",\n",
    "        \"Pt\",\n",
    "        \"Svr\",\n",
    "        \"isAce\",\n",
    "        \"game\",\n",
    "        \"PtWinner\",\n",
    "        \"isSvrWinner\",\n",
    "        \"isDouble\",\n",
    "        \"after_double1\",\n",
    "        \"after_double2\",\n",
    "        \"after_double3\",\n",
    "    ],\n",
    "    value_vars=[\"player1_id\", \"player2_id\"],\n",
    "    var_name=\"player_number\",\n",
    "    value_name=\"player_name\",\n",
    ")\n",
    "melt_trim[\"player_number\"] = (\n",
    "    melt_trim[\"player_number\"]\n",
    "    .replace([\"player1_id\", \"player2_id\"], [\"1\", \"2\"])\n",
    "    .astype(int)\n",
    ")\n",
    "server_df = melt_trim[melt_trim[\"player_number\"] == melt_trim[\"Svr\"]]\n",
    "server_df = server_df.sort_values(by=[\"match_id\", \"Pt\"])\n",
    "server_df = server_df.rename(columns={\"player_name\": \"server_name\"})"
   ]
  },
  {
   "cell_type": "code",
   "execution_count": 57,
   "metadata": {
    "scrolled": false
   },
   "outputs": [
    {
     "data": {
      "text/html": [
       "<div>\n",
       "<style scoped>\n",
       "    .dataframe tbody tr th:only-of-type {\n",
       "        vertical-align: middle;\n",
       "    }\n",
       "\n",
       "    .dataframe tbody tr th {\n",
       "        vertical-align: top;\n",
       "    }\n",
       "\n",
       "    .dataframe thead th {\n",
       "        text-align: right;\n",
       "    }\n",
       "</style>\n",
       "<table border=\"1\" class=\"dataframe\">\n",
       "  <thead>\n",
       "    <tr style=\"text-align: right;\">\n",
       "      <th></th>\n",
       "      <th>match_id</th>\n",
       "      <th>year</th>\n",
       "      <th>Pt</th>\n",
       "      <th>Svr</th>\n",
       "      <th>isAce</th>\n",
       "      <th>game</th>\n",
       "      <th>PtWinner</th>\n",
       "      <th>isSvrWinner</th>\n",
       "      <th>isDouble</th>\n",
       "      <th>after_double1</th>\n",
       "      <th>after_double2</th>\n",
       "      <th>after_double3</th>\n",
       "      <th>player_number</th>\n",
       "      <th>server_name</th>\n",
       "    </tr>\n",
       "  </thead>\n",
       "  <tbody>\n",
       "    <tr>\n",
       "      <th>439687</th>\n",
       "      <td>19700704-M-Wimbledon-F-John_Newcombe-Ken_Rosewall</td>\n",
       "      <td>1970</td>\n",
       "      <td>1</td>\n",
       "      <td>1</td>\n",
       "      <td>False</td>\n",
       "      <td>1</td>\n",
       "      <td>1</td>\n",
       "      <td>1</td>\n",
       "      <td>False</td>\n",
       "      <td>False</td>\n",
       "      <td>False</td>\n",
       "      <td>False</td>\n",
       "      <td>1</td>\n",
       "      <td>John_Newcombe</td>\n",
       "    </tr>\n",
       "    <tr>\n",
       "      <th>439688</th>\n",
       "      <td>19700704-M-Wimbledon-F-John_Newcombe-Ken_Rosewall</td>\n",
       "      <td>1970</td>\n",
       "      <td>2</td>\n",
       "      <td>1</td>\n",
       "      <td>False</td>\n",
       "      <td>1</td>\n",
       "      <td>2</td>\n",
       "      <td>0</td>\n",
       "      <td>False</td>\n",
       "      <td>False</td>\n",
       "      <td>False</td>\n",
       "      <td>False</td>\n",
       "      <td>1</td>\n",
       "      <td>John_Newcombe</td>\n",
       "    </tr>\n",
       "    <tr>\n",
       "      <th>439689</th>\n",
       "      <td>19700704-M-Wimbledon-F-John_Newcombe-Ken_Rosewall</td>\n",
       "      <td>1970</td>\n",
       "      <td>3</td>\n",
       "      <td>1</td>\n",
       "      <td>False</td>\n",
       "      <td>1</td>\n",
       "      <td>1</td>\n",
       "      <td>1</td>\n",
       "      <td>False</td>\n",
       "      <td>False</td>\n",
       "      <td>False</td>\n",
       "      <td>False</td>\n",
       "      <td>1</td>\n",
       "      <td>John_Newcombe</td>\n",
       "    </tr>\n",
       "    <tr>\n",
       "      <th>439690</th>\n",
       "      <td>19700704-M-Wimbledon-F-John_Newcombe-Ken_Rosewall</td>\n",
       "      <td>1970</td>\n",
       "      <td>4</td>\n",
       "      <td>1</td>\n",
       "      <td>False</td>\n",
       "      <td>1</td>\n",
       "      <td>1</td>\n",
       "      <td>1</td>\n",
       "      <td>False</td>\n",
       "      <td>False</td>\n",
       "      <td>False</td>\n",
       "      <td>False</td>\n",
       "      <td>1</td>\n",
       "      <td>John_Newcombe</td>\n",
       "    </tr>\n",
       "  </tbody>\n",
       "</table>\n",
       "</div>"
      ],
      "text/plain": [
       "                                                 match_id  year  Pt  Svr  \\\n",
       "439687  19700704-M-Wimbledon-F-John_Newcombe-Ken_Rosewall  1970   1    1   \n",
       "439688  19700704-M-Wimbledon-F-John_Newcombe-Ken_Rosewall  1970   2    1   \n",
       "439689  19700704-M-Wimbledon-F-John_Newcombe-Ken_Rosewall  1970   3    1   \n",
       "439690  19700704-M-Wimbledon-F-John_Newcombe-Ken_Rosewall  1970   4    1   \n",
       "\n",
       "        isAce game  PtWinner  isSvrWinner  isDouble after_double1  \\\n",
       "439687  False    1         1            1     False         False   \n",
       "439688  False    1         2            0     False         False   \n",
       "439689  False    1         1            1     False         False   \n",
       "439690  False    1         1            1     False         False   \n",
       "\n",
       "       after_double2 after_double3  player_number    server_name  \n",
       "439687         False         False              1  John_Newcombe  \n",
       "439688         False         False              1  John_Newcombe  \n",
       "439689         False         False              1  John_Newcombe  \n",
       "439690         False         False              1  John_Newcombe  "
      ]
     },
     "execution_count": 57,
     "metadata": {},
     "output_type": "execute_result"
    },
    {
     "data": {
      "application/javascript": [
       "\n",
       "            setTimeout(function() {\n",
       "                var nbb_cell_id = 57;\n",
       "                var nbb_unformatted_code = \"server_df.head(4)\\n# server_df.info()\";\n",
       "                var nbb_formatted_code = \"server_df.head(4)\\n# server_df.info()\";\n",
       "                var nbb_cells = Jupyter.notebook.get_cells();\n",
       "                for (var i = 0; i < nbb_cells.length; ++i) {\n",
       "                    if (nbb_cells[i].input_prompt_number == nbb_cell_id) {\n",
       "                        if (nbb_cells[i].get_text() == nbb_unformatted_code) {\n",
       "                             nbb_cells[i].set_text(nbb_formatted_code);\n",
       "                        }\n",
       "                        break;\n",
       "                    }\n",
       "                }\n",
       "            }, 500);\n",
       "            "
      ],
      "text/plain": [
       "<IPython.core.display.Javascript object>"
      ]
     },
     "metadata": {},
     "output_type": "display_data"
    }
   ],
   "source": [
    "server_df.head(4)\n",
    "# server_df.info()"
   ]
  },
  {
   "cell_type": "markdown",
   "metadata": {},
   "source": [
    "### Make datasets consisting of points after a double fault: ### "
   ]
  },
  {
   "cell_type": "code",
   "execution_count": 17,
   "metadata": {},
   "outputs": [
    {
     "data": {
      "application/javascript": [
       "\n",
       "            setTimeout(function() {\n",
       "                var nbb_cell_id = 17;\n",
       "                var nbb_unformatted_code = \"server_isDouble = server_df[server_df[\\\"isDouble\\\"] == True]\\nserver_after_double1 = server_df[server_df[\\\"after_double1\\\"] == True]\\nserver_after_double2 = server_df[server_df[\\\"after_double2\\\"] == True]\\nserver_after_double3 = server_df[server_df[\\\"after_double3\\\"] == True]\";\n",
       "                var nbb_formatted_code = \"server_isDouble = server_df[server_df[\\\"isDouble\\\"] == True]\\nserver_after_double1 = server_df[server_df[\\\"after_double1\\\"] == True]\\nserver_after_double2 = server_df[server_df[\\\"after_double2\\\"] == True]\\nserver_after_double3 = server_df[server_df[\\\"after_double3\\\"] == True]\";\n",
       "                var nbb_cells = Jupyter.notebook.get_cells();\n",
       "                for (var i = 0; i < nbb_cells.length; ++i) {\n",
       "                    if (nbb_cells[i].input_prompt_number == nbb_cell_id) {\n",
       "                        if (nbb_cells[i].get_text() == nbb_unformatted_code) {\n",
       "                             nbb_cells[i].set_text(nbb_formatted_code);\n",
       "                        }\n",
       "                        break;\n",
       "                    }\n",
       "                }\n",
       "            }, 500);\n",
       "            "
      ],
      "text/plain": [
       "<IPython.core.display.Javascript object>"
      ]
     },
     "metadata": {},
     "output_type": "display_data"
    }
   ],
   "source": [
    "server_isDouble = server_df[server_df[\"isDouble\"] == True]\n",
    "server_after_double1 = server_df[server_df[\"after_double1\"] == True]\n",
    "server_after_double2 = server_df[server_df[\"after_double2\"] == True]\n",
    "server_after_double3 = server_df[server_df[\"after_double3\"] == True]"
   ]
  },
  {
   "cell_type": "markdown",
   "metadata": {},
   "source": [
    "### Take the means on a per match and per player basis and look at the shape ###"
   ]
  },
  {
   "cell_type": "markdown",
   "metadata": {},
   "source": [
    "***Per-match basis:***"
   ]
  },
  {
   "cell_type": "code",
   "execution_count": 18,
   "metadata": {},
   "outputs": [
    {
     "data": {
      "application/javascript": [
       "\n",
       "            setTimeout(function() {\n",
       "                var nbb_cell_id = 18;\n",
       "                var nbb_unformatted_code = \"server_df_match_means= server_df.groupby('match_id').agg(year=('year', 'min'), ServeWinnerMean=('isSvrWinner', 'mean'), PtsTotal=('Pt', 'count'), ServeWinnerSum=('isSvrWinner', 'sum'))\\nserver_df_match_means['pts_after_fault']=0\\nserver_after_double1_match_means=server_after_double1.groupby('match_id').agg(year=('year', 'min'), ServeWinnerMean=('isSvrWinner', 'mean'), PtsTotal=('Pt', 'count'), ServeWinnerSum=('isSvrWinner', 'sum'))\\nserver_after_double1_match_means['pts_after_fault']=1\\n\\nserver_after_double2_match_means=server_after_double2.groupby('match_id').agg(year=('year', 'min'), ServeWinnerMean=('isSvrWinner', 'mean'), PtsTotal=('Pt', 'count'), ServeWinnerSum=('isSvrWinner', 'sum'))\\nserver_after_double2_match_means['pts_after_fault']=2\\n\\nserver_after_double3_match_means=server_after_double3.groupby('match_id').agg(year=('year', 'min'), ServeWinnerMean=('isSvrWinner', 'mean'), PtsTotal=('Pt', 'count'), ServeWinnerSum=('isSvrWinner', 'sum'))\\nserver_after_double3_match_means['pts_after_fault']=3\";\n",
       "                var nbb_formatted_code = \"server_df_match_means = server_df.groupby(\\\"match_id\\\").agg(\\n    year=(\\\"year\\\", \\\"min\\\"),\\n    ServeWinnerMean=(\\\"isSvrWinner\\\", \\\"mean\\\"),\\n    PtsTotal=(\\\"Pt\\\", \\\"count\\\"),\\n    ServeWinnerSum=(\\\"isSvrWinner\\\", \\\"sum\\\"),\\n)\\nserver_df_match_means[\\\"pts_after_fault\\\"] = 0\\nserver_after_double1_match_means = server_after_double1.groupby(\\\"match_id\\\").agg(\\n    year=(\\\"year\\\", \\\"min\\\"),\\n    ServeWinnerMean=(\\\"isSvrWinner\\\", \\\"mean\\\"),\\n    PtsTotal=(\\\"Pt\\\", \\\"count\\\"),\\n    ServeWinnerSum=(\\\"isSvrWinner\\\", \\\"sum\\\"),\\n)\\nserver_after_double1_match_means[\\\"pts_after_fault\\\"] = 1\\n\\nserver_after_double2_match_means = server_after_double2.groupby(\\\"match_id\\\").agg(\\n    year=(\\\"year\\\", \\\"min\\\"),\\n    ServeWinnerMean=(\\\"isSvrWinner\\\", \\\"mean\\\"),\\n    PtsTotal=(\\\"Pt\\\", \\\"count\\\"),\\n    ServeWinnerSum=(\\\"isSvrWinner\\\", \\\"sum\\\"),\\n)\\nserver_after_double2_match_means[\\\"pts_after_fault\\\"] = 2\\n\\nserver_after_double3_match_means = server_after_double3.groupby(\\\"match_id\\\").agg(\\n    year=(\\\"year\\\", \\\"min\\\"),\\n    ServeWinnerMean=(\\\"isSvrWinner\\\", \\\"mean\\\"),\\n    PtsTotal=(\\\"Pt\\\", \\\"count\\\"),\\n    ServeWinnerSum=(\\\"isSvrWinner\\\", \\\"sum\\\"),\\n)\\nserver_after_double3_match_means[\\\"pts_after_fault\\\"] = 3\";\n",
       "                var nbb_cells = Jupyter.notebook.get_cells();\n",
       "                for (var i = 0; i < nbb_cells.length; ++i) {\n",
       "                    if (nbb_cells[i].input_prompt_number == nbb_cell_id) {\n",
       "                        if (nbb_cells[i].get_text() == nbb_unformatted_code) {\n",
       "                             nbb_cells[i].set_text(nbb_formatted_code);\n",
       "                        }\n",
       "                        break;\n",
       "                    }\n",
       "                }\n",
       "            }, 500);\n",
       "            "
      ],
      "text/plain": [
       "<IPython.core.display.Javascript object>"
      ]
     },
     "metadata": {},
     "output_type": "display_data"
    }
   ],
   "source": [
    "server_df_match_means= server_df.groupby('match_id').agg(year=('year', 'min'), ServeWinnerMean=('isSvrWinner', 'mean'), PtsTotal=('Pt', 'count'), ServeWinnerSum=('isSvrWinner', 'sum'))\n",
    "server_df_match_means['pts_after_fault']=0\n",
    "server_after_double1_match_means=server_after_double1.groupby('match_id').agg(year=('year', 'min'), ServeWinnerMean=('isSvrWinner', 'mean'), PtsTotal=('Pt', 'count'), ServeWinnerSum=('isSvrWinner', 'sum'))\n",
    "server_after_double1_match_means['pts_after_fault']=1\n",
    "\n",
    "server_after_double2_match_means=server_after_double2.groupby('match_id').agg(year=('year', 'min'), ServeWinnerMean=('isSvrWinner', 'mean'), PtsTotal=('Pt', 'count'), ServeWinnerSum=('isSvrWinner', 'sum'))\n",
    "server_after_double2_match_means['pts_after_fault']=2\n",
    "\n",
    "server_after_double3_match_means=server_after_double3.groupby('match_id').agg(year=('year', 'min'), ServeWinnerMean=('isSvrWinner', 'mean'), PtsTotal=('Pt', 'count'), ServeWinnerSum=('isSvrWinner', 'sum'))\n",
    "server_after_double3_match_means['pts_after_fault']=3\n"
   ]
  },
  {
   "cell_type": "markdown",
   "metadata": {},
   "source": [
    "**Per-player basis:**"
   ]
  },
  {
   "cell_type": "code",
   "execution_count": 19,
   "metadata": {},
   "outputs": [
    {
     "data": {
      "application/javascript": [
       "\n",
       "            setTimeout(function() {\n",
       "                var nbb_cell_id = 19;\n",
       "                var nbb_unformatted_code = \"server_df_player_means= server_df.groupby('server_name').agg(firstyear=('year', 'min'), TotalWinnerMean=('isSvrWinner', 'mean'), TotalPtsTotal=('Pt', 'count'), TotalServeWinnerSum=('isSvrWinner', 'sum'))\\nserver_after_double1_player_means=server_after_double1.groupby('server_name').agg(Double1WinnerMean=('isSvrWinner', 'mean'), Double1PtsTotal=('Pt', 'count'), Double1WinnerSum=('isSvrWinner', 'sum'))\\nserver_after_double2_player_means=server_after_double2.groupby('server_name').agg(Double2WinnerMean=('isSvrWinner', 'mean'), Double2PtsTotal=('Pt', 'count'), Double2WinnerSum=('isSvrWinner', 'sum'))\\nserver_after_double3_player_means=server_after_double3.groupby('server_name').agg(Double3WinnerMean=('isSvrWinner', 'mean'), Double3PtsTotal=('Pt', 'count'), Double3WinnerSum=('isSvrWinner', 'sum'))\";\n",
       "                var nbb_formatted_code = \"server_df_player_means = server_df.groupby(\\\"server_name\\\").agg(\\n    firstyear=(\\\"year\\\", \\\"min\\\"),\\n    TotalWinnerMean=(\\\"isSvrWinner\\\", \\\"mean\\\"),\\n    TotalPtsTotal=(\\\"Pt\\\", \\\"count\\\"),\\n    TotalServeWinnerSum=(\\\"isSvrWinner\\\", \\\"sum\\\"),\\n)\\nserver_after_double1_player_means = server_after_double1.groupby(\\\"server_name\\\").agg(\\n    Double1WinnerMean=(\\\"isSvrWinner\\\", \\\"mean\\\"),\\n    Double1PtsTotal=(\\\"Pt\\\", \\\"count\\\"),\\n    Double1WinnerSum=(\\\"isSvrWinner\\\", \\\"sum\\\"),\\n)\\nserver_after_double2_player_means = server_after_double2.groupby(\\\"server_name\\\").agg(\\n    Double2WinnerMean=(\\\"isSvrWinner\\\", \\\"mean\\\"),\\n    Double2PtsTotal=(\\\"Pt\\\", \\\"count\\\"),\\n    Double2WinnerSum=(\\\"isSvrWinner\\\", \\\"sum\\\"),\\n)\\nserver_after_double3_player_means = server_after_double3.groupby(\\\"server_name\\\").agg(\\n    Double3WinnerMean=(\\\"isSvrWinner\\\", \\\"mean\\\"),\\n    Double3PtsTotal=(\\\"Pt\\\", \\\"count\\\"),\\n    Double3WinnerSum=(\\\"isSvrWinner\\\", \\\"sum\\\"),\\n)\";\n",
       "                var nbb_cells = Jupyter.notebook.get_cells();\n",
       "                for (var i = 0; i < nbb_cells.length; ++i) {\n",
       "                    if (nbb_cells[i].input_prompt_number == nbb_cell_id) {\n",
       "                        if (nbb_cells[i].get_text() == nbb_unformatted_code) {\n",
       "                             nbb_cells[i].set_text(nbb_formatted_code);\n",
       "                        }\n",
       "                        break;\n",
       "                    }\n",
       "                }\n",
       "            }, 500);\n",
       "            "
      ],
      "text/plain": [
       "<IPython.core.display.Javascript object>"
      ]
     },
     "metadata": {},
     "output_type": "display_data"
    }
   ],
   "source": [
    "server_df_player_means= server_df.groupby('server_name').agg(firstyear=('year', 'min'), TotalWinnerMean=('isSvrWinner', 'mean'), TotalPtsTotal=('Pt', 'count'), TotalServeWinnerSum=('isSvrWinner', 'sum'))\n",
    "server_after_double1_player_means=server_after_double1.groupby('server_name').agg(Double1WinnerMean=('isSvrWinner', 'mean'), Double1PtsTotal=('Pt', 'count'), Double1WinnerSum=('isSvrWinner', 'sum'))\n",
    "server_after_double2_player_means=server_after_double2.groupby('server_name').agg(Double2WinnerMean=('isSvrWinner', 'mean'), Double2PtsTotal=('Pt', 'count'), Double2WinnerSum=('isSvrWinner', 'sum'))\n",
    "server_after_double3_player_means=server_after_double3.groupby('server_name').agg(Double3WinnerMean=('isSvrWinner', 'mean'), Double3PtsTotal=('Pt', 'count'), Double3WinnerSum=('isSvrWinner', 'sum'))\n"
   ]
  },
  {
   "cell_type": "code",
   "execution_count": 20,
   "metadata": {
    "scrolled": true
   },
   "outputs": [
    {
     "data": {
      "text/html": [
       "<div>\n",
       "<style scoped>\n",
       "    .dataframe tbody tr th:only-of-type {\n",
       "        vertical-align: middle;\n",
       "    }\n",
       "\n",
       "    .dataframe tbody tr th {\n",
       "        vertical-align: top;\n",
       "    }\n",
       "\n",
       "    .dataframe thead th {\n",
       "        text-align: right;\n",
       "    }\n",
       "</style>\n",
       "<table border=\"1\" class=\"dataframe\">\n",
       "  <thead>\n",
       "    <tr style=\"text-align: right;\">\n",
       "      <th></th>\n",
       "      <th>firstyear</th>\n",
       "      <th>TotalWinnerMean</th>\n",
       "      <th>TotalPtsTotal</th>\n",
       "      <th>TotalServeWinnerSum</th>\n",
       "    </tr>\n",
       "    <tr>\n",
       "      <th>server_name</th>\n",
       "      <th></th>\n",
       "      <th></th>\n",
       "      <th></th>\n",
       "      <th></th>\n",
       "    </tr>\n",
       "  </thead>\n",
       "  <tbody>\n",
       "    <tr>\n",
       "      <th>Aaron_Krickstein</th>\n",
       "      <td>1989</td>\n",
       "      <td>0.508897</td>\n",
       "      <td>281</td>\n",
       "      <td>143</td>\n",
       "    </tr>\n",
       "    <tr>\n",
       "      <th>Adam_Pavlasek</th>\n",
       "      <td>2016</td>\n",
       "      <td>0.622340</td>\n",
       "      <td>188</td>\n",
       "      <td>117</td>\n",
       "    </tr>\n",
       "    <tr>\n",
       "      <th>Adrian_Mannarino</th>\n",
       "      <td>2015</td>\n",
       "      <td>0.613445</td>\n",
       "      <td>595</td>\n",
       "      <td>365</td>\n",
       "    </tr>\n",
       "    <tr>\n",
       "      <th>Adriano_Panatta</th>\n",
       "      <td>1974</td>\n",
       "      <td>0.490909</td>\n",
       "      <td>110</td>\n",
       "      <td>54</td>\n",
       "    </tr>\n",
       "    <tr>\n",
       "      <th>Albert_Costa</th>\n",
       "      <td>1996</td>\n",
       "      <td>0.580537</td>\n",
       "      <td>298</td>\n",
       "      <td>173</td>\n",
       "    </tr>\n",
       "  </tbody>\n",
       "</table>\n",
       "</div>"
      ],
      "text/plain": [
       "                  firstyear  TotalWinnerMean  TotalPtsTotal  \\\n",
       "server_name                                                   \n",
       "Aaron_Krickstein       1989         0.508897            281   \n",
       "Adam_Pavlasek          2016         0.622340            188   \n",
       "Adrian_Mannarino       2015         0.613445            595   \n",
       "Adriano_Panatta        1974         0.490909            110   \n",
       "Albert_Costa           1996         0.580537            298   \n",
       "\n",
       "                  TotalServeWinnerSum  \n",
       "server_name                            \n",
       "Aaron_Krickstein                  143  \n",
       "Adam_Pavlasek                     117  \n",
       "Adrian_Mannarino                  365  \n",
       "Adriano_Panatta                    54  \n",
       "Albert_Costa                      173  "
      ]
     },
     "execution_count": 20,
     "metadata": {},
     "output_type": "execute_result"
    },
    {
     "data": {
      "application/javascript": [
       "\n",
       "            setTimeout(function() {\n",
       "                var nbb_cell_id = 20;\n",
       "                var nbb_unformatted_code = \"server_df_player_means[server_df_player_means[\\\"TotalPtsTotal\\\"] > 100].head()\";\n",
       "                var nbb_formatted_code = \"server_df_player_means[server_df_player_means[\\\"TotalPtsTotal\\\"] > 100].head()\";\n",
       "                var nbb_cells = Jupyter.notebook.get_cells();\n",
       "                for (var i = 0; i < nbb_cells.length; ++i) {\n",
       "                    if (nbb_cells[i].input_prompt_number == nbb_cell_id) {\n",
       "                        if (nbb_cells[i].get_text() == nbb_unformatted_code) {\n",
       "                             nbb_cells[i].set_text(nbb_formatted_code);\n",
       "                        }\n",
       "                        break;\n",
       "                    }\n",
       "                }\n",
       "            }, 500);\n",
       "            "
      ],
      "text/plain": [
       "<IPython.core.display.Javascript object>"
      ]
     },
     "metadata": {},
     "output_type": "display_data"
    }
   ],
   "source": [
    "server_df_player_means[server_df_player_means[\"TotalPtsTotal\"] > 100].head()"
   ]
  },
  {
   "cell_type": "markdown",
   "metadata": {},
   "source": [
    "**Now append the match datasets:**"
   ]
  },
  {
   "cell_type": "code",
   "execution_count": 21,
   "metadata": {},
   "outputs": [
    {
     "data": {
      "application/javascript": [
       "\n",
       "            setTimeout(function() {\n",
       "                var nbb_cell_id = 21;\n",
       "                var nbb_unformatted_code = \"# append the datasets, note: find a better name\\nappended_server = (\\n    server_df_match_means.append(server_after_double1_match_means, ignore_index=False)\\n    .append(server_after_double2_match_means, ignore_index=False)\\n    .append(server_after_double3_match_means, ignore_index=False)\\n)\\n\\n# appended_server_byplayer = (\\n#     server_df_player_means.append(server_after_double1_player_means, ignore_index=False)\\n#     .append(server_after_double2_player_means, ignore_index=False)\\n#     .append(server_after_double3_player_means, ignore_index=False)\\n# )\";\n",
       "                var nbb_formatted_code = \"# append the datasets, note: find a better name\\nappended_server = (\\n    server_df_match_means.append(server_after_double1_match_means, ignore_index=False)\\n    .append(server_after_double2_match_means, ignore_index=False)\\n    .append(server_after_double3_match_means, ignore_index=False)\\n)\\n\\n# appended_server_byplayer = (\\n#     server_df_player_means.append(server_after_double1_player_means, ignore_index=False)\\n#     .append(server_after_double2_player_means, ignore_index=False)\\n#     .append(server_after_double3_player_means, ignore_index=False)\\n# )\";\n",
       "                var nbb_cells = Jupyter.notebook.get_cells();\n",
       "                for (var i = 0; i < nbb_cells.length; ++i) {\n",
       "                    if (nbb_cells[i].input_prompt_number == nbb_cell_id) {\n",
       "                        if (nbb_cells[i].get_text() == nbb_unformatted_code) {\n",
       "                             nbb_cells[i].set_text(nbb_formatted_code);\n",
       "                        }\n",
       "                        break;\n",
       "                    }\n",
       "                }\n",
       "            }, 500);\n",
       "            "
      ],
      "text/plain": [
       "<IPython.core.display.Javascript object>"
      ]
     },
     "metadata": {},
     "output_type": "display_data"
    }
   ],
   "source": [
    "# append the datasets, note: find a better name\n",
    "appended_server = (\n",
    "    server_df_match_means.append(server_after_double1_match_means, ignore_index=False)\n",
    "    .append(server_after_double2_match_means, ignore_index=False)\n",
    "    .append(server_after_double3_match_means, ignore_index=False)\n",
    ")\n"
   ]
  },
  {
   "cell_type": "markdown",
   "metadata": {},
   "source": [
    "**Merge the player datasets (I'm doing this rather than append because it was a pain to only keep players who have hit a certain number of serves in the appended version)**"
   ]
  },
  {
   "cell_type": "code",
   "execution_count": 22,
   "metadata": {},
   "outputs": [
    {
     "data": {
      "application/javascript": [
       "\n",
       "            setTimeout(function() {\n",
       "                var nbb_cell_id = 22;\n",
       "                var nbb_unformatted_code = \"merged_players = (\\n    server_df_player_means.merge(\\n        server_after_double1_player_means, left_on=\\\"server_name\\\", right_on=\\\"server_name\\\"\\n    )\\n    .merge(\\n        server_after_double2_player_means, left_on=\\\"server_name\\\", right_on=\\\"server_name\\\"\\n    )\\n    .merge(\\n        server_after_double3_player_means, left_on=\\\"server_name\\\", right_on=\\\"server_name\\\"\\n    )\\n)\";\n",
       "                var nbb_formatted_code = \"merged_players = (\\n    server_df_player_means.merge(\\n        server_after_double1_player_means, left_on=\\\"server_name\\\", right_on=\\\"server_name\\\"\\n    )\\n    .merge(\\n        server_after_double2_player_means, left_on=\\\"server_name\\\", right_on=\\\"server_name\\\"\\n    )\\n    .merge(\\n        server_after_double3_player_means, left_on=\\\"server_name\\\", right_on=\\\"server_name\\\"\\n    )\\n)\";\n",
       "                var nbb_cells = Jupyter.notebook.get_cells();\n",
       "                for (var i = 0; i < nbb_cells.length; ++i) {\n",
       "                    if (nbb_cells[i].input_prompt_number == nbb_cell_id) {\n",
       "                        if (nbb_cells[i].get_text() == nbb_unformatted_code) {\n",
       "                             nbb_cells[i].set_text(nbb_formatted_code);\n",
       "                        }\n",
       "                        break;\n",
       "                    }\n",
       "                }\n",
       "            }, 500);\n",
       "            "
      ],
      "text/plain": [
       "<IPython.core.display.Javascript object>"
      ]
     },
     "metadata": {},
     "output_type": "display_data"
    }
   ],
   "source": [
    "merged_players = (\n",
    "    server_df_player_means.merge(\n",
    "        server_after_double1_player_means, left_on=\"server_name\", right_on=\"server_name\"\n",
    "    )\n",
    "    .merge(\n",
    "        server_after_double2_player_means, left_on=\"server_name\", right_on=\"server_name\"\n",
    "    )\n",
    "    .merge(\n",
    "        server_after_double3_player_means, left_on=\"server_name\", right_on=\"server_name\"\n",
    "    )\n",
    ")"
   ]
  },
  {
   "cell_type": "markdown",
   "metadata": {},
   "source": [
    "### Now we'll see if there is a difference of means for the match level data ###"
   ]
  },
  {
   "cell_type": "code",
   "execution_count": 23,
   "metadata": {
    "scrolled": true
   },
   "outputs": [
    {
     "data": {
      "image/png": "[encoded data removed]",
      "text/plain": [
       "<Figure size 432x288 with 1 Axes>"
      ]
     },
     "metadata": {
      "needs_background": "light"
     },
     "output_type": "display_data"
    },
    {
     "data": {
      "application/javascript": [
       "\n",
       "            setTimeout(function() {\n",
       "                var nbb_cell_id = 23;\n",
       "                var nbb_unformatted_code = \"ax = sns.boxplot(x=\\\"pts_after_fault\\\", y=\\\"ServeWinnerMean\\\", data=appended_server)\";\n",
       "                var nbb_formatted_code = \"ax = sns.boxplot(x=\\\"pts_after_fault\\\", y=\\\"ServeWinnerMean\\\", data=appended_server)\";\n",
       "                var nbb_cells = Jupyter.notebook.get_cells();\n",
       "                for (var i = 0; i < nbb_cells.length; ++i) {\n",
       "                    if (nbb_cells[i].input_prompt_number == nbb_cell_id) {\n",
       "                        if (nbb_cells[i].get_text() == nbb_unformatted_code) {\n",
       "                             nbb_cells[i].set_text(nbb_formatted_code);\n",
       "                        }\n",
       "                        break;\n",
       "                    }\n",
       "                }\n",
       "            }, 500);\n",
       "            "
      ],
      "text/plain": [
       "<IPython.core.display.Javascript object>"
      ]
     },
     "metadata": {},
     "output_type": "display_data"
    }
   ],
   "source": [
    "ax = sns.boxplot(x=\"pts_after_fault\", y=\"ServeWinnerMean\", data=appended_server)"
   ]
  },
  {
   "cell_type": "markdown",
   "metadata": {},
   "source": [
    "**Checking for normality:**"
   ]
  },
  {
   "cell_type": "code",
   "execution_count": 24,
   "metadata": {},
   "outputs": [
    {
     "data": {
      "image/png": "[encoded data removed]",
      "text/plain": [
       "<Figure size 432x288 with 1 Axes>"
      ]
     },
     "metadata": {
      "needs_background": "light"
     },
     "output_type": "display_data"
    },
    {
     "data": {
      "application/javascript": [
       "\n",
       "            setTimeout(function() {\n",
       "                var nbb_cell_id = 24;\n",
       "                var nbb_unformatted_code = \"overall_ptwins_plt = sns.distplot(server_df_match_means[\\\"ServeWinnerMean\\\"], kde=False)\";\n",
       "                var nbb_formatted_code = \"overall_ptwins_plt = sns.distplot(server_df_match_means[\\\"ServeWinnerMean\\\"], kde=False)\";\n",
       "                var nbb_cells = Jupyter.notebook.get_cells();\n",
       "                for (var i = 0; i < nbb_cells.length; ++i) {\n",
       "                    if (nbb_cells[i].input_prompt_number == nbb_cell_id) {\n",
       "                        if (nbb_cells[i].get_text() == nbb_unformatted_code) {\n",
       "                             nbb_cells[i].set_text(nbb_formatted_code);\n",
       "                        }\n",
       "                        break;\n",
       "                    }\n",
       "                }\n",
       "            }, 500);\n",
       "            "
      ],
      "text/plain": [
       "<IPython.core.display.Javascript object>"
      ]
     },
     "metadata": {},
     "output_type": "display_data"
    }
   ],
   "source": [
    "overall_ptwins_plt = sns.distplot(server_df_match_means[\"ServeWinnerMean\"], kde=False)"
   ]
  },
  {
   "cell_type": "code",
   "execution_count": 25,
   "metadata": {},
   "outputs": [
    {
     "data": {
      "image/png": "[encoded data removed]",
      "text/plain": [
       "<Figure size 432x288 with 1 Axes>"
      ]
     },
     "metadata": {
      "needs_background": "light"
     },
     "output_type": "display_data"
    },
    {
     "data": {
      "application/javascript": [
       "\n",
       "            setTimeout(function() {\n",
       "                var nbb_cell_id = 25;\n",
       "                var nbb_unformatted_code = \"double1_ptwins_plt = sns.distplot(\\n    server_after_double1_match_means[\\\"ServeWinnerMean\\\"], kde=False\\n)\";\n",
       "                var nbb_formatted_code = \"double1_ptwins_plt = sns.distplot(\\n    server_after_double1_match_means[\\\"ServeWinnerMean\\\"], kde=False\\n)\";\n",
       "                var nbb_cells = Jupyter.notebook.get_cells();\n",
       "                for (var i = 0; i < nbb_cells.length; ++i) {\n",
       "                    if (nbb_cells[i].input_prompt_number == nbb_cell_id) {\n",
       "                        if (nbb_cells[i].get_text() == nbb_unformatted_code) {\n",
       "                             nbb_cells[i].set_text(nbb_formatted_code);\n",
       "                        }\n",
       "                        break;\n",
       "                    }\n",
       "                }\n",
       "            }, 500);\n",
       "            "
      ],
      "text/plain": [
       "<IPython.core.display.Javascript object>"
      ]
     },
     "metadata": {},
     "output_type": "display_data"
    }
   ],
   "source": [
    "double1_ptwins_plt = sns.distplot(\n",
    "    server_after_double1_match_means[\"ServeWinnerMean\"], kde=False\n",
    ")"
   ]
  },
  {
   "cell_type": "code",
   "execution_count": 26,
   "metadata": {},
   "outputs": [
    {
     "data": {
      "image/png": "[encoded data removed]",
      "text/plain": [
       "<Figure size 432x288 with 1 Axes>"
      ]
     },
     "metadata": {
      "needs_background": "light"
     },
     "output_type": "display_data"
    },
    {
     "data": {
      "application/javascript": [
       "\n",
       "            setTimeout(function() {\n",
       "                var nbb_cell_id = 26;\n",
       "                var nbb_unformatted_code = \"double2_ptwins_plt = sns.distplot(\\n    server_after_double2_match_means[\\\"ServeWinnerMean\\\"], kde=False\\n)\";\n",
       "                var nbb_formatted_code = \"double2_ptwins_plt = sns.distplot(\\n    server_after_double2_match_means[\\\"ServeWinnerMean\\\"], kde=False\\n)\";\n",
       "                var nbb_cells = Jupyter.notebook.get_cells();\n",
       "                for (var i = 0; i < nbb_cells.length; ++i) {\n",
       "                    if (nbb_cells[i].input_prompt_number == nbb_cell_id) {\n",
       "                        if (nbb_cells[i].get_text() == nbb_unformatted_code) {\n",
       "                             nbb_cells[i].set_text(nbb_formatted_code);\n",
       "                        }\n",
       "                        break;\n",
       "                    }\n",
       "                }\n",
       "            }, 500);\n",
       "            "
      ],
      "text/plain": [
       "<IPython.core.display.Javascript object>"
      ]
     },
     "metadata": {},
     "output_type": "display_data"
    }
   ],
   "source": [
    "double2_ptwins_plt = sns.distplot(\n",
    "    server_after_double2_match_means[\"ServeWinnerMean\"], kde=False\n",
    ")"
   ]
  },
  {
   "cell_type": "code",
   "execution_count": 27,
   "metadata": {
    "scrolled": true
   },
   "outputs": [
    {
     "data": {
      "image/png": "[encoded data removed]",
      "text/plain": [
       "<Figure size 432x288 with 1 Axes>"
      ]
     },
     "metadata": {
      "needs_background": "light"
     },
     "output_type": "display_data"
    },
    {
     "data": {
      "application/javascript": [
       "\n",
       "            setTimeout(function() {\n",
       "                var nbb_cell_id = 27;\n",
       "                var nbb_unformatted_code = \"double3_ptwins_plt = sns.distplot(\\n    server_after_double3_match_means[\\\"ServeWinnerMean\\\"], kde=False\\n)\";\n",
       "                var nbb_formatted_code = \"double3_ptwins_plt = sns.distplot(\\n    server_after_double3_match_means[\\\"ServeWinnerMean\\\"], kde=False\\n)\";\n",
       "                var nbb_cells = Jupyter.notebook.get_cells();\n",
       "                for (var i = 0; i < nbb_cells.length; ++i) {\n",
       "                    if (nbb_cells[i].input_prompt_number == nbb_cell_id) {\n",
       "                        if (nbb_cells[i].get_text() == nbb_unformatted_code) {\n",
       "                             nbb_cells[i].set_text(nbb_formatted_code);\n",
       "                        }\n",
       "                        break;\n",
       "                    }\n",
       "                }\n",
       "            }, 500);\n",
       "            "
      ],
      "text/plain": [
       "<IPython.core.display.Javascript object>"
      ]
     },
     "metadata": {},
     "output_type": "display_data"
    }
   ],
   "source": [
    "double3_ptwins_plt = sns.distplot(\n",
    "    server_after_double3_match_means[\"ServeWinnerMean\"], kde=False\n",
    ")"
   ]
  },
  {
   "cell_type": "markdown",
   "metadata": {},
   "source": [
    "**The distribution of means for the proportion of points won after a double fault are clearly not normal.** This is likely because there are so few double faults per match. **We might need to use a Chi-squared or Fischer's exact test to compare the proportion of points won after a double fault to the control (proportion of points won during all serves).**"
   ]
  },
  {
   "cell_type": "markdown",
   "metadata": {},
   "source": [
    "**However, first, I can try a non-parametric test for non-normal, dependent datasets (ie Wilcoxon).** Unfortunately, even though they're dependent (the control includes datapoints where there is a doublefault), they are not the same length. **For now, I'll try to get away with a test for non-normal, independent datasets (Mann-Whitney U)**"
   ]
  },
  {
   "cell_type": "code",
   "execution_count": 28,
   "metadata": {},
   "outputs": [
    {
     "data": {
      "text/plain": [
       "MannwhitneyuResult(statistic=3010791.5, pvalue=0.1214091992647981)"
      ]
     },
     "execution_count": 28,
     "metadata": {},
     "output_type": "execute_result"
    },
    {
     "data": {
      "application/javascript": [
       "\n",
       "            setTimeout(function() {\n",
       "                var nbb_cell_id = 28;\n",
       "                var nbb_unformatted_code = \"# stats.wilcoxon(\\n#     server_after_double1_match_means[\\\"isSvrWinner\\\"],\\n#     server_df_match_means[\\\"isSvrWinner\\\"],\\n# )\\n\\nstats.mannwhitneyu(\\n    server_after_double1_match_means[\\\"ServeWinnerMean\\\"],\\n    server_df_match_means[\\\"ServeWinnerMean\\\"],\\n)\";\n",
       "                var nbb_formatted_code = \"# stats.wilcoxon(\\n#     server_after_double1_match_means[\\\"isSvrWinner\\\"],\\n#     server_df_match_means[\\\"isSvrWinner\\\"],\\n# )\\n\\nstats.mannwhitneyu(\\n    server_after_double1_match_means[\\\"ServeWinnerMean\\\"],\\n    server_df_match_means[\\\"ServeWinnerMean\\\"],\\n)\";\n",
       "                var nbb_cells = Jupyter.notebook.get_cells();\n",
       "                for (var i = 0; i < nbb_cells.length; ++i) {\n",
       "                    if (nbb_cells[i].input_prompt_number == nbb_cell_id) {\n",
       "                        if (nbb_cells[i].get_text() == nbb_unformatted_code) {\n",
       "                             nbb_cells[i].set_text(nbb_formatted_code);\n",
       "                        }\n",
       "                        break;\n",
       "                    }\n",
       "                }\n",
       "            }, 500);\n",
       "            "
      ],
      "text/plain": [
       "<IPython.core.display.Javascript object>"
      ]
     },
     "metadata": {},
     "output_type": "display_data"
    }
   ],
   "source": [
    "stats.mannwhitneyu(\n",
    "    server_after_double1_match_means[\"ServeWinnerMean\"],\n",
    "    server_df_match_means[\"ServeWinnerMean\"],\n",
    ")"
   ]
  },
  {
   "cell_type": "code",
   "execution_count": 29,
   "metadata": {},
   "outputs": [
    {
     "data": {
      "text/plain": [
       "(-0.003968253968253954, 0.016129032258064502)"
      ]
     },
     "execution_count": 29,
     "metadata": {},
     "output_type": "execute_result"
    },
    {
     "data": {
      "application/javascript": [
       "\n",
       "            setTimeout(function() {\n",
       "                var nbb_cell_id = 29;\n",
       "                var nbb_unformatted_code = \"calc_non_param_ci(\\n    server_after_double1_match_means[\\\"ServeWinnerMean\\\"],\\n    server_df_match_means[\\\"ServeWinnerMean\\\"],\\n    alpha=0.05,\\n)\";\n",
       "                var nbb_formatted_code = \"calc_non_param_ci(\\n    server_after_double1_match_means[\\\"ServeWinnerMean\\\"],\\n    server_df_match_means[\\\"ServeWinnerMean\\\"],\\n    alpha=0.05,\\n)\";\n",
       "                var nbb_cells = Jupyter.notebook.get_cells();\n",
       "                for (var i = 0; i < nbb_cells.length; ++i) {\n",
       "                    if (nbb_cells[i].input_prompt_number == nbb_cell_id) {\n",
       "                        if (nbb_cells[i].get_text() == nbb_unformatted_code) {\n",
       "                             nbb_cells[i].set_text(nbb_formatted_code);\n",
       "                        }\n",
       "                        break;\n",
       "                    }\n",
       "                }\n",
       "            }, 500);\n",
       "            "
      ],
      "text/plain": [
       "<IPython.core.display.Javascript object>"
      ]
     },
     "metadata": {},
     "output_type": "display_data"
    }
   ],
   "source": [
    "calc_non_param_ci(\n",
    "    server_after_double1_match_means[\"ServeWinnerMean\"],\n",
    "    server_df_match_means[\"ServeWinnerMean\"],\n",
    "    alpha=0.05,\n",
    ")"
   ]
  },
  {
   "cell_type": "markdown",
   "metadata": {},
   "source": [
    "It's close! You can almost see that servers actually have a higher win percentage after a double fault. But at the .05 significance level, players don't seem to play better or worse after a double fault.\n",
    "\n",
    "### On to Chi-squared/Fisher's exact! ###"
   ]
  },
  {
   "cell_type": "code",
   "execution_count": 30,
   "metadata": {},
   "outputs": [
    {
     "data": {
      "text/html": [
       "<div>\n",
       "<style scoped>\n",
       "    .dataframe tbody tr th:only-of-type {\n",
       "        vertical-align: middle;\n",
       "    }\n",
       "\n",
       "    .dataframe tbody tr th {\n",
       "        vertical-align: top;\n",
       "    }\n",
       "\n",
       "    .dataframe thead th {\n",
       "        text-align: right;\n",
       "    }\n",
       "</style>\n",
       "<table border=\"1\" class=\"dataframe\">\n",
       "  <thead>\n",
       "    <tr style=\"text-align: right;\">\n",
       "      <th></th>\n",
       "      <th>PtsTotal</th>\n",
       "      <th>ServeWinnerSum</th>\n",
       "      <th>ServeLoserSum</th>\n",
       "      <th>WinServeMean</th>\n",
       "    </tr>\n",
       "    <tr>\n",
       "      <th>pts_after_fault</th>\n",
       "      <th></th>\n",
       "      <th></th>\n",
       "      <th></th>\n",
       "      <th></th>\n",
       "    </tr>\n",
       "  </thead>\n",
       "  <tbody>\n",
       "    <tr>\n",
       "      <th>0</th>\n",
       "      <td>439988</td>\n",
       "      <td>281486</td>\n",
       "      <td>158502</td>\n",
       "      <td>0.639758</td>\n",
       "    </tr>\n",
       "    <tr>\n",
       "      <th>1</th>\n",
       "      <td>13248</td>\n",
       "      <td>8377</td>\n",
       "      <td>4871</td>\n",
       "      <td>0.632322</td>\n",
       "    </tr>\n",
       "    <tr>\n",
       "      <th>2</th>\n",
       "      <td>24009</td>\n",
       "      <td>15279</td>\n",
       "      <td>8730</td>\n",
       "      <td>0.636386</td>\n",
       "    </tr>\n",
       "    <tr>\n",
       "      <th>3</th>\n",
       "      <td>32163</td>\n",
       "      <td>20487</td>\n",
       "      <td>11676</td>\n",
       "      <td>0.636974</td>\n",
       "    </tr>\n",
       "  </tbody>\n",
       "</table>\n",
       "</div>"
      ],
      "text/plain": [
       "                 PtsTotal  ServeWinnerSum  ServeLoserSum  WinServeMean\n",
       "pts_after_fault                                                       \n",
       "0                  439988          281486         158502      0.639758\n",
       "1                   13248            8377           4871      0.632322\n",
       "2                   24009           15279           8730      0.636386\n",
       "3                   32163           20487          11676      0.636974"
      ]
     },
     "execution_count": 30,
     "metadata": {},
     "output_type": "execute_result"
    },
    {
     "data": {
      "application/javascript": [
       "\n",
       "            setTimeout(function() {\n",
       "                var nbb_cell_id = 30;\n",
       "                var nbb_unformatted_code = \"# First, find the total sums for all the matches in the database,\\n# grouped by how many points the data is after a double:\\ntotal_serve_sums = appended_server.groupby(\\\"pts_after_fault\\\").agg(\\n    PtsTotal=(\\\"PtsTotal\\\", \\\"sum\\\"), ServeWinnerSum=(\\\"ServeWinnerSum\\\", \\\"sum\\\")\\n)\\ntotal_serve_sums[\\\"ServeLoserSum\\\"] = (\\n    total_serve_sums[\\\"PtsTotal\\\"] - total_serve_sums[\\\"ServeWinnerSum\\\"]\\n)\\ntotal_serve_sums[\\\"WinServeMean\\\"] = (\\n    total_serve_sums[\\\"ServeWinnerSum\\\"] / total_serve_sums[\\\"PtsTotal\\\"]\\n)\\ntotal_serve_sums\";\n",
       "                var nbb_formatted_code = \"# First, find the total sums for all the matches in the database,\\n# grouped by how many points the data is after a double:\\ntotal_serve_sums = appended_server.groupby(\\\"pts_after_fault\\\").agg(\\n    PtsTotal=(\\\"PtsTotal\\\", \\\"sum\\\"), ServeWinnerSum=(\\\"ServeWinnerSum\\\", \\\"sum\\\")\\n)\\ntotal_serve_sums[\\\"ServeLoserSum\\\"] = (\\n    total_serve_sums[\\\"PtsTotal\\\"] - total_serve_sums[\\\"ServeWinnerSum\\\"]\\n)\\ntotal_serve_sums[\\\"WinServeMean\\\"] = (\\n    total_serve_sums[\\\"ServeWinnerSum\\\"] / total_serve_sums[\\\"PtsTotal\\\"]\\n)\\ntotal_serve_sums\";\n",
       "                var nbb_cells = Jupyter.notebook.get_cells();\n",
       "                for (var i = 0; i < nbb_cells.length; ++i) {\n",
       "                    if (nbb_cells[i].input_prompt_number == nbb_cell_id) {\n",
       "                        if (nbb_cells[i].get_text() == nbb_unformatted_code) {\n",
       "                             nbb_cells[i].set_text(nbb_formatted_code);\n",
       "                        }\n",
       "                        break;\n",
       "                    }\n",
       "                }\n",
       "            }, 500);\n",
       "            "
      ],
      "text/plain": [
       "<IPython.core.display.Javascript object>"
      ]
     },
     "metadata": {},
     "output_type": "display_data"
    }
   ],
   "source": [
    "# First, find the total sums for all the matches in the database,\n",
    "# grouped by how many points the data is after a double:\n",
    "total_serve_sums = appended_server.groupby(\"pts_after_fault\").agg(\n",
    "    PtsTotal=(\"PtsTotal\", \"sum\"), ServeWinnerSum=(\"ServeWinnerSum\", \"sum\")\n",
    ")\n",
    "total_serve_sums[\"ServeLoserSum\"] = (\n",
    "    total_serve_sums[\"PtsTotal\"] - total_serve_sums[\"ServeWinnerSum\"]\n",
    ")\n",
    "total_serve_sums[\"WinServeMean\"] = (\n",
    "    total_serve_sums[\"ServeWinnerSum\"] / total_serve_sums[\"PtsTotal\"]\n",
    ")\n",
    "total_serve_sums\n"
   ]
  },
  {
   "cell_type": "code",
   "execution_count": 31,
   "metadata": {},
   "outputs": [
    {
     "data": {
      "text/html": [
       "<div>\n",
       "<style scoped>\n",
       "    .dataframe tbody tr th:only-of-type {\n",
       "        vertical-align: middle;\n",
       "    }\n",
       "\n",
       "    .dataframe tbody tr th {\n",
       "        vertical-align: top;\n",
       "    }\n",
       "\n",
       "    .dataframe thead th {\n",
       "        text-align: right;\n",
       "    }\n",
       "</style>\n",
       "<table border=\"1\" class=\"dataframe\">\n",
       "  <thead>\n",
       "    <tr style=\"text-align: right;\">\n",
       "      <th></th>\n",
       "      <th>ServeWinnerSum</th>\n",
       "      <th>ServeLoserSum</th>\n",
       "    </tr>\n",
       "    <tr>\n",
       "      <th>pts_after_fault</th>\n",
       "      <th></th>\n",
       "      <th></th>\n",
       "    </tr>\n",
       "  </thead>\n",
       "  <tbody>\n",
       "    <tr>\n",
       "      <th>0</th>\n",
       "      <td>281486</td>\n",
       "      <td>158502</td>\n",
       "    </tr>\n",
       "    <tr>\n",
       "      <th>1</th>\n",
       "      <td>8377</td>\n",
       "      <td>4871</td>\n",
       "    </tr>\n",
       "  </tbody>\n",
       "</table>\n",
       "</div>"
      ],
      "text/plain": [
       "                 ServeWinnerSum  ServeLoserSum\n",
       "pts_after_fault                               \n",
       "0                        281486         158502\n",
       "1                          8377           4871"
      ]
     },
     "execution_count": 31,
     "metadata": {},
     "output_type": "execute_result"
    },
    {
     "data": {
      "application/javascript": [
       "\n",
       "            setTimeout(function() {\n",
       "                var nbb_cell_id = 31;\n",
       "                var nbb_unformatted_code = \"# I'll focus on only the point after double faults\\nchisq_table = total_serve_sums[[\\\"ServeWinnerSum\\\", \\\"ServeLoserSum\\\"]].head(2)\\nchisq_table\";\n",
       "                var nbb_formatted_code = \"# I'll focus on only the point after double faults\\nchisq_table = total_serve_sums[[\\\"ServeWinnerSum\\\", \\\"ServeLoserSum\\\"]].head(2)\\nchisq_table\";\n",
       "                var nbb_cells = Jupyter.notebook.get_cells();\n",
       "                for (var i = 0; i < nbb_cells.length; ++i) {\n",
       "                    if (nbb_cells[i].input_prompt_number == nbb_cell_id) {\n",
       "                        if (nbb_cells[i].get_text() == nbb_unformatted_code) {\n",
       "                             nbb_cells[i].set_text(nbb_formatted_code);\n",
       "                        }\n",
       "                        break;\n",
       "                    }\n",
       "                }\n",
       "            }, 500);\n",
       "            "
      ],
      "text/plain": [
       "<IPython.core.display.Javascript object>"
      ]
     },
     "metadata": {},
     "output_type": "display_data"
    }
   ],
   "source": [
    "# I'll focus on only the point after double faults\n",
    "chisq_table = total_serve_sums[[\"ServeWinnerSum\", \"ServeLoserSum\"]].head(2)\n",
    "chisq_table"
   ]
  },
  {
   "cell_type": "code",
   "execution_count": 32,
   "metadata": {},
   "outputs": [
    {
     "data": {
      "text/plain": [
       "(3.0529973445366796, 0.08058828712452745, 1)"
      ]
     },
     "execution_count": 32,
     "metadata": {},
     "output_type": "execute_result"
    },
    {
     "data": {
      "application/javascript": [
       "\n",
       "            setTimeout(function() {\n",
       "                var nbb_cell_id = 32;\n",
       "                var nbb_unformatted_code = \"# Now, use Chi-Squared test because we have many observations\\nf_obs = np.array([chisq_table.iloc[0][0:2].values, chisq_table.iloc[1][0:2].values])\\nstats.chi2_contingency(f_obs)[0:3]\";\n",
       "                var nbb_formatted_code = \"# Now, use Chi-Squared test because we have many observations\\nf_obs = np.array([chisq_table.iloc[0][0:2].values, chisq_table.iloc[1][0:2].values])\\nstats.chi2_contingency(f_obs)[0:3]\";\n",
       "                var nbb_cells = Jupyter.notebook.get_cells();\n",
       "                for (var i = 0; i < nbb_cells.length; ++i) {\n",
       "                    if (nbb_cells[i].input_prompt_number == nbb_cell_id) {\n",
       "                        if (nbb_cells[i].get_text() == nbb_unformatted_code) {\n",
       "                             nbb_cells[i].set_text(nbb_formatted_code);\n",
       "                        }\n",
       "                        break;\n",
       "                    }\n",
       "                }\n",
       "            }, 500);\n",
       "            "
      ],
      "text/plain": [
       "<IPython.core.display.Javascript object>"
      ]
     },
     "metadata": {},
     "output_type": "display_data"
    }
   ],
   "source": [
    "# Now, use Chi-Squared test because we have many observations\n",
    "f_obs = np.array([chisq_table.iloc[0][0:2].values, chisq_table.iloc[1][0:2].values])\n",
    "stats.chi2_contingency(f_obs)[0:3]"
   ]
  },
  {
   "cell_type": "markdown",
   "metadata": {},
   "source": [
    "It seems like the tour as a whole do not perform worse after a double fault at the .05 significance level!"
   ]
  },
  {
   "cell_type": "markdown",
   "metadata": {},
   "source": [
    "### Now to look at player data and see if they perform worse after a double fault ###"
   ]
  },
  {
   "cell_type": "code",
   "execution_count": 33,
   "metadata": {},
   "outputs": [
    {
     "data": {
      "text/html": [
       "<div>\n",
       "<style scoped>\n",
       "    .dataframe tbody tr th:only-of-type {\n",
       "        vertical-align: middle;\n",
       "    }\n",
       "\n",
       "    .dataframe tbody tr th {\n",
       "        vertical-align: top;\n",
       "    }\n",
       "\n",
       "    .dataframe thead th {\n",
       "        text-align: right;\n",
       "    }\n",
       "</style>\n",
       "<table border=\"1\" class=\"dataframe\">\n",
       "  <thead>\n",
       "    <tr style=\"text-align: right;\">\n",
       "      <th></th>\n",
       "      <th>firstyear</th>\n",
       "      <th>TotalWinnerMean</th>\n",
       "      <th>TotalPtsTotal</th>\n",
       "      <th>TotalServeWinnerSum</th>\n",
       "      <th>Double1WinnerMean</th>\n",
       "      <th>Double1PtsTotal</th>\n",
       "      <th>Double1WinnerSum</th>\n",
       "      <th>Double2WinnerMean</th>\n",
       "      <th>Double2PtsTotal</th>\n",
       "      <th>Double2WinnerSum</th>\n",
       "      <th>Double3WinnerMean</th>\n",
       "      <th>Double3PtsTotal</th>\n",
       "      <th>Double3WinnerSum</th>\n",
       "    </tr>\n",
       "    <tr>\n",
       "      <th>server_name</th>\n",
       "      <th></th>\n",
       "      <th></th>\n",
       "      <th></th>\n",
       "      <th></th>\n",
       "      <th></th>\n",
       "      <th></th>\n",
       "      <th></th>\n",
       "      <th></th>\n",
       "      <th></th>\n",
       "      <th></th>\n",
       "      <th></th>\n",
       "      <th></th>\n",
       "      <th></th>\n",
       "    </tr>\n",
       "  </thead>\n",
       "  <tbody>\n",
       "    <tr>\n",
       "      <th>Aaron_Krickstein</th>\n",
       "      <td>1989</td>\n",
       "      <td>0.508897</td>\n",
       "      <td>281</td>\n",
       "      <td>143</td>\n",
       "      <td>0.750000</td>\n",
       "      <td>4</td>\n",
       "      <td>3</td>\n",
       "      <td>0.428571</td>\n",
       "      <td>7</td>\n",
       "      <td>3</td>\n",
       "      <td>0.500000</td>\n",
       "      <td>10</td>\n",
       "      <td>5</td>\n",
       "    </tr>\n",
       "    <tr>\n",
       "      <th>Adam_Pavlasek</th>\n",
       "      <td>2016</td>\n",
       "      <td>0.622340</td>\n",
       "      <td>188</td>\n",
       "      <td>117</td>\n",
       "      <td>0.333333</td>\n",
       "      <td>3</td>\n",
       "      <td>1</td>\n",
       "      <td>0.333333</td>\n",
       "      <td>6</td>\n",
       "      <td>2</td>\n",
       "      <td>0.375000</td>\n",
       "      <td>8</td>\n",
       "      <td>3</td>\n",
       "    </tr>\n",
       "    <tr>\n",
       "      <th>Adrian_Mannarino</th>\n",
       "      <td>2015</td>\n",
       "      <td>0.613445</td>\n",
       "      <td>595</td>\n",
       "      <td>365</td>\n",
       "      <td>0.100000</td>\n",
       "      <td>10</td>\n",
       "      <td>1</td>\n",
       "      <td>0.294118</td>\n",
       "      <td>17</td>\n",
       "      <td>5</td>\n",
       "      <td>0.380952</td>\n",
       "      <td>21</td>\n",
       "      <td>8</td>\n",
       "    </tr>\n",
       "    <tr>\n",
       "      <th>Adriano_Panatta</th>\n",
       "      <td>1974</td>\n",
       "      <td>0.490909</td>\n",
       "      <td>110</td>\n",
       "      <td>54</td>\n",
       "      <td>0.666667</td>\n",
       "      <td>3</td>\n",
       "      <td>2</td>\n",
       "      <td>0.500000</td>\n",
       "      <td>4</td>\n",
       "      <td>2</td>\n",
       "      <td>0.500000</td>\n",
       "      <td>4</td>\n",
       "      <td>2</td>\n",
       "    </tr>\n",
       "    <tr>\n",
       "      <th>Adrien_Bossel</th>\n",
       "      <td>2015</td>\n",
       "      <td>0.428571</td>\n",
       "      <td>42</td>\n",
       "      <td>18</td>\n",
       "      <td>0.000000</td>\n",
       "      <td>1</td>\n",
       "      <td>0</td>\n",
       "      <td>0.000000</td>\n",
       "      <td>1</td>\n",
       "      <td>0</td>\n",
       "      <td>0.000000</td>\n",
       "      <td>1</td>\n",
       "      <td>0</td>\n",
       "    </tr>\n",
       "  </tbody>\n",
       "</table>\n",
       "</div>"
      ],
      "text/plain": [
       "                  firstyear  TotalWinnerMean  TotalPtsTotal  \\\n",
       "server_name                                                   \n",
       "Aaron_Krickstein       1989         0.508897            281   \n",
       "Adam_Pavlasek          2016         0.622340            188   \n",
       "Adrian_Mannarino       2015         0.613445            595   \n",
       "Adriano_Panatta        1974         0.490909            110   \n",
       "Adrien_Bossel          2015         0.428571             42   \n",
       "\n",
       "                  TotalServeWinnerSum  Double1WinnerMean  Double1PtsTotal  \\\n",
       "server_name                                                                 \n",
       "Aaron_Krickstein                  143           0.750000                4   \n",
       "Adam_Pavlasek                     117           0.333333                3   \n",
       "Adrian_Mannarino                  365           0.100000               10   \n",
       "Adriano_Panatta                    54           0.666667                3   \n",
       "Adrien_Bossel                      18           0.000000                1   \n",
       "\n",
       "                  Double1WinnerSum  Double2WinnerMean  Double2PtsTotal  \\\n",
       "server_name                                                              \n",
       "Aaron_Krickstein                 3           0.428571                7   \n",
       "Adam_Pavlasek                    1           0.333333                6   \n",
       "Adrian_Mannarino                 1           0.294118               17   \n",
       "Adriano_Panatta                  2           0.500000                4   \n",
       "Adrien_Bossel                    0           0.000000                1   \n",
       "\n",
       "                  Double2WinnerSum  Double3WinnerMean  Double3PtsTotal  \\\n",
       "server_name                                                              \n",
       "Aaron_Krickstein                 3           0.500000               10   \n",
       "Adam_Pavlasek                    2           0.375000                8   \n",
       "Adrian_Mannarino                 5           0.380952               21   \n",
       "Adriano_Panatta                  2           0.500000                4   \n",
       "Adrien_Bossel                    0           0.000000                1   \n",
       "\n",
       "                  Double3WinnerSum  \n",
       "server_name                         \n",
       "Aaron_Krickstein                 5  \n",
       "Adam_Pavlasek                    3  \n",
       "Adrian_Mannarino                 8  \n",
       "Adriano_Panatta                  2  \n",
       "Adrien_Bossel                    0  "
      ]
     },
     "execution_count": 33,
     "metadata": {},
     "output_type": "execute_result"
    },
    {
     "data": {
      "application/javascript": [
       "\n",
       "            setTimeout(function() {\n",
       "                var nbb_cell_id = 33;\n",
       "                var nbb_unformatted_code = \"merged_players.head()\";\n",
       "                var nbb_formatted_code = \"merged_players.head()\";\n",
       "                var nbb_cells = Jupyter.notebook.get_cells();\n",
       "                for (var i = 0; i < nbb_cells.length; ++i) {\n",
       "                    if (nbb_cells[i].input_prompt_number == nbb_cell_id) {\n",
       "                        if (nbb_cells[i].get_text() == nbb_unformatted_code) {\n",
       "                             nbb_cells[i].set_text(nbb_formatted_code);\n",
       "                        }\n",
       "                        break;\n",
       "                    }\n",
       "                }\n",
       "            }, 500);\n",
       "            "
      ],
      "text/plain": [
       "<IPython.core.display.Javascript object>"
      ]
     },
     "metadata": {},
     "output_type": "display_data"
    }
   ],
   "source": [
    "merged_players.head()"
   ]
  },
  {
   "cell_type": "markdown",
   "metadata": {},
   "source": [
    "Seems like we have around 500 players worth of data. What about those who played a significant amount of tennis, who have, say, more than 200 points charted? This way we won't get a lof of information from people who didn't hit a double fault in the one match they charted. (You serve an average of around 70 times a match)"
   ]
  },
  {
   "cell_type": "code",
   "execution_count": 34,
   "metadata": {
    "scrolled": true
   },
   "outputs": [
    {
     "name": "stdout",
     "output_type": "stream",
     "text": [
      "<class 'pandas.core.frame.DataFrame'>\n",
      "Index: 247 entries, Aaron_Krickstein to Yoshihito_Nishioka\n",
      "Data columns (total 13 columns):\n",
      " #   Column               Non-Null Count  Dtype  \n",
      "---  ------               --------------  -----  \n",
      " 0   firstyear            247 non-null    int64  \n",
      " 1   TotalWinnerMean      247 non-null    float64\n",
      " 2   TotalPtsTotal        247 non-null    int64  \n",
      " 3   TotalServeWinnerSum  247 non-null    int64  \n",
      " 4   Double1WinnerMean    247 non-null    float64\n",
      " 5   Double1PtsTotal      247 non-null    int64  \n",
      " 6   Double1WinnerSum     247 non-null    int64  \n",
      " 7   Double2WinnerMean    247 non-null    float64\n",
      " 8   Double2PtsTotal      247 non-null    int64  \n",
      " 9   Double2WinnerSum     247 non-null    int64  \n",
      " 10  Double3WinnerMean    247 non-null    float64\n",
      " 11  Double3PtsTotal      247 non-null    int64  \n",
      " 12  Double3WinnerSum     247 non-null    int64  \n",
      "dtypes: float64(4), int64(9)\n",
      "memory usage: 27.0+ KB\n"
     ]
    },
    {
     "data": {
      "application/javascript": [
       "\n",
       "            setTimeout(function() {\n",
       "                var nbb_cell_id = 34;\n",
       "                var nbb_unformatted_code = \"merged_players_many = merged_players[merged_players[\\\"TotalPtsTotal\\\"] > 200]\\nmerged_players_many.info()\";\n",
       "                var nbb_formatted_code = \"merged_players_many = merged_players[merged_players[\\\"TotalPtsTotal\\\"] > 200]\\nmerged_players_many.info()\";\n",
       "                var nbb_cells = Jupyter.notebook.get_cells();\n",
       "                for (var i = 0; i < nbb_cells.length; ++i) {\n",
       "                    if (nbb_cells[i].input_prompt_number == nbb_cell_id) {\n",
       "                        if (nbb_cells[i].get_text() == nbb_unformatted_code) {\n",
       "                             nbb_cells[i].set_text(nbb_formatted_code);\n",
       "                        }\n",
       "                        break;\n",
       "                    }\n",
       "                }\n",
       "            }, 500);\n",
       "            "
      ],
      "text/plain": [
       "<IPython.core.display.Javascript object>"
      ]
     },
     "metadata": {},
     "output_type": "display_data"
    }
   ],
   "source": [
    "merged_players_many = merged_players[merged_players[\"TotalPtsTotal\"] > 200]\n",
    "merged_players_many.info()"
   ]
  },
  {
   "cell_type": "markdown",
   "metadata": {},
   "source": [
    "I'll use these players for most of the analysis. This will exclude most players who only played one match and hit one or zero double faults."
   ]
  },
  {
   "cell_type": "code",
   "execution_count": 35,
   "metadata": {
    "scrolled": true
   },
   "outputs": [
    {
     "data": {
      "image/png": "[encoded data removed]",
      "text/plain": [
       "<Figure size 432x288 with 1 Axes>"
      ]
     },
     "metadata": {
      "needs_background": "light"
     },
     "output_type": "display_data"
    },
    {
     "data": {
      "application/javascript": [
       "\n",
       "            setTimeout(function() {\n",
       "                var nbb_cell_id = 35;\n",
       "                var nbb_unformatted_code = \"boxdata = merged_players_many[\\n    [\\\"TotalWinnerMean\\\", \\\"Double1WinnerMean\\\", \\\"Double2WinnerMean\\\", \\\"Double3WinnerMean\\\"]\\n]\\nax = sns.boxplot(x=\\\"variable\\\", y=\\\"value\\\", data=pd.melt(boxdata))\";\n",
       "                var nbb_formatted_code = \"boxdata = merged_players_many[\\n    [\\\"TotalWinnerMean\\\", \\\"Double1WinnerMean\\\", \\\"Double2WinnerMean\\\", \\\"Double3WinnerMean\\\"]\\n]\\nax = sns.boxplot(x=\\\"variable\\\", y=\\\"value\\\", data=pd.melt(boxdata))\";\n",
       "                var nbb_cells = Jupyter.notebook.get_cells();\n",
       "                for (var i = 0; i < nbb_cells.length; ++i) {\n",
       "                    if (nbb_cells[i].input_prompt_number == nbb_cell_id) {\n",
       "                        if (nbb_cells[i].get_text() == nbb_unformatted_code) {\n",
       "                             nbb_cells[i].set_text(nbb_formatted_code);\n",
       "                        }\n",
       "                        break;\n",
       "                    }\n",
       "                }\n",
       "            }, 500);\n",
       "            "
      ],
      "text/plain": [
       "<IPython.core.display.Javascript object>"
      ]
     },
     "metadata": {},
     "output_type": "display_data"
    }
   ],
   "source": [
    "boxdata = merged_players_many[\n",
    "    [\"TotalWinnerMean\", \"Double1WinnerMean\", \"Double2WinnerMean\", \"Double3WinnerMean\"]\n",
    "]\n",
    "ax = sns.boxplot(x=\"variable\", y=\"value\", data=pd.melt(boxdata))"
   ]
  },
  {
   "cell_type": "markdown",
   "metadata": {},
   "source": [
    "I need to figure out how to relabel the x values above. In any case, it seem like there might be an increase in win probability for the player level data."
   ]
  },
  {
   "cell_type": "markdown",
   "metadata": {},
   "source": [
    "From just glancing at this data, it seems these top players actually may play **better** after double faulting.\n",
    "\n",
    "### Let's test to see if there is a differnce in play for individual players after double faulting.###"
   ]
  },
  {
   "cell_type": "markdown",
   "metadata": {},
   "source": [
    "**First, see if we can assume normality**\n"
   ]
  },
  {
   "cell_type": "code",
   "execution_count": 36,
   "metadata": {},
   "outputs": [
    {
     "name": "stdout",
     "output_type": "stream",
     "text": [
      "DescribeResult(nobs=247, minmax=(0.5088967971530249, 0.7130289065772937), mean=0.6218437322161652, variance=0.00160467383705652, skewness=-0.18452861296603937, kurtosis=-0.15170118485826478)\n"
     ]
    },
    {
     "data": {
      "text/plain": [
       "<matplotlib.axes._subplots.AxesSubplot at 0x1a22c96790>"
      ]
     },
     "execution_count": 36,
     "metadata": {},
     "output_type": "execute_result"
    },
    {
     "data": {
      "image/png": "[encoded data removed]",
      "text/plain": [
       "<Figure size 432x288 with 1 Axes>"
      ]
     },
     "metadata": {
      "needs_background": "light"
     },
     "output_type": "display_data"
    },
    {
     "data": {
      "application/javascript": [
       "\n",
       "            setTimeout(function() {\n",
       "                var nbb_cell_id = 36;\n",
       "                var nbb_unformatted_code = \"print(stats.describe(merged_players_many[\\\"TotalWinnerMean\\\"]))\\nsns.distplot(\\n    merged_players_many[\\\"TotalWinnerMean\\\"], kde=False,\\n)\";\n",
       "                var nbb_formatted_code = \"print(stats.describe(merged_players_many[\\\"TotalWinnerMean\\\"]))\\nsns.distplot(\\n    merged_players_many[\\\"TotalWinnerMean\\\"], kde=False,\\n)\";\n",
       "                var nbb_cells = Jupyter.notebook.get_cells();\n",
       "                for (var i = 0; i < nbb_cells.length; ++i) {\n",
       "                    if (nbb_cells[i].input_prompt_number == nbb_cell_id) {\n",
       "                        if (nbb_cells[i].get_text() == nbb_unformatted_code) {\n",
       "                             nbb_cells[i].set_text(nbb_formatted_code);\n",
       "                        }\n",
       "                        break;\n",
       "                    }\n",
       "                }\n",
       "            }, 500);\n",
       "            "
      ],
      "text/plain": [
       "<IPython.core.display.Javascript object>"
      ]
     },
     "metadata": {},
     "output_type": "display_data"
    }
   ],
   "source": [
    "print(stats.describe(merged_players_many[\"TotalWinnerMean\"]))\n",
    "sns.distplot(\n",
    "    merged_players_many[\"TotalWinnerMean\"], kde=False,\n",
    ")"
   ]
  },
  {
   "cell_type": "markdown",
   "metadata": {},
   "source": [
    "Looks normal"
   ]
  },
  {
   "cell_type": "code",
   "execution_count": 37,
   "metadata": {},
   "outputs": [
    {
     "name": "stdout",
     "output_type": "stream",
     "text": [
      "DescribeResult(nobs=247, minmax=(0.1, 1.0), mean=0.6216449151043774, variance=0.014312973472646309, skewness=-0.39937686667629485, kurtosis=1.760430154822024)\n"
     ]
    },
    {
     "data": {
      "text/plain": [
       "<matplotlib.axes._subplots.AxesSubplot at 0x1a3a326410>"
      ]
     },
     "execution_count": 37,
     "metadata": {},
     "output_type": "execute_result"
    },
    {
     "data": {
      "image/png": "[encoded data removed]",
      "text/plain": [
       "<Figure size 432x288 with 1 Axes>"
      ]
     },
     "metadata": {
      "needs_background": "light"
     },
     "output_type": "display_data"
    },
    {
     "data": {
      "application/javascript": [
       "\n",
       "            setTimeout(function() {\n",
       "                var nbb_cell_id = 37;\n",
       "                var nbb_unformatted_code = \"print(stats.describe(merged_players_many[\\\"Double1WinnerMean\\\"]))\\nsns.distplot(merged_players_many[\\\"Double1WinnerMean\\\"], kde=False)\";\n",
       "                var nbb_formatted_code = \"print(stats.describe(merged_players_many[\\\"Double1WinnerMean\\\"]))\\nsns.distplot(merged_players_many[\\\"Double1WinnerMean\\\"], kde=False)\";\n",
       "                var nbb_cells = Jupyter.notebook.get_cells();\n",
       "                for (var i = 0; i < nbb_cells.length; ++i) {\n",
       "                    if (nbb_cells[i].input_prompt_number == nbb_cell_id) {\n",
       "                        if (nbb_cells[i].get_text() == nbb_unformatted_code) {\n",
       "                             nbb_cells[i].set_text(nbb_formatted_code);\n",
       "                        }\n",
       "                        break;\n",
       "                    }\n",
       "                }\n",
       "            }, 500);\n",
       "            "
      ],
      "text/plain": [
       "<IPython.core.display.Javascript object>"
      ]
     },
     "metadata": {},
     "output_type": "display_data"
    }
   ],
   "source": [
    "print(stats.describe(merged_players_many[\"Double1WinnerMean\"]))\n",
    "sns.distplot(merged_players_many[\"Double1WinnerMean\"], kde=False)\n"
   ]
  },
  {
   "cell_type": "code",
   "execution_count": 38,
   "metadata": {},
   "outputs": [
    {
     "data": {
      "image/png": "[encoded data removed]",
      "text/plain": [
       "<Figure size 432x288 with 1 Axes>"
      ]
     },
     "metadata": {
      "needs_background": "light"
     },
     "output_type": "display_data"
    },
    {
     "data": {
      "application/javascript": [
       "\n",
       "            setTimeout(function() {\n",
       "                var nbb_cell_id = 38;\n",
       "                var nbb_unformatted_code = \"qqplot(merged_players_many[\\\"Double1WinnerMean\\\"], line=\\\"s\\\")\\nplt.show()\";\n",
       "                var nbb_formatted_code = \"qqplot(merged_players_many[\\\"Double1WinnerMean\\\"], line=\\\"s\\\")\\nplt.show()\";\n",
       "                var nbb_cells = Jupyter.notebook.get_cells();\n",
       "                for (var i = 0; i < nbb_cells.length; ++i) {\n",
       "                    if (nbb_cells[i].input_prompt_number == nbb_cell_id) {\n",
       "                        if (nbb_cells[i].get_text() == nbb_unformatted_code) {\n",
       "                             nbb_cells[i].set_text(nbb_formatted_code);\n",
       "                        }\n",
       "                        break;\n",
       "                    }\n",
       "                }\n",
       "            }, 500);\n",
       "            "
      ],
      "text/plain": [
       "<IPython.core.display.Javascript object>"
      ]
     },
     "metadata": {},
     "output_type": "display_data"
    }
   ],
   "source": [
    "qqplot(merged_players_many[\"Double1WinnerMean\"], line=\"s\")\n",
    "plt.show()"
   ]
  },
  {
   "cell_type": "markdown",
   "metadata": {},
   "source": [
    "The looks normal to me."
   ]
  },
  {
   "cell_type": "code",
   "execution_count": 39,
   "metadata": {},
   "outputs": [
    {
     "name": "stdout",
     "output_type": "stream",
     "text": [
      "DescribeResult(nobs=247, minmax=(0.29411764705882354, 1.0), mean=0.6244467604722902, variance=0.00976811073133373, skewness=-0.2021264731188311, kurtosis=1.5987447912237016)\n"
     ]
    },
    {
     "data": {
      "text/plain": [
       "<matplotlib.axes._subplots.AxesSubplot at 0x1a2eafc490>"
      ]
     },
     "execution_count": 39,
     "metadata": {},
     "output_type": "execute_result"
    },
    {
     "data": {
      "image/png": "[encoded data removed]",
      "text/plain": [
       "<Figure size 432x288 with 1 Axes>"
      ]
     },
     "metadata": {
      "needs_background": "light"
     },
     "output_type": "display_data"
    },
    {
     "data": {
      "application/javascript": [
       "\n",
       "            setTimeout(function() {\n",
       "                var nbb_cell_id = 39;\n",
       "                var nbb_unformatted_code = \"print(stats.describe(merged_players_many[\\\"Double2WinnerMean\\\"]))\\nsns.distplot(merged_players_many[\\\"Double2WinnerMean\\\"], kde=False)\";\n",
       "                var nbb_formatted_code = \"print(stats.describe(merged_players_many[\\\"Double2WinnerMean\\\"]))\\nsns.distplot(merged_players_many[\\\"Double2WinnerMean\\\"], kde=False)\";\n",
       "                var nbb_cells = Jupyter.notebook.get_cells();\n",
       "                for (var i = 0; i < nbb_cells.length; ++i) {\n",
       "                    if (nbb_cells[i].input_prompt_number == nbb_cell_id) {\n",
       "                        if (nbb_cells[i].get_text() == nbb_unformatted_code) {\n",
       "                             nbb_cells[i].set_text(nbb_formatted_code);\n",
       "                        }\n",
       "                        break;\n",
       "                    }\n",
       "                }\n",
       "            }, 500);\n",
       "            "
      ],
      "text/plain": [
       "<IPython.core.display.Javascript object>"
      ]
     },
     "metadata": {},
     "output_type": "display_data"
    }
   ],
   "source": [
    "print(stats.describe(merged_players_many[\"Double2WinnerMean\"]))\n",
    "sns.distplot(merged_players_many[\"Double2WinnerMean\"], kde=False)\n"
   ]
  },
  {
   "cell_type": "code",
   "execution_count": 40,
   "metadata": {},
   "outputs": [
    {
     "data": {
      "image/png": "[encoded data removed]",
      "text/plain": [
       "<Figure size 432x288 with 1 Axes>"
      ]
     },
     "metadata": {
      "needs_background": "light"
     },
     "output_type": "display_data"
    },
    {
     "data": {
      "application/javascript": [
       "\n",
       "            setTimeout(function() {\n",
       "                var nbb_cell_id = 40;\n",
       "                var nbb_unformatted_code = \"merged_players_many[\\\"Double2WinnerMean\\\"]\\nqqplot(merged_players_many[\\\"Double2WinnerMean\\\"], line=\\\"s\\\")\\nplt.show()\";\n",
       "                var nbb_formatted_code = \"merged_players_many[\\\"Double2WinnerMean\\\"]\\nqqplot(merged_players_many[\\\"Double2WinnerMean\\\"], line=\\\"s\\\")\\nplt.show()\";\n",
       "                var nbb_cells = Jupyter.notebook.get_cells();\n",
       "                for (var i = 0; i < nbb_cells.length; ++i) {\n",
       "                    if (nbb_cells[i].input_prompt_number == nbb_cell_id) {\n",
       "                        if (nbb_cells[i].get_text() == nbb_unformatted_code) {\n",
       "                             nbb_cells[i].set_text(nbb_formatted_code);\n",
       "                        }\n",
       "                        break;\n",
       "                    }\n",
       "                }\n",
       "            }, 500);\n",
       "            "
      ],
      "text/plain": [
       "<IPython.core.display.Javascript object>"
      ]
     },
     "metadata": {},
     "output_type": "display_data"
    }
   ],
   "source": [
    "merged_players_many[\"Double2WinnerMean\"]\n",
    "qqplot(merged_players_many[\"Double2WinnerMean\"], line=\"s\")\n",
    "plt.show()"
   ]
  },
  {
   "cell_type": "code",
   "execution_count": 41,
   "metadata": {
    "scrolled": true
   },
   "outputs": [
    {
     "name": "stdout",
     "output_type": "stream",
     "text": [
      "DescribeResult(nobs=247, minmax=(0.3333333333333333, 1.0), mean=0.6229772323371209, variance=0.007967057942169833, skewness=-0.13803327718727693, kurtosis=1.517241574508354)\n"
     ]
    },
    {
     "data": {
      "text/plain": [
       "<matplotlib.axes._subplots.AxesSubplot at 0x1a244b08d0>"
      ]
     },
     "execution_count": 41,
     "metadata": {},
     "output_type": "execute_result"
    },
    {
     "data": {
      "image/png": "[encoded data removed]",
      "text/plain": [
       "<Figure size 432x288 with 1 Axes>"
      ]
     },
     "metadata": {
      "needs_background": "light"
     },
     "output_type": "display_data"
    },
    {
     "data": {
      "application/javascript": [
       "\n",
       "            setTimeout(function() {\n",
       "                var nbb_cell_id = 41;\n",
       "                var nbb_unformatted_code = \"print(stats.describe(merged_players_many[\\\"Double3WinnerMean\\\"]))\\nsns.distplot(merged_players_many[\\\"Double3WinnerMean\\\"], kde=False)\";\n",
       "                var nbb_formatted_code = \"print(stats.describe(merged_players_many[\\\"Double3WinnerMean\\\"]))\\nsns.distplot(merged_players_many[\\\"Double3WinnerMean\\\"], kde=False)\";\n",
       "                var nbb_cells = Jupyter.notebook.get_cells();\n",
       "                for (var i = 0; i < nbb_cells.length; ++i) {\n",
       "                    if (nbb_cells[i].input_prompt_number == nbb_cell_id) {\n",
       "                        if (nbb_cells[i].get_text() == nbb_unformatted_code) {\n",
       "                             nbb_cells[i].set_text(nbb_formatted_code);\n",
       "                        }\n",
       "                        break;\n",
       "                    }\n",
       "                }\n",
       "            }, 500);\n",
       "            "
      ],
      "text/plain": [
       "<IPython.core.display.Javascript object>"
      ]
     },
     "metadata": {},
     "output_type": "display_data"
    }
   ],
   "source": [
    "print(stats.describe(merged_players_many[\"Double3WinnerMean\"]))\n",
    "sns.distplot(merged_players_many[\"Double3WinnerMean\"], kde=False)\n"
   ]
  },
  {
   "cell_type": "code",
   "execution_count": 42,
   "metadata": {},
   "outputs": [
    {
     "data": {
      "image/png": "[encoded data removed]",
      "text/plain": [
       "<Figure size 432x288 with 1 Axes>"
      ]
     },
     "metadata": {
      "needs_background": "light"
     },
     "output_type": "display_data"
    },
    {
     "data": {
      "application/javascript": [
       "\n",
       "            setTimeout(function() {\n",
       "                var nbb_cell_id = 42;\n",
       "                var nbb_unformatted_code = \"merged_players_many[\\\"Double3WinnerMean\\\"]\\nqqplot(merged_players_many[\\\"Double3WinnerMean\\\"], line=\\\"s\\\")\\nplt.show()\";\n",
       "                var nbb_formatted_code = \"merged_players_many[\\\"Double3WinnerMean\\\"]\\nqqplot(merged_players_many[\\\"Double3WinnerMean\\\"], line=\\\"s\\\")\\nplt.show()\";\n",
       "                var nbb_cells = Jupyter.notebook.get_cells();\n",
       "                for (var i = 0; i < nbb_cells.length; ++i) {\n",
       "                    if (nbb_cells[i].input_prompt_number == nbb_cell_id) {\n",
       "                        if (nbb_cells[i].get_text() == nbb_unformatted_code) {\n",
       "                             nbb_cells[i].set_text(nbb_formatted_code);\n",
       "                        }\n",
       "                        break;\n",
       "                    }\n",
       "                }\n",
       "            }, 500);\n",
       "            "
      ],
      "text/plain": [
       "<IPython.core.display.Javascript object>"
      ]
     },
     "metadata": {},
     "output_type": "display_data"
    }
   ],
   "source": [
    "merged_players_many[\"Double3WinnerMean\"]\n",
    "qqplot(merged_players_many[\"Double3WinnerMean\"], line=\"s\")\n",
    "plt.show()"
   ]
  },
  {
   "cell_type": "code",
   "execution_count": 43,
   "metadata": {
    "scrolled": false
   },
   "outputs": [
    {
     "name": "stdout",
     "output_type": "stream",
     "text": [
      "DescribeResult(nobs=247, minmax=(-0.5134453781512606, 0.33333333333333337), mean=-0.00019881711178782488, variance=0.012941442069818862, skewness=-0.1466624100195591, kurtosis=1.6736456709618368)\n"
     ]
    },
    {
     "name": "stderr",
     "output_type": "stream",
     "text": [
      "/Users/jamesmoss/opt/anaconda3/lib/python3.7/site-packages/ipykernel_launcher.py:4: SettingWithCopyWarning: \n",
      "A value is trying to be set on a copy of a slice from a DataFrame.\n",
      "Try using .loc[row_indexer,col_indexer] = value instead\n",
      "\n",
      "See the caveats in the documentation: https://pandas.pydata.org/pandas-docs/stable/user_guide/indexing.html#returning-a-view-versus-a-copy\n",
      "  after removing the cwd from sys.path.\n"
     ]
    },
    {
     "data": {
      "text/plain": [
       "<matplotlib.axes._subplots.AxesSubplot at 0x1a27b0eb50>"
      ]
     },
     "execution_count": 43,
     "metadata": {},
     "output_type": "execute_result"
    },
    {
     "data": {
      "image/png": "[encoded data removed]",
      "text/plain": [
       "<Figure size 432x288 with 1 Axes>"
      ]
     },
     "metadata": {
      "needs_background": "light"
     },
     "output_type": "display_data"
    },
    {
     "data": {
      "application/javascript": [
       "\n",
       "            setTimeout(function() {\n",
       "                var nbb_cell_id = 43;\n",
       "                var nbb_unformatted_code = \"#Look at the difference for a paired ttest\\n#lower means you lose more points after a double fault for 'double1Diff' below\\nmerged_players['Double1Diff']=merged_players[\\\"Double1WinnerMean\\\"]-merged_players[\\\"TotalWinnerMean\\\"]\\nmerged_players_many['Double1Diff']=merged_players_many[\\\"Double1WinnerMean\\\"]-merged_players_many[\\\"TotalWinnerMean\\\"]\\nprint(stats.describe(merged_players_many[\\\"Double1Diff\\\"]))\\nsns.distplot(merged_players_many[\\\"Double1Diff\\\"], kde=False)\";\n",
       "                var nbb_formatted_code = \"# Look at the difference for a paired ttest\\n# lower means you lose more points after a double fault for 'double1Diff' below\\nmerged_players[\\\"Double1Diff\\\"] = (\\n    merged_players[\\\"Double1WinnerMean\\\"] - merged_players[\\\"TotalWinnerMean\\\"]\\n)\\nmerged_players_many[\\\"Double1Diff\\\"] = (\\n    merged_players_many[\\\"Double1WinnerMean\\\"] - merged_players_many[\\\"TotalWinnerMean\\\"]\\n)\\nprint(stats.describe(merged_players_many[\\\"Double1Diff\\\"]))\\nsns.distplot(merged_players_many[\\\"Double1Diff\\\"], kde=False)\";\n",
       "                var nbb_cells = Jupyter.notebook.get_cells();\n",
       "                for (var i = 0; i < nbb_cells.length; ++i) {\n",
       "                    if (nbb_cells[i].input_prompt_number == nbb_cell_id) {\n",
       "                        if (nbb_cells[i].get_text() == nbb_unformatted_code) {\n",
       "                             nbb_cells[i].set_text(nbb_formatted_code);\n",
       "                        }\n",
       "                        break;\n",
       "                    }\n",
       "                }\n",
       "            }, 500);\n",
       "            "
      ],
      "text/plain": [
       "<IPython.core.display.Javascript object>"
      ]
     },
     "metadata": {},
     "output_type": "display_data"
    }
   ],
   "source": [
    "#Look at the difference for a paired ttest\n",
    "#lower means you lose more points after a double fault for 'double1Diff' below\n",
    "merged_players['Double1Diff']=merged_players[\"Double1WinnerMean\"]-merged_players[\"TotalWinnerMean\"]\n",
    "merged_players_many['Double1Diff']=merged_players_many[\"Double1WinnerMean\"]-merged_players_many[\"TotalWinnerMean\"]\n",
    "print(stats.describe(merged_players_many[\"Double1Diff\"]))\n",
    "sns.distplot(merged_players_many[\"Double1Diff\"], kde=False)\n"
   ]
  },
  {
   "cell_type": "code",
   "execution_count": 44,
   "metadata": {},
   "outputs": [
    {
     "data": {
      "image/png": "[encoded data removed]",
      "text/plain": [
       "<Figure size 432x288 with 1 Axes>"
      ]
     },
     "metadata": {
      "needs_background": "light"
     },
     "output_type": "display_data"
    },
    {
     "data": {
      "application/javascript": [
       "\n",
       "            setTimeout(function() {\n",
       "                var nbb_cell_id = 44;\n",
       "                var nbb_unformatted_code = \"qqplot(merged_players_many[\\\"Double1Diff\\\"], line=\\\"s\\\")\\nplt.show()\";\n",
       "                var nbb_formatted_code = \"qqplot(merged_players_many[\\\"Double1Diff\\\"], line=\\\"s\\\")\\nplt.show()\";\n",
       "                var nbb_cells = Jupyter.notebook.get_cells();\n",
       "                for (var i = 0; i < nbb_cells.length; ++i) {\n",
       "                    if (nbb_cells[i].input_prompt_number == nbb_cell_id) {\n",
       "                        if (nbb_cells[i].get_text() == nbb_unformatted_code) {\n",
       "                             nbb_cells[i].set_text(nbb_formatted_code);\n",
       "                        }\n",
       "                        break;\n",
       "                    }\n",
       "                }\n",
       "            }, 500);\n",
       "            "
      ],
      "text/plain": [
       "<IPython.core.display.Javascript object>"
      ]
     },
     "metadata": {},
     "output_type": "display_data"
    }
   ],
   "source": [
    "qqplot(merged_players_many[\"Double1Diff\"], line=\"s\")\n",
    "plt.show()"
   ]
  },
  {
   "cell_type": "markdown",
   "metadata": {},
   "source": [
    "I think we can call all these normal.\n",
    "\n",
    "At the moment, I only want to test to see if there is an effect on the point directly after double faulting, so I'll use the t-test."
   ]
  },
  {
   "cell_type": "code",
   "execution_count": 45,
   "metadata": {},
   "outputs": [
    {
     "data": {
      "text/plain": [
       "Ttest_relResult(statistic=0.027466979339477605, pvalue=0.9781095454153708)"
      ]
     },
     "execution_count": 45,
     "metadata": {},
     "output_type": "execute_result"
    },
    {
     "data": {
      "application/javascript": [
       "\n",
       "            setTimeout(function() {\n",
       "                var nbb_cell_id = 45;\n",
       "                var nbb_unformatted_code = \"stats.ttest_rel(\\n    merged_players_many[\\\"TotalWinnerMean\\\"], merged_players_many[\\\"Double1WinnerMean\\\"]\\n)\";\n",
       "                var nbb_formatted_code = \"stats.ttest_rel(\\n    merged_players_many[\\\"TotalWinnerMean\\\"], merged_players_many[\\\"Double1WinnerMean\\\"]\\n)\";\n",
       "                var nbb_cells = Jupyter.notebook.get_cells();\n",
       "                for (var i = 0; i < nbb_cells.length; ++i) {\n",
       "                    if (nbb_cells[i].input_prompt_number == nbb_cell_id) {\n",
       "                        if (nbb_cells[i].get_text() == nbb_unformatted_code) {\n",
       "                             nbb_cells[i].set_text(nbb_formatted_code);\n",
       "                        }\n",
       "                        break;\n",
       "                    }\n",
       "                }\n",
       "            }, 500);\n",
       "            "
      ],
      "text/plain": [
       "<IPython.core.display.Javascript object>"
      ]
     },
     "metadata": {},
     "output_type": "display_data"
    }
   ],
   "source": [
    "stats.ttest_rel(\n",
    "    merged_players_many[\"TotalWinnerMean\"], merged_players_many[\"Double1WinnerMean\"]\n",
    ")"
   ]
  },
  {
   "cell_type": "markdown",
   "metadata": {},
   "source": [
    "**I think that we can pretty confidently say here that double-faulting does not affect your performance on subsequent points on the individual player level!**"
   ]
  },
  {
   "cell_type": "markdown",
   "metadata": {},
   "source": [
    "Some sources of bias in this sample are that we looked at only the top 250 or so players, so they might be more mentally resiliant as a whole. Also, the sample itself is a chart of more popular matches, so, especially for the earlier ones, the charted matches are going to more inherently be the higher level ones."
   ]
  },
  {
   "cell_type": "markdown",
   "metadata": {},
   "source": [
    "### I want to take a look at the top players who are most affected by double faults. ###"
   ]
  },
  {
   "cell_type": "code",
   "execution_count": 46,
   "metadata": {
    "scrolled": false
   },
   "outputs": [
    {
     "data": {
      "text/html": [
       "<div>\n",
       "<style scoped>\n",
       "    .dataframe tbody tr th:only-of-type {\n",
       "        vertical-align: middle;\n",
       "    }\n",
       "\n",
       "    .dataframe tbody tr th {\n",
       "        vertical-align: top;\n",
       "    }\n",
       "\n",
       "    .dataframe thead th {\n",
       "        text-align: right;\n",
       "    }\n",
       "</style>\n",
       "<table border=\"1\" class=\"dataframe\">\n",
       "  <thead>\n",
       "    <tr style=\"text-align: right;\">\n",
       "      <th></th>\n",
       "      <th>Double1Diff</th>\n",
       "    </tr>\n",
       "    <tr>\n",
       "      <th>server_name</th>\n",
       "      <th></th>\n",
       "    </tr>\n",
       "  </thead>\n",
       "  <tbody>\n",
       "    <tr>\n",
       "      <th>Adrian_Mannarino</th>\n",
       "      <td>-0.513445</td>\n",
       "    </tr>\n",
       "    <tr>\n",
       "      <th>Miroslav_Mecir</th>\n",
       "      <td>-0.332468</td>\n",
       "    </tr>\n",
       "    <tr>\n",
       "      <th>Todd_Woodbridge</th>\n",
       "      <td>-0.286498</td>\n",
       "    </tr>\n",
       "    <tr>\n",
       "      <th>Egor_Gerasimov</th>\n",
       "      <td>-0.279079</td>\n",
       "    </tr>\n",
       "    <tr>\n",
       "      <th>Pablo_Cuevas</th>\n",
       "      <td>-0.225625</td>\n",
       "    </tr>\n",
       "    <tr>\n",
       "      <th>Marat_Safin</th>\n",
       "      <td>-0.217606</td>\n",
       "    </tr>\n",
       "    <tr>\n",
       "      <th>Peter_Polansky</th>\n",
       "      <td>-0.211470</td>\n",
       "    </tr>\n",
       "    <tr>\n",
       "      <th>Andrey_Rublev</th>\n",
       "      <td>-0.209193</td>\n",
       "    </tr>\n",
       "    <tr>\n",
       "      <th>Albert_Costa</th>\n",
       "      <td>-0.205537</td>\n",
       "    </tr>\n",
       "    <tr>\n",
       "      <th>Dominik_Hrbaty</th>\n",
       "      <td>-0.193627</td>\n",
       "    </tr>\n",
       "    <tr>\n",
       "      <th>Hyeon_Chung</th>\n",
       "      <td>-0.166265</td>\n",
       "    </tr>\n",
       "    <tr>\n",
       "      <th>Carlos_Berlocq</th>\n",
       "      <td>-0.165608</td>\n",
       "    </tr>\n",
       "    <tr>\n",
       "      <th>Tallon_Griekspoor</th>\n",
       "      <td>-0.155766</td>\n",
       "    </tr>\n",
       "    <tr>\n",
       "      <th>Reilly_Opelka</th>\n",
       "      <td>-0.153888</td>\n",
       "    </tr>\n",
       "    <tr>\n",
       "      <th>Nikola_Milojevic</th>\n",
       "      <td>-0.153117</td>\n",
       "    </tr>\n",
       "    <tr>\n",
       "      <th>Tommy_Paul</th>\n",
       "      <td>-0.151139</td>\n",
       "    </tr>\n",
       "    <tr>\n",
       "      <th>Vitas_Gerulaitis</th>\n",
       "      <td>-0.150132</td>\n",
       "    </tr>\n",
       "    <tr>\n",
       "      <th>Johan_Kriek</th>\n",
       "      <td>-0.150000</td>\n",
       "    </tr>\n",
       "    <tr>\n",
       "      <th>Yevgeny_Kafelnikov</th>\n",
       "      <td>-0.149206</td>\n",
       "    </tr>\n",
       "    <tr>\n",
       "      <th>Michael_Berrer</th>\n",
       "      <td>-0.145946</td>\n",
       "    </tr>\n",
       "  </tbody>\n",
       "</table>\n",
       "</div>"
      ],
      "text/plain": [
       "                    Double1Diff\n",
       "server_name                    \n",
       "Adrian_Mannarino      -0.513445\n",
       "Miroslav_Mecir        -0.332468\n",
       "Todd_Woodbridge       -0.286498\n",
       "Egor_Gerasimov        -0.279079\n",
       "Pablo_Cuevas          -0.225625\n",
       "Marat_Safin           -0.217606\n",
       "Peter_Polansky        -0.211470\n",
       "Andrey_Rublev         -0.209193\n",
       "Albert_Costa          -0.205537\n",
       "Dominik_Hrbaty        -0.193627\n",
       "Hyeon_Chung           -0.166265\n",
       "Carlos_Berlocq        -0.165608\n",
       "Tallon_Griekspoor     -0.155766\n",
       "Reilly_Opelka         -0.153888\n",
       "Nikola_Milojevic      -0.153117\n",
       "Tommy_Paul            -0.151139\n",
       "Vitas_Gerulaitis      -0.150132\n",
       "Johan_Kriek           -0.150000\n",
       "Yevgeny_Kafelnikov    -0.149206\n",
       "Michael_Berrer        -0.145946"
      ]
     },
     "execution_count": 46,
     "metadata": {},
     "output_type": "execute_result"
    },
    {
     "data": {
      "application/javascript": [
       "\n",
       "            setTimeout(function() {\n",
       "                var nbb_cell_id = 46;\n",
       "                var nbb_unformatted_code = \"merged_players_many[[\\\"Double1Diff\\\"]].sort_values(\\n    by=[\\\"Double1Diff\\\"], ascending=True\\n).head(20)\";\n",
       "                var nbb_formatted_code = \"merged_players_many[[\\\"Double1Diff\\\"]].sort_values(\\n    by=[\\\"Double1Diff\\\"], ascending=True\\n).head(20)\";\n",
       "                var nbb_cells = Jupyter.notebook.get_cells();\n",
       "                for (var i = 0; i < nbb_cells.length; ++i) {\n",
       "                    if (nbb_cells[i].input_prompt_number == nbb_cell_id) {\n",
       "                        if (nbb_cells[i].get_text() == nbb_unformatted_code) {\n",
       "                             nbb_cells[i].set_text(nbb_formatted_code);\n",
       "                        }\n",
       "                        break;\n",
       "                    }\n",
       "                }\n",
       "            }, 500);\n",
       "            "
      ],
      "text/plain": [
       "<IPython.core.display.Javascript object>"
      ]
     },
     "metadata": {},
     "output_type": "display_data"
    }
   ],
   "source": [
    "merged_players_many[[\"Double1Diff\"]].sort_values(\n",
    "    by=[\"Double1Diff\"], ascending=True\n",
    ").head(20)"
   ]
  },
  {
   "cell_type": "markdown",
   "metadata": {},
   "source": [
    "This is a pretty pleasing list. The best player here, Marat Safin, was known to have a terrible mental game. Many others, like Andrey Rublev and Hyeon Chung, are quite young."
   ]
  },
  {
   "cell_type": "code",
   "execution_count": 47,
   "metadata": {},
   "outputs": [
    {
     "data": {
      "text/html": [
       "<div>\n",
       "<style scoped>\n",
       "    .dataframe tbody tr th:only-of-type {\n",
       "        vertical-align: middle;\n",
       "    }\n",
       "\n",
       "    .dataframe tbody tr th {\n",
       "        vertical-align: top;\n",
       "    }\n",
       "\n",
       "    .dataframe thead th {\n",
       "        text-align: right;\n",
       "    }\n",
       "</style>\n",
       "<table border=\"1\" class=\"dataframe\">\n",
       "  <thead>\n",
       "    <tr style=\"text-align: right;\">\n",
       "      <th></th>\n",
       "      <th>Double1Diff</th>\n",
       "    </tr>\n",
       "    <tr>\n",
       "      <th>server_name</th>\n",
       "      <th></th>\n",
       "    </tr>\n",
       "  </thead>\n",
       "  <tbody>\n",
       "    <tr>\n",
       "      <th>Andy_Murray_</th>\n",
       "      <td>0.333333</td>\n",
       "    </tr>\n",
       "    <tr>\n",
       "      <th>Rudolf_Molleker</th>\n",
       "      <td>0.286337</td>\n",
       "    </tr>\n",
       "    <tr>\n",
       "      <th>Henri_Leconte</th>\n",
       "      <td>0.269489</td>\n",
       "    </tr>\n",
       "    <tr>\n",
       "      <th>Victor_Estrella</th>\n",
       "      <td>0.267544</td>\n",
       "    </tr>\n",
       "    <tr>\n",
       "      <th>Lukas_Lacko</th>\n",
       "      <td>0.259937</td>\n",
       "    </tr>\n",
       "    <tr>\n",
       "      <th>Jarkko_Nieminen</th>\n",
       "      <td>0.249438</td>\n",
       "    </tr>\n",
       "    <tr>\n",
       "      <th>Alberto_Berasategui</th>\n",
       "      <td>0.248834</td>\n",
       "    </tr>\n",
       "    <tr>\n",
       "      <th>Lukas_Rosol</th>\n",
       "      <td>0.248609</td>\n",
       "    </tr>\n",
       "    <tr>\n",
       "      <th>Mirza_Basic</th>\n",
       "      <td>0.244863</td>\n",
       "    </tr>\n",
       "    <tr>\n",
       "      <th>Aaron_Krickstein</th>\n",
       "      <td>0.241103</td>\n",
       "    </tr>\n",
       "  </tbody>\n",
       "</table>\n",
       "</div>"
      ],
      "text/plain": [
       "                     Double1Diff\n",
       "server_name                     \n",
       "Andy_Murray_            0.333333\n",
       "Rudolf_Molleker         0.286337\n",
       "Henri_Leconte           0.269489\n",
       "Victor_Estrella         0.267544\n",
       "Lukas_Lacko             0.259937\n",
       "Jarkko_Nieminen         0.249438\n",
       "Alberto_Berasategui     0.248834\n",
       "Lukas_Rosol             0.248609\n",
       "Mirza_Basic             0.244863\n",
       "Aaron_Krickstein        0.241103"
      ]
     },
     "execution_count": 47,
     "metadata": {},
     "output_type": "execute_result"
    },
    {
     "data": {
      "application/javascript": [
       "\n",
       "            setTimeout(function() {\n",
       "                var nbb_cell_id = 47;\n",
       "                var nbb_unformatted_code = \"# and those who are least\\nmerged_players_many[[\\\"Double1Diff\\\"]].sort_values(\\n    by=[\\\"Double1Diff\\\"], ascending=False\\n).head(10)\";\n",
       "                var nbb_formatted_code = \"# and those who are least\\nmerged_players_many[[\\\"Double1Diff\\\"]].sort_values(\\n    by=[\\\"Double1Diff\\\"], ascending=False\\n).head(10)\";\n",
       "                var nbb_cells = Jupyter.notebook.get_cells();\n",
       "                for (var i = 0; i < nbb_cells.length; ++i) {\n",
       "                    if (nbb_cells[i].input_prompt_number == nbb_cell_id) {\n",
       "                        if (nbb_cells[i].get_text() == nbb_unformatted_code) {\n",
       "                             nbb_cells[i].set_text(nbb_formatted_code);\n",
       "                        }\n",
       "                        break;\n",
       "                    }\n",
       "                }\n",
       "            }, 500);\n",
       "            "
      ],
      "text/plain": [
       "<IPython.core.display.Javascript object>"
      ]
     },
     "metadata": {},
     "output_type": "display_data"
    }
   ],
   "source": [
    "# and those who are least affected\n",
    "merged_players_many[[\"Double1Diff\"]].sort_values(\n",
    "    by=[\"Double1Diff\"], ascending=False\n",
    ").head(10)"
   ]
  },
  {
   "cell_type": "markdown",
   "metadata": {},
   "source": [
    "Andy Murray is at the top of this list, but his name is in a non-standard format, so I suspect this is because of a match he did particularly well is that was entered incorrectly. I don't recognize the other people, which may mean that this isn't a super important determiner of being good at tennis.\n",
    "\n",
    "**Speaking of which, I'll check to see how the best players in the world are in terms of the decrease in likelihood of winning a point after a double fault:**"
   ]
  },
  {
   "cell_type": "code",
   "execution_count": 48,
   "metadata": {},
   "outputs": [
    {
     "data": {
      "text/html": [
       "<div>\n",
       "<style scoped>\n",
       "    .dataframe tbody tr th:only-of-type {\n",
       "        vertical-align: middle;\n",
       "    }\n",
       "\n",
       "    .dataframe tbody tr th {\n",
       "        vertical-align: top;\n",
       "    }\n",
       "\n",
       "    .dataframe thead th {\n",
       "        text-align: right;\n",
       "    }\n",
       "</style>\n",
       "<table border=\"1\" class=\"dataframe\">\n",
       "  <thead>\n",
       "    <tr style=\"text-align: right;\">\n",
       "      <th></th>\n",
       "      <th>Double1Diff</th>\n",
       "    </tr>\n",
       "    <tr>\n",
       "      <th>server_name</th>\n",
       "      <th></th>\n",
       "    </tr>\n",
       "  </thead>\n",
       "  <tbody>\n",
       "    <tr>\n",
       "      <th>Roger_Federer</th>\n",
       "      <td>-0.039994</td>\n",
       "    </tr>\n",
       "    <tr>\n",
       "      <th>Novak_Djokovic</th>\n",
       "      <td>-0.011733</td>\n",
       "    </tr>\n",
       "    <tr>\n",
       "      <th>Rafael_Nadal</th>\n",
       "      <td>0.024052</td>\n",
       "    </tr>\n",
       "    <tr>\n",
       "      <th>Andy_Murray</th>\n",
       "      <td>0.009851</td>\n",
       "    </tr>\n",
       "  </tbody>\n",
       "</table>\n",
       "</div>"
      ],
      "text/plain": [
       "                Double1Diff\n",
       "server_name                \n",
       "Roger_Federer     -0.039994\n",
       "Novak_Djokovic    -0.011733\n",
       "Rafael_Nadal       0.024052\n",
       "Andy_Murray        0.009851"
      ]
     },
     "execution_count": 48,
     "metadata": {},
     "output_type": "execute_result"
    },
    {
     "data": {
      "application/javascript": [
       "\n",
       "            setTimeout(function() {\n",
       "                var nbb_cell_id = 48;\n",
       "                var nbb_unformatted_code = \"# look up the \\\"big four\\\", often referred to the best tennis players of the modern era.\\nmerged_players_many.loc[\\n    [\\\"Roger_Federer\\\", \\\"Novak_Djokovic\\\", \\\"Rafael_Nadal\\\", \\\"Andy_Murray\\\"], [\\\"Double1Diff\\\"]\\n]\";\n",
       "                var nbb_formatted_code = \"# look up the \\\"big four\\\", often referred to the best tennis players of the modern era.\\nmerged_players_many.loc[\\n    [\\\"Roger_Federer\\\", \\\"Novak_Djokovic\\\", \\\"Rafael_Nadal\\\", \\\"Andy_Murray\\\"], [\\\"Double1Diff\\\"]\\n]\";\n",
       "                var nbb_cells = Jupyter.notebook.get_cells();\n",
       "                for (var i = 0; i < nbb_cells.length; ++i) {\n",
       "                    if (nbb_cells[i].input_prompt_number == nbb_cell_id) {\n",
       "                        if (nbb_cells[i].get_text() == nbb_unformatted_code) {\n",
       "                             nbb_cells[i].set_text(nbb_formatted_code);\n",
       "                        }\n",
       "                        break;\n",
       "                    }\n",
       "                }\n",
       "            }, 500);\n",
       "            "
      ],
      "text/plain": [
       "<IPython.core.display.Javascript object>"
      ]
     },
     "metadata": {},
     "output_type": "display_data"
    }
   ],
   "source": [
    "# look up the \"big four\", often referred to the best tennis players of the modern era.\n",
    "merged_players_many.loc[\n",
    "    [\"Roger_Federer\", \"Novak_Djokovic\", \"Rafael_Nadal\", \"Andy_Murray\"], [\"Double1Diff\"]\n",
    "]"
   ]
  },
  {
   "cell_type": "markdown",
   "metadata": {},
   "source": [
    "As I suspected, my favorite Roger Federer is probably the least mentally tough of the bunch."
   ]
  },
  {
   "cell_type": "markdown",
   "metadata": {},
   "source": [
    "## Finding the correlation between aggressiveness on second serve and the effect of double faults ##\n",
    "\n",
    "Lastly, to tie all this together, I want to see if there is any correlation between being mentally affected by double faults and if you are more conservative on your second serve. To do this, I'll import the information from the first dataset on 'makewindiff' for individual players and merge that information with the dataset above, then take the correlation."
   ]
  },
  {
   "cell_type": "code",
   "execution_count": 49,
   "metadata": {},
   "outputs": [
    {
     "data": {
      "text/html": [
       "<div>\n",
       "<style scoped>\n",
       "    .dataframe tbody tr th:only-of-type {\n",
       "        vertical-align: middle;\n",
       "    }\n",
       "\n",
       "    .dataframe tbody tr th {\n",
       "        vertical-align: top;\n",
       "    }\n",
       "\n",
       "    .dataframe thead th {\n",
       "        text-align: right;\n",
       "    }\n",
       "</style>\n",
       "<table border=\"1\" class=\"dataframe\">\n",
       "  <thead>\n",
       "    <tr style=\"text-align: right;\">\n",
       "      <th></th>\n",
       "      <th>player_id</th>\n",
       "      <th>serve_pts</th>\n",
       "      <th>aces</th>\n",
       "      <th>dfs</th>\n",
       "      <th>first_in</th>\n",
       "      <th>first_won</th>\n",
       "      <th>second_in</th>\n",
       "      <th>second_won</th>\n",
       "      <th>year</th>\n",
       "      <th>first_out</th>\n",
       "      <th>second_total</th>\n",
       "      <th>second_out</th>\n",
       "      <th>matches_no</th>\n",
       "      <th>first_make_pct</th>\n",
       "      <th>first_win_pct</th>\n",
       "      <th>first_make_win</th>\n",
       "      <th>second_make_pct</th>\n",
       "      <th>second_win_pct</th>\n",
       "      <th>second_make_win</th>\n",
       "      <th>second_success</th>\n",
       "      <th>make_win_diff</th>\n",
       "    </tr>\n",
       "  </thead>\n",
       "  <tbody>\n",
       "    <tr>\n",
       "      <th>0</th>\n",
       "      <td>Aaron_Krickstein</td>\n",
       "      <td>285</td>\n",
       "      <td>15</td>\n",
       "      <td>4</td>\n",
       "      <td>146</td>\n",
       "      <td>84</td>\n",
       "      <td>135</td>\n",
       "      <td>59</td>\n",
       "      <td>7967</td>\n",
       "      <td>139</td>\n",
       "      <td>139</td>\n",
       "      <td>4</td>\n",
       "      <td>4</td>\n",
       "      <td>0.512281</td>\n",
       "      <td>0.575342</td>\n",
       "      <td>0.294737</td>\n",
       "      <td>0.971223</td>\n",
       "      <td>0.437037</td>\n",
       "      <td>0.424460</td>\n",
       "      <td>0.207018</td>\n",
       "      <td>0.129724</td>\n",
       "    </tr>\n",
       "    <tr>\n",
       "      <th>1</th>\n",
       "      <td>Adam_Pavlasek</td>\n",
       "      <td>193</td>\n",
       "      <td>22</td>\n",
       "      <td>5</td>\n",
       "      <td>102</td>\n",
       "      <td>75</td>\n",
       "      <td>86</td>\n",
       "      <td>42</td>\n",
       "      <td>6054</td>\n",
       "      <td>91</td>\n",
       "      <td>91</td>\n",
       "      <td>5</td>\n",
       "      <td>3</td>\n",
       "      <td>0.528497</td>\n",
       "      <td>0.735294</td>\n",
       "      <td>0.388601</td>\n",
       "      <td>0.945055</td>\n",
       "      <td>0.488372</td>\n",
       "      <td>0.461538</td>\n",
       "      <td>0.217617</td>\n",
       "      <td>0.072937</td>\n",
       "    </tr>\n",
       "    <tr>\n",
       "      <th>2</th>\n",
       "      <td>Adrian_Mannarino</td>\n",
       "      <td>607</td>\n",
       "      <td>45</td>\n",
       "      <td>13</td>\n",
       "      <td>382</td>\n",
       "      <td>257</td>\n",
       "      <td>212</td>\n",
       "      <td>107</td>\n",
       "      <td>16143</td>\n",
       "      <td>225</td>\n",
       "      <td>225</td>\n",
       "      <td>13</td>\n",
       "      <td>8</td>\n",
       "      <td>0.629325</td>\n",
       "      <td>0.672775</td>\n",
       "      <td>0.423394</td>\n",
       "      <td>0.942222</td>\n",
       "      <td>0.504717</td>\n",
       "      <td>0.475556</td>\n",
       "      <td>0.176277</td>\n",
       "      <td>0.052162</td>\n",
       "    </tr>\n",
       "    <tr>\n",
       "      <th>3</th>\n",
       "      <td>Adriano_Panatta</td>\n",
       "      <td>113</td>\n",
       "      <td>2</td>\n",
       "      <td>3</td>\n",
       "      <td>69</td>\n",
       "      <td>37</td>\n",
       "      <td>41</td>\n",
       "      <td>17</td>\n",
       "      <td>1974</td>\n",
       "      <td>44</td>\n",
       "      <td>44</td>\n",
       "      <td>3</td>\n",
       "      <td>1</td>\n",
       "      <td>0.610619</td>\n",
       "      <td>0.536232</td>\n",
       "      <td>0.327434</td>\n",
       "      <td>0.931818</td>\n",
       "      <td>0.414634</td>\n",
       "      <td>0.386364</td>\n",
       "      <td>0.150442</td>\n",
       "      <td>0.058930</td>\n",
       "    </tr>\n",
       "    <tr>\n",
       "      <th>4</th>\n",
       "      <td>Adrien_Bossel</td>\n",
       "      <td>43</td>\n",
       "      <td>1</td>\n",
       "      <td>1</td>\n",
       "      <td>23</td>\n",
       "      <td>14</td>\n",
       "      <td>19</td>\n",
       "      <td>4</td>\n",
       "      <td>2015</td>\n",
       "      <td>20</td>\n",
       "      <td>20</td>\n",
       "      <td>1</td>\n",
       "      <td>1</td>\n",
       "      <td>0.534884</td>\n",
       "      <td>0.608696</td>\n",
       "      <td>0.325581</td>\n",
       "      <td>0.950000</td>\n",
       "      <td>0.210526</td>\n",
       "      <td>0.200000</td>\n",
       "      <td>0.093023</td>\n",
       "      <td>-0.125581</td>\n",
       "    </tr>\n",
       "  </tbody>\n",
       "</table>\n",
       "</div>"
      ],
      "text/plain": [
       "          player_id  serve_pts  aces  dfs  first_in  first_won  second_in  \\\n",
       "0  Aaron_Krickstein        285    15    4       146         84        135   \n",
       "1     Adam_Pavlasek        193    22    5       102         75         86   \n",
       "2  Adrian_Mannarino        607    45   13       382        257        212   \n",
       "3   Adriano_Panatta        113     2    3        69         37         41   \n",
       "4     Adrien_Bossel         43     1    1        23         14         19   \n",
       "\n",
       "   second_won   year  first_out  second_total  second_out  matches_no  \\\n",
       "0          59   7967        139           139           4           4   \n",
       "1          42   6054         91            91           5           3   \n",
       "2         107  16143        225           225          13           8   \n",
       "3          17   1974         44            44           3           1   \n",
       "4           4   2015         20            20           1           1   \n",
       "\n",
       "   first_make_pct  first_win_pct  first_make_win  second_make_pct  \\\n",
       "0        0.512281       0.575342        0.294737         0.971223   \n",
       "1        0.528497       0.735294        0.388601         0.945055   \n",
       "2        0.629325       0.672775        0.423394         0.942222   \n",
       "3        0.610619       0.536232        0.327434         0.931818   \n",
       "4        0.534884       0.608696        0.325581         0.950000   \n",
       "\n",
       "   second_win_pct  second_make_win  second_success  make_win_diff  \n",
       "0        0.437037         0.424460        0.207018       0.129724  \n",
       "1        0.488372         0.461538        0.217617       0.072937  \n",
       "2        0.504717         0.475556        0.176277       0.052162  \n",
       "3        0.414634         0.386364        0.150442       0.058930  \n",
       "4        0.210526         0.200000        0.093023      -0.125581  "
      ]
     },
     "execution_count": 49,
     "metadata": {},
     "output_type": "execute_result"
    },
    {
     "data": {
      "application/javascript": [
       "\n",
       "            setTimeout(function() {\n",
       "                var nbb_cell_id = 49;\n",
       "                var nbb_unformatted_code = \"player_sums = pd.read_csv(\\\"player_sums.csv\\\")\\nplayer_sums.head()\";\n",
       "                var nbb_formatted_code = \"player_sums = pd.read_csv(\\\"player_sums.csv\\\")\\nplayer_sums.head()\";\n",
       "                var nbb_cells = Jupyter.notebook.get_cells();\n",
       "                for (var i = 0; i < nbb_cells.length; ++i) {\n",
       "                    if (nbb_cells[i].input_prompt_number == nbb_cell_id) {\n",
       "                        if (nbb_cells[i].get_text() == nbb_unformatted_code) {\n",
       "                             nbb_cells[i].set_text(nbb_formatted_code);\n",
       "                        }\n",
       "                        break;\n",
       "                    }\n",
       "                }\n",
       "            }, 500);\n",
       "            "
      ],
      "text/plain": [
       "<IPython.core.display.Javascript object>"
      ]
     },
     "metadata": {},
     "output_type": "display_data"
    }
   ],
   "source": [
    "player_sums = pd.read_csv(\"player_sums.csv\")\n",
    "player_sums.head(2)"
   ]
  },
  {
   "cell_type": "code",
   "execution_count": 50,
   "metadata": {},
   "outputs": [
    {
     "data": {
      "application/javascript": [
       "\n",
       "            setTimeout(function() {\n",
       "                var nbb_cell_id = 50;\n",
       "                var nbb_unformatted_code = \"corr_data = player_sums.merge(\\n    merged_players, left_on=\\\"player_id\\\", right_on=\\\"server_name\\\"\\n)\";\n",
       "                var nbb_formatted_code = \"corr_data = player_sums.merge(\\n    merged_players, left_on=\\\"player_id\\\", right_on=\\\"server_name\\\"\\n)\";\n",
       "                var nbb_cells = Jupyter.notebook.get_cells();\n",
       "                for (var i = 0; i < nbb_cells.length; ++i) {\n",
       "                    if (nbb_cells[i].input_prompt_number == nbb_cell_id) {\n",
       "                        if (nbb_cells[i].get_text() == nbb_unformatted_code) {\n",
       "                             nbb_cells[i].set_text(nbb_formatted_code);\n",
       "                        }\n",
       "                        break;\n",
       "                    }\n",
       "                }\n",
       "            }, 500);\n",
       "            "
      ],
      "text/plain": [
       "<IPython.core.display.Javascript object>"
      ]
     },
     "metadata": {},
     "output_type": "display_data"
    }
   ],
   "source": [
    "corr_data = player_sums.merge(\n",
    "    merged_players, left_on=\"player_id\", right_on=\"server_name\"\n",
    ")"
   ]
  },
  {
   "cell_type": "code",
   "execution_count": 51,
   "metadata": {},
   "outputs": [
    {
     "data": {
      "application/javascript": [
       "\n",
       "            setTimeout(function() {\n",
       "                var nbb_cell_id = 51;\n",
       "                var nbb_unformatted_code = \"corr_data = corr_data[[\\\"make_win_diff\\\", \\\"Double1Diff\\\"]]\";\n",
       "                var nbb_formatted_code = \"corr_data = corr_data[[\\\"make_win_diff\\\", \\\"Double1Diff\\\"]]\";\n",
       "                var nbb_cells = Jupyter.notebook.get_cells();\n",
       "                for (var i = 0; i < nbb_cells.length; ++i) {\n",
       "                    if (nbb_cells[i].input_prompt_number == nbb_cell_id) {\n",
       "                        if (nbb_cells[i].get_text() == nbb_unformatted_code) {\n",
       "                             nbb_cells[i].set_text(nbb_formatted_code);\n",
       "                        }\n",
       "                        break;\n",
       "                    }\n",
       "                }\n",
       "            }, 500);\n",
       "            "
      ],
      "text/plain": [
       "<IPython.core.display.Javascript object>"
      ]
     },
     "metadata": {},
     "output_type": "display_data"
    }
   ],
   "source": [
    "corr_data = corr_data[[\"make_win_diff\", \"Double1Diff\"]]"
   ]
  },
  {
   "cell_type": "code",
   "execution_count": 52,
   "metadata": {},
   "outputs": [
    {
     "data": {
      "text/html": [
       "<div>\n",
       "<style scoped>\n",
       "    .dataframe tbody tr th:only-of-type {\n",
       "        vertical-align: middle;\n",
       "    }\n",
       "\n",
       "    .dataframe tbody tr th {\n",
       "        vertical-align: top;\n",
       "    }\n",
       "\n",
       "    .dataframe thead th {\n",
       "        text-align: right;\n",
       "    }\n",
       "</style>\n",
       "<table border=\"1\" class=\"dataframe\">\n",
       "  <thead>\n",
       "    <tr style=\"text-align: right;\">\n",
       "      <th></th>\n",
       "      <th>make_win_diff</th>\n",
       "      <th>Double1Diff</th>\n",
       "    </tr>\n",
       "  </thead>\n",
       "  <tbody>\n",
       "    <tr>\n",
       "      <th>0</th>\n",
       "      <td>0.129724</td>\n",
       "      <td>0.241103</td>\n",
       "    </tr>\n",
       "    <tr>\n",
       "      <th>1</th>\n",
       "      <td>0.072937</td>\n",
       "      <td>-0.289007</td>\n",
       "    </tr>\n",
       "  </tbody>\n",
       "</table>\n",
       "</div>"
      ],
      "text/plain": [
       "   make_win_diff  Double1Diff\n",
       "0       0.129724     0.241103\n",
       "1       0.072937    -0.289007"
      ]
     },
     "execution_count": 52,
     "metadata": {},
     "output_type": "execute_result"
    },
    {
     "data": {
      "application/javascript": [
       "\n",
       "            setTimeout(function() {\n",
       "                var nbb_cell_id = 52;\n",
       "                var nbb_unformatted_code = \"corr_data.head(2)\";\n",
       "                var nbb_formatted_code = \"corr_data.head(2)\";\n",
       "                var nbb_cells = Jupyter.notebook.get_cells();\n",
       "                for (var i = 0; i < nbb_cells.length; ++i) {\n",
       "                    if (nbb_cells[i].input_prompt_number == nbb_cell_id) {\n",
       "                        if (nbb_cells[i].get_text() == nbb_unformatted_code) {\n",
       "                             nbb_cells[i].set_text(nbb_formatted_code);\n",
       "                        }\n",
       "                        break;\n",
       "                    }\n",
       "                }\n",
       "            }, 500);\n",
       "            "
      ],
      "text/plain": [
       "<IPython.core.display.Javascript object>"
      ]
     },
     "metadata": {},
     "output_type": "display_data"
    }
   ],
   "source": [
    "corr_data.head(2)"
   ]
  },
  {
   "cell_type": "code",
   "execution_count": 53,
   "metadata": {},
   "outputs": [
    {
     "data": {
      "text/html": [
       "<div>\n",
       "<style scoped>\n",
       "    .dataframe tbody tr th:only-of-type {\n",
       "        vertical-align: middle;\n",
       "    }\n",
       "\n",
       "    .dataframe tbody tr th {\n",
       "        vertical-align: top;\n",
       "    }\n",
       "\n",
       "    .dataframe thead th {\n",
       "        text-align: right;\n",
       "    }\n",
       "</style>\n",
       "<table border=\"1\" class=\"dataframe\">\n",
       "  <thead>\n",
       "    <tr style=\"text-align: right;\">\n",
       "      <th></th>\n",
       "      <th>make_win_diff</th>\n",
       "      <th>Double1Diff</th>\n",
       "    </tr>\n",
       "  </thead>\n",
       "  <tbody>\n",
       "    <tr>\n",
       "      <th>make_win_diff</th>\n",
       "      <td>1.000000</td>\n",
       "      <td>0.050835</td>\n",
       "    </tr>\n",
       "    <tr>\n",
       "      <th>Double1Diff</th>\n",
       "      <td>0.050835</td>\n",
       "      <td>1.000000</td>\n",
       "    </tr>\n",
       "  </tbody>\n",
       "</table>\n",
       "</div>"
      ],
      "text/plain": [
       "               make_win_diff  Double1Diff\n",
       "make_win_diff       1.000000     0.050835\n",
       "Double1Diff         0.050835     1.000000"
      ]
     },
     "execution_count": 53,
     "metadata": {},
     "output_type": "execute_result"
    },
    {
     "data": {
      "application/javascript": [
       "\n",
       "            setTimeout(function() {\n",
       "                var nbb_cell_id = 53;\n",
       "                var nbb_unformatted_code = \"corr_data.corr(method=\\\"pearson\\\")\";\n",
       "                var nbb_formatted_code = \"corr_data.corr(method=\\\"pearson\\\")\";\n",
       "                var nbb_cells = Jupyter.notebook.get_cells();\n",
       "                for (var i = 0; i < nbb_cells.length; ++i) {\n",
       "                    if (nbb_cells[i].input_prompt_number == nbb_cell_id) {\n",
       "                        if (nbb_cells[i].get_text() == nbb_unformatted_code) {\n",
       "                             nbb_cells[i].set_text(nbb_formatted_code);\n",
       "                        }\n",
       "                        break;\n",
       "                    }\n",
       "                }\n",
       "            }, 500);\n",
       "            "
      ],
      "text/plain": [
       "<IPython.core.display.Javascript object>"
      ]
     },
     "metadata": {},
     "output_type": "display_data"
    }
   ],
   "source": [
    "corr_data.corr(method=\"pearson\")"
   ]
  },
  {
   "cell_type": "markdown",
   "metadata": {},
   "source": [
    "So we see almost no correlation between being conservative with serves and missing more second serves. Meaning that players who are more conservative are probably not responding to having a bad mental game."
   ]
  },
  {
   "cell_type": "markdown",
   "metadata": {},
   "source": [
    "As stated, most of the bias in this sample comes from who the match charters decide to chart. This will always lean toward the biggest players. Another, more insidious, source of bias for the individual player statistics is that any comparison of averages between them will be equally weighted, even though the biggest players have played more points\n",
    "\n",
    "If I were to continue this research, I would like to see the effect that serve speed and placement has on winning. The placement variables are included in the points dataset, but not the speed sadly. Spin would also be incredibly useful to know, but that would be very difficult to find out."
   ]
  },
  {
   "cell_type": "code",
   "execution_count": null,
   "metadata": {},
   "outputs": [],
   "source": []
  }
 ],
 "metadata": {
  "kernelspec": {
   "display_name": "Python 3",
   "language": "python",
   "name": "python3"
  },
  "language_info": {
   "codemirror_mode": {
    "name": "ipython",
    "version": 3
   },
   "file_extension": ".py",
   "mimetype": "text/x-python",
   "name": "python",
   "nbconvert_exporter": "python",
   "pygments_lexer": "ipython3",
   "version": "3.7.6"
  }
 },
 "nbformat": 4,
 "nbformat_minor": 4
}
