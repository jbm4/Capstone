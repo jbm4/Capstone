{
 "cells": [
  {
   "cell_type": "code",
   "execution_count": 1,
   "metadata": {},
   "outputs": [
    {
     "data": {
      "application/javascript": [
       "\n",
       "            setTimeout(function() {\n",
       "                var nbb_cell_id = 1;\n",
       "                var nbb_unformatted_code = \"%reload_ext nb_black\";\n",
       "                var nbb_formatted_code = \"%reload_ext nb_black\";\n",
       "                var nbb_cells = Jupyter.notebook.get_cells();\n",
       "                for (var i = 0; i < nbb_cells.length; ++i) {\n",
       "                    if (nbb_cells[i].input_prompt_number == nbb_cell_id) {\n",
       "                        if (nbb_cells[i].get_text() == nbb_unformatted_code) {\n",
       "                             nbb_cells[i].set_text(nbb_formatted_code);\n",
       "                        }\n",
       "                        break;\n",
       "                    }\n",
       "                }\n",
       "            }, 500);\n",
       "            "
      ],
      "text/plain": [
       "<IPython.core.display.Javascript object>"
      ]
     },
     "metadata": {},
     "output_type": "display_data"
    }
   ],
   "source": [
    "%reload_ext nb_black"
   ]
  },
  {
   "cell_type": "code",
   "execution_count": 2,
   "metadata": {},
   "outputs": [
    {
     "data": {
      "application/javascript": [
       "\n",
       "            setTimeout(function() {\n",
       "                var nbb_cell_id = 2;\n",
       "                var nbb_unformatted_code = \"import numpy as np\\nimport pandas as pd\\nimport seaborn as sns\\nimport matplotlib.pyplot as plt\\nimport math\\nfrom scipy import stats\\nfrom statsmodels.graphics.gofplots import qqplot\\nfrom statsmodels.stats.multitest import multipletests\\n\\n\\n%matplotlib inline\";\n",
       "                var nbb_formatted_code = \"import numpy as np\\nimport pandas as pd\\nimport seaborn as sns\\nimport matplotlib.pyplot as plt\\nimport math\\nfrom scipy import stats\\nfrom statsmodels.graphics.gofplots import qqplot\\nfrom statsmodels.stats.multitest import multipletests\\n\\n\\n%matplotlib inline\";\n",
       "                var nbb_cells = Jupyter.notebook.get_cells();\n",
       "                for (var i = 0; i < nbb_cells.length; ++i) {\n",
       "                    if (nbb_cells[i].input_prompt_number == nbb_cell_id) {\n",
       "                        if (nbb_cells[i].get_text() == nbb_unformatted_code) {\n",
       "                             nbb_cells[i].set_text(nbb_formatted_code);\n",
       "                        }\n",
       "                        break;\n",
       "                    }\n",
       "                }\n",
       "            }, 500);\n",
       "            "
      ],
      "text/plain": [
       "<IPython.core.display.Javascript object>"
      ]
     },
     "metadata": {},
     "output_type": "display_data"
    }
   ],
   "source": [
    "import numpy as np\n",
    "import pandas as pd\n",
    "import seaborn as sns\n",
    "import matplotlib.pyplot as plt\n",
    "import math\n",
    "from scipy import stats\n",
    "from statsmodels.graphics.gofplots import qqplot\n",
    "from statsmodels.stats.multitest import multipletests\n",
    "\n",
    "\n",
    "%matplotlib inline"
   ]
  },
  {
   "cell_type": "code",
   "execution_count": 3,
   "metadata": {},
   "outputs": [
    {
     "name": "stderr",
     "output_type": "stream",
     "text": [
      "/Users/jamesmoss/opt/anaconda3/lib/python3.7/site-packages/IPython/core/interactiveshell.py:3063: DtypeWarning: Columns (7,8,9,42) have mixed types.Specify dtype option on import or set low_memory=False.\n",
      "  interactivity=interactivity, compiler=compiler, result=result)\n"
     ]
    },
    {
     "data": {
      "application/javascript": [
       "\n",
       "            setTimeout(function() {\n",
       "                var nbb_cell_id = 3;\n",
       "                var nbb_unformatted_code = \"data_path = \\\"data/charting-m-points.csv\\\"\\ndf = pd.read_csv(data_path, encoding=\\\"ISO-8859-1\\\")\";\n",
       "                var nbb_formatted_code = \"data_path = \\\"data/charting-m-points.csv\\\"\\ndf = pd.read_csv(data_path, encoding=\\\"ISO-8859-1\\\")\";\n",
       "                var nbb_cells = Jupyter.notebook.get_cells();\n",
       "                for (var i = 0; i < nbb_cells.length; ++i) {\n",
       "                    if (nbb_cells[i].input_prompt_number == nbb_cell_id) {\n",
       "                        if (nbb_cells[i].get_text() == nbb_unformatted_code) {\n",
       "                             nbb_cells[i].set_text(nbb_formatted_code);\n",
       "                        }\n",
       "                        break;\n",
       "                    }\n",
       "                }\n",
       "            }, 500);\n",
       "            "
      ],
      "text/plain": [
       "<IPython.core.display.Javascript object>"
      ]
     },
     "metadata": {},
     "output_type": "display_data"
    }
   ],
   "source": [
    "data_path = \"data/charting-m-points.csv\"\n",
    "df = pd.read_csv(data_path, encoding=\"ISO-8859-1\")"
   ]
  },
  {
   "cell_type": "code",
   "execution_count": 4,
   "metadata": {
    "scrolled": true
   },
   "outputs": [
    {
     "name": "stdout",
     "output_type": "stream",
     "text": [
      "<class 'pandas.core.frame.DataFrame'>\n",
      "RangeIndex: 439988 entries, 0 to 439987\n",
      "Data columns (total 43 columns):\n",
      " #   Column         Non-Null Count   Dtype  \n",
      "---  ------         --------------   -----  \n",
      " 0   match_id       439988 non-null  object \n",
      " 1   Pt             439988 non-null  int64  \n",
      " 2   Set1           439988 non-null  int64  \n",
      " 3   Set2           439988 non-null  int64  \n",
      " 4   Gm1            439987 non-null  float64\n",
      " 5   Gm2            439987 non-null  float64\n",
      " 6   Pts            439988 non-null  object \n",
      " 7   Gm#            439987 non-null  object \n",
      " 8   TbSet          439988 non-null  object \n",
      " 9   TB?            439988 non-null  object \n",
      " 10  TBpt           15632 non-null   float64\n",
      " 11  Svr            439988 non-null  int64  \n",
      " 12  Ret            439988 non-null  int64  \n",
      " 13  Serving        439375 non-null  object \n",
      " 14  1st            439988 non-null  object \n",
      " 15  2nd            166825 non-null  object \n",
      " 16  Notes          26591 non-null   object \n",
      " 17  1stSV          439988 non-null  int64  \n",
      " 18  2ndSV          166825 non-null  float64\n",
      " 19  1stIn          439988 non-null  int64  \n",
      " 20  2ndIn          166825 non-null  float64\n",
      " 21  isRally1st     439988 non-null  int64  \n",
      " 22  isRally2nd     439988 non-null  int64  \n",
      " 23  Sv1            439988 non-null  object \n",
      " 24  Sv2            166825 non-null  object \n",
      " 25  Rally          381134 non-null  object \n",
      " 26  isAce          439988 non-null  bool   \n",
      " 27  isUnret        439988 non-null  bool   \n",
      " 28  isRallyWinner  439988 non-null  bool   \n",
      " 29  isForced       439988 non-null  bool   \n",
      " 30  isUnforced     439988 non-null  bool   \n",
      " 31  isDouble       439988 non-null  bool   \n",
      " 32  rallyLen       439988 non-null  int64  \n",
      " 33  PtWinner       439988 non-null  int64  \n",
      " 34  isSvrWinner    439988 non-null  int64  \n",
      " 35  PtsAfter       439988 non-null  object \n",
      " 36  GmW            439988 non-null  int64  \n",
      " 37  Gm1.1          439988 non-null  int64  \n",
      " 38  Gm2.1          439988 non-null  int64  \n",
      " 39  SetW           439988 non-null  int64  \n",
      " 40  Set1.1         439988 non-null  int64  \n",
      " 41  Set2.1         439988 non-null  int64  \n",
      " 42  rallyCount     439984 non-null  object \n",
      "dtypes: bool(6), float64(5), int64(18), object(14)\n",
      "memory usage: 126.7+ MB\n"
     ]
    },
    {
     "data": {
      "application/javascript": [
       "\n",
       "            setTimeout(function() {\n",
       "                var nbb_cell_id = 4;\n",
       "                var nbb_unformatted_code = \"df.info()\";\n",
       "                var nbb_formatted_code = \"df.info()\";\n",
       "                var nbb_cells = Jupyter.notebook.get_cells();\n",
       "                for (var i = 0; i < nbb_cells.length; ++i) {\n",
       "                    if (nbb_cells[i].input_prompt_number == nbb_cell_id) {\n",
       "                        if (nbb_cells[i].get_text() == nbb_unformatted_code) {\n",
       "                             nbb_cells[i].set_text(nbb_formatted_code);\n",
       "                        }\n",
       "                        break;\n",
       "                    }\n",
       "                }\n",
       "            }, 500);\n",
       "            "
      ],
      "text/plain": [
       "<IPython.core.display.Javascript object>"
      ]
     },
     "metadata": {},
     "output_type": "display_data"
    }
   ],
   "source": [
    "df.info()"
   ]
  },
  {
   "cell_type": "code",
   "execution_count": 32,
   "metadata": {
    "scrolled": true
   },
   "outputs": [
    {
     "data": {
      "application/javascript": [
       "\n",
       "            setTimeout(function() {\n",
       "                var nbb_cell_id = 32;\n",
       "                var nbb_unformatted_code = \"pd.set_option(\\\"display.max_columns\\\", None)\\n# df[\\\"match_id\\\"].head(5)\\n# df.head(5)\";\n",
       "                var nbb_formatted_code = \"pd.set_option(\\\"display.max_columns\\\", None)\\n# df[\\\"match_id\\\"].head(5)\\n# df.head(5)\";\n",
       "                var nbb_cells = Jupyter.notebook.get_cells();\n",
       "                for (var i = 0; i < nbb_cells.length; ++i) {\n",
       "                    if (nbb_cells[i].input_prompt_number == nbb_cell_id) {\n",
       "                        if (nbb_cells[i].get_text() == nbb_unformatted_code) {\n",
       "                             nbb_cells[i].set_text(nbb_formatted_code);\n",
       "                        }\n",
       "                        break;\n",
       "                    }\n",
       "                }\n",
       "            }, 500);\n",
       "            "
      ],
      "text/plain": [
       "<IPython.core.display.Javascript object>"
      ]
     },
     "metadata": {},
     "output_type": "display_data"
    }
   ],
   "source": [
    "pd.set_option(\"display.max_columns\", None)\n",
    "# df[\"match_id\"].head(5)\n",
    "# df.head(5)"
   ]
  },
  {
   "cell_type": "code",
   "execution_count": 29,
   "metadata": {},
   "outputs": [
    {
     "data": {
      "application/javascript": [
       "\n",
       "            setTimeout(function() {\n",
       "                var nbb_cell_id = 29;\n",
       "                var nbb_unformatted_code = \"df[\\\"year\\\"] = df[\\\"match_id\\\"].str[0:4].astype(int)\\ndf['player1_id']=None\\ndf['player2_id']=None\\ndf['player2_id']=df[\\\"match_id\\\"].str.split(\\\"-\\\").str[-1]\\ndf['player1_id']=df[\\\"match_id\\\"].str.split(\\\"-\\\").str[-2]\";\n",
       "                var nbb_formatted_code = \"df[\\\"year\\\"] = df[\\\"match_id\\\"].str[0:4].astype(int)\\ndf[\\\"player1_id\\\"] = None\\ndf[\\\"player2_id\\\"] = None\\ndf[\\\"player2_id\\\"] = df[\\\"match_id\\\"].str.split(\\\"-\\\").str[-1]\\ndf[\\\"player1_id\\\"] = df[\\\"match_id\\\"].str.split(\\\"-\\\").str[-2]\";\n",
       "                var nbb_cells = Jupyter.notebook.get_cells();\n",
       "                for (var i = 0; i < nbb_cells.length; ++i) {\n",
       "                    if (nbb_cells[i].input_prompt_number == nbb_cell_id) {\n",
       "                        if (nbb_cells[i].get_text() == nbb_unformatted_code) {\n",
       "                             nbb_cells[i].set_text(nbb_formatted_code);\n",
       "                        }\n",
       "                        break;\n",
       "                    }\n",
       "                }\n",
       "            }, 500);\n",
       "            "
      ],
      "text/plain": [
       "<IPython.core.display.Javascript object>"
      ]
     },
     "metadata": {},
     "output_type": "display_data"
    }
   ],
   "source": [
    "df[\"year\"] = df[\"match_id\"].str[0:4].astype(int)\n",
    "df['player1_id']=None\n",
    "df['player2_id']=None\n",
    "df['player2_id']=df[\"match_id\"].str.split(\"-\").str[-1]\n",
    "df['player1_id']=df[\"match_id\"].str.split(\"-\").str[-2]\n"
   ]
  },
  {
   "cell_type": "code",
   "execution_count": 31,
   "metadata": {},
   "outputs": [
    {
     "data": {
      "text/html": [
       "<div>\n",
       "<style scoped>\n",
       "    .dataframe tbody tr th:only-of-type {\n",
       "        vertical-align: middle;\n",
       "    }\n",
       "\n",
       "    .dataframe tbody tr th {\n",
       "        vertical-align: top;\n",
       "    }\n",
       "\n",
       "    .dataframe thead th {\n",
       "        text-align: right;\n",
       "    }\n",
       "</style>\n",
       "<table border=\"1\" class=\"dataframe\">\n",
       "  <thead>\n",
       "    <tr style=\"text-align: right;\">\n",
       "      <th></th>\n",
       "      <th>match_id</th>\n",
       "      <th>player1_id</th>\n",
       "      <th>player2_id</th>\n",
       "      <th>year</th>\n",
       "      <th>Svr</th>\n",
       "      <th>isDouble</th>\n",
       "      <th>isAce</th>\n",
       "      <th>PtWinner</th>\n",
       "      <th>isSvrWinner</th>\n",
       "    </tr>\n",
       "  </thead>\n",
       "  <tbody>\n",
       "    <tr>\n",
       "      <th>0</th>\n",
       "      <td>20200307-M-Davis_Cup_WG_II-RR-Ernests_Gulbis-M...</td>\n",
       "      <td>Ernests_Gulbis</td>\n",
       "      <td>Mohamed_Safwat</td>\n",
       "      <td>2020</td>\n",
       "      <td>1</td>\n",
       "      <td>False</td>\n",
       "      <td>False</td>\n",
       "      <td>1</td>\n",
       "      <td>1</td>\n",
       "    </tr>\n",
       "    <tr>\n",
       "      <th>1</th>\n",
       "      <td>20200307-M-Davis_Cup_WG_II-RR-Ernests_Gulbis-M...</td>\n",
       "      <td>Ernests_Gulbis</td>\n",
       "      <td>Mohamed_Safwat</td>\n",
       "      <td>2020</td>\n",
       "      <td>1</td>\n",
       "      <td>False</td>\n",
       "      <td>False</td>\n",
       "      <td>2</td>\n",
       "      <td>0</td>\n",
       "    </tr>\n",
       "    <tr>\n",
       "      <th>2</th>\n",
       "      <td>20200307-M-Davis_Cup_WG_II-RR-Ernests_Gulbis-M...</td>\n",
       "      <td>Ernests_Gulbis</td>\n",
       "      <td>Mohamed_Safwat</td>\n",
       "      <td>2020</td>\n",
       "      <td>1</td>\n",
       "      <td>False</td>\n",
       "      <td>False</td>\n",
       "      <td>2</td>\n",
       "      <td>0</td>\n",
       "    </tr>\n",
       "    <tr>\n",
       "      <th>3</th>\n",
       "      <td>20200307-M-Davis_Cup_WG_II-RR-Ernests_Gulbis-M...</td>\n",
       "      <td>Ernests_Gulbis</td>\n",
       "      <td>Mohamed_Safwat</td>\n",
       "      <td>2020</td>\n",
       "      <td>1</td>\n",
       "      <td>False</td>\n",
       "      <td>False</td>\n",
       "      <td>1</td>\n",
       "      <td>1</td>\n",
       "    </tr>\n",
       "    <tr>\n",
       "      <th>4</th>\n",
       "      <td>20200307-M-Davis_Cup_WG_II-RR-Ernests_Gulbis-M...</td>\n",
       "      <td>Ernests_Gulbis</td>\n",
       "      <td>Mohamed_Safwat</td>\n",
       "      <td>2020</td>\n",
       "      <td>1</td>\n",
       "      <td>False</td>\n",
       "      <td>False</td>\n",
       "      <td>1</td>\n",
       "      <td>1</td>\n",
       "    </tr>\n",
       "  </tbody>\n",
       "</table>\n",
       "</div>"
      ],
      "text/plain": [
       "                                            match_id      player1_id  \\\n",
       "0  20200307-M-Davis_Cup_WG_II-RR-Ernests_Gulbis-M...  Ernests_Gulbis   \n",
       "1  20200307-M-Davis_Cup_WG_II-RR-Ernests_Gulbis-M...  Ernests_Gulbis   \n",
       "2  20200307-M-Davis_Cup_WG_II-RR-Ernests_Gulbis-M...  Ernests_Gulbis   \n",
       "3  20200307-M-Davis_Cup_WG_II-RR-Ernests_Gulbis-M...  Ernests_Gulbis   \n",
       "4  20200307-M-Davis_Cup_WG_II-RR-Ernests_Gulbis-M...  Ernests_Gulbis   \n",
       "\n",
       "       player2_id  year  Svr  isDouble  isAce  PtWinner  isSvrWinner  \n",
       "0  Mohamed_Safwat  2020    1     False  False         1            1  \n",
       "1  Mohamed_Safwat  2020    1     False  False         2            0  \n",
       "2  Mohamed_Safwat  2020    1     False  False         2            0  \n",
       "3  Mohamed_Safwat  2020    1     False  False         1            1  \n",
       "4  Mohamed_Safwat  2020    1     False  False         1            1  "
      ]
     },
     "execution_count": 31,
     "metadata": {},
     "output_type": "execute_result"
    },
    {
     "data": {
      "application/javascript": [
       "\n",
       "            setTimeout(function() {\n",
       "                var nbb_cell_id = 31;\n",
       "                var nbb_unformatted_code = \"df_trim = df[[\\\"match_id\\\", 'player1_id', 'player2_id', 'year', \\\"Svr\\\", \\\"isDouble\\\", 'isAce', \\\"PtWinner\\\", \\\"isSvrWinner\\\"]]\\ndf_trim.head()\";\n",
       "                var nbb_formatted_code = \"df_trim = df[\\n    [\\n        \\\"match_id\\\",\\n        \\\"player1_id\\\",\\n        \\\"player2_id\\\",\\n        \\\"year\\\",\\n        \\\"Svr\\\",\\n        \\\"isDouble\\\",\\n        \\\"isAce\\\",\\n        \\\"PtWinner\\\",\\n        \\\"isSvrWinner\\\",\\n    ]\\n]\\ndf_trim.head()\";\n",
       "                var nbb_cells = Jupyter.notebook.get_cells();\n",
       "                for (var i = 0; i < nbb_cells.length; ++i) {\n",
       "                    if (nbb_cells[i].input_prompt_number == nbb_cell_id) {\n",
       "                        if (nbb_cells[i].get_text() == nbb_unformatted_code) {\n",
       "                             nbb_cells[i].set_text(nbb_formatted_code);\n",
       "                        }\n",
       "                        break;\n",
       "                    }\n",
       "                }\n",
       "            }, 500);\n",
       "            "
      ],
      "text/plain": [
       "<IPython.core.display.Javascript object>"
      ]
     },
     "metadata": {},
     "output_type": "display_data"
    }
   ],
   "source": [
    "df_trim = df[\n",
    "    [\n",
    "        \"match_id\",\n",
    "        \"player1_id\",\n",
    "        \"player2_id\",\n",
    "        \"year\",\n",
    "        \"Svr\",\n",
    "        \"isDouble\",\n",
    "        \"isAce\",\n",
    "        \"PtWinner\",\n",
    "        \"isSvrWinner\",\n",
    "    ]\n",
    "]\n",
    "df_trim.head()"
   ]
  },
  {
   "cell_type": "markdown",
   "metadata": {},
   "source": [
    "### Make variables that indicate if the point is within 1,2, or 3 points after a double fault ###"
   ]
  },
  {
   "cell_type": "code",
   "execution_count": 36,
   "metadata": {},
   "outputs": [
    {
     "name": "stderr",
     "output_type": "stream",
     "text": [
      "/Users/jamesmoss/opt/anaconda3/lib/python3.7/site-packages/ipykernel_launcher.py:5: SettingWithCopyWarning: \n",
      "A value is trying to be set on a copy of a slice from a DataFrame.\n",
      "Try using .loc[row_indexer,col_indexer] = value instead\n",
      "\n",
      "See the caveats in the documentation: https://pandas.pydata.org/pandas-docs/stable/user_guide/indexing.html#returning-a-view-versus-a-copy\n",
      "  \"\"\"\n",
      "/Users/jamesmoss/opt/anaconda3/lib/python3.7/site-packages/ipykernel_launcher.py:6: SettingWithCopyWarning: \n",
      "A value is trying to be set on a copy of a slice from a DataFrame.\n",
      "Try using .loc[row_indexer,col_indexer] = value instead\n",
      "\n",
      "See the caveats in the documentation: https://pandas.pydata.org/pandas-docs/stable/user_guide/indexing.html#returning-a-view-versus-a-copy\n",
      "  \n",
      "/Users/jamesmoss/opt/anaconda3/lib/python3.7/site-packages/ipykernel_launcher.py:7: SettingWithCopyWarning: \n",
      "A value is trying to be set on a copy of a slice from a DataFrame.\n",
      "Try using .loc[row_indexer,col_indexer] = value instead\n",
      "\n",
      "See the caveats in the documentation: https://pandas.pydata.org/pandas-docs/stable/user_guide/indexing.html#returning-a-view-versus-a-copy\n",
      "  import sys\n",
      "/Users/jamesmoss/opt/anaconda3/lib/python3.7/site-packages/ipykernel_launcher.py:8: SettingWithCopyWarning: \n",
      "A value is trying to be set on a copy of a slice from a DataFrame.\n",
      "Try using .loc[row_indexer,col_indexer] = value instead\n",
      "\n",
      "See the caveats in the documentation: https://pandas.pydata.org/pandas-docs/stable/user_guide/indexing.html#returning-a-view-versus-a-copy\n",
      "  \n"
     ]
    },
    {
     "data": {
      "application/javascript": [
       "\n",
       "            setTimeout(function() {\n",
       "                var nbb_cell_id = 36;\n",
       "                var nbb_unformatted_code = \"# def after_doublefault(rows):\\n#     is_double=rows.isDouble==True\\n#     results=rows.loc[is_double, 'PtWinner']\\n\\ndf_trim[\\\"after_double\\\"] = df_trim[\\\"isDouble\\\"]\\ndf_trim[\\\"after_double1\\\"] = df_trim[\\\"after_double\\\"].shift(periods=1, fill_value=False)\\ndf_trim[\\\"after_double2\\\"] = df_trim[\\\"after_double1\\\"].shift(periods=1, fill_value=False)\\ndf_trim[\\\"after_double3\\\"] = df_trim[\\\"after_double2\\\"].shift(periods=1, fill_value=False)\";\n",
       "                var nbb_formatted_code = \"# def after_doublefault(rows):\\n#     is_double=rows.isDouble==True\\n#     results=rows.loc[is_double, 'PtWinner']\\n\\ndf_trim[\\\"after_double\\\"] = df_trim[\\\"isDouble\\\"]\\ndf_trim[\\\"after_double1\\\"] = df_trim[\\\"after_double\\\"].shift(periods=1, fill_value=False)\\ndf_trim[\\\"after_double2\\\"] = df_trim[\\\"after_double1\\\"].shift(periods=1, fill_value=False)\\ndf_trim[\\\"after_double3\\\"] = df_trim[\\\"after_double2\\\"].shift(periods=1, fill_value=False)\";\n",
       "                var nbb_cells = Jupyter.notebook.get_cells();\n",
       "                for (var i = 0; i < nbb_cells.length; ++i) {\n",
       "                    if (nbb_cells[i].input_prompt_number == nbb_cell_id) {\n",
       "                        if (nbb_cells[i].get_text() == nbb_unformatted_code) {\n",
       "                             nbb_cells[i].set_text(nbb_formatted_code);\n",
       "                        }\n",
       "                        break;\n",
       "                    }\n",
       "                }\n",
       "            }, 500);\n",
       "            "
      ],
      "text/plain": [
       "<IPython.core.display.Javascript object>"
      ]
     },
     "metadata": {},
     "output_type": "display_data"
    }
   ],
   "source": [
    "# def after_doublefault(rows):\n",
    "#     is_double=rows.isDouble==True\n",
    "#     results=rows.loc[is_double, 'PtWinner']\n",
    "\n",
    "df_trim[\"after_double\"] = df_trim[\"isDouble\"]\n",
    "df_trim[\"after_double1\"] = df_trim[\"after_double\"].shift(periods=1, fill_value=False)\n",
    "df_trim[\"after_double2\"] = df_trim[\"after_double1\"].shift(periods=1, fill_value=False)\n",
    "df_trim[\"after_double3\"] = df_trim[\"after_double2\"].shift(periods=1, fill_value=False)"
   ]
  },
  {
   "cell_type": "code",
   "execution_count": 37,
   "metadata": {},
   "outputs": [
    {
     "data": {
      "text/html": [
       "<div>\n",
       "<style scoped>\n",
       "    .dataframe tbody tr th:only-of-type {\n",
       "        vertical-align: middle;\n",
       "    }\n",
       "\n",
       "    .dataframe tbody tr th {\n",
       "        vertical-align: top;\n",
       "    }\n",
       "\n",
       "    .dataframe thead th {\n",
       "        text-align: right;\n",
       "    }\n",
       "</style>\n",
       "<table border=\"1\" class=\"dataframe\">\n",
       "  <thead>\n",
       "    <tr style=\"text-align: right;\">\n",
       "      <th></th>\n",
       "      <th>match_id</th>\n",
       "      <th>player1_id</th>\n",
       "      <th>player2_id</th>\n",
       "      <th>year</th>\n",
       "      <th>Svr</th>\n",
       "      <th>isDouble</th>\n",
       "      <th>isAce</th>\n",
       "      <th>PtWinner</th>\n",
       "      <th>isSvrWinner</th>\n",
       "      <th>after_double</th>\n",
       "      <th>after_double1</th>\n",
       "      <th>after_double2</th>\n",
       "      <th>after_double3</th>\n",
       "    </tr>\n",
       "  </thead>\n",
       "  <tbody>\n",
       "    <tr>\n",
       "      <th>0</th>\n",
       "      <td>20200307-M-Davis_Cup_WG_II-RR-Ernests_Gulbis-M...</td>\n",
       "      <td>Ernests_Gulbis</td>\n",
       "      <td>Mohamed_Safwat</td>\n",
       "      <td>2020</td>\n",
       "      <td>1</td>\n",
       "      <td>False</td>\n",
       "      <td>False</td>\n",
       "      <td>1</td>\n",
       "      <td>1</td>\n",
       "      <td>False</td>\n",
       "      <td>False</td>\n",
       "      <td>False</td>\n",
       "      <td>False</td>\n",
       "    </tr>\n",
       "    <tr>\n",
       "      <th>1</th>\n",
       "      <td>20200307-M-Davis_Cup_WG_II-RR-Ernests_Gulbis-M...</td>\n",
       "      <td>Ernests_Gulbis</td>\n",
       "      <td>Mohamed_Safwat</td>\n",
       "      <td>2020</td>\n",
       "      <td>1</td>\n",
       "      <td>False</td>\n",
       "      <td>False</td>\n",
       "      <td>2</td>\n",
       "      <td>0</td>\n",
       "      <td>False</td>\n",
       "      <td>False</td>\n",
       "      <td>False</td>\n",
       "      <td>False</td>\n",
       "    </tr>\n",
       "    <tr>\n",
       "      <th>2</th>\n",
       "      <td>20200307-M-Davis_Cup_WG_II-RR-Ernests_Gulbis-M...</td>\n",
       "      <td>Ernests_Gulbis</td>\n",
       "      <td>Mohamed_Safwat</td>\n",
       "      <td>2020</td>\n",
       "      <td>1</td>\n",
       "      <td>False</td>\n",
       "      <td>False</td>\n",
       "      <td>2</td>\n",
       "      <td>0</td>\n",
       "      <td>False</td>\n",
       "      <td>False</td>\n",
       "      <td>False</td>\n",
       "      <td>False</td>\n",
       "    </tr>\n",
       "  </tbody>\n",
       "</table>\n",
       "</div>"
      ],
      "text/plain": [
       "                                            match_id      player1_id  \\\n",
       "0  20200307-M-Davis_Cup_WG_II-RR-Ernests_Gulbis-M...  Ernests_Gulbis   \n",
       "1  20200307-M-Davis_Cup_WG_II-RR-Ernests_Gulbis-M...  Ernests_Gulbis   \n",
       "2  20200307-M-Davis_Cup_WG_II-RR-Ernests_Gulbis-M...  Ernests_Gulbis   \n",
       "\n",
       "       player2_id  year  Svr  isDouble  isAce  PtWinner  isSvrWinner  \\\n",
       "0  Mohamed_Safwat  2020    1     False  False         1            1   \n",
       "1  Mohamed_Safwat  2020    1     False  False         2            0   \n",
       "2  Mohamed_Safwat  2020    1     False  False         2            0   \n",
       "\n",
       "   after_double  after_double1  after_double2  after_double3  \n",
       "0         False          False          False          False  \n",
       "1         False          False          False          False  \n",
       "2         False          False          False          False  "
      ]
     },
     "execution_count": 37,
     "metadata": {},
     "output_type": "execute_result"
    },
    {
     "data": {
      "application/javascript": [
       "\n",
       "            setTimeout(function() {\n",
       "                var nbb_cell_id = 37;\n",
       "                var nbb_unformatted_code = \"df_trim.head(3)\";\n",
       "                var nbb_formatted_code = \"df_trim.head(3)\";\n",
       "                var nbb_cells = Jupyter.notebook.get_cells();\n",
       "                for (var i = 0; i < nbb_cells.length; ++i) {\n",
       "                    if (nbb_cells[i].input_prompt_number == nbb_cell_id) {\n",
       "                        if (nbb_cells[i].get_text() == nbb_unformatted_code) {\n",
       "                             nbb_cells[i].set_text(nbb_formatted_code);\n",
       "                        }\n",
       "                        break;\n",
       "                    }\n",
       "                }\n",
       "            }, 500);\n",
       "            "
      ],
      "text/plain": [
       "<IPython.core.display.Javascript object>"
      ]
     },
     "metadata": {},
     "output_type": "display_data"
    }
   ],
   "source": [
    "df_trim.head(3)"
   ]
  },
  {
   "cell_type": "code",
   "execution_count": 38,
   "metadata": {},
   "outputs": [
    {
     "data": {
      "application/javascript": [
       "\n",
       "            setTimeout(function() {\n",
       "                var nbb_cell_id = 38;\n",
       "                var nbb_unformatted_code = \"# df_trim.loc[\\n#     df_trim[\\\"after_double\\\"] == True, [\\\"after_double1\\\", \\\"after_double2\\\", \\\"after_double3\\\"]\\n# ] = True\";\n",
       "                var nbb_formatted_code = \"# df_trim.loc[\\n#     df_trim[\\\"after_double\\\"] == True, [\\\"after_double1\\\", \\\"after_double2\\\", \\\"after_double3\\\"]\\n# ] = True\";\n",
       "                var nbb_cells = Jupyter.notebook.get_cells();\n",
       "                for (var i = 0; i < nbb_cells.length; ++i) {\n",
       "                    if (nbb_cells[i].input_prompt_number == nbb_cell_id) {\n",
       "                        if (nbb_cells[i].get_text() == nbb_unformatted_code) {\n",
       "                             nbb_cells[i].set_text(nbb_formatted_code);\n",
       "                        }\n",
       "                        break;\n",
       "                    }\n",
       "                }\n",
       "            }, 500);\n",
       "            "
      ],
      "text/plain": [
       "<IPython.core.display.Javascript object>"
      ]
     },
     "metadata": {},
     "output_type": "display_data"
    }
   ],
   "source": [
    "# df_trim.loc[\n",
    "#     df_trim[\"after_double\"] == True, [\"after_double1\", \"after_double2\", \"after_double3\"]\n",
    "# ] = True"
   ]
  },
  {
   "cell_type": "code",
   "execution_count": 39,
   "metadata": {},
   "outputs": [
    {
     "name": "stderr",
     "output_type": "stream",
     "text": [
      "/Users/jamesmoss/opt/anaconda3/lib/python3.7/site-packages/pandas/core/indexing.py:965: SettingWithCopyWarning: \n",
      "A value is trying to be set on a copy of a slice from a DataFrame.\n",
      "Try using .loc[row_indexer,col_indexer] = value instead\n",
      "\n",
      "See the caveats in the documentation: https://pandas.pydata.org/pandas-docs/stable/user_guide/indexing.html#returning-a-view-versus-a-copy\n",
      "  self.obj[item] = s\n"
     ]
    },
    {
     "data": {
      "application/javascript": [
       "\n",
       "            setTimeout(function() {\n",
       "                var nbb_cell_id = 39;\n",
       "                var nbb_unformatted_code = \"df_trim.loc[df_trim[\\\"after_double1\\\"] == True, [\\\"after_double2\\\", \\\"after_double3\\\"]] = True\";\n",
       "                var nbb_formatted_code = \"df_trim.loc[df_trim[\\\"after_double1\\\"] == True, [\\\"after_double2\\\", \\\"after_double3\\\"]] = True\";\n",
       "                var nbb_cells = Jupyter.notebook.get_cells();\n",
       "                for (var i = 0; i < nbb_cells.length; ++i) {\n",
       "                    if (nbb_cells[i].input_prompt_number == nbb_cell_id) {\n",
       "                        if (nbb_cells[i].get_text() == nbb_unformatted_code) {\n",
       "                             nbb_cells[i].set_text(nbb_formatted_code);\n",
       "                        }\n",
       "                        break;\n",
       "                    }\n",
       "                }\n",
       "            }, 500);\n",
       "            "
      ],
      "text/plain": [
       "<IPython.core.display.Javascript object>"
      ]
     },
     "metadata": {},
     "output_type": "display_data"
    }
   ],
   "source": [
    "df_trim.loc[df_trim[\"after_double1\"] == True, [\"after_double2\", \"after_double3\"]] = True"
   ]
  },
  {
   "cell_type": "code",
   "execution_count": 40,
   "metadata": {},
   "outputs": [
    {
     "data": {
      "application/javascript": [
       "\n",
       "            setTimeout(function() {\n",
       "                var nbb_cell_id = 40;\n",
       "                var nbb_unformatted_code = \"df_trim.loc[df_trim[\\\"after_double2\\\"] == True, [\\\"after_double3\\\"]] = True\";\n",
       "                var nbb_formatted_code = \"df_trim.loc[df_trim[\\\"after_double2\\\"] == True, [\\\"after_double3\\\"]] = True\";\n",
       "                var nbb_cells = Jupyter.notebook.get_cells();\n",
       "                for (var i = 0; i < nbb_cells.length; ++i) {\n",
       "                    if (nbb_cells[i].input_prompt_number == nbb_cell_id) {\n",
       "                        if (nbb_cells[i].get_text() == nbb_unformatted_code) {\n",
       "                             nbb_cells[i].set_text(nbb_formatted_code);\n",
       "                        }\n",
       "                        break;\n",
       "                    }\n",
       "                }\n",
       "            }, 500);\n",
       "            "
      ],
      "text/plain": [
       "<IPython.core.display.Javascript object>"
      ]
     },
     "metadata": {},
     "output_type": "display_data"
    }
   ],
   "source": [
    "df_trim.loc[df_trim[\"after_double2\"] == True, [\"after_double3\"]] = True"
   ]
  },
  {
   "cell_type": "code",
   "execution_count": 41,
   "metadata": {},
   "outputs": [
    {
     "data": {
      "text/html": [
       "<div>\n",
       "<style scoped>\n",
       "    .dataframe tbody tr th:only-of-type {\n",
       "        vertical-align: middle;\n",
       "    }\n",
       "\n",
       "    .dataframe tbody tr th {\n",
       "        vertical-align: top;\n",
       "    }\n",
       "\n",
       "    .dataframe thead th {\n",
       "        text-align: right;\n",
       "    }\n",
       "</style>\n",
       "<table border=\"1\" class=\"dataframe\">\n",
       "  <thead>\n",
       "    <tr style=\"text-align: right;\">\n",
       "      <th></th>\n",
       "      <th>match_id</th>\n",
       "      <th>player1_id</th>\n",
       "      <th>player2_id</th>\n",
       "      <th>year</th>\n",
       "      <th>Svr</th>\n",
       "      <th>isDouble</th>\n",
       "      <th>isAce</th>\n",
       "      <th>PtWinner</th>\n",
       "      <th>isSvrWinner</th>\n",
       "      <th>after_double</th>\n",
       "      <th>after_double1</th>\n",
       "      <th>after_double2</th>\n",
       "      <th>after_double3</th>\n",
       "    </tr>\n",
       "  </thead>\n",
       "  <tbody>\n",
       "    <tr>\n",
       "      <th>60</th>\n",
       "      <td>20200307-M-Davis_Cup_WG_II-RR-Ernests_Gulbis-M...</td>\n",
       "      <td>Ernests_Gulbis</td>\n",
       "      <td>Mohamed_Safwat</td>\n",
       "      <td>2020</td>\n",
       "      <td>1</td>\n",
       "      <td>False</td>\n",
       "      <td>True</td>\n",
       "      <td>1</td>\n",
       "      <td>1</td>\n",
       "      <td>False</td>\n",
       "      <td>True</td>\n",
       "      <td>True</td>\n",
       "      <td>True</td>\n",
       "    </tr>\n",
       "    <tr>\n",
       "      <th>61</th>\n",
       "      <td>20200307-M-Davis_Cup_WG_II-RR-Ernests_Gulbis-M...</td>\n",
       "      <td>Ernests_Gulbis</td>\n",
       "      <td>Mohamed_Safwat</td>\n",
       "      <td>2020</td>\n",
       "      <td>1</td>\n",
       "      <td>False</td>\n",
       "      <td>False</td>\n",
       "      <td>1</td>\n",
       "      <td>1</td>\n",
       "      <td>False</td>\n",
       "      <td>False</td>\n",
       "      <td>True</td>\n",
       "      <td>True</td>\n",
       "    </tr>\n",
       "    <tr>\n",
       "      <th>62</th>\n",
       "      <td>20200307-M-Davis_Cup_WG_II-RR-Ernests_Gulbis-M...</td>\n",
       "      <td>Ernests_Gulbis</td>\n",
       "      <td>Mohamed_Safwat</td>\n",
       "      <td>2020</td>\n",
       "      <td>1</td>\n",
       "      <td>False</td>\n",
       "      <td>False</td>\n",
       "      <td>1</td>\n",
       "      <td>1</td>\n",
       "      <td>False</td>\n",
       "      <td>False</td>\n",
       "      <td>False</td>\n",
       "      <td>True</td>\n",
       "    </tr>\n",
       "    <tr>\n",
       "      <th>64</th>\n",
       "      <td>20200307-M-Davis_Cup_WG_II-RR-Ernests_Gulbis-M...</td>\n",
       "      <td>Ernests_Gulbis</td>\n",
       "      <td>Mohamed_Safwat</td>\n",
       "      <td>2020</td>\n",
       "      <td>2</td>\n",
       "      <td>False</td>\n",
       "      <td>False</td>\n",
       "      <td>2</td>\n",
       "      <td>1</td>\n",
       "      <td>False</td>\n",
       "      <td>True</td>\n",
       "      <td>True</td>\n",
       "      <td>True</td>\n",
       "    </tr>\n",
       "    <tr>\n",
       "      <th>65</th>\n",
       "      <td>20200307-M-Davis_Cup_WG_II-RR-Ernests_Gulbis-M...</td>\n",
       "      <td>Ernests_Gulbis</td>\n",
       "      <td>Mohamed_Safwat</td>\n",
       "      <td>2020</td>\n",
       "      <td>2</td>\n",
       "      <td>False</td>\n",
       "      <td>False</td>\n",
       "      <td>2</td>\n",
       "      <td>1</td>\n",
       "      <td>False</td>\n",
       "      <td>False</td>\n",
       "      <td>True</td>\n",
       "      <td>True</td>\n",
       "    </tr>\n",
       "  </tbody>\n",
       "</table>\n",
       "</div>"
      ],
      "text/plain": [
       "                                             match_id      player1_id  \\\n",
       "60  20200307-M-Davis_Cup_WG_II-RR-Ernests_Gulbis-M...  Ernests_Gulbis   \n",
       "61  20200307-M-Davis_Cup_WG_II-RR-Ernests_Gulbis-M...  Ernests_Gulbis   \n",
       "62  20200307-M-Davis_Cup_WG_II-RR-Ernests_Gulbis-M...  Ernests_Gulbis   \n",
       "64  20200307-M-Davis_Cup_WG_II-RR-Ernests_Gulbis-M...  Ernests_Gulbis   \n",
       "65  20200307-M-Davis_Cup_WG_II-RR-Ernests_Gulbis-M...  Ernests_Gulbis   \n",
       "\n",
       "        player2_id  year  Svr  isDouble  isAce  PtWinner  isSvrWinner  \\\n",
       "60  Mohamed_Safwat  2020    1     False   True         1            1   \n",
       "61  Mohamed_Safwat  2020    1     False  False         1            1   \n",
       "62  Mohamed_Safwat  2020    1     False  False         1            1   \n",
       "64  Mohamed_Safwat  2020    2     False  False         2            1   \n",
       "65  Mohamed_Safwat  2020    2     False  False         2            1   \n",
       "\n",
       "    after_double  after_double1  after_double2  after_double3  \n",
       "60         False           True           True           True  \n",
       "61         False          False           True           True  \n",
       "62         False          False          False           True  \n",
       "64         False           True           True           True  \n",
       "65         False          False           True           True  "
      ]
     },
     "execution_count": 41,
     "metadata": {},
     "output_type": "execute_result"
    },
    {
     "data": {
      "application/javascript": [
       "\n",
       "            setTimeout(function() {\n",
       "                var nbb_cell_id = 41;\n",
       "                var nbb_unformatted_code = \"doubles = df_trim[df_trim[\\\"after_double3\\\"] == True]\\ndoubles.head()\";\n",
       "                var nbb_formatted_code = \"doubles = df_trim[df_trim[\\\"after_double3\\\"] == True]\\ndoubles.head()\";\n",
       "                var nbb_cells = Jupyter.notebook.get_cells();\n",
       "                for (var i = 0; i < nbb_cells.length; ++i) {\n",
       "                    if (nbb_cells[i].input_prompt_number == nbb_cell_id) {\n",
       "                        if (nbb_cells[i].get_text() == nbb_unformatted_code) {\n",
       "                             nbb_cells[i].set_text(nbb_formatted_code);\n",
       "                        }\n",
       "                        break;\n",
       "                    }\n",
       "                }\n",
       "            }, 500);\n",
       "            "
      ],
      "text/plain": [
       "<IPython.core.display.Javascript object>"
      ]
     },
     "metadata": {},
     "output_type": "display_data"
    }
   ],
   "source": [
    "doubles = df_trim[df_trim[\"after_double3\"] == True]\n",
    "doubles.head()"
   ]
  },
  {
   "cell_type": "code",
   "execution_count": 42,
   "metadata": {},
   "outputs": [
    {
     "data": {
      "text/html": [
       "<div>\n",
       "<style scoped>\n",
       "    .dataframe tbody tr th:only-of-type {\n",
       "        vertical-align: middle;\n",
       "    }\n",
       "\n",
       "    .dataframe tbody tr th {\n",
       "        vertical-align: top;\n",
       "    }\n",
       "\n",
       "    .dataframe thead th {\n",
       "        text-align: right;\n",
       "    }\n",
       "</style>\n",
       "<table border=\"1\" class=\"dataframe\">\n",
       "  <thead>\n",
       "    <tr style=\"text-align: right;\">\n",
       "      <th></th>\n",
       "      <th>match_id</th>\n",
       "      <th>player1_id</th>\n",
       "      <th>player2_id</th>\n",
       "      <th>year</th>\n",
       "      <th>Svr</th>\n",
       "      <th>isDouble</th>\n",
       "      <th>isAce</th>\n",
       "      <th>PtWinner</th>\n",
       "      <th>isSvrWinner</th>\n",
       "      <th>after_double</th>\n",
       "      <th>after_double1</th>\n",
       "      <th>after_double2</th>\n",
       "      <th>after_double3</th>\n",
       "    </tr>\n",
       "  </thead>\n",
       "  <tbody>\n",
       "    <tr>\n",
       "      <th>59</th>\n",
       "      <td>20200307-M-Davis_Cup_WG_II-RR-Ernests_Gulbis-M...</td>\n",
       "      <td>Ernests_Gulbis</td>\n",
       "      <td>Mohamed_Safwat</td>\n",
       "      <td>2020</td>\n",
       "      <td>1</td>\n",
       "      <td>True</td>\n",
       "      <td>False</td>\n",
       "      <td>2</td>\n",
       "      <td>0</td>\n",
       "      <td>True</td>\n",
       "      <td>False</td>\n",
       "      <td>False</td>\n",
       "      <td>False</td>\n",
       "    </tr>\n",
       "    <tr>\n",
       "      <th>63</th>\n",
       "      <td>20200307-M-Davis_Cup_WG_II-RR-Ernests_Gulbis-M...</td>\n",
       "      <td>Ernests_Gulbis</td>\n",
       "      <td>Mohamed_Safwat</td>\n",
       "      <td>2020</td>\n",
       "      <td>2</td>\n",
       "      <td>True</td>\n",
       "      <td>False</td>\n",
       "      <td>1</td>\n",
       "      <td>0</td>\n",
       "      <td>True</td>\n",
       "      <td>False</td>\n",
       "      <td>False</td>\n",
       "      <td>False</td>\n",
       "    </tr>\n",
       "    <tr>\n",
       "      <th>85</th>\n",
       "      <td>20200307-M-Davis_Cup_WG_II-RR-Ernests_Gulbis-M...</td>\n",
       "      <td>Ernests_Gulbis</td>\n",
       "      <td>Mohamed_Safwat</td>\n",
       "      <td>2020</td>\n",
       "      <td>1</td>\n",
       "      <td>True</td>\n",
       "      <td>False</td>\n",
       "      <td>2</td>\n",
       "      <td>0</td>\n",
       "      <td>True</td>\n",
       "      <td>False</td>\n",
       "      <td>False</td>\n",
       "      <td>False</td>\n",
       "    </tr>\n",
       "    <tr>\n",
       "      <th>128</th>\n",
       "      <td>20200307-M-Davis_Cup_Qualifiers-RR-Alexander_B...</td>\n",
       "      <td>Alexander_Bublik</td>\n",
       "      <td>Robin_Haase</td>\n",
       "      <td>2020</td>\n",
       "      <td>1</td>\n",
       "      <td>True</td>\n",
       "      <td>False</td>\n",
       "      <td>2</td>\n",
       "      <td>0</td>\n",
       "      <td>True</td>\n",
       "      <td>False</td>\n",
       "      <td>False</td>\n",
       "      <td>False</td>\n",
       "    </tr>\n",
       "    <tr>\n",
       "      <th>159</th>\n",
       "      <td>20200307-M-Davis_Cup_Qualifiers-RR-Alexander_B...</td>\n",
       "      <td>Alexander_Bublik</td>\n",
       "      <td>Robin_Haase</td>\n",
       "      <td>2020</td>\n",
       "      <td>1</td>\n",
       "      <td>True</td>\n",
       "      <td>False</td>\n",
       "      <td>2</td>\n",
       "      <td>0</td>\n",
       "      <td>True</td>\n",
       "      <td>False</td>\n",
       "      <td>False</td>\n",
       "      <td>False</td>\n",
       "    </tr>\n",
       "  </tbody>\n",
       "</table>\n",
       "</div>"
      ],
      "text/plain": [
       "                                              match_id        player1_id  \\\n",
       "59   20200307-M-Davis_Cup_WG_II-RR-Ernests_Gulbis-M...    Ernests_Gulbis   \n",
       "63   20200307-M-Davis_Cup_WG_II-RR-Ernests_Gulbis-M...    Ernests_Gulbis   \n",
       "85   20200307-M-Davis_Cup_WG_II-RR-Ernests_Gulbis-M...    Ernests_Gulbis   \n",
       "128  20200307-M-Davis_Cup_Qualifiers-RR-Alexander_B...  Alexander_Bublik   \n",
       "159  20200307-M-Davis_Cup_Qualifiers-RR-Alexander_B...  Alexander_Bublik   \n",
       "\n",
       "         player2_id  year  Svr  isDouble  isAce  PtWinner  isSvrWinner  \\\n",
       "59   Mohamed_Safwat  2020    1      True  False         2            0   \n",
       "63   Mohamed_Safwat  2020    2      True  False         1            0   \n",
       "85   Mohamed_Safwat  2020    1      True  False         2            0   \n",
       "128     Robin_Haase  2020    1      True  False         2            0   \n",
       "159     Robin_Haase  2020    1      True  False         2            0   \n",
       "\n",
       "     after_double  after_double1  after_double2  after_double3  \n",
       "59           True          False          False          False  \n",
       "63           True          False          False          False  \n",
       "85           True          False          False          False  \n",
       "128          True          False          False          False  \n",
       "159          True          False          False          False  "
      ]
     },
     "execution_count": 42,
     "metadata": {},
     "output_type": "execute_result"
    },
    {
     "data": {
      "application/javascript": [
       "\n",
       "            setTimeout(function() {\n",
       "                var nbb_cell_id = 42;\n",
       "                var nbb_unformatted_code = \"df_trim[df_trim[\\\"isDouble\\\"] == True].head()\";\n",
       "                var nbb_formatted_code = \"df_trim[df_trim[\\\"isDouble\\\"] == True].head()\";\n",
       "                var nbb_cells = Jupyter.notebook.get_cells();\n",
       "                for (var i = 0; i < nbb_cells.length; ++i) {\n",
       "                    if (nbb_cells[i].input_prompt_number == nbb_cell_id) {\n",
       "                        if (nbb_cells[i].get_text() == nbb_unformatted_code) {\n",
       "                             nbb_cells[i].set_text(nbb_formatted_code);\n",
       "                        }\n",
       "                        break;\n",
       "                    }\n",
       "                }\n",
       "            }, 500);\n",
       "            "
      ],
      "text/plain": [
       "<IPython.core.display.Javascript object>"
      ]
     },
     "metadata": {},
     "output_type": "display_data"
    }
   ],
   "source": [
    "df_trim[df_trim[\"isDouble\"] == True].head()"
   ]
  },
  {
   "cell_type": "markdown",
   "metadata": {},
   "source": [
    "TODO: maybe I should separate the after doubles by player 1 and 2?"
   ]
  }
 ],
 "metadata": {
  "kernelspec": {
   "display_name": "Python 3",
   "language": "python",
   "name": "python3"
  },
  "language_info": {
   "codemirror_mode": {
    "name": "ipython",
    "version": 3
   },
   "file_extension": ".py",
   "mimetype": "text/x-python",
   "name": "python",
   "nbconvert_exporter": "python",
   "pygments_lexer": "ipython3",
   "version": "3.7.6"
  }
 },
 "nbformat": 4,
 "nbformat_minor": 4
}
